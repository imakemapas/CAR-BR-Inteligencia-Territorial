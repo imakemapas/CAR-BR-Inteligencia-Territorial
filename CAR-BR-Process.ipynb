{
 "cells": [
  {
   "cell_type": "markdown",
   "metadata": {},
   "source": [
    "🌍 ───────────────────────────────────────────────────────── 🌍\n",
    "\n",
    "*                       THERESA ROCCO PEREIRA BARBOSA\n",
    "*                 Brazilian Ambientalist | Geologist and Soil Scientist                  \n",
    "*               imakemapas@outlook.com.br | theresa.rocco@ufrrj.br | +55 24 998417085\n",
    "\n",
    "🌍 ───────────────────────────────────────────────────────── 🌍"
   ]
  },
  {
   "cell_type": "code",
   "execution_count": null,
   "metadata": {
    "scrolled": true
   },
   "outputs": [],
   "source": [
    "%reset"
   ]
  },
  {
   "cell_type": "markdown",
   "metadata": {},
   "source": [
    "# Inteligência Territorial - Cadastro Ambiental Rural"
   ]
  },
  {
   "cell_type": "markdown",
   "metadata": {},
   "source": [
    "**Este código representa o resultado de um estudo em constante evolução e aprimoramento. Seu objetivo não é ser definitivo, mas sim um ponto de partida. Sugestões e críticas construtivas são não apenas bem-vindas, mas essenciais para o seu aperfeiçoamento.**\n",
    "\n",
    "**O propósito deste trabalho é realizar o processamento, a integração e a análise ambiental de dados do Cadastro Ambiental Rural (CAR), além de outras bases geoespaciais disponíveis para o território brasileiro. O foco principal é apoiar análises e auditorias ambientais com base nos critérios estabelecidos pelo Código Florestal Brasileiro.**"
   ]
  },
  {
   "cell_type": "markdown",
   "metadata": {},
   "source": [
    "Este tutorial utiliza prioritariamente o módulo **arcpy*** e adota o formato **File Geodatabase (GDB)** para armazenamento e manipulação dos dados espaciais. \n",
    "\n",
    "O GDB foi escolhido devido às suas características, como: compactação eficiente que reduz o uso de memória e espaço em disco, suporte a grandes volumes de dados, maior velocidade nas operações, e a capacidade de armazenar estruturas complexas, como topologias e relações entre tabelas.\n",
    "\n",
    "No futuro pretendo disponibilizar versão utilizando bibliotecas gratuitas como GeoPandas, Pandas e Numpy em Python e/ou terra, sp, dplyr em R.\n",
    "\n",
    "**Licença ArcGIS: Laboratório de Modelagem e Evolução Geológica da Universidade Federal Rural do Rio de Janeiro*"
   ]
  },
  {
   "cell_type": "markdown",
   "metadata": {},
   "source": [
    "# Iniciando Ambiente de Trabalho"
   ]
  },
  {
   "cell_type": "markdown",
   "metadata": {},
   "source": [
    "#### Importar Bibliotecas"
   ]
  },
  {
   "cell_type": "code",
   "execution_count": null,
   "metadata": {
    "scrolled": true
   },
   "outputs": [],
   "source": [
    "import arcpy\n",
    "import os\n",
    "import zipfile\n",
    "\n",
    "from arcpy import env\n",
    "from arcpy.sa import *\n",
    "\n",
    "arcpy.env.overwriteOutput = True"
   ]
  },
  {
   "cell_type": "markdown",
   "metadata": {},
   "source": [
    "#### Definir o Caminho do Geodatabase & Definir o Ambiente de Trabalho"
   ]
  },
  {
   "cell_type": "code",
   "execution_count": null,
   "metadata": {
    "scrolled": true
   },
   "outputs": [],
   "source": [
    "GDB = r\"C:\\CAR_2025\\CAR_PY\\CAR_2025.gdb\"\n",
    "arcpy.env.workspace = GDB"
   ]
  },
  {
   "cell_type": "markdown",
   "metadata": {},
   "source": [
    "#### Verificar a Existência do Geodatabase & Criar o Geodatabase Caso Não Exista"
   ]
  },
  {
   "cell_type": "code",
   "execution_count": null,
   "metadata": {
    "scrolled": true
   },
   "outputs": [],
   "source": [
    "if not arcpy.Exists(GDB):\n",
    "    arcpy.CreateFileGDB_management(r\"D:\\CAR_2025\\CAR_PY\", \n",
    "                                   \"CAR_2025f.gdb\")\n",
    "    print(\"Geodatabase criado com sucesso!\")\n",
    "else:\n",
    "    print(\"Geodatabase já existe!\")"
   ]
  },
  {
   "cell_type": "code",
   "execution_count": null,
   "metadata": {
    "scrolled": true
   },
   "outputs": [],
   "source": [
    "# Verifique as feature classes no workspace\n",
    "feature_classes = arcpy.ListFeatureClasses()\n",
    "\n",
    "# Exiba todas as feature classes no workspace\n",
    "print(feature_classes)"
   ]
  },
  {
   "cell_type": "markdown",
   "metadata": {},
   "source": [
    "# Data Wrangling"
   ]
  },
  {
   "cell_type": "markdown",
   "metadata": {
    "heading_collapsed": true
   },
   "source": [
    "## Dados Uso e Cobertura do Solo - MaBiomas, ano 2023"
   ]
  },
  {
   "cell_type": "markdown",
   "metadata": {
    "hidden": true
   },
   "source": [
    "(Link Download Direto - Coleção 9) https://storage.googleapis.com/mapbiomas-public/initiatives/brasil/collection_9/lclu/coverage/brasil_coverage_2023.tif"
   ]
  },
  {
   "cell_type": "code",
   "execution_count": null,
   "metadata": {
    "hidden": true,
    "scrolled": true
   },
   "outputs": [],
   "source": [
    "MB = \"brasil_coverage_23\""
   ]
  },
  {
   "cell_type": "code",
   "execution_count": null,
   "metadata": {
    "hidden": true,
    "scrolled": true
   },
   "outputs": [],
   "source": [
    "crsMB  = arcpy.Describe(MB).spatialReference\n",
    "print(\"CRS MB:\", crsMB.name)\n",
    "\n",
    "cell_size_x = arcpy.GetRasterProperties_management(MB, \"CELLSIZEX\").getOutput(0)\n",
    "cell_size_y = arcpy.GetRasterProperties_management(MB, \"CELLSIZEY\").getOutput(0)\n",
    "print(f\"Resolução (X): {cell_size_x}\")\n",
    "print(f\"Resolução (Y): {cell_size_y}\")"
   ]
  },
  {
   "cell_type": "markdown",
   "metadata": {
    "hidden": true
   },
   "source": [
    "#### Reclassificar"
   ]
  },
  {
   "cell_type": "markdown",
   "metadata": {
    "hidden": true
   },
   "source": [
    "| **Código** | **Categoria**              | **Descrição**                          |\n",
    "|------------|----------------------------|----------------------------------------|\n",
    "| **1**      | Vegetação Nativa           | Forest Formation (3)                  |\n",
    "|            |                            | Savanna Formation (4)                 |\n",
    "|            |                            | Mangrove (5)                          |\n",
    "|            |                            | Floodable Forest (6)                  |\n",
    "|            |                            | Wooded Sandbank Vegetation (49)       |\n",
    "|            |                            | Wetland (11)                          |\n",
    "|            |                            | Grassland (12)                        |\n",
    "|            |                            | Hypersaline Tidal Flat (32)           |\n",
    "|            |                            | Herbaceous Sandbank Vegetation (50)   |\n",
    "| **2**      | Corpo d'Água               | Water (26)                            |\n",
    "|            |                            | River, Lake and Ocean (33)            |\n",
    "| **3**      | Soja                       | Soybean (39)                          |\n",
    "| **4**      | Pastagem                   | Pasture (15)                          |\n",
    "| **5**      | Produtivo Agro             | Mosaic of Uses (21)                   |\n",
    "|            |                            | Sugar Cane (20)                       |\n",
    "|            |                            | Rice (40)                             |\n",
    "|            |                            | Cotton (Beta) (62)                    |\n",
    "|            |                            | Other Temporary Crops (41)            |\n",
    "|            |                            | Coffee (46)                           |\n",
    "|            |                            | Citrus (47)                           |\n",
    "|            |                            | Palm Oil (35)                         |\n",
    "|            |                            | Forest Plantation (9)                 |\n",
    "|            |                            | Other Perennial Crops (48)            |\n",
    "| **6**      | Outros                     | Rocky Outcrop (29)                    |\n",
    "|            |                            | Beach, Dune, and Sand Spot (23)       |\n",
    "|            |                            | Urban Area (24)                       |\n",
    "|            |                            | Other non Vegetated Areas (25)        |\n",
    "|            |                            | Mining (30)                           |\n",
    "|            |                            | Aquaculture (31)                      |"
   ]
  },
  {
   "cell_type": "code",
   "execution_count": null,
   "metadata": {
    "hidden": true,
    "scrolled": true
   },
   "outputs": [],
   "source": [
    "# Tabela de reclassificação\n",
    "reclassification = RemapValue([\n",
    "    [0, \"NODATA\"], \n",
    "    [3, 1], [4, 1], [5, 1], [6, 1], [11, 1], [12, 1], [32, 1], [49, 1], [50, 1],\n",
    "    [33, 2],\n",
    "    [39, 3],\n",
    "    [15, 4], \n",
    "    [9, 5],  [20, 5], [21, 5], [35, 5], [62, 5],  \n",
    "    [40, 5], [41, 5], [46, 5], [47, 5], [48, 5],\n",
    "    [23, 6], [24, 6], [25, 6], [29, 5], [30, 6], [31, 6]\n",
    "])\n",
    "\n",
    "# 0 será convertido para NODATA.\n",
    "# 3, 4, 5, 6, 11, 12, 32, 49, 50 serão convertidos para 1.\n",
    "# 33 será convertido para 2.\n",
    "# 39 será convertido para 3.\n",
    "# 15 será convertido para 4.\n",
    "# 9, 20, 21, 35, 40, 41, 46, 47, 48, 62 serão convertidos para 5.\n",
    "# 23, 24, 25, 29, 30, 31 serão convertidos para 6."
   ]
  },
  {
   "cell_type": "code",
   "execution_count": null,
   "metadata": {
    "hidden": true,
    "scrolled": true
   },
   "outputs": [],
   "source": [
    "MBreclass = Reclassify(MB, \"Value\", reclassification, \"NODATA\")"
   ]
  },
  {
   "cell_type": "code",
   "execution_count": null,
   "metadata": {
    "hidden": true,
    "scrolled": true
   },
   "outputs": [],
   "source": [
    "# Salve raster\n",
    "MBreclass.save(f\"{GDB}\\\\brasil_coverage_23_reclass\")"
   ]
  },
  {
   "cell_type": "markdown",
   "metadata": {
    "hidden": true
   },
   "source": [
    "#### Reprojetar"
   ]
  },
  {
   "cell_type": "code",
   "execution_count": null,
   "metadata": {
    "hidden": true,
    "scrolled": true
   },
   "outputs": [],
   "source": [
    "MB = \"brasil_coverage_23_reclass\""
   ]
  },
  {
   "cell_type": "code",
   "execution_count": null,
   "metadata": {
    "hidden": true,
    "scrolled": true
   },
   "outputs": [],
   "source": [
    "albers_brasil = arcpy.SpatialReference()\n",
    "albers_brasil.loadFromString(\"\"\"\n",
    "PROJCS[\"Conica_Equivalente_de_Albers_Brasil\",\n",
    "    GEOGCS[\"GCS_SIRGAS2000\",\n",
    "        DATUM[\"D_SIRGAS2000\",\n",
    "            SPHEROID[\"Geodetic_Reference_System_of_1980\",6378137,298.2572221009113]],\n",
    "        PRIMEM[\"Greenwich\",0],\n",
    "        UNIT[\"Degree\",0.017453292519943295]],\n",
    "    PROJECTION[\"Albers\"],\n",
    "    PARAMETER[\"standard_parallel_1\",-2],\n",
    "    PARAMETER[\"standard_parallel_2\",-22],\n",
    "    PARAMETER[\"latitude_of_origin\",-12],\n",
    "    PARAMETER[\"central_meridian\",-54],\n",
    "    PARAMETER[\"false_easting\",5000000],\n",
    "    PARAMETER[\"false_northing\",10000000],\n",
    "    UNIT[\"Meter\",1]]\n",
    "\"\"\")"
   ]
  },
  {
   "cell_type": "code",
   "execution_count": null,
   "metadata": {
    "hidden": true,
    "scrolled": true
   },
   "outputs": [],
   "source": [
    "arcpy.management.ProjectRaster(\n",
    "    in_raster       =  MB,\n",
    "    out_raster      = \"brasil_coverage_23_reclass_prj\",\n",
    "    out_coor_system =  albers_brasil,\n",
    "    resampling_type =  \"NEAREST\",\n",
    "    cell_size       = \"30\"\n",
    ")"
   ]
  },
  {
   "cell_type": "markdown",
   "metadata": {
    "hidden": true
   },
   "source": [
    "#### Raster para Poligono"
   ]
  },
  {
   "cell_type": "code",
   "execution_count": null,
   "metadata": {
    "hidden": true,
    "scrolled": true
   },
   "outputs": [],
   "source": [
    "MB = \"brasil_coverage_23_reclass_prj\""
   ]
  },
  {
   "cell_type": "code",
   "execution_count": null,
   "metadata": {
    "hidden": true,
    "scrolled": true
   },
   "outputs": [],
   "source": [
    "arcpy.conversion.RasterToPolygon(MB, \n",
    "                                 \"brasil_coverage_23_reclass_prj_POL\", \n",
    "                                 simplify                  = \"NO_SIMPLIFY\", \n",
    "                                 raster_field              = \"Value\", \n",
    "                                 create_multipart_features = \"SINGLE_OUTER_PART\" #\"MULTIPLE_OUTER_PART\"\n",
    "                                )"
   ]
  },
  {
   "cell_type": "code",
   "execution_count": null,
   "metadata": {
    "hidden": true,
    "scrolled": true
   },
   "outputs": [],
   "source": [
    "MBp = \"brasil_coverage_23_reclass_prj_POL\""
   ]
  },
  {
   "cell_type": "markdown",
   "metadata": {
    "heading_collapsed": true
   },
   "source": [
    "## Dados PRODES: Desmatamento"
   ]
  },
  {
   "cell_type": "markdown",
   "metadata": {
    "hidden": true
   },
   "source": [
    "https://terrabrasilis.dpi.inpe.br/downloads/ (acesso: 24/01/2025)"
   ]
  },
  {
   "cell_type": "markdown",
   "metadata": {
    "hidden": true
   },
   "source": [
    "### [Prodes Brasil - até 2023](https://terrabrasilis.dpi.inpe.br/geonetwork/srv/eng/catalog.search#/metadata/fe02f2bf-2cc0-49d5-ab72-a3954f997408)"
   ]
  },
  {
   "cell_type": "markdown",
   "metadata": {
    "hidden": true
   },
   "source": [
    "#### Estrutura"
   ]
  },
  {
   "cell_type": "code",
   "execution_count": null,
   "metadata": {
    "hidden": true,
    "scrolled": true
   },
   "outputs": [],
   "source": [
    "PRODES_BR = \"prodes_brasil_23\""
   ]
  },
  {
   "cell_type": "code",
   "execution_count": null,
   "metadata": {
    "hidden": true,
    "scrolled": true
   },
   "outputs": [],
   "source": [
    "crsPRODES_BR  = arcpy.Describe(PRODES_BR).spatialReference\n",
    "print(\"CRS PRODES :\", crsPRODES_BR.name)"
   ]
  },
  {
   "cell_type": "code",
   "execution_count": null,
   "metadata": {
    "hidden": true,
    "scrolled": true
   },
   "outputs": [],
   "source": [
    "cell_size_x = arcpy.GetRasterProperties_management(PRODES_BR, \"CELLSIZEX\").getOutput(0)\n",
    "cell_size_y = arcpy.GetRasterProperties_management(PRODES_BR, \"CELLSIZEY\").getOutput(0)\n",
    "print(f\"Resolução (X): {cell_size_x}\")\n",
    "print(f\"Resolução (Y): {cell_size_y}\")"
   ]
  },
  {
   "cell_type": "markdown",
   "metadata": {
    "hidden": true
   },
   "source": [
    "#### Reclassify"
   ]
  },
  {
   "cell_type": "code",
   "execution_count": null,
   "metadata": {
    "hidden": true,
    "scrolled": true
   },
   "outputs": [],
   "source": [
    "# Tabela de reclassificação\n",
    "reclassification = RemapValue([\n",
    "[0,  2000],\n",
    "[2,  2002],\n",
    "[4,  2004],\n",
    "[6,  2006],\n",
    "[7,  2007],\n",
    "[8,  2008],\n",
    "[9,  2009],\n",
    "[10, 2010],\n",
    "[11, 2011],\n",
    "[12, 2012],\n",
    "[13, 2013],\n",
    "[14, 2014],\n",
    "[15, 2015],\n",
    "[16, 2016],\n",
    "[17, 2017],\n",
    "[18, 2018],\n",
    "[19, 2019],\n",
    "[20, 2020],\n",
    "[21, 2021],\n",
    "[22, 2022],\n",
    "[23, 2023],\n",
    "[50, 2010],\n",
    "[51, 2011],\n",
    "[52, 2012],\n",
    "[53, 2013],\n",
    "[54, 2014],\n",
    "[55, 2015],\n",
    "[56, 2016],\n",
    "[57, 2017],\n",
    "[58, 2018],\n",
    "[59, 2019],\n",
    "[60, 2020],\n",
    "[61, 2021],\n",
    "[62, 2022],\n",
    "[63, 2023],\n",
    "[91,  \"NODATA\"],\n",
    "[99,  \"NODATA\"],\n",
    "[100, \"NODATA\"],\n",
    "[101, \"NODATA\"]\n",
    "])"
   ]
  },
  {
   "cell_type": "code",
   "execution_count": null,
   "metadata": {
    "hidden": true,
    "scrolled": true
   },
   "outputs": [],
   "source": [
    "PRODESreclass = Reclassify(PRODES_BR, \"Value\", reclassification, \"NODATA\")"
   ]
  },
  {
   "cell_type": "code",
   "execution_count": null,
   "metadata": {
    "hidden": true,
    "scrolled": true
   },
   "outputs": [],
   "source": [
    "# Salve o raster reclassificado\n",
    "PRODESreclass.save(f\"{GDB}\\\\prodes_brasil_23_reclass\")"
   ]
  },
  {
   "cell_type": "markdown",
   "metadata": {
    "hidden": true
   },
   "source": [
    "#### Reprojetar"
   ]
  },
  {
   "cell_type": "code",
   "execution_count": null,
   "metadata": {
    "hidden": true,
    "scrolled": true
   },
   "outputs": [],
   "source": [
    "PRODES_BR = \"prodes_brasil_23_reclass\""
   ]
  },
  {
   "cell_type": "code",
   "execution_count": null,
   "metadata": {
    "hidden": true,
    "scrolled": true
   },
   "outputs": [],
   "source": [
    "#albers_brasil = arcpy.Describe(MB).spatialReference\n",
    "\n",
    "albers_brasil = arcpy.SpatialReference()\n",
    "albers_brasil.loadFromString(\"\"\"\n",
    "PROJCS[\"Conica_Equivalente_de_Albers_Brasil\",\n",
    "    GEOGCS[\"GCS_SIRGAS2000\",\n",
    "        DATUM[\"D_SIRGAS2000\",\n",
    "            SPHEROID[\"Geodetic_Reference_System_of_1980\",6378137,298.2572221009113]],\n",
    "        PRIMEM[\"Greenwich\",0],\n",
    "        UNIT[\"Degree\",0.017453292519943295]],\n",
    "    PROJECTION[\"Albers\"],\n",
    "    PARAMETER[\"standard_parallel_1\",-2],\n",
    "    PARAMETER[\"standard_parallel_2\",-22],\n",
    "    PARAMETER[\"latitude_of_origin\",-12],\n",
    "    PARAMETER[\"central_meridian\",-54],\n",
    "    PARAMETER[\"false_easting\",5000000],\n",
    "    PARAMETER[\"false_northing\",10000000],\n",
    "    UNIT[\"Meter\",1]]\n",
    "\"\"\")"
   ]
  },
  {
   "cell_type": "code",
   "execution_count": null,
   "metadata": {
    "hidden": true,
    "scrolled": true
   },
   "outputs": [],
   "source": [
    "arcpy.management.ProjectRaster(\n",
    "    in_raster       =  PRODES_BR,\n",
    "    out_raster      = \"prodes_brasil_23_reclass_prj\",\n",
    "    out_coor_system =  albers_brasil,\n",
    "    resampling_type =  \"NEAREST\",\n",
    "    cell_size       = \"30\"\n",
    ")"
   ]
  },
  {
   "cell_type": "markdown",
   "metadata": {
    "hidden": true
   },
   "source": [
    "#### Raster para Poligono"
   ]
  },
  {
   "cell_type": "code",
   "execution_count": null,
   "metadata": {
    "hidden": true,
    "scrolled": true
   },
   "outputs": [],
   "source": [
    "PRODES_BR = \"prodes_brasil_23_reclass_prj\""
   ]
  },
  {
   "cell_type": "code",
   "execution_count": null,
   "metadata": {
    "hidden": true,
    "scrolled": true
   },
   "outputs": [],
   "source": [
    "arcpy.conversion.RasterToPolygon(PRODES_BR, \n",
    "                                 \"prodes_brasil_23_reclass_prj_POL\", \n",
    "                                 simplify                  = \"NO_SIMPLIFY\", \n",
    "                                 raster_field              = \"Value\", \n",
    "                                 create_multipart_features = \"SINGLE_OUTER_PART\" #\"MULTIPLE_OUTER_PART\"\n",
    "                                )"
   ]
  },
  {
   "cell_type": "code",
   "execution_count": null,
   "metadata": {
    "hidden": true,
    "scrolled": true
   },
   "outputs": [],
   "source": [
    "PRODES_BRp = \"prodes_brasil_23_reclass_prj_POL\""
   ]
  },
  {
   "cell_type": "markdown",
   "metadata": {
    "hidden": true
   },
   "source": [
    "### [Prodes Cerrado - 2024](https://terrabrasilis.dpi.inpe.br/geonetwork/srv/eng/catalog.search#/metadata/fe02f2bf-2cc0-49d5-ab72-a3954f997408)"
   ]
  },
  {
   "cell_type": "markdown",
   "metadata": {
    "hidden": true
   },
   "source": [
    "#### Estrutura"
   ]
  },
  {
   "cell_type": "code",
   "execution_count": null,
   "metadata": {
    "hidden": true,
    "scrolled": true
   },
   "outputs": [],
   "source": [
    "PRODES_CER = \"prodes_cerrado_24\""
   ]
  },
  {
   "cell_type": "code",
   "execution_count": null,
   "metadata": {
    "hidden": true,
    "scrolled": true
   },
   "outputs": [],
   "source": [
    "crsPRODES_CER = arcpy.Describe(PRODES_CER).spatialReference\n",
    "print(\"CRS MB :\", crsPRODES_CER.name)"
   ]
  },
  {
   "cell_type": "code",
   "execution_count": null,
   "metadata": {
    "hidden": true,
    "scrolled": true
   },
   "outputs": [],
   "source": [
    "cell_size_x = arcpy.GetRasterProperties_management(PRODES_CER, \"CELLSIZEX\").getOutput(0)\n",
    "cell_size_y = arcpy.GetRasterProperties_management(PRODES_CER, \"CELLSIZEY\").getOutput(0)\n",
    "print(f\"Resolução (X): {cell_size_x}\")\n",
    "print(f\"Resolução (Y): {cell_size_y}\")"
   ]
  },
  {
   "cell_type": "markdown",
   "metadata": {
    "hidden": true
   },
   "source": [
    "#### Extract by Attributes"
   ]
  },
  {
   "cell_type": "code",
   "execution_count": null,
   "metadata": {
    "hidden": true,
    "scrolled": true
   },
   "outputs": [],
   "source": [
    "where_clause = \"VALUE = 24 Or VALUE = 64\""
   ]
  },
  {
   "cell_type": "code",
   "execution_count": null,
   "metadata": {
    "hidden": true,
    "scrolled": true
   },
   "outputs": [],
   "source": [
    "extracted_raster = arcpy.sa.ExtractByAttributes(\n",
    "    in_raster    = PRODES_CER, \n",
    "    where_clause = where_clause)"
   ]
  },
  {
   "cell_type": "code",
   "execution_count": null,
   "metadata": {
    "hidden": true,
    "scrolled": true
   },
   "outputs": [],
   "source": [
    "extracted_raster.save(\"prodes_cerrado_24_filter\")"
   ]
  },
  {
   "cell_type": "markdown",
   "metadata": {
    "hidden": true
   },
   "source": [
    "#### Reclassify"
   ]
  },
  {
   "cell_type": "code",
   "execution_count": null,
   "metadata": {
    "hidden": true,
    "scrolled": true
   },
   "outputs": [],
   "source": [
    "PRODES_CER = \"prodes_cerrado_24_filter\""
   ]
  },
  {
   "cell_type": "code",
   "execution_count": null,
   "metadata": {
    "hidden": true,
    "scrolled": true
   },
   "outputs": [],
   "source": [
    "reclassification = RemapValue([\n",
    "[24,  2024],\n",
    "[64,  2024]\n",
    "])"
   ]
  },
  {
   "cell_type": "code",
   "execution_count": null,
   "metadata": {
    "hidden": true,
    "scrolled": true
   },
   "outputs": [],
   "source": [
    "PRODES_CER_reclass = Reclassify(PRODES_CER, \"Value\", reclassification, \"NODATA\")"
   ]
  },
  {
   "cell_type": "code",
   "execution_count": null,
   "metadata": {
    "hidden": true,
    "scrolled": true
   },
   "outputs": [],
   "source": [
    "PRODES_CER_reclass.save(f\"{GDB}\\\\prodes_cerrado_24_filter_reclass\")"
   ]
  },
  {
   "cell_type": "markdown",
   "metadata": {
    "hidden": true
   },
   "source": [
    "#### Reporjetar"
   ]
  },
  {
   "cell_type": "code",
   "execution_count": null,
   "metadata": {
    "hidden": true,
    "scrolled": true
   },
   "outputs": [],
   "source": [
    "PRODES_CER = \"prodes_brasil_23_filter_reclass\""
   ]
  },
  {
   "cell_type": "code",
   "execution_count": null,
   "metadata": {
    "hidden": true,
    "scrolled": true
   },
   "outputs": [],
   "source": [
    "arcpy.management.ProjectRaster(\n",
    "    in_raster       =  PRODES_CER,\n",
    "    out_raster      = \"prodes_cerrado_24_filter_reclass_prj\",\n",
    "    out_coor_system =  albers_brasil,\n",
    "    resampling_type =  \"NEAREST\",\n",
    "    cell_size       = \"30\")"
   ]
  },
  {
   "cell_type": "markdown",
   "metadata": {
    "hidden": true
   },
   "source": [
    "#### Raster para Polígono"
   ]
  },
  {
   "cell_type": "code",
   "execution_count": null,
   "metadata": {
    "hidden": true,
    "scrolled": true
   },
   "outputs": [],
   "source": [
    "PRODES_CER = \"prodes_cerrado_24_filter_reclass_prj\""
   ]
  },
  {
   "cell_type": "code",
   "execution_count": null,
   "metadata": {
    "hidden": true,
    "scrolled": true
   },
   "outputs": [],
   "source": [
    "arcpy.conversion.RasterToPolygon(PRODES_CER, \n",
    "                                 \"prodes_cerrado_24_filter_reclass_prj_POL\", \n",
    "                                 simplify                  = \"NO_SIMPLIFY\", \n",
    "                                 raster_field              = \"Value\", \n",
    "                                 create_multipart_features = \"SINGLE_OUTER_PART\" #\"MULTIPLE_OUTER_PART\"\n",
    "                                )"
   ]
  },
  {
   "cell_type": "code",
   "execution_count": null,
   "metadata": {
    "hidden": true,
    "scrolled": true
   },
   "outputs": [],
   "source": [
    "PRODES_CERp = \"prodes_cerrado_24_filter_reclass_prj_POL\""
   ]
  },
  {
   "cell_type": "markdown",
   "metadata": {
    "hidden": true
   },
   "source": [
    "### Prodes Amazônia Legal - [cenas prioritárias 2024](https://terrabrasilis.dpi.inpe.br/geonetwork/srv/eng/catalog.search#/metadata/54c9ad38-cd5f-4629-bb42-aa75c205c010)"
   ]
  },
  {
   "cell_type": "markdown",
   "metadata": {
    "hidden": true
   },
   "source": [
    "#### Prodes AL cenas prioritárias 2024"
   ]
  },
  {
   "cell_type": "code",
   "execution_count": null,
   "metadata": {
    "hidden": true,
    "scrolled": true
   },
   "outputs": [],
   "source": [
    "PRODES_AL =  \"prodes_amzlegal_prior24_prj\""
   ]
  },
  {
   "cell_type": "markdown",
   "metadata": {
    "hidden": true
   },
   "source": [
    "### Prodes Único - Final"
   ]
  },
  {
   "cell_type": "markdown",
   "metadata": {
    "hidden": true
   },
   "source": [
    "#### <mark>Onde Paramos?</mark>"
   ]
  },
  {
   "cell_type": "code",
   "execution_count": null,
   "metadata": {
    "hidden": true,
    "scrolled": true
   },
   "outputs": [],
   "source": [
    "PRODES_ALp  =  \"prodes_amzlegal_prior24_prj\"\n",
    "PRODES_BRp  = \"prodes_brasil_23_reclass_prj_POL\"\n",
    "PRODES_CERp = \"prodes_cerrado_24_filter_reclass_prj_POL\""
   ]
  },
  {
   "cell_type": "markdown",
   "metadata": {
    "hidden": true
   },
   "source": [
    "#### Merge"
   ]
  },
  {
   "cell_type": "code",
   "execution_count": null,
   "metadata": {
    "hidden": true,
    "scrolled": true
   },
   "outputs": [],
   "source": [
    "arcpy.management.Merge(inputs = [PRODES_BRp, PRODES_CERp, PRODES_ALp], \n",
    "                       output = \"prodes_final\")"
   ]
  },
  {
   "cell_type": "code",
   "execution_count": null,
   "metadata": {
    "hidden": true,
    "scrolled": true
   },
   "outputs": [],
   "source": [
    "PRODES = \"prodes_final\""
   ]
  },
  {
   "cell_type": "markdown",
   "metadata": {
    "hidden": true
   },
   "source": [
    "#### Delete"
   ]
  },
  {
   "cell_type": "code",
   "execution_count": null,
   "metadata": {
    "hidden": true,
    "scrolled": true
   },
   "outputs": [],
   "source": [
    "arcpy.DeleteField_management(PRODES, [\"ID\"])"
   ]
  },
  {
   "cell_type": "markdown",
   "metadata": {
    "heading_collapsed": true
   },
   "source": [
    "## Dados Alerta MapBiomas"
   ]
  },
  {
   "cell_type": "markdown",
   "metadata": {
    "hidden": true
   },
   "source": [
    "(Acesso 26/01/2024) https://plataforma.alerta.mapbiomas.org/downloads "
   ]
  },
  {
   "cell_type": "markdown",
   "metadata": {
    "hidden": true
   },
   "source": [
    "### Descompactar Alertas"
   ]
  },
  {
   "cell_type": "code",
   "execution_count": null,
   "metadata": {
    "hidden": true,
    "scrolled": true
   },
   "outputs": [],
   "source": [
    "# Diretórios de entrada e saída\n",
    "diretorio_entrada = r\"D:\\CAR_2025\\CAR_R\\dados_brutos\\alerta_embargos_26_01_2025\"\n",
    "diretorio_saida   = r\"D:\\CAR_2025\\CAR_R\\dados_limpos\\alerta_embargos_26_01_2025\"\n",
    "\n",
    "# Criar o diretório de saída caso não exista\n",
    "if not os.path.exists(diretorio_saida):\n",
    "    os.makedirs(diretorio_saida)"
   ]
  },
  {
   "cell_type": "code",
   "execution_count": null,
   "metadata": {
    "hidden": true,
    "scrolled": true
   },
   "outputs": [],
   "source": [
    "# Lista todos os arquivos .zip no diretório de entrada\n",
    "arquivos_zip = [f for f in os.listdir(diretorio_entrada) if f.endswith(\".zip\")]\n",
    "print(arquivos_zip)"
   ]
  },
  {
   "cell_type": "code",
   "execution_count": null,
   "metadata": {
    "hidden": true,
    "scrolled": true
   },
   "outputs": [],
   "source": [
    "arquivo_zip = \"dashboard_alerts-shapefile.zip\"\n",
    "caminho_zip = os.path.join(diretorio_entrada, arquivo_zip)\n",
    "\n",
    "# Verifica se o arquivo existe antes de tentar descompactar\n",
    "if os.path.exists(caminho_zip):\n",
    "    with zipfile.ZipFile(caminho_zip, 'r') as zip_ref:\n",
    "        zip_ref.extractall(diretorio_saida)\n",
    "        print(f\"Arquivo '{arquivo_zip}' descompactado com sucesso em: {diretorio_saida}\")\n",
    "else:\n",
    "    print(f\"O arquivo '{arquivo_zip}' não foi encontrado em: {diretorio_entrada}\")"
   ]
  },
  {
   "cell_type": "code",
   "execution_count": null,
   "metadata": {
    "hidden": true,
    "scrolled": true
   },
   "outputs": [],
   "source": [
    "arquivo_zip = \"dashboard_alerts-shapefile.zip\"\n",
    "caminho_zip = os.path.join(diretorio_entrada, arquivo_zip)\n",
    "\n",
    "# Verifica se o arquivo existe antes de tentar descompactar\n",
    "if os.path.exists(caminho_zip):\n",
    "    with zipfile.ZipFile(caminho_zip, 'r') as zip_ref:\n",
    "        zip_ref.extractall(diretorio_saida)\n",
    "        print(f\"Arquivo '{arquivo_zip}' descompactado com sucesso em: {diretorio_saida}\")\n",
    "else:\n",
    "    print(f\"O arquivo '{arquivo_zip}' não foi encontrado em: {diretorio_entrada}\")"
   ]
  },
  {
   "cell_type": "markdown",
   "metadata": {
    "hidden": true
   },
   "source": [
    "### Reprojetar e Importar no GDB"
   ]
  },
  {
   "cell_type": "code",
   "execution_count": null,
   "metadata": {
    "hidden": true,
    "scrolled": true
   },
   "outputs": [],
   "source": [
    "CAR = \"CAR_prj\"\n",
    "albers_brasil = arcpy.Describe(CAR).spatialReference\n",
    "\n",
    "arcpy.Project_management(\n",
    "    in_dataset      = os.path.join(diretorio_saida, \"dashboard_alerts-shapefile.shp\"),\n",
    "    out_dataset     = os.path.join(GDB, \"ALERTAprj\"),\n",
    "    out_coor_system = albers_brasil\n",
    ")"
   ]
  },
  {
   "cell_type": "markdown",
   "metadata": {
    "hidden": true
   },
   "source": [
    "### Corrigir Geometrias"
   ]
  },
  {
   "cell_type": "code",
   "execution_count": null,
   "metadata": {
    "hidden": true,
    "scrolled": true
   },
   "outputs": [],
   "source": [
    "ALERTA = \"ALERTAprj\""
   ]
  },
  {
   "cell_type": "code",
   "execution_count": null,
   "metadata": {
    "hidden": true,
    "scrolled": true
   },
   "outputs": [],
   "source": [
    "arcpy.management.RepairGeometry(ALERTA,\n",
    "                                delete_null       = \"DELETE_NULL\",\n",
    "                                validation_method = \"ESRI\")"
   ]
  },
  {
   "cell_type": "markdown",
   "metadata": {
    "hidden": true
   },
   "source": [
    "### Alertas 2024"
   ]
  },
  {
   "cell_type": "code",
   "execution_count": null,
   "metadata": {
    "hidden": true,
    "scrolled": true
   },
   "outputs": [],
   "source": [
    "sql_ALERTA = \"ANODETEC = 2024\"\n",
    "\n",
    "arcpy.conversion.ExportFeatures(ALERTA, \n",
    "                                f\"{GDB}/ALERTAprj_2024\", \n",
    "                                sql_ALERTA, \n",
    "                                \"NOT_USE_ALIAS\")"
   ]
  },
  {
   "cell_type": "markdown",
   "metadata": {
    "heading_collapsed": true
   },
   "source": [
    "## Dados Embargos"
   ]
  },
  {
   "cell_type": "code",
   "execution_count": null,
   "metadata": {
    "hidden": true,
    "scrolled": true
   },
   "outputs": [],
   "source": [
    "# Diretórios de entrada e saída\n",
    "diretorio_entrada = r\"D:\\CAR_2025\\CAR_R\\dados_brutos\\alerta_embargos_26_01_2025\"\n",
    "diretorio_saida   = r\"D:\\CAR_2025\\CAR_R\\dados_limpos\\alerta_embargos_26_01_2025\"\n",
    "\n",
    "# Criar o diretório de saída caso não exista\n",
    "if not os.path.exists(diretorio_saida):\n",
    "    os.makedirs(diretorio_saida)"
   ]
  },
  {
   "cell_type": "code",
   "execution_count": null,
   "metadata": {
    "hidden": true,
    "scrolled": true
   },
   "outputs": [],
   "source": [
    "# Lista todos os arquivos .zip no diretório de entrada\n",
    "arquivos_zip = [f for f in os.listdir(diretorio_entrada) if f.endswith(\".zip\")]\n",
    "print(arquivos_zip)"
   ]
  },
  {
   "cell_type": "code",
   "execution_count": null,
   "metadata": {
    "hidden": true
   },
   "outputs": [],
   "source": [
    "CAR = \"CAR_prj\"\n",
    "albers_brasil = arcpy.Describe(CAR).spatialReference"
   ]
  },
  {
   "cell_type": "markdown",
   "metadata": {
    "hidden": true
   },
   "source": [
    "### IBAMA"
   ]
  },
  {
   "cell_type": "markdown",
   "metadata": {
    "hidden": true
   },
   "source": [
    "(Acesso 26/01/2025) https://dados.gov.br/dados/conjuntos-dados/termos-de-embargo"
   ]
  },
  {
   "cell_type": "markdown",
   "metadata": {
    "hidden": true
   },
   "source": [
    "#### Descompactar"
   ]
  },
  {
   "cell_type": "code",
   "execution_count": null,
   "metadata": {
    "hidden": true,
    "scrolled": true
   },
   "outputs": [],
   "source": [
    "arquivo_zip = \"adm_embargo_ibama_a.zip\"\n",
    "caminho_zip = os.path.join(diretorio_entrada, arquivo_zip)\n",
    "\n",
    "# Verifica se o arquivo existe antes de tentar descompactar\n",
    "if os.path.exists(caminho_zip):\n",
    "    with zipfile.ZipFile(caminho_zip, 'r') as zip_ref:\n",
    "        zip_ref.extractall(diretorio_saida)\n",
    "        print(f\"Arquivo '{arquivo_zip}' descompactado com sucesso em: {diretorio_saida}\")\n",
    "else:\n",
    "    print(f\"O arquivo '{arquivo_zip}' não foi encontrado em: {diretorio_entrada}\")"
   ]
  },
  {
   "cell_type": "markdown",
   "metadata": {
    "hidden": true
   },
   "source": [
    "#### Reprojetar e Importar no GDB"
   ]
  },
  {
   "cell_type": "code",
   "execution_count": null,
   "metadata": {
    "hidden": true,
    "scrolled": true
   },
   "outputs": [],
   "source": [
    "CAR = \"CAR_prj\"\n",
    "albers_brasil = arcpy.Describe(CAR).spatialReference\n",
    "\n",
    "arcpy.Project_management(\n",
    "    in_dataset      = os.path.join(diretorio_saida, \"adm_embargo_ibama_a.shp\"),\n",
    "    out_dataset     = os.path.join(GDB, \"EMBIBprj\"),\n",
    "    out_coor_system = albers_brasil\n",
    ")"
   ]
  },
  {
   "cell_type": "markdown",
   "metadata": {
    "hidden": true
   },
   "source": [
    "#### Ajuste Colunas"
   ]
  },
  {
   "cell_type": "code",
   "execution_count": null,
   "metadata": {
    "hidden": true,
    "scrolled": true
   },
   "outputs": [],
   "source": [
    "EMBIBprj = \"EMBIBprj\"\n",
    "\n",
    "#---------------------------------\n",
    "arcpy.management.AddField(EMBIBprj,\n",
    "                          \"EMB\",\n",
    "                          \"TEXT\")\n",
    "\n",
    "arcpy.management.AddField(EMBIBprj,\n",
    "                          \"EMBid\",\n",
    "                          \"TEXT\")\n",
    "\n",
    "arcpy.management.AddField(EMBIBprj,\n",
    "                          \"EMBinfo\",\n",
    "                          \"TEXT\")\n",
    "\n",
    "arcpy.management.AddField(EMBIBprj,\n",
    "                          \"EMBfonte\",\n",
    "                          \"TEXT\")"
   ]
  },
  {
   "cell_type": "code",
   "execution_count": null,
   "metadata": {
    "hidden": true,
    "scrolled": true
   },
   "outputs": [],
   "source": [
    "#---------------------------------\n",
    "arcpy.management.CalculateField(EMBIBprj,\n",
    "                                \"EMB\", \n",
    "                                \"'EMB'\", \n",
    "                                \"PYTHON3\")\n",
    "\n",
    "#---------------------------------\n",
    "arcpy.management.CalculateField(EMBIBprj,\n",
    "                                \"EMBfonte\", \n",
    "                                f\"'IBAMA - {datetime.datetime.today().strftime('%d/%m/%Y')}'\", \n",
    "                                \"PYTHON3\")"
   ]
  },
  {
   "cell_type": "code",
   "execution_count": null,
   "metadata": {
    "hidden": true
   },
   "outputs": [],
   "source": [
    "arcpy.management.AlterField(EMBIBprj, \"EMBinfo\", field_length=1000)"
   ]
  },
  {
   "cell_type": "code",
   "execution_count": null,
   "metadata": {
    "hidden": true
   },
   "outputs": [],
   "source": [
    "arcpy.management.CalculateField(\n",
    "    EMBIBprj,\n",
    "    \"EMBinfo\",\n",
    "    \"'PROC: ' + !num_proces! + '; AUTUADO: ' + !nome_embar!.upper() + '; CPF_CNPJ: ' + !cpf_cnpj_e! + '; DESC: ' + !des_tad!.upper() + '; DATA: ' + !dat_embarg! + ' - ' + !dat_ult_al!\",\n",
    "    \"PYTHON3\"\n",
    ")"
   ]
  },
  {
   "cell_type": "code",
   "execution_count": null,
   "metadata": {
    "hidden": true,
    "scrolled": true
   },
   "outputs": [],
   "source": [
    "with arcpy.da.UpdateCursor(EMBIBprj, [\"EMBid\"]) as cursor:\n",
    "    contador = 1\n",
    "    for row in cursor:\n",
    "        row[0] = f\"IBAMA_{contador:03d}\" \n",
    "        cursor.updateRow(row)\n",
    "        contador += 1"
   ]
  },
  {
   "cell_type": "code",
   "execution_count": null,
   "metadata": {
    "hidden": true
   },
   "outputs": [],
   "source": [
    "campos_a_manter  = [\"OBJECTID_1\", \"Shape\", \"EMBid\", \"EMBinfo\", \"EMBfonte\", \"EMB\", \"Shape_Length\", \"Shape_Area\"]\n",
    "todos_os_campos  = [field.name for field in arcpy.ListFields(EMBIBprj)]\n",
    "campos_a_remover = [campo for campo in todos_os_campos if campo not in campos_a_manter]\n",
    "\n",
    "arcpy.management.DeleteField(EMBIBprj, campos_a_remover)"
   ]
  },
  {
   "cell_type": "markdown",
   "metadata": {
    "hidden": true
   },
   "source": [
    "### ICMBIO"
   ]
  },
  {
   "cell_type": "markdown",
   "metadata": {
    "hidden": true
   },
   "source": [
    "(Acesso 26/01/2025) https://www.gov.br/icmbio/pt-br/assuntos/dados_geoespaciais/mapa-tematico-e-dados-geoestatisticos-das-unidades-de-conservacao-federais"
   ]
  },
  {
   "cell_type": "markdown",
   "metadata": {
    "hidden": true
   },
   "source": [
    "#### Descompactar"
   ]
  },
  {
   "cell_type": "code",
   "execution_count": null,
   "metadata": {
    "hidden": true,
    "scrolled": true
   },
   "outputs": [],
   "source": [
    "arquivo_zip = \"embargos_icmbio_shp.zip\"\n",
    "caminho_zip = os.path.join(diretorio_entrada, arquivo_zip)\n",
    "\n",
    "# Verifica se o arquivo existe antes de tentar descompactar\n",
    "if os.path.exists(caminho_zip):\n",
    "    with zipfile.ZipFile(caminho_zip, 'r') as zip_ref:\n",
    "        zip_ref.extractall(diretorio_saida)\n",
    "        print(f\"Arquivo '{arquivo_zip}' descompactado com sucesso em: {diretorio_saida}\")\n",
    "else:\n",
    "    print(f\"O arquivo '{arquivo_zip}' não foi encontrado em: {diretorio_entrada}\")"
   ]
  },
  {
   "cell_type": "markdown",
   "metadata": {
    "hidden": true
   },
   "source": [
    "#### Reprojetar e Importar no GDB"
   ]
  },
  {
   "cell_type": "code",
   "execution_count": null,
   "metadata": {
    "hidden": true,
    "scrolled": true
   },
   "outputs": [],
   "source": [
    "arcpy.Project_management(\n",
    "    in_dataset      = os.path.join(diretorio_saida, \"embargos_icmbio.shp\"),\n",
    "    out_dataset     = os.path.join(GDB, \"EMBICprj\"),\n",
    "    out_coor_system = albers_brasil\n",
    ")"
   ]
  },
  {
   "cell_type": "markdown",
   "metadata": {
    "hidden": true
   },
   "source": [
    "#### Ajuste Colunas"
   ]
  },
  {
   "cell_type": "code",
   "execution_count": null,
   "metadata": {
    "hidden": true
   },
   "outputs": [],
   "source": [
    "EMBICprj = \"EMBICprj\"\n",
    "\n",
    "#---------------------------------\n",
    "arcpy.management.AddField(EMBICprj,\n",
    "                          \"EMB\",\n",
    "                          \"TEXT\")\n",
    "\n",
    "arcpy.management.AddField(EMBICprj,\n",
    "                          \"EMBid\",\n",
    "                          \"TEXT\")\n",
    "\n",
    "arcpy.management.AddField(EMBICprj,\n",
    "                          \"EMBinfo\",\n",
    "                          \"TEXT\")\n",
    "\n",
    "arcpy.management.AddField(EMBICprj,\n",
    "                          \"EMBfonte\",\n",
    "                          \"TEXT\")"
   ]
  },
  {
   "cell_type": "code",
   "execution_count": null,
   "metadata": {
    "hidden": true
   },
   "outputs": [],
   "source": [
    "#---------------------------------\n",
    "arcpy.management.CalculateField(EMBICprj,\n",
    "                                \"EMB\", \n",
    "                                \"'EMBIC'\", \n",
    "                                \"PYTHON3\")\n",
    "\n",
    "#---------------------------------\n",
    "arcpy.management.CalculateField(EMBICprj,\n",
    "                                \"EMBfonte\", \n",
    "                                f\"'ICMBIO - {datetime.datetime.today().strftime('%d/%m/%Y')}'\", \n",
    "                                \"PYTHON3\")"
   ]
  },
  {
   "cell_type": "code",
   "execution_count": null,
   "metadata": {
    "hidden": true
   },
   "outputs": [],
   "source": [
    "arcpy.management.AlterField(EMBICprj, \"EMBinfo\", field_length=1000)"
   ]
  },
  {
   "cell_type": "code",
   "execution_count": null,
   "metadata": {
    "hidden": true
   },
   "outputs": [],
   "source": [
    "arcpy.management.CalculateField(\n",
    "    EMBICprj,\n",
    "    \"EMBinfo\",\n",
    "    \"'PROC: ' + !processo! + '; AUTUADO: ' + !autuado!.upper() + '; CPF_CNPJ: ' + !cpf_cnpj! + '; DESC: ' + !desc_sanc!.upper() + '; DATA: ' + (!data!.strftime('%d/%m/%Y') if !data! else 'N/D')\",\n",
    "    \"PYTHON3\"\n",
    ")"
   ]
  },
  {
   "cell_type": "code",
   "execution_count": null,
   "metadata": {
    "hidden": true
   },
   "outputs": [],
   "source": [
    "with arcpy.da.UpdateCursor(EMBICprj, [\"EMBid\"]) as cursor:\n",
    "    contador = 1\n",
    "    for row in cursor:\n",
    "        row[0] = f\"ICMBIO_{contador:03d}\" \n",
    "        cursor.updateRow(row)\n",
    "        contador += 1"
   ]
  },
  {
   "cell_type": "code",
   "execution_count": null,
   "metadata": {
    "hidden": true
   },
   "outputs": [],
   "source": [
    "campos_a_manter  = [\"OBJECTID\", \"Shape\", \"EMBid\", \"EMBinfo\", \"EMBfonte\", \"EMB\", \"Shape_Length\", \"Shape_Area\"]\n",
    "todos_os_campos  = [field.name for field in arcpy.ListFields(EMBICprj)]\n",
    "campos_a_remover = [campo for campo in todos_os_campos if campo not in campos_a_manter]\n",
    "\n",
    "arcpy.management.DeleteField(EMBICprj, campos_a_remover)"
   ]
  },
  {
   "cell_type": "markdown",
   "metadata": {
    "hidden": true
   },
   "source": [
    "### SEMA-MT"
   ]
  },
  {
   "cell_type": "markdown",
   "metadata": {
    "hidden": true
   },
   "source": [
    "(Acesso 26/01/2025) https://geoportal.sema.mt.gov.br"
   ]
  },
  {
   "cell_type": "markdown",
   "metadata": {
    "hidden": true
   },
   "source": [
    "#### Descompactar"
   ]
  },
  {
   "cell_type": "code",
   "execution_count": null,
   "metadata": {
    "hidden": true,
    "scrolled": true
   },
   "outputs": [],
   "source": [
    "arquivo_zip = \"AREAS_EMBARGADAS_SEMA.zip\"\n",
    "caminho_zip = os.path.join(diretorio_entrada, arquivo_zip)\n",
    "\n",
    "# Verifica se o arquivo existe antes de tentar descompactar\n",
    "if os.path.exists(caminho_zip):\n",
    "    with zipfile.ZipFile(caminho_zip, 'r') as zip_ref:\n",
    "        zip_ref.extractall(diretorio_saida)\n",
    "        print(f\"Arquivo '{arquivo_zip}' descompactado com sucesso em: {diretorio_saida}\")\n",
    "else:\n",
    "    print(f\"O arquivo '{arquivo_zip}' não foi encontrado em: {diretorio_entrada}\")"
   ]
  },
  {
   "cell_type": "code",
   "execution_count": null,
   "metadata": {
    "hidden": true,
    "scrolled": true
   },
   "outputs": [],
   "source": [
    "arquivo_zip = \"AREA_EMBARGADA_SIGA_POLIGONO.zip\"\n",
    "caminho_zip = os.path.join(diretorio_entrada, arquivo_zip)\n",
    "\n",
    "# Verifica se o arquivo existe antes de tentar descompactar\n",
    "if os.path.exists(caminho_zip):\n",
    "    with zipfile.ZipFile(caminho_zip, 'r') as zip_ref:\n",
    "        zip_ref.extractall(diretorio_saida)\n",
    "        print(f\"Arquivo '{arquivo_zip}' descompactado com sucesso em: {diretorio_saida}\")\n",
    "else:\n",
    "    print(f\"O arquivo '{arquivo_zip}' não foi encontrado em: {diretorio_entrada}\")"
   ]
  },
  {
   "cell_type": "markdown",
   "metadata": {
    "hidden": true
   },
   "source": [
    "#### Reprojetar e Importar no GDB"
   ]
  },
  {
   "cell_type": "code",
   "execution_count": null,
   "metadata": {
    "hidden": true,
    "scrolled": true
   },
   "outputs": [],
   "source": [
    "arcpy.Project_management(\n",
    "    in_dataset      = os.path.join(diretorio_saida, \"AREAS_EMBARGADAS_SEMA.shp\"),\n",
    "    out_dataset     = os.path.join(GDB, \"EMBMTprj1\"),\n",
    "    out_coor_system = albers_brasil\n",
    ")"
   ]
  },
  {
   "cell_type": "code",
   "execution_count": null,
   "metadata": {
    "hidden": true,
    "scrolled": true
   },
   "outputs": [],
   "source": [
    "arcpy.Project_management(\n",
    "    in_dataset      = os.path.join(diretorio_saida, \"AREA_EMBARGADA_SIGA_POLIGONO.shp\"),\n",
    "    out_dataset     = os.path.join(GDB, \"EMBMTprj2\"),\n",
    "    out_coor_system = albers_brasil\n",
    ")"
   ]
  },
  {
   "cell_type": "markdown",
   "metadata": {
    "hidden": true
   },
   "source": [
    "#### Ajuste Colunas"
   ]
  },
  {
   "cell_type": "code",
   "execution_count": null,
   "metadata": {
    "hidden": true
   },
   "outputs": [],
   "source": [
    "EMBMTprj1 = \"EMBMTprj1\"\n",
    "\n",
    "#---------------------------------\n",
    "arcpy.management.AddField(EMBMTprj1,\n",
    "                          \"EMB\",\n",
    "                          \"TEXT\")\n",
    "\n",
    "arcpy.management.AddField(EMBMTprj1,\n",
    "                          \"EMBid\",\n",
    "                          \"TEXT\")\n",
    "\n",
    "arcpy.management.AddField(EMBMTprj1,\n",
    "                          \"EMBinfo\",\n",
    "                          \"TEXT\")\n",
    "\n",
    "arcpy.management.AddField(EMBMTprj1,\n",
    "                          \"EMBfonte\",\n",
    "                          \"TEXT\")"
   ]
  },
  {
   "cell_type": "code",
   "execution_count": null,
   "metadata": {
    "hidden": true
   },
   "outputs": [],
   "source": [
    "EMBMTprj2 = \"EMBMTprj2\"\n",
    "\n",
    "#---------------------------------\n",
    "arcpy.management.AddField(EMBMTprj2,\n",
    "                          \"EMB\",\n",
    "                          \"TEXT\")\n",
    "\n",
    "arcpy.management.AddField(EMBMTprj2,\n",
    "                          \"EMBid\",\n",
    "                          \"TEXT\")\n",
    "\n",
    "arcpy.management.AddField(EMBMTprj2,\n",
    "                          \"EMBinfo\",\n",
    "                          \"TEXT\")\n",
    "\n",
    "arcpy.management.AddField(EMBMTprj2,\n",
    "                          \"EMBfonte\",\n",
    "                          \"TEXT\")"
   ]
  },
  {
   "cell_type": "code",
   "execution_count": null,
   "metadata": {
    "hidden": true
   },
   "outputs": [],
   "source": [
    "#---------------------------------\n",
    "arcpy.management.CalculateField(EMBMTprj1,\n",
    "                                \"EMB\", \n",
    "                                \"'EMBMT'\", \n",
    "                                \"PYTHON3\")\n",
    "\n",
    "#---------------------------------\n",
    "arcpy.management.CalculateField(EMBMTprj1,\n",
    "                                \"EMBfonte\", \n",
    "                                f\"'SEMA-MT - {datetime.datetime.today().strftime('%d/%m/%Y')}'\", \n",
    "                                \"PYTHON3\")"
   ]
  },
  {
   "cell_type": "code",
   "execution_count": null,
   "metadata": {
    "hidden": true
   },
   "outputs": [],
   "source": [
    "#---------------------------------\n",
    "arcpy.management.CalculateField(EMBMTprj2,\n",
    "                                \"EMB\", \n",
    "                                \"'EMBMT'\", \n",
    "                                \"PYTHON3\")\n",
    "\n",
    "#---------------------------------\n",
    "arcpy.management.CalculateField(EMBMTprj2,\n",
    "                                \"EMBfonte\", \n",
    "                                f\"'SEMA-MT - {datetime.datetime.today().strftime('%d/%m/%Y')}'\", \n",
    "                                \"PYTHON3\")"
   ]
  },
  {
   "cell_type": "code",
   "execution_count": null,
   "metadata": {
    "hidden": true
   },
   "outputs": [],
   "source": [
    "arcpy.management.AlterField(EMBMTprj1, \"EMBinfo\", field_length=1000)"
   ]
  },
  {
   "cell_type": "code",
   "execution_count": null,
   "metadata": {
    "hidden": true
   },
   "outputs": [],
   "source": [
    "#---------------------------------\n",
    "arcpy.management.CalculateField(\n",
    "    EMBMTprj1,\n",
    "    \"EMBinfo\",\n",
    "    \"'PROC: '+!N_PROCESSO!+'; AUTUADO: '+!NOME!+' - '+!PROPRIEDAD!+'; CPF_CNPJ:'+!CPF_CNPJ!+'; DESC: '+ !DANO!'; DATA: ' + !DAT_LAVRAT!\",\n",
    "    \"PYTHON3\"\n",
    ")"
   ]
  },
  {
   "cell_type": "code",
   "execution_count": null,
   "metadata": {
    "hidden": true
   },
   "outputs": [],
   "source": [
    "arcpy.management.AlterField(EMBMTprj2, \"EMBinfo\", field_length=1000)"
   ]
  },
  {
   "cell_type": "code",
   "execution_count": null,
   "metadata": {
    "hidden": true
   },
   "outputs": [],
   "source": [
    "arcpy.management.CalculateField(\n",
    "    EMBMTprj2,\n",
    "    \"EMBinfo\",\n",
    "    \"'PROC: ' + !NUMERO_PRO! + '; AUTUADO: ' + !NOME_RAZAO! + ' - ' + !NOME_FANTA! + '; CPF_CNPJ: ' + !CPFCNPJ! + '; DESC: ' + !DESCRICAO_! + '; DATA: ' + !DATA_DO_AU!.strftime('%d/%m/%Y')\",\n",
    "    \"PYTHON3\"\n",
    ")"
   ]
  },
  {
   "cell_type": "markdown",
   "metadata": {
    "hidden": true
   },
   "source": [
    "#### Merge Final"
   ]
  },
  {
   "cell_type": "code",
   "execution_count": null,
   "metadata": {
    "hidden": true
   },
   "outputs": [],
   "source": [
    "arcpy.management.Merge(inputs = [EMBMTprj1, EMBMTprj2], \n",
    "                       output = \"EMBMTprj\")"
   ]
  },
  {
   "cell_type": "code",
   "execution_count": null,
   "metadata": {
    "hidden": true
   },
   "outputs": [],
   "source": [
    "EMBMTprj = \"EMBMTprj\""
   ]
  },
  {
   "cell_type": "code",
   "execution_count": null,
   "metadata": {
    "hidden": true
   },
   "outputs": [],
   "source": [
    "campos_a_manter  = [\"OBJECTID_1\", \"Shape\", \"EMBid\", \"EMBinfo\", \"EMBfonte\", \"EMB\", \"Shape_Length\", \"Shape_Area\"]\n",
    "todos_os_campos  = [field.name for field in arcpy.ListFields(EMBMTprj)]\n",
    "campos_a_remover = [campo for campo in todos_os_campos if campo not in campos_a_manter]\n",
    "\n",
    "arcpy.management.DeleteField(EMBMTprj, campos_a_remover)"
   ]
  },
  {
   "cell_type": "code",
   "execution_count": null,
   "metadata": {
    "hidden": true
   },
   "outputs": [],
   "source": [
    "with arcpy.da.UpdateCursor(EMBMTprj, [\"EMBid\"]) as cursor:\n",
    "    contador = 1\n",
    "    for row in cursor:\n",
    "        row[0] = f\"SEMA_MT_{contador:03d}\" \n",
    "        cursor.updateRow(row)\n",
    "        contador += 1"
   ]
  },
  {
   "cell_type": "markdown",
   "metadata": {
    "hidden": true
   },
   "source": [
    "### SEMA-GO"
   ]
  },
  {
   "cell_type": "markdown",
   "metadata": {
    "hidden": true
   },
   "source": [
    "(Acesso 26/01/2025) https://siga.meioambiente.go.gov.br/#/"
   ]
  },
  {
   "cell_type": "markdown",
   "metadata": {
    "hidden": true
   },
   "source": [
    "#### Descompactar"
   ]
  },
  {
   "cell_type": "code",
   "execution_count": null,
   "metadata": {
    "hidden": true,
    "scrolled": true
   },
   "outputs": [],
   "source": [
    "arquivo_zip = \"Embargos Estaduais polígono - INÃ_SGA - público.zip\"\n",
    "caminho_zip = os.path.join(diretorio_entrada, arquivo_zip)\n",
    "\n",
    "# Verifica se o arquivo existe antes de tentar descompactar\n",
    "if os.path.exists(caminho_zip):\n",
    "    with zipfile.ZipFile(caminho_zip, 'r') as zip_ref:\n",
    "        zip_ref.extractall(diretorio_saida)\n",
    "        print(f\"Arquivo '{arquivo_zip}' descompactado com sucesso em: {diretorio_saida}\")\n",
    "else:\n",
    "    print(f\"O arquivo '{arquivo_zip}' não foi encontrado em: {diretorio_entrada}\")"
   ]
  },
  {
   "cell_type": "code",
   "execution_count": null,
   "metadata": {
    "hidden": true,
    "scrolled": true
   },
   "outputs": [],
   "source": [
    "arquivo_zip = \"13007192-6500-4935-bc26-78edfcc8dbe0.zip\"\n",
    "caminho_zip = os.path.join(diretorio_saida, arquivo_zip)\n",
    "\n",
    "# Verifica se o arquivo existe antes de tentar descompactar\n",
    "if os.path.exists(caminho_zip):\n",
    "    with zipfile.ZipFile(caminho_zip, 'r') as zip_ref:\n",
    "        zip_ref.extractall(diretorio_saida)\n",
    "        print(f\"Arquivo '{arquivo_zip}' descompactado com sucesso em: {diretorio_saida}\")\n",
    "else:\n",
    "    print(f\"O arquivo '{arquivo_zip}' não foi encontrado em: {diretorio_entrada}\")"
   ]
  },
  {
   "cell_type": "markdown",
   "metadata": {
    "hidden": true
   },
   "source": [
    "#### Reprojetar e Importar no GDB"
   ]
  },
  {
   "cell_type": "code",
   "execution_count": null,
   "metadata": {
    "hidden": true,
    "scrolled": true
   },
   "outputs": [],
   "source": [
    "arcpy.Project_management(\n",
    "    in_dataset      = os.path.join(diretorio_saida, \"vw_embargo_ina_sga_poligono_publico.shp\"),\n",
    "    out_dataset     = os.path.join(GDB, \"EMBGOprj\"),\n",
    "    out_coor_system = albers_brasil\n",
    ")"
   ]
  },
  {
   "cell_type": "markdown",
   "metadata": {
    "hidden": true
   },
   "source": [
    "#### Ajuste Colunas"
   ]
  },
  {
   "cell_type": "code",
   "execution_count": null,
   "metadata": {
    "hidden": true
   },
   "outputs": [],
   "source": [
    "EMBGOprj = \"EMBGOprj\"\n",
    "\n",
    "#---------------------------------\n",
    "arcpy.management.AddField(EMBGOprj,\n",
    "                          \"EMB\",\n",
    "                          \"TEXT\")\n",
    "\n",
    "arcpy.management.AddField(EMBGOprj,\n",
    "                          \"EMBid\",\n",
    "                          \"TEXT\")\n",
    "\n",
    "arcpy.management.AddField(EMBGOprj,\n",
    "                          \"EMBinfo\",\n",
    "                          \"TEXT\")\n",
    "\n",
    "arcpy.management.AddField(EMBGOprj,\n",
    "                          \"EMBfonte\",\n",
    "                          \"TEXT\")"
   ]
  },
  {
   "cell_type": "code",
   "execution_count": null,
   "metadata": {
    "hidden": true
   },
   "outputs": [],
   "source": [
    "#---------------------------------\n",
    "arcpy.management.CalculateField(EMBGOprj,\n",
    "                                \"EMB\", \n",
    "                                \"'EMBGO'\", \n",
    "                                \"PYTHON3\")\n",
    "\n",
    "#---------------------------------\n",
    "arcpy.management.CalculateField(EMBGOprj,\n",
    "                                \"EMBfonte\", \n",
    "                                f\"'SEMA-GO - {datetime.datetime.today().strftime('%d/%m/%Y')}'\", \n",
    "                                \"PYTHON3\")"
   ]
  },
  {
   "cell_type": "code",
   "execution_count": null,
   "metadata": {
    "hidden": true
   },
   "outputs": [],
   "source": [
    "with arcpy.da.UpdateCursor(EMBGOprj, [\"EMBid\"]) as cursor:\n",
    "    contador = 1\n",
    "    for row in cursor:\n",
    "        row[0] = f\"SEMA_GO_{contador:03d}\" \n",
    "        cursor.updateRow(row)\n",
    "        contador += 1"
   ]
  },
  {
   "cell_type": "code",
   "execution_count": null,
   "metadata": {
    "hidden": true
   },
   "outputs": [],
   "source": [
    "arcpy.management.AlterField(EMBGOprj, \"EMBinfo\", field_length=1000)"
   ]
  },
  {
   "cell_type": "code",
   "execution_count": null,
   "metadata": {
    "hidden": true
   },
   "outputs": [],
   "source": [
    "arcpy.management.CalculateField(\n",
    "    EMBGOprj,\n",
    "    \"EMBinfo\",\n",
    "    \"'PROC: ' + !codigo_pro! + '; AUTUADO: ' + !nome_razao! + '; DESC: ' + !categoria!.upper() + ' DATA: ' + !data_criac!.strftime('%d/%m/%Y')\",\n",
    "    \"PYTHON3\"\n",
    ")"
   ]
  },
  {
   "cell_type": "code",
   "execution_count": null,
   "metadata": {
    "hidden": true
   },
   "outputs": [],
   "source": [
    "campos_a_manter  = [\"OBJECTID\", \"Shape\", \"EMBid\", \"EMBinfo\", \"EMBfonte\", \"EMB\", \"Shape_Length\", \"Shape_Area\"]\n",
    "todos_os_campos  = [field.name for field in arcpy.ListFields(EMBGOprj)]\n",
    "campos_a_remover = [campo for campo in todos_os_campos if campo not in campos_a_manter]\n",
    "\n",
    "arcpy.management.DeleteField(EMBGOprj, campos_a_remover)"
   ]
  },
  {
   "cell_type": "markdown",
   "metadata": {
    "hidden": true
   },
   "source": [
    "### SEMA-PA"
   ]
  },
  {
   "cell_type": "markdown",
   "metadata": {
    "hidden": true
   },
   "source": [
    "(Acesso 26/01/2025) https://monitoramento.semas.pa.gov.br/ldi/"
   ]
  },
  {
   "cell_type": "markdown",
   "metadata": {
    "hidden": true
   },
   "source": [
    "#### Descompactar"
   ]
  },
  {
   "cell_type": "code",
   "execution_count": null,
   "metadata": {
    "hidden": true,
    "scrolled": true
   },
   "outputs": [],
   "source": [
    "arquivo_zip = \"LDI_publicacao_automatizado.zip\"\n",
    "caminho_zip = os.path.join(diretorio_entrada, arquivo_zip)\n",
    "\n",
    "# Verifica se o arquivo existe antes de tentar descompactar\n",
    "if os.path.exists(caminho_zip):\n",
    "    with zipfile.ZipFile(caminho_zip, 'r') as zip_ref:\n",
    "        zip_ref.extractall(diretorio_saida)\n",
    "        print(f\"Arquivo '{arquivo_zip}' descompactado com sucesso em: {diretorio_saida}\")\n",
    "else:\n",
    "    print(f\"O arquivo '{arquivo_zip}' não foi encontrado em: {diretorio_entrada}\")"
   ]
  },
  {
   "cell_type": "code",
   "execution_count": null,
   "metadata": {
    "hidden": true,
    "scrolled": true
   },
   "outputs": [],
   "source": [
    "arquivo_zip = \"LDI_publicacao_manual.zip\"\n",
    "caminho_zip = os.path.join(diretorio_entrada, arquivo_zip)\n",
    "\n",
    "# Verifica se o arquivo existe antes de tentar descompactar\n",
    "if os.path.exists(caminho_zip):\n",
    "    with zipfile.ZipFile(caminho_zip, 'r') as zip_ref:\n",
    "        zip_ref.extractall(diretorio_saida)\n",
    "        print(f\"Arquivo '{arquivo_zip}' descompactado com sucesso em: {diretorio_saida}\")\n",
    "else:\n",
    "    print(f\"O arquivo '{arquivo_zip}' não foi encontrado em: {diretorio_entrada}\")"
   ]
  },
  {
   "cell_type": "code",
   "execution_count": null,
   "metadata": {
    "hidden": true,
    "scrolled": true
   },
   "outputs": [],
   "source": [
    "arquivo_zip = \"LDI_publicacao_sem_sobresicao.zip\"\n",
    "caminho_zip = os.path.join(diretorio_entrada, arquivo_zip)\n",
    "\n",
    "# Verifica se o arquivo existe antes de tentar descompactar\n",
    "if os.path.exists(caminho_zip):\n",
    "    with zipfile.ZipFile(caminho_zip, 'r') as zip_ref:\n",
    "        zip_ref.extractall(diretorio_saida)\n",
    "        print(f\"Arquivo '{arquivo_zip}' descompactado com sucesso em: {diretorio_saida}\")\n",
    "else:\n",
    "    print(f\"O arquivo '{arquivo_zip}' não foi encontrado em: {diretorio_entrada}\")"
   ]
  },
  {
   "cell_type": "markdown",
   "metadata": {
    "hidden": true
   },
   "source": [
    "#### Reprojetar e Importar no GDB"
   ]
  },
  {
   "cell_type": "code",
   "execution_count": null,
   "metadata": {
    "hidden": true,
    "scrolled": true
   },
   "outputs": [],
   "source": [
    "arcpy.Project_management(\n",
    "    in_dataset      = os.path.join(diretorio_saida, \"LDI_publicacao_automatizado.shp\"),\n",
    "    out_dataset     = os.path.join(GDB, \"EMBPAprj1\"),\n",
    "    out_coor_system = albers_brasil\n",
    ")"
   ]
  },
  {
   "cell_type": "code",
   "execution_count": null,
   "metadata": {
    "hidden": true,
    "scrolled": true
   },
   "outputs": [],
   "source": [
    "arcpy.Project_management(\n",
    "    in_dataset      = os.path.join(diretorio_saida, \"LDI_publicacao_manual.shp\"),\n",
    "    out_dataset     = os.path.join(GDB, \"EMBPAprj2\"),\n",
    "    out_coor_system = albers_brasil\n",
    ")"
   ]
  },
  {
   "cell_type": "code",
   "execution_count": null,
   "metadata": {
    "hidden": true,
    "scrolled": true
   },
   "outputs": [],
   "source": [
    "arcpy.Project_management(\n",
    "    in_dataset      = os.path.join(diretorio_saida, \"LDI_publicacao_sem_sobresicao.shp\"),\n",
    "    out_dataset     = os.path.join(GDB, \"EMBPAprj3\"),\n",
    "    out_coor_system = albers_brasil\n",
    ")"
   ]
  },
  {
   "cell_type": "markdown",
   "metadata": {
    "hidden": true
   },
   "source": [
    "#### Ajustes Colunas"
   ]
  },
  {
   "cell_type": "code",
   "execution_count": null,
   "metadata": {
    "hidden": true
   },
   "outputs": [],
   "source": [
    "EMBPAprj1 = \"EMBPAprj1\"\n",
    "\n",
    "#---------------------------------\n",
    "arcpy.management.AddField(EMBPAprj1,\n",
    "                          \"EMB\",\n",
    "                          \"TEXT\")\n",
    "\n",
    "arcpy.management.AddField(EMBPAprj1,\n",
    "                          \"EMBid\",\n",
    "                          \"TEXT\")\n",
    "\n",
    "arcpy.management.AddField(EMBPAprj1,\n",
    "                          \"EMBinfo\",\n",
    "                          \"TEXT\")\n",
    "\n",
    "arcpy.management.AddField(EMBPAprj1,\n",
    "                          \"EMBfonte\",\n",
    "                          \"TEXT\")"
   ]
  },
  {
   "cell_type": "code",
   "execution_count": null,
   "metadata": {
    "hidden": true
   },
   "outputs": [],
   "source": [
    "EMBPAprj2 = \"EMBPAprj2\"\n",
    "\n",
    "#---------------------------------\n",
    "arcpy.management.AddField(EMBPAprj2,\n",
    "                          \"EMB\",\n",
    "                          \"TEXT\")\n",
    "\n",
    "arcpy.management.AddField(EMBPAprj2,\n",
    "                          \"EMBid\",\n",
    "                          \"TEXT\")\n",
    "\n",
    "arcpy.management.AddField(EMBPAprj2,\n",
    "                          \"EMBinfo\",\n",
    "                          \"TEXT\")\n",
    "\n",
    "arcpy.management.AddField(EMBPAprj2,\n",
    "                          \"EMBfonte\",\n",
    "                          \"TEXT\")"
   ]
  },
  {
   "cell_type": "code",
   "execution_count": null,
   "metadata": {
    "hidden": true
   },
   "outputs": [],
   "source": [
    "EMBPAprj3 = \"EMBPAprj3\"\n",
    "\n",
    "#---------------------------------\n",
    "arcpy.management.AddField(EMBPAprj3,\n",
    "                          \"EMB\",\n",
    "                          \"TEXT\")\n",
    "\n",
    "arcpy.management.AddField(EMBPAprj3,\n",
    "                          \"EMBid\",\n",
    "                          \"TEXT\")\n",
    "\n",
    "arcpy.management.AddField(EMBPAprj3,\n",
    "                          \"EMBinfo\",\n",
    "                          \"TEXT\")\n",
    "\n",
    "arcpy.management.AddField(EMBPAprj3,\n",
    "                          \"EMBfonte\",\n",
    "                          \"TEXT\")"
   ]
  },
  {
   "cell_type": "code",
   "execution_count": null,
   "metadata": {
    "hidden": true
   },
   "outputs": [],
   "source": [
    "#---------------------------------\n",
    "arcpy.management.CalculateField(EMBPAprj1,\n",
    "                                \"EMB\", \n",
    "                                \"'EMBPA'\", \n",
    "                                \"PYTHON3\")\n",
    "\n",
    "#---------------------------------\n",
    "arcpy.management.CalculateField(EMBPAprj1,\n",
    "                                \"EMBfonte\", \n",
    "                                f\"'SEMA-PA - {datetime.datetime.today().strftime('%d/%m/%Y')}'\", \n",
    "                                \"PYTHON3\")"
   ]
  },
  {
   "cell_type": "code",
   "execution_count": null,
   "metadata": {
    "hidden": true
   },
   "outputs": [],
   "source": [
    "#---------------------------------\n",
    "arcpy.management.CalculateField(EMBPAprj2,\n",
    "                                \"EMB\", \n",
    "                                \"'EMBPA'\", \n",
    "                                \"PYTHON3\")\n",
    "\n",
    "#---------------------------------\n",
    "arcpy.management.CalculateField(EMBPAprj2,\n",
    "                                \"EMBfonte\", \n",
    "                                f\"'SEMA-PA - {datetime.datetime.today().strftime('%d/%m/%Y')}'\", \n",
    "                                \"PYTHON3\")"
   ]
  },
  {
   "cell_type": "code",
   "execution_count": null,
   "metadata": {
    "hidden": true
   },
   "outputs": [],
   "source": [
    "#---------------------------------\n",
    "arcpy.management.CalculateField(EMBPAprj3,\n",
    "                                \"EMB\", \n",
    "                                \"'EMBPA'\", \n",
    "                                \"PYTHON3\")\n",
    "\n",
    "#---------------------------------\n",
    "arcpy.management.CalculateField(EMBPAprj3,\n",
    "                                \"EMBfonte\", \n",
    "                                f\"'SEMA-PA - {datetime.datetime.today().strftime('%d/%m/%Y')}'\", \n",
    "                                \"PYTHON3\")"
   ]
  },
  {
   "cell_type": "code",
   "execution_count": null,
   "metadata": {
    "hidden": true
   },
   "outputs": [],
   "source": [
    "arcpy.management.AlterField(EMBPAprj1, \"EMBinfo\", field_length=1000)\n",
    "arcpy.management.AlterField(EMBPAprj2, \"EMBinfo\", field_length=1000)\n",
    "arcpy.management.AlterField(EMBPAprj3, \"EMBinfo\", field_length=1000)"
   ]
  },
  {
   "cell_type": "code",
   "execution_count": null,
   "metadata": {
    "hidden": true
   },
   "outputs": [],
   "source": [
    "#---------------------------------\n",
    "arcpy.management.CalculateField(\n",
    "    EMBPAprj1,\n",
    "    \"EMBinfo\",\n",
    "    \"'PROC: '+!P_SemCAR!+!P_ComCAR!+'; COD: '+!codigo!+'; COD_LDI: '+!codLdi!+'; DESC: '+!Status!+' '+!NUM_CAR! +'; DATA: '+!Dat_Depois!.strftime('%d/%m/%Y')\",\n",
    "    \"PYTHON3\"\n",
    ")"
   ]
  },
  {
   "cell_type": "code",
   "execution_count": null,
   "metadata": {
    "hidden": true
   },
   "outputs": [],
   "source": [
    "#---------------------------------\n",
    "arcpy.management.CalculateField(\n",
    "    EMBPAprj2,\n",
    "    \"EMBinfo\",\n",
    "    \"'PROC: '+!P_SemCAR_1!+!P_ComCAR_1!+'; DESC: '+!Status! +'; DATA: ' + (!Dat_Depois!.strftime('%d/%m/%Y') if !Dat_Depois! else 'N/D')\",\n",
    "    \"PYTHON3\"\n",
    ")"
   ]
  },
  {
   "cell_type": "code",
   "execution_count": null,
   "metadata": {
    "hidden": true
   },
   "outputs": [],
   "source": [
    "#---------------------------------\n",
    "arcpy.management.CalculateField(\n",
    "    EMBPAprj3,\n",
    "    \"EMBinfo\",\n",
    "    \"'PROC: '+!P_SemCAR!+!P_ComCAR!+'; COD: '+!codigo!+'; COD_LDI: '+!codLdi!+'; DESC: '+!Status!+' '+!NUM_CAR! +'; DATA: '+ (!Dat_Depois!.strftime('%d/%m/%Y') if !Dat_Depois! else 'N/D')\",\n",
    "    \"PYTHON3\"\n",
    ") "
   ]
  },
  {
   "cell_type": "markdown",
   "metadata": {
    "hidden": true
   },
   "source": [
    "#### Merge Final"
   ]
  },
  {
   "cell_type": "code",
   "execution_count": null,
   "metadata": {
    "hidden": true,
    "scrolled": true
   },
   "outputs": [],
   "source": [
    "arcpy.management.Merge(inputs = [EMBPAprj1, EMBPAprj2, EMBPAprj3], \n",
    "                       output = \"EMBPAprj\")"
   ]
  },
  {
   "cell_type": "code",
   "execution_count": null,
   "metadata": {
    "hidden": true
   },
   "outputs": [],
   "source": [
    "EMBPAprj = \"EMBPAprj\""
   ]
  },
  {
   "cell_type": "code",
   "execution_count": null,
   "metadata": {
    "hidden": true,
    "scrolled": true
   },
   "outputs": [],
   "source": [
    "campos_a_manter  = [\"OBJECTID\", \"Shape\", \"EMBid\", \"EMBinfo\", \"EMBfonte\", \"EMB\", \"Shape_Length\", \"Shape_Area\"]\n",
    "todos_os_campos  = [field.name for field in arcpy.ListFields(EMBPAprj)]\n",
    "campos_a_remover = [campo for campo in todos_os_campos if campo not in campos_a_manter]\n",
    "\n",
    "arcpy.management.DeleteField(EMBPAprj, campos_a_remover)"
   ]
  },
  {
   "cell_type": "code",
   "execution_count": null,
   "metadata": {
    "hidden": true
   },
   "outputs": [],
   "source": [
    "with arcpy.da.UpdateCursor(EMBPAprj, [\"EMBid\"]) as cursor:\n",
    "    contador = 1\n",
    "    for row in cursor:\n",
    "        row[0] = f\"SEMA_PA_{contador:03d}\" \n",
    "        cursor.updateRow(row)\n",
    "        contador += 1"
   ]
  },
  {
   "cell_type": "markdown",
   "metadata": {
    "hidden": true
   },
   "source": [
    "### IPAAM-AM"
   ]
  },
  {
   "cell_type": "markdown",
   "metadata": {
    "hidden": true
   },
   "source": [
    "(Acesso 26/01/2025) https://gis.ipaam.am.gov.br/geoportal/"
   ]
  },
  {
   "cell_type": "markdown",
   "metadata": {
    "heading_collapsed": true,
    "hidden": true
   },
   "source": [
    "#### Descompactar"
   ]
  },
  {
   "cell_type": "code",
   "execution_count": null,
   "metadata": {
    "hidden": true
   },
   "outputs": [],
   "source": [
    "arquivo_zip = \"Areas_Embargadas__IPAAM__1738076417598.zip\"\n",
    "caminho_zip = os.path.join(diretorio_entrada, arquivo_zip)\n",
    "\n",
    "# Verifica se o arquivo existe antes de tentar descompactar\n",
    "if os.path.exists(caminho_zip):\n",
    "    with zipfile.ZipFile(caminho_zip, 'r') as zip_ref:\n",
    "        zip_ref.extractall(diretorio_saida)\n",
    "        print(f\"Arquivo '{arquivo_zip}' descompactado com sucesso em: {diretorio_saida}\")\n",
    "else:\n",
    "    print(f\"O arquivo '{arquivo_zip}' não foi encontrado em: {diretorio_entrada}\")"
   ]
  },
  {
   "cell_type": "code",
   "execution_count": null,
   "metadata": {
    "hidden": true,
    "scrolled": true
   },
   "outputs": [],
   "source": [
    "arquivo_zip = \"Areas_Embargadas__IPAAM___IPAAM__1738076428658.zip\"\n",
    "caminho_zip = os.path.join(diretorio_entrada, arquivo_zip)\n",
    "\n",
    "# Verifica se o arquivo existe antes de tentar descompactar\n",
    "if os.path.exists(caminho_zip):\n",
    "    with zipfile.ZipFile(caminho_zip, 'r') as zip_ref:\n",
    "        zip_ref.extractall(diretorio_saida)\n",
    "        print(f\"Arquivo '{arquivo_zip}' descompactado com sucesso em: {diretorio_saida}\")\n",
    "else:\n",
    "    print(f\"O arquivo '{arquivo_zip}' não foi encontrado em: {diretorio_entrada}\")"
   ]
  },
  {
   "cell_type": "markdown",
   "metadata": {
    "heading_collapsed": true,
    "hidden": true
   },
   "source": [
    "#### Reprojetar e Importar no GDB"
   ]
  },
  {
   "cell_type": "code",
   "execution_count": null,
   "metadata": {
    "hidden": true,
    "scrolled": true
   },
   "outputs": [],
   "source": [
    "arcpy.Project_management(\n",
    "    in_dataset      = os.path.join(diretorio_saida, \"_reas_Embargadas__IPAAM___IPAAM_.shp\"),\n",
    "    out_dataset     = os.path.join(GDB, \"EMBAMprj\"),\n",
    "    out_coor_system = albers_brasil\n",
    ")"
   ]
  },
  {
   "cell_type": "markdown",
   "metadata": {
    "hidden": true
   },
   "source": [
    "#### Ajuste Colunas"
   ]
  },
  {
   "cell_type": "code",
   "execution_count": null,
   "metadata": {
    "hidden": true
   },
   "outputs": [],
   "source": [
    "EMBAMprj = \"EMBAMprj\"\n",
    "\n",
    "#---------------------------------\n",
    "arcpy.management.AddField(EMBAMprj,\n",
    "                          \"EMB\",\n",
    "                          \"TEXT\")\n",
    "\n",
    "arcpy.management.AddField(EMBAMprj,\n",
    "                          \"EMBid\",\n",
    "                          \"TEXT\")\n",
    "\n",
    "arcpy.management.AddField(EMBAMprj,\n",
    "                          \"EMBinfo\",\n",
    "                          \"TEXT\")\n",
    "\n",
    "arcpy.management.AddField(EMBAMprj,\n",
    "                          \"EMBfonte\",\n",
    "                          \"TEXT\")"
   ]
  },
  {
   "cell_type": "code",
   "execution_count": null,
   "metadata": {
    "hidden": true
   },
   "outputs": [],
   "source": [
    "#---------------------------------\n",
    "arcpy.management.CalculateField(EMBAMprj,\n",
    "                                \"EMB\", \n",
    "                                \"'EMBAM'\", \n",
    "                                \"PYTHON3\")\n",
    "\n",
    "#---------------------------------\n",
    "arcpy.management.CalculateField(EMBAMprj,\n",
    "                                \"EMBfonte\", \n",
    "                                f\"'IPAAM-AM - {datetime.datetime.today().strftime('%d/%m/%Y')}'\", \n",
    "                                \"PYTHON3\")"
   ]
  },
  {
   "cell_type": "code",
   "execution_count": null,
   "metadata": {
    "hidden": true
   },
   "outputs": [],
   "source": [
    "arcpy.management.AlterField(EMBAMprj, \"EMBinfo\", field_length=1000)"
   ]
  },
  {
   "cell_type": "code",
   "execution_count": null,
   "metadata": {
    "hidden": true,
    "scrolled": true
   },
   "outputs": [],
   "source": [
    "arcpy.management.CalculateField(\n",
    "    EMBAMprj,\n",
    "    \"EMBinfo\",\n",
    "    \"'PROC: ' + (!cod_origem! if !cod_origem! else 'N/D') + ' - ' + (!n_termo! if !n_termo! else 'N/D') + '; AUTUADO: ' + (!nom_pessoa! if !nom_pessoa! else 'ND') + '; DESC: ' +!des_termo! + ' - ' + !status_ter! + ' DATA: ' + (!data_cadas! if !data_cadas! else !data_termo!)\",\n",
    "    \"PYTHON3\"\n",
    ")"
   ]
  },
  {
   "cell_type": "code",
   "execution_count": null,
   "metadata": {
    "hidden": true
   },
   "outputs": [],
   "source": [
    "with arcpy.da.UpdateCursor(EMBAMprj, [\"EMBid\"]) as cursor:\n",
    "    contador = 1\n",
    "    for row in cursor:\n",
    "        row[0] = f\"IPAAM-AM_{contador:03d}\" \n",
    "        cursor.updateRow(row)\n",
    "        contador += 1"
   ]
  },
  {
   "cell_type": "code",
   "execution_count": null,
   "metadata": {
    "hidden": true,
    "scrolled": false
   },
   "outputs": [],
   "source": [
    "campos_a_manter  = [\"OBJECTID\", \"Shape\", \"EMBid\", \"EMBinfo\", \"EMBfonte\", \"EMB\", \"Shape_Length\", \"Shape_Area\"]\n",
    "todos_os_campos  = [field.name for field in arcpy.ListFields(EMBAMprj)]\n",
    "campos_a_remover = [campo for campo in todos_os_campos if campo not in campos_a_manter]\n",
    "\n",
    "arcpy.management.DeleteField(EMBAMprj, campos_a_remover)"
   ]
  },
  {
   "cell_type": "markdown",
   "metadata": {
    "heading_collapsed": true,
    "hidden": true
   },
   "source": [
    "### EMBARGOS FINAL"
   ]
  },
  {
   "cell_type": "code",
   "execution_count": null,
   "metadata": {
    "hidden": true
   },
   "outputs": [],
   "source": [
    "EMBIBprj = \"EMBIBprj\"\n",
    "EMBICprj = \"EMBICprj\"\n",
    "EMBMTprj = \"EMBMTprj\"\n",
    "EMBPAprj = \"EMBPAprj\"\n",
    "EMBGOprj = \"EMBGOprj\"\n",
    "EMBAMprj = \"EMBAMprj\""
   ]
  },
  {
   "cell_type": "code",
   "execution_count": null,
   "metadata": {
    "hidden": true
   },
   "outputs": [],
   "source": [
    "arcpy.management.Merge(inputs = [EMBIBprj,EMBICprj,EMBMTprj,EMBPAprj,EMBGOprj,EMBAMprj], \n",
    "                       output = \"EMBfinalprj\")"
   ]
  },
  {
   "cell_type": "code",
   "execution_count": null,
   "metadata": {
    "hidden": true
   },
   "outputs": [],
   "source": [
    "EMBfinalprj = \"EMBfinalprj\""
   ]
  },
  {
   "cell_type": "code",
   "execution_count": null,
   "metadata": {
    "hidden": true
   },
   "outputs": [],
   "source": [
    "arcpy.management.RepairGeometry(EMBfinalprj,\n",
    "                                delete_null       = \"DELETE_NULL\",\n",
    "                                validation_method = \"ESRI\")"
   ]
  },
  {
   "cell_type": "markdown",
   "metadata": {
    "heading_collapsed": true
   },
   "source": [
    "## Dados CAR"
   ]
  },
  {
   "cell_type": "markdown",
   "metadata": {
    "hidden": true
   },
   "source": [
    "A construção de uma base consolidada do CAR para todo o território brasileiro começa com o acesso aos dados do perímetro dos imóveis rurais cadastrados no sistema. \n",
    "\n",
    "Há dois caminhos principais para obter esses dados: \n",
    "\n",
    "* [serviço geoespacial WFS do CAR](https://geoserver.car.gov.br/geoserver/wfs) ou\n",
    "* [site oficial do SICAR](https://consultapublica.car.gov.br/publico/estados/downloads), onde os arquivos estão organizados por unidade federativa.\n",
    "\n",
    "Neste tutorial, optaremos pela segunda alternativa, que resulta no download de 27 pastas compactadas, cada uma contendo os limites do CAR para uma unidade federativa.\n",
    "\n",
    "Acesso: 07 de janeiro, 2025"
   ]
  },
  {
   "cell_type": "markdown",
   "metadata": {
    "hidden": true
   },
   "source": [
    "#### Descompactar CAR"
   ]
  },
  {
   "cell_type": "markdown",
   "metadata": {
    "hidden": true
   },
   "source": [
    "Após baixar os arquivos compactados dos 27 Estados, o próximo passo é descompactá-los e organizá-los com nomes padronizados, preparando-os para a integração posterior. Os dados baixados estão armazenados na pasta indicada por `diretorio_entrada`, enquanto os arquivos descompactados e renomeados serão salvos na pasta especificada por `diretorio_saida`."
   ]
  },
  {
   "cell_type": "code",
   "execution_count": null,
   "metadata": {
    "hidden": true,
    "scrolled": true
   },
   "outputs": [],
   "source": [
    "# Diretórios de entrada e saída\n",
    "diretorio_entrada = r\"D:\\CAR_2025\\CAR_R\\dados_brutos\\CAR_zipped\"\n",
    "diretorio_saida   = r\"D:\\CAR_2025\\CAR_R\\dados_limpos\\CAR_unzipped2\"\n",
    "\n",
    "# Criar o diretório de saída caso não exista\n",
    "if not os.path.exists(diretorio_saida):\n",
    "    os.makedirs(diretorio_saida)"
   ]
  },
  {
   "cell_type": "code",
   "execution_count": null,
   "metadata": {
    "hidden": true,
    "scrolled": true
   },
   "outputs": [],
   "source": [
    "# Lista todos os arquivos .zip no diretório de entrada\n",
    "arquivos_zip = [f for f in os.listdir(diretorio_entrada) if f.endswith(\".zip\")]\n",
    "print(arquivos_zip)"
   ]
  },
  {
   "cell_type": "code",
   "execution_count": null,
   "metadata": {
    "hidden": true,
    "scrolled": true
   },
   "outputs": [],
   "source": [
    "# Itera sobre cada arquivo .zip encontrado\n",
    "for arquivo_zip in arquivos_zip:\n",
    "    caminho_zip = os.path.join(diretorio_entrada, arquivo_zip)\n",
    "    nome_base = os.path.splitext(arquivo_zip)[0]  # Remove a extensão .zip\n",
    "    \n",
    "    # Cria uma pasta temporária para extrair o conteúdo do arquivo .zip\n",
    "    pasta_temporaria = os.path.join(diretorio_saida, f\"temp_{nome_base}\")\n",
    "    os.makedirs(pasta_temporaria, exist_ok=True)\n",
    "    \n",
    "    # Extrai o conteúdo do arquivo .zip para a pasta temporária\n",
    "    with zipfile.ZipFile(caminho_zip, 'r') as zip_ref:\n",
    "        zip_ref.extractall(pasta_temporaria)\n",
    "    \n",
    "    # Lista todos os arquivos extraídos na pasta temporária\n",
    "    arquivos_extraidos = [\n",
    "        os.path.join(pasta_temporaria, f) for f in os.listdir(pasta_temporaria)\n",
    "    ]\n",
    "    \n",
    "    # Itera sobre cada arquivo extraído\n",
    "    for caminho_arquivo in arquivos_extraidos:\n",
    "        extensao_arquivo = os.path.splitext(caminho_arquivo)[1]  # Obtém a extensão\n",
    "        base_arquivo = os.path.splitext(os.path.basename(caminho_arquivo))[0]  # Nome sem extensão\n",
    "        \n",
    "        # Cria um novo nome padronizado\n",
    "        novo_nome = f\"{base_arquivo}_{nome_base}{extensao_arquivo}\"\n",
    "        novo_caminho = os.path.join(diretorio_saida, novo_nome)\n",
    "        \n",
    "        # Renomeia e move o arquivo para o diretório de saída\n",
    "        os.rename(caminho_arquivo, novo_caminho)\n",
    "    \n",
    "    # Remove a pasta temporária após processar todos os arquivos\n",
    "    arcpy.AddMessage(f\"Processando {arquivo_zip} concluído.\")\n",
    "    os.rmdir(pasta_temporaria)  # Remove a pasta temporária\n",
    "\n",
    "arcpy.AddMessage(\"Todos os arquivos foram descompactados e renomeados com sucesso!\")"
   ]
  },
  {
   "cell_type": "markdown",
   "metadata": {
    "hidden": true
   },
   "source": [
    "#### Merge CAR"
   ]
  },
  {
   "cell_type": "code",
   "execution_count": null,
   "metadata": {
    "hidden": true,
    "scrolled": true
   },
   "outputs": [],
   "source": [
    "# Feature class resultante do merge\n",
    "merged_CARs_UF_name = \"CARinicial\"\n",
    "\n",
    "shapefiles = []\n",
    "\n",
    "# Loop pelos shapefiles no diretório\n",
    "for file in os.listdir(diretorio_saida):\n",
    "    if file.endswith(\".shp\"):\n",
    "        shapefile_path = os.path.join(diretorio_saida, file)\n",
    "        shapefiles.append(shapefile_path)\n",
    "        print(f\"Adicionado ao merge: {shapefile_path}\")\n",
    "\n",
    "# Merge\n",
    "arcpy.Merge_management(shapefiles, os.path.join(GDB, merged_CARs_UF_name))\n",
    "print(f\"Merge concluído! Resultado salvo como {merged_CARs_UF_name} no GDB.\")"
   ]
  },
  {
   "cell_type": "code",
   "execution_count": null,
   "metadata": {
    "hidden": true,
    "scrolled": true
   },
   "outputs": [],
   "source": [
    "CAR = \"CARinicial\""
   ]
  },
  {
   "cell_type": "markdown",
   "metadata": {
    "hidden": true
   },
   "source": [
    "#### Exportar Tabela CAR"
   ]
  },
  {
   "cell_type": "code",
   "execution_count": null,
   "metadata": {
    "hidden": true,
    "scrolled": true
   },
   "outputs": [],
   "source": [
    "TAB = \"Tabela_Rel_SICAR\"\n",
    "\n",
    "arcpy.conversion.ExportTable(\n",
    "    CAR,\n",
    "    f\"{GDB}\\\\{TAB}\")"
   ]
  },
  {
   "cell_type": "markdown",
   "metadata": {
    "hidden": true
   },
   "source": [
    "#### Limpar CAR"
   ]
  },
  {
   "cell_type": "code",
   "execution_count": null,
   "metadata": {
    "hidden": true,
    "scrolled": true
   },
   "outputs": [],
   "source": [
    "fields = arcpy.ListFields(CAR)\n",
    "\n",
    "for field in fields:\n",
    "    print(f\"Nome: {field.name}, Tipo: {field.type}\")"
   ]
  },
  {
   "cell_type": "code",
   "execution_count": null,
   "metadata": {
    "hidden": true,
    "scrolled": true
   },
   "outputs": [],
   "source": [
    "arcpy.DeleteField_management(CAR, [\"cod_tema\", \"nom_tema\", \"mod_fiscal\", \"num_area\", \"ind_status\", \"ind_tipo\", \"des_condic\", \"municipio\", \"cod_estado\", \"dat_criaca\", \"dat_atuali\"])"
   ]
  },
  {
   "cell_type": "markdown",
   "metadata": {
    "hidden": true
   },
   "source": [
    "### Corrigir Geometrias"
   ]
  },
  {
   "cell_type": "markdown",
   "metadata": {
    "hidden": true
   },
   "source": [
    "#### Repair Geometry"
   ]
  },
  {
   "cell_type": "code",
   "execution_count": null,
   "metadata": {
    "hidden": true,
    "scrolled": true
   },
   "outputs": [],
   "source": [
    "arcpy.management.RepairGeometry(CAR,\n",
    "                                delete_null       = \"DELETE_NULL\",\n",
    "                                validation_method = \"ESRI\")"
   ]
  },
  {
   "cell_type": "markdown",
   "metadata": {
    "hidden": true
   },
   "source": [
    "### Reprojetar e Área Total do CAR"
   ]
  },
  {
   "cell_type": "markdown",
   "metadata": {
    "hidden": true
   },
   "source": [
    "#### **Projeção recomendada pelo IBGE**"
   ]
  },
  {
   "cell_type": "markdown",
   "metadata": {
    "hidden": true
   },
   "source": [
    "A projeção Cônica Equivalente de Albers com o datum horizontal SIRGAS2000 é recomendada pelo Instituto Brasileiro de Geografia e Estatística (IBGE) para preservação e cálculo de áreas no território nacional."
   ]
  },
  {
   "cell_type": "markdown",
   "metadata": {
    "hidden": true
   },
   "source": [
    "O IBGE utiliza para o cálculo de área a Projeção Equivalente de Albers, que tem\n",
    "como característica principal a equivalência em área. Essa projeção é formada por um\n",
    "cone ao redor do globo, sob o qual as feições da superfície terrestre são projetadas. O\n",
    "cone intercepta o globo em dois paralelos padrão, com os meridianos formando linhas\n",
    "retas com a origem em um ponto central na geratriz do cone, enquanto os paralelos\n",
    "formam círculos concêntricos em torno deste ponto.\n",
    "\n",
    "Os parâmetros da projeção adotada são:\n",
    "\n",
    "* Meridiano Central -54º\n",
    "* Latitude de Origem -12º\n",
    "* 1º Paralelo Padrão -2º\n",
    "* 2º Paralelo Padrão -22º\n",
    "* Origem E: 5.000.000\n",
    "* Origem N: 10.000.000\n",
    "* Área de abrangência:\n",
    "    - canto inferior esquerdo (E, N): 2.800.000, 7.350.000\n",
    "    - canto superior direito (E, N): 8.210.000, 12.200.000\n",
    "\n",
    "O Datum horizontal adotado é o **SIRGAS2000**.\n",
    "\n",
    "Infelizmente a Projeção de Albers com os parâmetros do IBGE não possuem um\n",
    "código EPSG (sigla para “European Petroleum Survey Group”) definido que possa ser\n",
    "facilmente encontrado e utilizado nos softwares de geoprocessamento.\n",
    "\n",
    "*Referência: [Informações técnicas e legais para a utilização dos dados publicados - IBGE, 2023](biblioteca.ibge.gov.br/index.php/biblioteca-catalogo?view=detalhes&id=2101998). \n",
    "Acesso em novembro de 2024.*"
   ]
  },
  {
   "cell_type": "markdown",
   "metadata": {
    "hidden": true
   },
   "source": [
    "**Formato WKT:**"
   ]
  },
  {
   "cell_type": "code",
   "execution_count": null,
   "metadata": {
    "hidden": true,
    "scrolled": true
   },
   "outputs": [],
   "source": [
    "PROJCS[\"Conica_Equivalente_de_Albers_Brasil\",\n",
    " GEOGCS[\"GCS_SIRGAS2000\",\n",
    " DATUM[\"D_SIRGAS2000\",\n",
    " SPHEROID[\"Geodetic_Reference_System_of_1980\",6378137,298.2572221009113]],\n",
    " PRIMEM[\"Greenwich\",0],\n",
    " UNIT[\"Degree\",0.017453292519943295]],\n",
    " PROJECTION[\"Albers\"],\n",
    " PARAMETER[\"standard_parallel_1\",-2],\n",
    " PARAMETER[\"standard_parallel_2\",-22],\n",
    " PARAMETER[\"latitude_of_origin\",-12],\n",
    " PARAMETER[\"central_meridian\",-54],\n",
    " PARAMETER[\"false_easting\",5000000],\n",
    " PARAMETER[\"false_northing\",10000000],\n",
    " UNIT[\"Meter\",1]]"
   ]
  },
  {
   "cell_type": "markdown",
   "metadata": {
    "hidden": true
   },
   "source": [
    "**Formato Proj4:**"
   ]
  },
  {
   "cell_type": "code",
   "execution_count": null,
   "metadata": {
    "hidden": true,
    "scrolled": true
   },
   "outputs": [],
   "source": [
    "\"+proj=aea +lat_0=-12 +lon_0=-54 +lat_1=-2 +lat_2=-22 +x_0=5000000 +y_0=10000000+ellps=GRS80 +units=m +no_defs\""
   ]
  },
  {
   "cell_type": "markdown",
   "metadata": {
    "hidden": true
   },
   "source": [
    "#### **Criar Sistema de coordenadas personalizado**"
   ]
  },
  {
   "cell_type": "code",
   "execution_count": null,
   "metadata": {
    "hidden": true,
    "scrolled": true
   },
   "outputs": [],
   "source": [
    "albers_brasil = arcpy.SpatialReference()\n",
    "albers_brasil.loadFromString(\"\"\"\n",
    "PROJCS[\"Conica_Equivalente_de_Albers_Brasil\",\n",
    "    GEOGCS[\"GCS_SIRGAS2000\",\n",
    "        DATUM[\"D_SIRGAS2000\",\n",
    "            SPHEROID[\"Geodetic_Reference_System_of_1980\",6378137,298.2572221009113]],\n",
    "        PRIMEM[\"Greenwich\",0],\n",
    "        UNIT[\"Degree\",0.017453292519943295]],\n",
    "    PROJECTION[\"Albers\"],\n",
    "    PARAMETER[\"standard_parallel_1\",-2],\n",
    "    PARAMETER[\"standard_parallel_2\",-22],\n",
    "    PARAMETER[\"latitude_of_origin\",-12],\n",
    "    PARAMETER[\"central_meridian\",-54],\n",
    "    PARAMETER[\"false_easting\",5000000],\n",
    "    PARAMETER[\"false_northing\",10000000],\n",
    "    UNIT[\"Meter\",1]]\n",
    "\"\"\")"
   ]
  },
  {
   "cell_type": "code",
   "execution_count": null,
   "metadata": {
    "hidden": true,
    "scrolled": true
   },
   "outputs": [],
   "source": [
    "albers_brasil = arcpy.Describe(MUN).spatialReference"
   ]
  },
  {
   "cell_type": "markdown",
   "metadata": {
    "hidden": true
   },
   "source": [
    "#### Projetar"
   ]
  },
  {
   "cell_type": "code",
   "execution_count": null,
   "metadata": {
    "hidden": true,
    "scrolled": true
   },
   "outputs": [],
   "source": [
    "arcpy.management.Project(CAR, \n",
    "                         \"CAR_prj\", \n",
    "                         albers_brasil\n",
    "                        )"
   ]
  },
  {
   "cell_type": "code",
   "execution_count": null,
   "metadata": {
    "hidden": true
   },
   "outputs": [],
   "source": [
    "CAR = \"CAR_prj\""
   ]
  },
  {
   "cell_type": "markdown",
   "metadata": {
    "hidden": true
   },
   "source": [
    "### Área total do imóvel CAR"
   ]
  },
  {
   "cell_type": "markdown",
   "metadata": {
    "hidden": true
   },
   "source": [
    "#### <mark>Onde Estamos</mark>?"
   ]
  },
  {
   "cell_type": "code",
   "execution_count": null,
   "metadata": {
    "hidden": true,
    "scrolled": true
   },
   "outputs": [],
   "source": [
    "CAR = \"CAR_prj\""
   ]
  },
  {
   "cell_type": "markdown",
   "metadata": {
    "hidden": true
   },
   "source": [
    "#### Adicionar nova coluna"
   ]
  },
  {
   "cell_type": "code",
   "execution_count": null,
   "metadata": {
    "hidden": true,
    "scrolled": true
   },
   "outputs": [],
   "source": [
    "arcpy.management.AddField(CAR,\n",
    "                          \"AREAha\",\n",
    "                          \"DOUBLE\"\n",
    "                         )"
   ]
  },
  {
   "cell_type": "markdown",
   "metadata": {
    "hidden": true
   },
   "source": [
    "#### Calcular geometria : área em hectares"
   ]
  },
  {
   "cell_type": "code",
   "execution_count": null,
   "metadata": {
    "hidden": true,
    "scrolled": true
   },
   "outputs": [],
   "source": [
    "arcpy.management.CalculateField(CAR,\n",
    "                                \"AREAha\", \n",
    "                                \"round(!Shape.area@HECTARES!,4)\", \n",
    "                                \"PYTHON\")"
   ]
  },
  {
   "cell_type": "markdown",
   "metadata": {
    "heading_collapsed": true
   },
   "source": [
    "## Dados Municípios"
   ]
  },
  {
   "cell_type": "markdown",
   "metadata": {
    "hidden": true
   },
   "source": [
    "#### <mark>Onde Estamos</mark>?"
   ]
  },
  {
   "cell_type": "markdown",
   "metadata": {
    "hidden": true
   },
   "source": [
    "CAR = \"CAR_prj\""
   ]
  },
  {
   "cell_type": "markdown",
   "metadata": {
    "hidden": true
   },
   "source": [
    "#### **Importar Municípios**"
   ]
  },
  {
   "cell_type": "markdown",
   "metadata": {
    "hidden": true
   },
   "source": [
    "Referência: [Informações técnicas e legais para a utilização dos dados publicados (IBGE, 2023)](https://biblioteca.ibge.gov.br/index.php/biblioteca-catalogo?view=detalhes&id=2101998). Acesso em novembro de 2024."
   ]
  },
  {
   "cell_type": "code",
   "execution_count": null,
   "metadata": {
    "hidden": true,
    "scrolled": true
   },
   "outputs": [],
   "source": [
    "arcpy.FeatureClassToFeatureClass_conversion(r\"D:\\CAR_2025\\CAR_R\\dados_limpos\\municipios_unzipped\\municipios_prj.shp\",\n",
    "                                            GDB,\n",
    "                                            \"MUN\")"
   ]
  },
  {
   "cell_type": "markdown",
   "metadata": {
    "hidden": true
   },
   "source": [
    "#### **Colunas e Estrutura do Vetor Municipios**"
   ]
  },
  {
   "cell_type": "code",
   "execution_count": null,
   "metadata": {
    "hidden": true,
    "scrolled": true
   },
   "outputs": [],
   "source": [
    "MUN = \"MUN\"\n",
    "\n",
    "fields = arcpy.ListFields(MUN)\n",
    "\n",
    "for field in fields:\n",
    "    print(f\"Nome: {field.name}, Tipo: {field.type}\")"
   ]
  },
  {
   "cell_type": "markdown",
   "metadata": {
    "hidden": true
   },
   "source": [
    "#### **Recuperar Código Municípios de acordo com IBGE**"
   ]
  },
  {
   "cell_type": "code",
   "execution_count": null,
   "metadata": {
    "hidden": true,
    "scrolled": true
   },
   "outputs": [],
   "source": [
    "arcpy.AddField_management(CAR, \n",
    "                          \"CD_MUN\", \n",
    "                          \"TEXT\", \n",
    "                          field_length=7)"
   ]
  },
  {
   "cell_type": "code",
   "execution_count": null,
   "metadata": {
    "hidden": true,
    "scrolled": true
   },
   "outputs": [],
   "source": [
    "with arcpy.da.UpdateCursor(CAR, [\"cod_imovel\", \"CD_MUN\"]) as cursor:\n",
    "    for row in cursor:\n",
    "\n",
    "        cod_imovel_value = row[0]\n",
    "        cd_mun_value = cod_imovel_value[3:10]  # pega os 7 caracteres a partir da posição 4\n",
    "        \n",
    "        row[1] = cd_mun_value\n",
    "        cursor.updateRow(row) \n",
    "\n",
    "print(\"Campo 'CD_MUN' preenchido com sucesso!\")"
   ]
  },
  {
   "cell_type": "code",
   "execution_count": null,
   "metadata": {
    "hidden": true,
    "scrolled": true
   },
   "outputs": [],
   "source": [
    "fields = arcpy.ListFields(CAR)\n",
    "\n",
    "for field in fields:\n",
    "    print(f\"Nome: {field.name}, Tipo: {field.type}\")"
   ]
  },
  {
   "cell_type": "markdown",
   "metadata": {
    "hidden": true
   },
   "source": [
    "#### **Join de Municipios para base CAR**"
   ]
  },
  {
   "cell_type": "code",
   "execution_count": null,
   "metadata": {
    "hidden": true,
    "scrolled": true
   },
   "outputs": [],
   "source": [
    "arcpy.management.JoinField(\n",
    "    in_data    = CAR,                    # Tabela de entrada (CAR)\n",
    "    in_field   = \"CD_MUN\",               # Campo em CAR para a junção\n",
    "    join_table = MUN,                    # Tabela de junção (MUN)\n",
    "    join_field = \"CD_MUN\",               # Campo em MUN para a junção\n",
    "    fields     = [\"NM_MUN\", \"SIGLA_UF\"]  # Campos de MUN a serem adicionados em CAR\n",
    ")"
   ]
  },
  {
   "cell_type": "markdown",
   "metadata": {
    "hidden": true
   },
   "source": [
    "#### Exportar Tabela CAR"
   ]
  },
  {
   "cell_type": "code",
   "execution_count": null,
   "metadata": {
    "hidden": true,
    "scrolled": true
   },
   "outputs": [],
   "source": [
    "TAB = \"Tabela_Rel_MUN\"\n",
    "\n",
    "arcpy.conversion.ExportTable(\n",
    "    CAR,\n",
    "    f\"{GDB}\\\\{TAB}\")"
   ]
  },
  {
   "cell_type": "markdown",
   "metadata": {
    "hidden": true
   },
   "source": [
    "#### **Limpar CAR**"
   ]
  },
  {
   "cell_type": "code",
   "execution_count": null,
   "metadata": {
    "hidden": true,
    "scrolled": true
   },
   "outputs": [],
   "source": [
    "arcpy.DeleteField_management(CAR, [\"NM_MUN\", \"SIGLA_UF\"])"
   ]
  },
  {
   "cell_type": "markdown",
   "metadata": {},
   "source": [
    "# Processamento "
   ]
  },
  {
   "cell_type": "markdown",
   "metadata": {
    "heading_collapsed": true
   },
   "source": [
    "## Amazonia Legal?"
   ]
  },
  {
   "cell_type": "markdown",
   "metadata": {
    "hidden": true
   },
   "source": [
    "#### <mark>Onde Estamos</mark>?"
   ]
  },
  {
   "cell_type": "code",
   "execution_count": null,
   "metadata": {
    "hidden": true,
    "scrolled": true
   },
   "outputs": [],
   "source": [
    "CAR = \"CAR_prj\" # CAR merged, limpo, com CD_MUN, geometria corrigida, reprojetado, área total (ha)"
   ]
  },
  {
   "cell_type": "markdown",
   "metadata": {
    "hidden": true
   },
   "source": [
    "#### Importar AL"
   ]
  },
  {
   "cell_type": "code",
   "execution_count": null,
   "metadata": {
    "hidden": true,
    "scrolled": true
   },
   "outputs": [],
   "source": [
    "arcpy.FeatureClassToFeatureClass_conversion(r\"D:\\CAR_2025\\CAR_R\\dados_limpos\\amazonia_legal_unzipped\\amazonia_legal_prj.shp\",\n",
    "                                            GDB,\n",
    "                                            \"AL\")"
   ]
  },
  {
   "cell_type": "markdown",
   "metadata": {
    "hidden": true
   },
   "source": [
    "#### **Colunas e Estrutura do Vetor Amazônia Legal**"
   ]
  },
  {
   "cell_type": "code",
   "execution_count": null,
   "metadata": {
    "hidden": true,
    "scrolled": true
   },
   "outputs": [],
   "source": [
    "AL = \"AL\"\n",
    "\n",
    "fields = arcpy.ListFields(AL)\n",
    "for field in fields:\n",
    "    print(f\"Nome: {field.name}, Tipo: {field.type}\")"
   ]
  },
  {
   "cell_type": "code",
   "execution_count": null,
   "metadata": {
    "hidden": true,
    "scrolled": true
   },
   "outputs": [],
   "source": [
    "arcpy.management.AddField(CAR,\n",
    "                          \"AL\",\n",
    "                          \"SHORT\"\n",
    "                         )"
   ]
  },
  {
   "cell_type": "markdown",
   "metadata": {
    "hidden": true
   },
   "source": [
    "#### Select By Location"
   ]
  },
  {
   "cell_type": "code",
   "execution_count": null,
   "metadata": {
    "hidden": true,
    "scrolled": true
   },
   "outputs": [],
   "source": [
    "arcpy.management.SelectLayerByLocation(\n",
    "    in_layer        = CAR,               # Camada onde as feições serão selecionadas\n",
    "    overlap_type    = \"INTERSECT\",    \n",
    "    select_features = AL,                # Camada usada para a seleção\n",
    "    selection_type  = \"NEW_SELECTION\")"
   ]
  },
  {
   "cell_type": "markdown",
   "metadata": {
    "hidden": true
   },
   "source": [
    "Camadas que intersectam os limites da Amazônia Legal serão preenchidas com **1**"
   ]
  },
  {
   "cell_type": "code",
   "execution_count": null,
   "metadata": {
    "hidden": true,
    "scrolled": true
   },
   "outputs": [],
   "source": [
    "arcpy.management.CalculateField(\n",
    "    CAR,\n",
    "    \"AL\",\n",
    "    expression      = 1,             \n",
    "    expression_type = \"PYTHON3\"\n",
    ")"
   ]
  },
  {
   "cell_type": "code",
   "execution_count": null,
   "metadata": {
    "hidden": true,
    "scrolled": true
   },
   "outputs": [],
   "source": [
    "arcpy.management.SelectLayerByLocation(\n",
    "    in_layer        = CAR,              \n",
    "    overlap_type    = \"INTERSECT\",    \n",
    "    select_features = AL,                \n",
    "    selection_type  = \"SWITCH_SELECTION\")"
   ]
  },
  {
   "cell_type": "markdown",
   "metadata": {
    "hidden": true
   },
   "source": [
    "As demais serão preenchidas com **0**"
   ]
  },
  {
   "cell_type": "code",
   "execution_count": null,
   "metadata": {
    "hidden": true,
    "scrolled": true
   },
   "outputs": [],
   "source": [
    "arcpy.management.CalculateField(\n",
    "    CAR,\n",
    "    \"AL\",\n",
    "    expression      = 0,             \n",
    "    expression_type = \"PYTHON3\"\n",
    ")"
   ]
  },
  {
   "cell_type": "markdown",
   "metadata": {
    "hidden": true
   },
   "source": [
    "#### Limpar a seleção"
   ]
  },
  {
   "cell_type": "code",
   "execution_count": null,
   "metadata": {
    "hidden": true,
    "scrolled": true
   },
   "outputs": [],
   "source": [
    "arcpy.management.SelectLayerByAttribute(CAR, \"CLEAR_SELECTION\")"
   ]
  },
  {
   "cell_type": "markdown",
   "metadata": {
    "hidden": true
   },
   "source": [
    "#### Exportar Tabela CAR"
   ]
  },
  {
   "cell_type": "code",
   "execution_count": null,
   "metadata": {
    "hidden": true,
    "scrolled": true
   },
   "outputs": [],
   "source": [
    "TAB = \"Tabela_Rel_AL_AreaCAR\"\n",
    "\n",
    "arcpy.conversion.ExportTable(\n",
    "    CAR,\n",
    "    f\"{GDB}\\\\{TAB}\")"
   ]
  },
  {
   "cell_type": "markdown",
   "metadata": {
    "heading_collapsed": true
   },
   "source": [
    "## Qual o Bioma?"
   ]
  },
  {
   "cell_type": "markdown",
   "metadata": {
    "hidden": true
   },
   "source": [
    "#### <mark>Onde Estamos</mark>?"
   ]
  },
  {
   "cell_type": "code",
   "execution_count": null,
   "metadata": {
    "hidden": true,
    "scrolled": true
   },
   "outputs": [],
   "source": [
    "CAR = \"CAR_prj\" # CAR merged, limpo, com CD_MUN, geometria corrigida, reprojetado, área total (ha), AL"
   ]
  },
  {
   "cell_type": "markdown",
   "metadata": {
    "hidden": true
   },
   "source": [
    "#### **Importar Biomas**"
   ]
  },
  {
   "cell_type": "code",
   "execution_count": null,
   "metadata": {
    "hidden": true,
    "scrolled": true
   },
   "outputs": [],
   "source": [
    "arcpy.FeatureClassToFeatureClass_conversion(r\"D:\\CAR_2025\\CAR_R\\dados_limpos\\biomas_unzipped\\bioma_prj.shp\",  # resultado Etapa 1\n",
    "                                            GDB,\n",
    "                                            \"BIOMA\")"
   ]
  },
  {
   "cell_type": "markdown",
   "metadata": {
    "hidden": true
   },
   "source": [
    "#### **Colunas e Estrutura do Vetor Bioma**"
   ]
  },
  {
   "cell_type": "code",
   "execution_count": null,
   "metadata": {
    "hidden": true,
    "scrolled": true
   },
   "outputs": [],
   "source": [
    "BIOMA = \"BIOMA\"\n",
    "\n",
    "fields = arcpy.ListFields(BIOMA)\n",
    "for field in fields:\n",
    "    print(f\"Nome: {field.name}, Tipo: {field.type}\")\n",
    "    \n",
    "fields = arcpy.ListFields(CAR)\n",
    "for field in fields:\n",
    "    print(f\"Nome: {field.name}, Tipo: {field.type}\")"
   ]
  },
  {
   "cell_type": "markdown",
   "metadata": {
    "hidden": true
   },
   "source": [
    "#### Spatial Join"
   ]
  },
  {
   "cell_type": "code",
   "execution_count": null,
   "metadata": {
    "hidden": true,
    "scrolled": true
   },
   "outputs": [],
   "source": [
    "field_mappings = arcpy.FieldMappings()\n",
    "\n",
    "# Adiciona o campo \"cod_imovel\" de CAR\n",
    "cod_imovel_field_map = arcpy.FieldMap()\n",
    "cod_imovel_field_map.addInputField(CAR, \"cod_imovel\")\n",
    "field_mappings.addFieldMap(cod_imovel_field_map)\n",
    "\n",
    "# Adiciona o campo \"Bioma\" de BIOMA\n",
    "bioma_field_map = arcpy.FieldMap()\n",
    "bioma_field_map.addInputField(BIOMA, \"Bioma\")\n",
    "field_mappings.addFieldMap(bioma_field_map)"
   ]
  },
  {
   "cell_type": "code",
   "execution_count": null,
   "metadata": {
    "hidden": true,
    "scrolled": true
   },
   "outputs": [],
   "source": [
    "arcpy.analysis.SpatialJoin(\n",
    "    target_features   = CAR, \n",
    "    join_features     = BIOMA, \n",
    "    out_feature_class = \"CAR_BIOMA_spatial_join\", \n",
    "    join_operation    = \"JOIN_ONE_TO_ONE\", \n",
    "    join_type         = \"KEEP_ALL\", \n",
    "    field_mapping     = field_mappings, \n",
    "    match_option      = \"INTERSECT\")"
   ]
  },
  {
   "cell_type": "markdown",
   "metadata": {
    "hidden": true
   },
   "source": [
    "#### Join"
   ]
  },
  {
   "cell_type": "code",
   "execution_count": null,
   "metadata": {
    "hidden": true,
    "scrolled": true
   },
   "outputs": [],
   "source": [
    "CAR = \"CAR_prj\" # CAR merged, limpo, com CD_MUN, geometria corrigida, reprojetado, área total (ha), AL\n",
    "CAR_BIOMA_spatial_join = \"CAR_BIOMA_spatial_join\""
   ]
  },
  {
   "cell_type": "code",
   "execution_count": null,
   "metadata": {
    "hidden": true,
    "scrolled": true
   },
   "outputs": [],
   "source": [
    "arcpy.management.JoinField(\n",
    "    in_data    = CAR, \n",
    "    in_field   = \"cod_imovel\", \n",
    "    join_table = CAR_BIOMA_spatial_join, \n",
    "    join_field = \"cod_imovel\", \n",
    "    fields     = [\"Bioma\"])"
   ]
  },
  {
   "cell_type": "markdown",
   "metadata": {
    "heading_collapsed": true
   },
   "source": [
    "## Reserva Legal Requerida: Artigo 12 do Código Florestal"
   ]
  },
  {
   "cell_type": "markdown",
   "metadata": {
    "hidden": true
   },
   "source": [
    "#### <mark>Onde Estamos</mark>?"
   ]
  },
  {
   "cell_type": "code",
   "execution_count": null,
   "metadata": {
    "hidden": true,
    "scrolled": true
   },
   "outputs": [],
   "source": [
    "CAR = \"CAR_prj\" # CAR merged, com CD_MUN, geometria corrigida, reprojetado, área total (ha), AL, Bioma"
   ]
  },
  {
   "cell_type": "markdown",
   "metadata": {
    "hidden": true
   },
   "source": [
    "Os percentuais de Reserva Legal (RL) na Amazônia Legal não dependem apenas dos limites do bioma Amazônia ou do bioma Cerrado, mas sim das fitofisionomias presentes no imóvel. \n",
    "\n",
    "O **Art. 12 do Código Florestal** determina que os percentuais mínimos de RL na Amazônia Legal são:\n",
    " \n",
    "* **80%** para áreas de **florestas**.\n",
    "* **35%** para áreas de **cerrado**.\n",
    "* **20%** para áreas de **campos gerais**.\n",
    "\n",
    "Para imóveis com mais de uma fitofisionomia, os percentuais devem ser aplicados **separadamente** para cada formação."
   ]
  },
  {
   "cell_type": "markdown",
   "metadata": {
    "hidden": true
   },
   "source": [
    "#### **Amazônia Legal? Sim**"
   ]
  },
  {
   "cell_type": "code",
   "execution_count": null,
   "metadata": {
    "hidden": true,
    "scrolled": true
   },
   "outputs": [],
   "source": [
    "sql_AL = \"AL = 1\"\n",
    "\n",
    "arcpy.conversion.ExportFeatures(CAR, \n",
    "                                f\"{GDB}/CAR_AL\", \n",
    "                                sql_AL, \n",
    "                                \"NOT_USE_ALIAS\")"
   ]
  },
  {
   "cell_type": "markdown",
   "metadata": {
    "hidden": true
   },
   "source": [
    "#### **Amazônia Legal? Não**"
   ]
  },
  {
   "cell_type": "code",
   "execution_count": null,
   "metadata": {
    "hidden": true,
    "scrolled": true
   },
   "outputs": [],
   "source": [
    "sql_nAL = \"AL <> 1 OR AL IS NULL\"\n",
    "\n",
    "arcpy.conversion.ExportFeatures(CAR, \n",
    "                                f\"{GDB}/CAR_nAL\", \n",
    "                                sql_nAL, \n",
    "                                \"NOT_USE_ALIAS\")"
   ]
  },
  {
   "cell_type": "markdown",
   "metadata": {
    "hidden": true
   },
   "source": [
    "### Reserva Legal Requerida - Fora da Amazônia Legal"
   ]
  },
  {
   "cell_type": "markdown",
   "metadata": {
    "hidden": true
   },
   "source": [
    "#### <mark>Onde Paramos?</mark> "
   ]
  },
  {
   "cell_type": "code",
   "execution_count": null,
   "metadata": {
    "hidden": true,
    "scrolled": true
   },
   "outputs": [],
   "source": [
    "# CAR merged, limpo, com CD_MUN, geometria corrigida, reprojetado, área total (ha), AL, Bioma\n",
    "CAR     = \"CAR_prj\" \n",
    "\n",
    "# Imóveis na Amazônia Legal e fora da Amazônia Legal serão tratados separadamente a partir daqui.\n",
    "# CAR merged, limpo, com CD_MUN, geometria corrigida, reprojetado, área total (ha), AL, Bioma\n",
    "CAR_AL  = \"CAR_AL\"  # in  AL\n",
    "CAR_nAL = \"CAR_nAL\" # out AL"
   ]
  },
  {
   "cell_type": "markdown",
   "metadata": {
    "hidden": true
   },
   "source": [
    "Art. 12. Todo imóvel rural deve manter área com cobertura de vegetação nativa, a título de Reserva Legal, sem prejuízo da aplicação das normas sobre as Áreas de Preservação Permanente, observados os seguintes percentuais mínimos em relação à área do imóvel*, excetuados os casos previstos no art. 68 desta LeiLei nº 12.727, de 2012)*:\n",
    "\n",
    "I - localizado na Amazônia Legal:\n",
    "\n",
    "a. **80%** no imóvel situado em área de **florestas**.\n",
    "\n",
    "b. **35%** no imóvel situado em área de **cerrado**.\n",
    "\n",
    "c. **20%** no imóvel situado em área de **campos gerais**.\n",
    "\n",
    "<mark>II - localizado nas demais regiões do País: **20%**.</mark>\n",
    "\n",
    "§ 2º O percentual de Reserva Legal em imóvel situado em área de formações florestais, de cerrado ou de campos gerais na Amazônia Legal será definido considerando separadamente os índices contidos nas alíneas a, b e c do inciso I do caput ."
   ]
  },
  {
   "cell_type": "markdown",
   "metadata": {
    "hidden": true
   },
   "source": [
    "#### Percentual Requerido = 20%"
   ]
  },
  {
   "cell_type": "code",
   "execution_count": null,
   "metadata": {
    "hidden": true,
    "scrolled": true
   },
   "outputs": [],
   "source": [
    "arcpy.management.AddField(CAR_nAL,\n",
    "                          \"ARL\",\n",
    "                          \"DOUBLE\"\n",
    "                         )"
   ]
  },
  {
   "cell_type": "code",
   "execution_count": null,
   "metadata": {
    "hidden": true,
    "scrolled": true
   },
   "outputs": [],
   "source": [
    "arcpy.management.CalculateField(CAR_nAL,\n",
    "                                \"ARL\", \n",
    "                                \"0.2\", \n",
    "                                \"PYTHON3\")"
   ]
  },
  {
   "cell_type": "code",
   "execution_count": null,
   "metadata": {
    "hidden": true,
    "scrolled": true
   },
   "outputs": [],
   "source": [
    "arcpy.management.AddField(CAR_nAL,\n",
    "                          \"RLha\",\n",
    "                          \"DOUBLE\"\n",
    "                         )"
   ]
  },
  {
   "cell_type": "code",
   "execution_count": null,
   "metadata": {
    "hidden": true,
    "scrolled": true
   },
   "outputs": [],
   "source": [
    "arcpy.management.CalculateField(CAR_nAL,\n",
    "                                \"RLha\", \n",
    "                                \"round(!AREAha!*!ARL!,4)\", \n",
    "                                \"PYTHON3\")"
   ]
  },
  {
   "cell_type": "markdown",
   "metadata": {
    "hidden": true
   },
   "source": [
    "### Dados Fitofisionomia - CAR na Amazônia Legal "
   ]
  },
  {
   "cell_type": "markdown",
   "metadata": {
    "hidden": true
   },
   "source": [
    "#### <mark>Onde Paramos?</mark> "
   ]
  },
  {
   "cell_type": "code",
   "execution_count": null,
   "metadata": {
    "hidden": true,
    "scrolled": true
   },
   "outputs": [],
   "source": [
    "# CAR merged, limpo, com CD_MUN, geometria corrigida, reprojetado, área total (ha), AL, Bioma\n",
    "CAR     = \"CAR_prj\" \n",
    "\n",
    "# CAR merged, limpo, com CD_MUN, geometria corrigida, reprojetado, área total (ha), AL, Bioma\n",
    "CAR_nAL = \"CAR_nAL\" # out AL / com ARL, RL\n",
    "CAR_AL  = \"CAR_AL\"  # in  AL "
   ]
  },
  {
   "cell_type": "markdown",
   "metadata": {
    "hidden": true
   },
   "source": [
    "#### **Importar Fitofisionomia simplificado**"
   ]
  },
  {
   "cell_type": "code",
   "execution_count": null,
   "metadata": {
    "hidden": true,
    "scrolled": true
   },
   "outputs": [],
   "source": [
    "arcpy.FeatureClassToFeatureClass_conversion(r\"D:\\CAR_2025\\CAR_R\\dados_limpos\\fitofisionomia_unzipped\\fitofisionomia_prj_final.shp\",\n",
    "                                            GDB,\n",
    "                                            \"FITO\")"
   ]
  },
  {
   "cell_type": "markdown",
   "metadata": {
    "hidden": true
   },
   "source": [
    "#### Colunas e Estrutura do Vetor Fitofisionomia Simplificado*"
   ]
  },
  {
   "cell_type": "code",
   "execution_count": null,
   "metadata": {
    "hidden": true,
    "scrolled": true
   },
   "outputs": [],
   "source": [
    "FITO = \"FITO\"\n",
    "\n",
    "fields = arcpy.ListFields(FITO)\n",
    "\n",
    "for field in fields:\n",
    "    print(f\"Nome: {field.name}, Tipo: {field.type}\")"
   ]
  },
  {
   "cell_type": "markdown",
   "metadata": {
    "hidden": true
   },
   "source": [
    "#### Intersection"
   ]
  },
  {
   "cell_type": "code",
   "execution_count": null,
   "metadata": {
    "hidden": true,
    "scrolled": true
   },
   "outputs": [],
   "source": [
    "arcpy.analysis.PairwiseIntersect(\n",
    "    in_features       = [CAR, BIOMA], \n",
    "    out_feature_class = \"CAR_AL_FITO\")"
   ]
  },
  {
   "cell_type": "markdown",
   "metadata": {
    "hidden": true
   },
   "source": [
    "#### **Dissolve**"
   ]
  },
  {
   "cell_type": "code",
   "execution_count": null,
   "metadata": {
    "hidden": true,
    "scrolled": true
   },
   "outputs": [],
   "source": [
    "CAR_AL_FITO = \"CAR_AL_FITO\""
   ]
  },
  {
   "cell_type": "code",
   "execution_count": null,
   "metadata": {
    "hidden": true,
    "scrolled": true
   },
   "outputs": [],
   "source": [
    "arcpy.analysis.PairwiseDissolve(\n",
    "    in_features       = CAR_AL_FITO, \n",
    "    out_feature_class = \"CAR_AL_FITO_dissolve\", \n",
    "    dissolve_field    = [\"cod_imovel\", \"legenda_1\", \"Bioma\"],  \n",
    "    multi_part        = \"MULTI_PART\" #\"SINGLE_PART\" \n",
    ")"
   ]
  },
  {
   "cell_type": "markdown",
   "metadata": {
    "hidden": true
   },
   "source": [
    "### Reserva Legal Requerida - Amazônia Legal"
   ]
  },
  {
   "cell_type": "markdown",
   "metadata": {
    "hidden": true
   },
   "source": [
    "#### <mark>Onde Paramos?</mark>"
   ]
  },
  {
   "cell_type": "code",
   "execution_count": null,
   "metadata": {
    "hidden": true,
    "scrolled": true
   },
   "outputs": [],
   "source": [
    "# CAR merged, limpo, com CD_MUN, geometria corrigida, reprojetado, área total (ha), AL, Bioma\n",
    "CAR     = \"CAR_prj\" \n",
    "\n",
    "# CAR merged, limpo, com CD_MUN, geometria corrigida, reprojetado, área total (ha), AL, Bioma\n",
    "CAR_nAL = \"CAR_nAL\" # out AL / com ARL, RL\n",
    "\n",
    "CAR_AL      = \"CAR_AL\"  # in  AL \n",
    "CAR_AL_FITO = \"CAR_AL_FITO_dissolve\" # cod_imovel + legenda_1 + bioma"
   ]
  },
  {
   "cell_type": "markdown",
   "metadata": {
    "hidden": true
   },
   "source": [
    "Os percentuais de Reserva Legal (RL) na Amazônia Legal não dependem apenas dos limites do bioma Amazônia ou do bioma Cerrado, mas sim das fitofisionomias presentes no imóvel. \n",
    "\n",
    "O **Art. 12 do Código Florestal** determina que os percentuais mínimos de RL na Amazônia Legal são:\n",
    " \n",
    "* **80%** no imóvel situado em área de **florestas**.\n",
    "* **35%** no imóvel situado em área de **cerrado**.\n",
    "* **20%** no imóvel situado em área de **campos gerais**.\n",
    "\n",
    "Para imóveis com mais de uma fitofisionomia, os percentuais devem ser aplicados **separadamente** para cada formação."
   ]
  },
  {
   "cell_type": "markdown",
   "metadata": {
    "hidden": true
   },
   "source": [
    "#### Percentual Requerido"
   ]
  },
  {
   "cell_type": "code",
   "execution_count": null,
   "metadata": {
    "hidden": true,
    "scrolled": true
   },
   "outputs": [],
   "source": [
    "arcpy.management.AddField(CAR_AL_FITO,\n",
    "                          \"ARL\",\n",
    "                          \"DOUBLE\"\n",
    "                         )"
   ]
  },
  {
   "cell_type": "code",
   "execution_count": null,
   "metadata": {
    "hidden": true,
    "scrolled": true
   },
   "outputs": [],
   "source": [
    "code_block = \"\"\"\n",
    "def calcular(legenda_1, Bioma):\n",
    "    if legenda_1 == \"floresta\":\n",
    "        return 0.80\n",
    "    elif legenda_1 == \"savana\":\n",
    "        return 0.35\n",
    "    elif legenda_1 == \"campinarana\":\n",
    "        return 0.20\n",
    "    elif legenda_1 == \"outro\":\n",
    "        if Bioma == \"Amazônia\":\n",
    "            return 0.80\n",
    "        elif Bioma in [\"Cerrado\", \"Pantanal\"]:\n",
    "            return 0.35\n",
    "    return None  # Retorna None se nenhuma condição for atendida\n",
    "\"\"\""
   ]
  },
  {
   "cell_type": "code",
   "execution_count": null,
   "metadata": {
    "hidden": true,
    "scrolled": true
   },
   "outputs": [],
   "source": [
    "arcpy.management.CalculateField(\n",
    "    in_table        = CAR_AL_FITO,\n",
    "    field           = \"ARL\",\n",
    "    expression      = \"calcular(!legenda_1!, !Bioma!)\",\n",
    "    expression_type = \"PYTHON3\",\n",
    "    code_block      = code_block\n",
    ")"
   ]
  },
  {
   "cell_type": "markdown",
   "metadata": {
    "hidden": true
   },
   "source": [
    "#### Area Fitofisionomia"
   ]
  },
  {
   "cell_type": "code",
   "execution_count": null,
   "metadata": {
    "hidden": true,
    "scrolled": true
   },
   "outputs": [],
   "source": [
    "arcpy.management.AddField(CAR_AL_FITO,\n",
    "                          \"AREAfitoha\",\n",
    "                          \"DOUBLE\"\n",
    "                         )"
   ]
  },
  {
   "cell_type": "code",
   "execution_count": null,
   "metadata": {
    "hidden": true,
    "scrolled": true
   },
   "outputs": [],
   "source": [
    "arcpy.management.CalculateField(CAR_AL_FITO,\n",
    "                                \"AREAfitoha\", \n",
    "                                \"round(!Shape.area@HECTARES!,4)\", \n",
    "                                \"PYTHON\")"
   ]
  },
  {
   "cell_type": "markdown",
   "metadata": {
    "hidden": true
   },
   "source": [
    "#### Área de Reserva Legal Requerida por Fitofisionomia e por Imóvel na Amazônia Legal"
   ]
  },
  {
   "cell_type": "code",
   "execution_count": null,
   "metadata": {
    "hidden": true,
    "scrolled": true
   },
   "outputs": [],
   "source": [
    "arcpy.management.AddField(CAR_AL_FITO,\n",
    "                          \"RLha\",\n",
    "                          \"DOUBLE\"\n",
    "                         )"
   ]
  },
  {
   "cell_type": "code",
   "execution_count": null,
   "metadata": {
    "hidden": true,
    "scrolled": true
   },
   "outputs": [],
   "source": [
    "arcpy.management.CalculateField(CAR_AL_FITO,\n",
    "                                \"RLha\", \n",
    "                                \"round(!AREAfitoha!*!ARL!,4)\", \n",
    "                                \"PYTHON\")"
   ]
  },
  {
   "cell_type": "markdown",
   "metadata": {
    "hidden": true
   },
   "source": [
    "#### Identificador Individual"
   ]
  },
  {
   "cell_type": "code",
   "execution_count": null,
   "metadata": {
    "hidden": true,
    "scrolled": true
   },
   "outputs": [],
   "source": [
    "arcpy.management.AddField(CAR_AL_FITO, \"ID_UNICO\", \"TEXT\")"
   ]
  },
  {
   "cell_type": "code",
   "execution_count": null,
   "metadata": {
    "hidden": true,
    "scrolled": true
   },
   "outputs": [],
   "source": [
    "with arcpy.da.UpdateCursor(CAR_AL_FITO, [\"ID_UNICO\"]) as cursor:\n",
    "    contador = 1\n",
    "    for row in cursor:\n",
    "        row[0] = f\"ID_{contador:03d}\" \n",
    "        cursor.updateRow(row)\n",
    "        contador += 1"
   ]
  },
  {
   "cell_type": "markdown",
   "metadata": {
    "heading_collapsed": true
   },
   "source": [
    "## Quantificação Vegetação Nativa e EVN "
   ]
  },
  {
   "cell_type": "markdown",
   "metadata": {
    "hidden": true
   },
   "source": [
    "### MapBiomas x CAR: na Amazônia Legal"
   ]
  },
  {
   "cell_type": "markdown",
   "metadata": {
    "hidden": true
   },
   "source": [
    "###### <mark>Onde Estamos?</mark>"
   ]
  },
  {
   "cell_type": "code",
   "execution_count": null,
   "metadata": {
    "hidden": true,
    "scrolled": true
   },
   "outputs": [],
   "source": [
    "# CAR merged, limpo, com CD_MUN, geometria corrigida, reprojetado, área total (ha), AL, Bioma\n",
    "CAR     = \"CAR_prj\" \n",
    "\n",
    "CAR_AL  = \"CAR_AL\"  # in  AL \n",
    "CAR_AL_FITO = \"CAR_AL_FITO_dissolve\" # cod_imovel + legenda_1 + bioma / com ARL, RL\n",
    "\n",
    "MBp = \"brasil_coverage_23_reclass_prj_POL\""
   ]
  },
  {
   "cell_type": "markdown",
   "metadata": {
    "hidden": true
   },
   "source": [
    "#### Tabulate Intersection"
   ]
  },
  {
   "cell_type": "code",
   "execution_count": null,
   "metadata": {
    "hidden": true,
    "scrolled": true
   },
   "outputs": [],
   "source": [
    "arcpy.analysis.TabulateIntersection(\n",
    "    in_zone_features  = CAR_AL_FITO,\n",
    "    zone_fields       = \"ID_UNICO\",\n",
    "    in_class_features = MBp,\n",
    "    out_table         = \"Tabulate_Inter_CAR_AL_MBp\",\n",
    "    class_fields      = \"gridcode\",\n",
    "    out_units         = \"HECTARES\")"
   ]
  },
  {
   "cell_type": "code",
   "execution_count": null,
   "metadata": {
    "hidden": true,
    "scrolled": true
   },
   "outputs": [],
   "source": [
    "Tabulate_Inter_CAR_AL_MBp  = \"Tabulate_Inter_CAR_AL_MBp\""
   ]
  },
  {
   "cell_type": "markdown",
   "metadata": {
    "hidden": true
   },
   "source": [
    "#### Pivot Table"
   ]
  },
  {
   "cell_type": "code",
   "execution_count": null,
   "metadata": {
    "hidden": true,
    "scrolled": true
   },
   "outputs": [],
   "source": [
    "arcpy.management.PivotTable(\n",
    "    in_table    = Tabulate_Inter_CAR_AL_MBp, \n",
    "    fields      = \"ID_UNICO\", \n",
    "    pivot_field = \"gridcode\", \n",
    "    value_field = \"AREA\", \n",
    "    out_table   = \"Tabulate_Inter_CAR_AL_MBp_pivot\")"
   ]
  },
  {
   "cell_type": "markdown",
   "metadata": {
    "hidden": true
   },
   "source": [
    "#### Null por 0"
   ]
  },
  {
   "cell_type": "code",
   "execution_count": null,
   "metadata": {
    "hidden": true,
    "scrolled": true
   },
   "outputs": [],
   "source": [
    "Tabulate_Inter_CAR_AL_MBp  = \"Tabulate_Inter_CAR_AL_MBp_pivot\""
   ]
  },
  {
   "cell_type": "code",
   "execution_count": null,
   "metadata": {
    "hidden": true,
    "scrolled": true
   },
   "outputs": [],
   "source": [
    "fieldObs = arcpy.ListFields(Tabulate_Inter_CAR_AL_MBp)  \n",
    "fieldNames = []  \n",
    "for field in fieldObs:  \n",
    "    fieldNames.append(field.name)  \n",
    "del fieldObs  \n",
    "fieldCount = len(fieldNames)  \n",
    "\n",
    "with arcpy.da.UpdateCursor(Tabulate_Inter_CAR_AL_MBp, fieldNames) as curU:  \n",
    "    for row in curU:  \n",
    "        rowU = row  \n",
    "        for field in range(fieldCount):  \n",
    "            if rowU[field] == None:  \n",
    "                rowU[field] = \"0.0\"  \n",
    "      \n",
    "      \n",
    "        curU.updateRow(rowU)\n",
    "\n",
    "del curU"
   ]
  },
  {
   "cell_type": "markdown",
   "metadata": {
    "hidden": true
   },
   "source": [
    "#### Join"
   ]
  },
  {
   "cell_type": "code",
   "execution_count": null,
   "metadata": {
    "hidden": true,
    "scrolled": true
   },
   "outputs": [],
   "source": [
    "Tabulate_Inter_CAR_AL_MBp  = \"Tabulate_Inter_CAR_AL_MBp_pivot\"\n",
    "CAR_AL_FITO = \"CAR_AL_FITO_dissolve\""
   ]
  },
  {
   "cell_type": "code",
   "execution_count": null,
   "metadata": {
    "hidden": true,
    "scrolled": true
   },
   "outputs": [],
   "source": [
    "arcpy.management.JoinField(\n",
    "    in_data    = CAR_AL_FITO, \n",
    "    in_field   = \"ID_UNICO\", \n",
    "    join_table = Tabulate_Inter_CAR_AL_MBp,\n",
    "    join_field = \"ID_UNICO\", \n",
    "    fields     = [\"gridcode1\", \"gridcode2\", \"gridcode3\", \"gridcode4\", \"gridcode5\", \"gridcode6\"])"
   ]
  },
  {
   "cell_type": "markdown",
   "metadata": {
    "hidden": true
   },
   "source": [
    "#### Dissolve"
   ]
  },
  {
   "cell_type": "code",
   "execution_count": null,
   "metadata": {
    "hidden": true,
    "scrolled": true
   },
   "outputs": [],
   "source": [
    "statistics_fields = [\n",
    "    [\"AREAfitoha\", \"SUM\"],\n",
    "    [\"RLha\"      , \"SUM\"],\n",
    "    [\"gridcode1\" , \"SUM\"],\n",
    "    [\"gridcode2\" , \"SUM\"],\n",
    "    [\"gridcode3\" , \"SUM\"],\n",
    "    [\"gridcode4\" , \"SUM\"],\n",
    "    [\"gridcode5\" , \"SUM\"],\n",
    "    [\"gridcode6\" , \"SUM\"],\n",
    "    [\"legenda_1\" ,  \"CONCATENATE\"]]"
   ]
  },
  {
   "cell_type": "code",
   "execution_count": null,
   "metadata": {
    "hidden": true,
    "scrolled": true
   },
   "outputs": [],
   "source": [
    "arcpy.analysis.PairwiseDissolve(\n",
    "    in_features       = CAR_AL_FITO, \n",
    "    out_feature_class = \"CAR_AL_FITO_MB\", \n",
    "    dissolve_field    = \"cod_imovel\", \n",
    "    statistics_fields = statistics_fields,\n",
    "    multi_part        = \"MULTI_PART\", #\"SINGLE_PART\" \n",
    "    concatenation_separator = \";\"\n",
    ")"
   ]
  },
  {
   "cell_type": "markdown",
   "metadata": {
    "hidden": true
   },
   "source": [
    "#### Ajustando Colunas: MapBiomas"
   ]
  },
  {
   "cell_type": "code",
   "execution_count": null,
   "metadata": {
    "hidden": true,
    "scrolled": true
   },
   "outputs": [],
   "source": [
    "CAR_AL_FITO_MB = \"CAR_AL_FITO_MB\""
   ]
  },
  {
   "cell_type": "code",
   "execution_count": null,
   "metadata": {
    "hidden": true,
    "scrolled": true
   },
   "outputs": [],
   "source": [
    "#---------------------------------\n",
    "arcpy.management.AddField(CAR_AL_FITO_MB,\n",
    "                          \"FITO\",\n",
    "                          \"TEXT\")\n",
    "\n",
    "#---------------------------------\n",
    "arcpy.management.AddField(CAR_AL_FITO_MB,\n",
    "                          \"FITOha\",\n",
    "                          \"DOUBLE\")\n",
    "\n",
    "#---------------------------------\n",
    "arcpy.management.AddField(CAR_AL_FITO_MB,\n",
    "                          \"RLha\",\n",
    "                          \"DOUBLE\")\n",
    "\n",
    "#---------------------------------\n",
    "arcpy.management.AddField(CAR_AL_FITO_MB,\n",
    "                          \"VNha\",\n",
    "                          \"DOUBLE\")\n",
    "\n",
    "arcpy.management.AddField(CAR_AL_FITO_MB,\n",
    "                          \"SOJAha\",\n",
    "                          \"DOUBLE\")\n",
    "\n",
    "arcpy.management.AddField(CAR_AL_FITO_MB,\n",
    "                          \"PASTOha\",\n",
    "                          \"DOUBLE\")\n",
    "\n",
    "arcpy.management.AddField(CAR_AL_FITO_MB,\n",
    "                          \"C_AGUAha\",\n",
    "                          \"DOUBLE\")\n",
    "\n",
    "arcpy.management.AddField(CAR_AL_FITO_MB,\n",
    "                          \"OUTha\",\n",
    "                          \"DOUBLE\")\n",
    "\n",
    "arcpy.management.AddField(CAR_AL_FITO_MB,\n",
    "                          \"outrAGROha\",\n",
    "                          \"DOUBLE\")"
   ]
  },
  {
   "cell_type": "code",
   "execution_count": null,
   "metadata": {
    "hidden": true,
    "scrolled": true
   },
   "outputs": [],
   "source": [
    "#---------------------------------\n",
    "arcpy.management.CalculateField(CAR_AL_FITO_MB,\n",
    "                                \"FITOha\", \n",
    "                                \"round(!SUM_AREAfitoha!,4)\", \n",
    "                                \"PYTHON3\")\n",
    "\n",
    "#---------------------------------\n",
    "arcpy.management.CalculateField(CAR_AL_FITO_MB,\n",
    "                                \"RLha\", \n",
    "                                \"round(!SUM_RLha!,4)\", \n",
    "                                \"PYTHON3\")\n",
    "\n",
    "#---------------------------------\n",
    "arcpy.management.CalculateField(CAR_AL_FITO_MB,\n",
    "                                \"VNha\", \n",
    "                                \"round(!SUM_gridcode1!,4)\", \n",
    "                                \"PYTHON3\")\n",
    "\n",
    "arcpy.management.CalculateField(CAR_AL_FITO_MB,\n",
    "                                \"C_AGUAha\", \n",
    "                                \"round(!SUM_gridcode2!,4)\", \n",
    "                                \"PYTHON3\")\n",
    "\n",
    "arcpy.management.CalculateField(CAR_AL_FITO_MB,\n",
    "                                \"SOJAha\", \n",
    "                                \"round(!SUM_gridcode3!,4)\", \n",
    "                                \"PYTHON3\")\n",
    "\n",
    "arcpy.management.CalculateField(CAR_AL_FITO_MB,\n",
    "                                \"PASTOha\", \n",
    "                                \"round(!SUM_gridcode4!,4)\", \n",
    "                                \"PYTHON3\")\n",
    "\n",
    "arcpy.management.CalculateField(CAR_AL_FITO_MB,\n",
    "                                \"outrAGROha\", \n",
    "                                \"round(!SUM_gridcode5!,4)\", \n",
    "                                \"PYTHON3\")\n",
    "\n",
    "arcpy.management.CalculateField(CAR_AL_FITO_MB,\n",
    "                                \"OUTha\", \n",
    "                                \"round(!SUM_gridcode6!,4)\", \n",
    "                                \"PYTHON3\")"
   ]
  },
  {
   "cell_type": "markdown",
   "metadata": {
    "hidden": true
   },
   "source": [
    "#### Ajustando Colunas: Fitofisionomia"
   ]
  },
  {
   "cell_type": "code",
   "execution_count": null,
   "metadata": {
    "hidden": true,
    "scrolled": true
   },
   "outputs": [],
   "source": [
    "arcpy.management.CalculateField(\n",
    "    in_table        = CAR_AL_FITO_MB,\n",
    "    field           = \"FITO\",\n",
    "    expression      = \"clean_value(!CONCATENATE_legenda_1!)\",\n",
    "    expression_type = \"PYTHON3\",\n",
    "    code_block=\"\"\"\n",
    "def clean_value(value):\n",
    "    if not value:\n",
    "        return \"\"\n",
    "    items = value.split(\";\")\n",
    "    unique_items = list(dict.fromkeys(items))\n",
    "    clean_text = \";\".join(unique_items)\n",
    "    return clean_text[1:] if clean_text.startswith(\";\") else clean_text\n",
    "\"\"\"\n",
    ")"
   ]
  },
  {
   "cell_type": "code",
   "execution_count": null,
   "metadata": {
    "hidden": true,
    "scrolled": true
   },
   "outputs": [],
   "source": [
    "fieldObs = arcpy.ListFields(CAR_AL_FITO_MB)  \n",
    "fieldNames = []  \n",
    "for field in fieldObs:  \n",
    "    fieldNames.append(field.name)  \n",
    "del fieldObs  \n",
    "fieldCount = len(fieldNames)  \n",
    "\n",
    "with arcpy.da.UpdateCursor(CAR_AL_FITO_MB, fieldNames) as curU:  \n",
    "    for row in curU:  \n",
    "        rowU = row  \n",
    "        for field in range(fieldCount):  \n",
    "            if rowU[field] == None:  \n",
    "                rowU[field] = \"0.0\"  \n",
    "      \n",
    "      \n",
    "        curU.updateRow(rowU)\n",
    "\n",
    "del curU"
   ]
  },
  {
   "cell_type": "markdown",
   "metadata": {
    "hidden": true
   },
   "source": [
    "#### Join Final"
   ]
  },
  {
   "cell_type": "code",
   "execution_count": null,
   "metadata": {
    "hidden": true,
    "scrolled": true
   },
   "outputs": [],
   "source": [
    "CAR_AL_FITO_MB = \"CAR_AL_FITO_MB\"\n",
    "CAR_AL = \"CAR_AL\" "
   ]
  },
  {
   "cell_type": "code",
   "execution_count": null,
   "metadata": {
    "hidden": true,
    "scrolled": true
   },
   "outputs": [],
   "source": [
    "arcpy.management.JoinField(\n",
    "    in_data    = CAR_AL, \n",
    "    in_field   = \"cod_imovel\", \n",
    "    join_table = CAR_AL_FITO_MB,\n",
    "    join_field = \"cod_imovel\", \n",
    "    fields     = [\"FITO\", \"FITOha\", \"RLha\", \"VNha\", \"SOJAha\", \"PASTOha\", \"C_AGUAha\", \"OUTha\", \"outrAGROha\"])"
   ]
  },
  {
   "cell_type": "markdown",
   "metadata": {
    "hidden": true
   },
   "source": [
    "### MapBiomas x CAR: Fora da Amazônia Legal"
   ]
  },
  {
   "cell_type": "markdown",
   "metadata": {
    "hidden": true
   },
   "source": [
    "#### Cerrado"
   ]
  },
  {
   "cell_type": "markdown",
   "metadata": {
    "hidden": true
   },
   "source": [
    "###### <mark>Onde Estamos?</mark>"
   ]
  },
  {
   "cell_type": "code",
   "execution_count": null,
   "metadata": {
    "hidden": true,
    "scrolled": true
   },
   "outputs": [],
   "source": [
    "CAR_nAL = \"CAR_nAL\"\n",
    "MBp = \"brasil_coverage_23_reclass_prj_POL\""
   ]
  },
  {
   "cell_type": "markdown",
   "metadata": {
    "hidden": true
   },
   "source": [
    "###### Filtro"
   ]
  },
  {
   "cell_type": "code",
   "execution_count": null,
   "metadata": {
    "hidden": true,
    "scrolled": true
   },
   "outputs": [],
   "source": [
    "sql_nALcerr = '\"Bioma\" = \\'Cerrado\\''\n",
    "sql_nALcerr = \"Bioma = 'Cerrado'\"\n",
    "\n",
    "\n",
    "arcpy.conversion.ExportFeatures(CAR_nAL, \n",
    "                                f\"{GDB}/CAR_nALcerrado\", \n",
    "                                sql_nALcerr, \n",
    "                                \"NOT_USE_ALIAS\")"
   ]
  },
  {
   "cell_type": "code",
   "execution_count": null,
   "metadata": {
    "hidden": true,
    "scrolled": true
   },
   "outputs": [],
   "source": [
    "CAR_nALcerrado = \"CAR_nALcerrado\""
   ]
  },
  {
   "cell_type": "markdown",
   "metadata": {
    "hidden": true
   },
   "source": [
    "###### Tabulate Intersection"
   ]
  },
  {
   "cell_type": "code",
   "execution_count": null,
   "metadata": {
    "hidden": true,
    "scrolled": true
   },
   "outputs": [],
   "source": [
    "arcpy.analysis.TabulateIntersection(\n",
    "    in_zone_features  = CAR_nALcerrado,\n",
    "    zone_fields       = \"cod_imovel\",\n",
    "    in_class_features = MBp,\n",
    "    out_table         = \"Tabulate_Inter_CAR_nALcerrado_MBp\", # Tabulate_Inter_CAR_nALcerrado_MBp\n",
    "    class_fields      = \"gridcode\",\n",
    "    out_units         = \"HECTARES\")"
   ]
  },
  {
   "cell_type": "code",
   "execution_count": null,
   "metadata": {
    "hidden": true,
    "scrolled": true
   },
   "outputs": [],
   "source": [
    "Tabulate_Inter_CAR_nALcerrado_MBp = \"Tabulate_Inter_CAR_nALcerrado_MBp\""
   ]
  },
  {
   "cell_type": "markdown",
   "metadata": {
    "hidden": true
   },
   "source": [
    "###### Pivot Table"
   ]
  },
  {
   "cell_type": "code",
   "execution_count": null,
   "metadata": {
    "hidden": true,
    "scrolled": true
   },
   "outputs": [],
   "source": [
    "arcpy.management.PivotTable(\n",
    "    in_table    = Tabulate_Inter_CAR_nALcerrado_MBp, \n",
    "    fields      = \"cod_imovel\", \n",
    "    pivot_field = \"gridcode\", \n",
    "    value_field = \"AREA\", \n",
    "    out_table   = \"Tabulate_Inter_CAR_nALcerrado_MBp_pivot\")"
   ]
  },
  {
   "cell_type": "code",
   "execution_count": null,
   "metadata": {
    "hidden": true,
    "scrolled": true
   },
   "outputs": [],
   "source": [
    "Tabulate_Inter_CAR_nALcerrado_MBp = \"Tabulate_Inter_CAR_nALcerrado_MBp_pivot\""
   ]
  },
  {
   "cell_type": "markdown",
   "metadata": {
    "hidden": true
   },
   "source": [
    "###### Null por 0"
   ]
  },
  {
   "cell_type": "code",
   "execution_count": null,
   "metadata": {
    "hidden": true,
    "scrolled": true
   },
   "outputs": [],
   "source": [
    "fieldObs = arcpy.ListFields(Tabulate_Inter_CAR_nALcerrado_MBp)  \n",
    "fieldNames = []  \n",
    "for field in fieldObs:  \n",
    "    fieldNames.append(field.name)  \n",
    "del fieldObs  \n",
    "fieldCount = len(fieldNames)  \n",
    "\n",
    "with arcpy.da.UpdateCursor(Tabulate_Inter_CAR_nALcerrado_MBp, fieldNames) as curU:  \n",
    "    for row in curU:  \n",
    "        rowU = row  \n",
    "        for field in range(fieldCount):  \n",
    "            if rowU[field] == None:  \n",
    "                rowU[field] = \"0.0\"  \n",
    "      \n",
    "      \n",
    "        curU.updateRow(rowU)\n",
    "\n",
    "del curU"
   ]
  },
  {
   "cell_type": "markdown",
   "metadata": {
    "hidden": true
   },
   "source": [
    "###### Ajustando Colunas"
   ]
  },
  {
   "cell_type": "code",
   "execution_count": null,
   "metadata": {
    "hidden": true,
    "scrolled": true
   },
   "outputs": [],
   "source": [
    "Tabulate_Inter_CAR_nALcerrado_MBp = \"Tabulate_Inter_CAR_nALcerrado_MBp_pivot\""
   ]
  },
  {
   "cell_type": "code",
   "execution_count": null,
   "metadata": {
    "hidden": true,
    "scrolled": true
   },
   "outputs": [],
   "source": [
    "arcpy.management.AddField(Tabulate_Inter_CAR_nALcerrado_MBp,\n",
    "                          \"VNha\",\n",
    "                          \"DOUBLE\")\n",
    "\n",
    "arcpy.management.AddField(Tabulate_Inter_CAR_nALcerrado_MBp,\n",
    "                          \"SOJAha\",\n",
    "                          \"DOUBLE\")\n",
    "\n",
    "arcpy.management.AddField(Tabulate_Inter_CAR_nALcerrado_MBp,\n",
    "                          \"PASTOha\",\n",
    "                          \"DOUBLE\")\n",
    "\n",
    "arcpy.management.AddField(Tabulate_Inter_CAR_nALcerrado_MBp,\n",
    "                          \"C_AGUAha\",\n",
    "                          \"DOUBLE\")\n",
    "\n",
    "arcpy.management.AddField(Tabulate_Inter_CAR_nALcerrado_MBp,\n",
    "                          \"OUTha\",\n",
    "                          \"DOUBLE\")\n",
    "\n",
    "arcpy.management.AddField(Tabulate_Inter_CAR_nALcerrado_MBp,\n",
    "                          \"outrAGROha\",\n",
    "                          \"DOUBLE\")"
   ]
  },
  {
   "cell_type": "code",
   "execution_count": null,
   "metadata": {
    "hidden": true,
    "scrolled": true
   },
   "outputs": [],
   "source": [
    "arcpy.management.CalculateField(Tabulate_Inter_CAR_nALcerrado_MBp,\n",
    "                                \"VNha\", \n",
    "                                \"round(!gridcode1!,4)\", \n",
    "                                \"PYTHON3\")\n",
    "\n",
    "arcpy.management.CalculateField(Tabulate_Inter_CAR_nALcerrado_MBp,\n",
    "                                \"C_AGUAha\", \n",
    "                                \"round(!gridcode2!,4)\", \n",
    "                                \"PYTHON3\")\n",
    "\n",
    "arcpy.management.CalculateField(Tabulate_Inter_CAR_nALcerrado_MBp,\n",
    "                                \"SOJAha\", \n",
    "                                \"round(!gridcode3!,4)\", \n",
    "                                \"PYTHON3\")\n",
    "\n",
    "arcpy.management.CalculateField(Tabulate_Inter_CAR_nALcerrado_MBp,\n",
    "                                \"PASTOha\", \n",
    "                                \"round(!gridcode4!,4)\", \n",
    "                                \"PYTHON3\")\n",
    "\n",
    "arcpy.management.CalculateField(Tabulate_Inter_CAR_nALcerrado_MBp,\n",
    "                                \"outrAGROha\", \n",
    "                                \"round(!gridcode5!,4)\", \n",
    "                                \"PYTHON3\")\n",
    "\n",
    "arcpy.management.CalculateField(Tabulate_Inter_CAR_nALcerrado_MBp,\n",
    "                                \"OUTha\", \n",
    "                                \"round(!gridcode6!,4)\", \n",
    "                                \"PYTHON3\")"
   ]
  },
  {
   "cell_type": "markdown",
   "metadata": {
    "hidden": true
   },
   "source": [
    "###### Join Final"
   ]
  },
  {
   "cell_type": "code",
   "execution_count": null,
   "metadata": {
    "hidden": true,
    "scrolled": true
   },
   "outputs": [],
   "source": [
    "CAR_nALcerrado = \"CAR_nALcerrado\" # out AL / com ARL, RL"
   ]
  },
  {
   "cell_type": "code",
   "execution_count": null,
   "metadata": {
    "hidden": true,
    "scrolled": true
   },
   "outputs": [],
   "source": [
    "arcpy.management.JoinField(\n",
    "    in_data    = CAR_nALcerrado, \n",
    "    in_field   = \"cod_imovel\", \n",
    "    join_table = Tabulate_Inter_CAR_nALcerrado_MBp,\n",
    "    join_field = \"cod_imovel\", \n",
    "    fields     = [\"VNha\", \"SOJAha\", \"PASTOha\", \"C_AGUAha\", \"OUTha\", \"outrAGROha\"])"
   ]
  },
  {
   "cell_type": "markdown",
   "metadata": {
    "hidden": true
   },
   "source": [
    "####  Mata Atlântica"
   ]
  },
  {
   "cell_type": "markdown",
   "metadata": {
    "hidden": true
   },
   "source": [
    "###### <mark>Onde Estamos?</mark>"
   ]
  },
  {
   "cell_type": "code",
   "execution_count": null,
   "metadata": {
    "hidden": true,
    "scrolled": true
   },
   "outputs": [],
   "source": [
    "CAR_nAL = \"CAR_nAL\"\n",
    "MBp = \"brasil_coverage_23_reclass_prj_POL\""
   ]
  },
  {
   "cell_type": "markdown",
   "metadata": {
    "hidden": true
   },
   "source": [
    "###### Filtro"
   ]
  },
  {
   "cell_type": "code",
   "execution_count": null,
   "metadata": {
    "hidden": true,
    "scrolled": true
   },
   "outputs": [],
   "source": [
    "sql_nALmata = \"Bioma = 'Mata Atlântica'\"\n",
    "\n",
    "\n",
    "arcpy.conversion.ExportFeatures(CAR_nAL, \n",
    "                                f\"{GDB}/CAR_nALmata\", \n",
    "                                sql_nALmata, \n",
    "                                \"NOT_USE_ALIAS\")"
   ]
  },
  {
   "cell_type": "code",
   "execution_count": null,
   "metadata": {
    "hidden": true,
    "scrolled": true
   },
   "outputs": [],
   "source": [
    "CAR_nALmata = \"CAR_nALmata\""
   ]
  },
  {
   "cell_type": "markdown",
   "metadata": {
    "hidden": true
   },
   "source": [
    "###### Tabulate Intersection"
   ]
  },
  {
   "cell_type": "code",
   "execution_count": null,
   "metadata": {
    "hidden": true,
    "scrolled": true
   },
   "outputs": [],
   "source": [
    "arcpy.analysis.TabulateIntersection(\n",
    "    in_zone_features  = CAR_nALmata,\n",
    "    zone_fields       = \"cod_imovel\",\n",
    "    in_class_features = MBp,\n",
    "    out_table         = \"Tabulate_Inter_CAR_nALmata_MBp\", # Tabulate_Inter_CAR_nALcerrado_MBp\n",
    "    class_fields      = \"gridcode\",\n",
    "    out_units         = \"HECTARES\")"
   ]
  },
  {
   "cell_type": "code",
   "execution_count": null,
   "metadata": {
    "hidden": true,
    "scrolled": true
   },
   "outputs": [],
   "source": [
    "Tabulate_Inter_CAR_nALmata_MBp = \"Tabulate_Inter_CAR_nALmata_MBp\""
   ]
  },
  {
   "cell_type": "markdown",
   "metadata": {
    "hidden": true
   },
   "source": [
    "###### Pivot Table"
   ]
  },
  {
   "cell_type": "code",
   "execution_count": null,
   "metadata": {
    "hidden": true,
    "scrolled": true
   },
   "outputs": [],
   "source": [
    "arcpy.management.PivotTable(\n",
    "    in_table    = Tabulate_Inter_CAR_nALmata_MBp, \n",
    "    fields      = \"cod_imovel\", \n",
    "    pivot_field = \"gridcode\", \n",
    "    value_field = \"AREA\", \n",
    "    out_table   = \"Tabulate_Inter_CAR_nALmata_MBp_pivot\")"
   ]
  },
  {
   "cell_type": "code",
   "execution_count": null,
   "metadata": {
    "hidden": true,
    "scrolled": true
   },
   "outputs": [],
   "source": [
    "Tabulate_Inter_CAR_nALmata_MBp = \"Tabulate_Inter_CAR_nALmata_MBp_pivot\""
   ]
  },
  {
   "cell_type": "markdown",
   "metadata": {
    "hidden": true
   },
   "source": [
    "###### Null por 0"
   ]
  },
  {
   "cell_type": "code",
   "execution_count": null,
   "metadata": {
    "hidden": true,
    "scrolled": true
   },
   "outputs": [],
   "source": [
    "fieldObs = arcpy.ListFields(Tabulate_Inter_CAR_nALmata_MBp)  \n",
    "fieldNames = []  \n",
    "for field in fieldObs:  \n",
    "    fieldNames.append(field.name)  \n",
    "del fieldObs  \n",
    "fieldCount = len(fieldNames)  \n",
    "\n",
    "with arcpy.da.UpdateCursor(Tabulate_Inter_CAR_nALmata_MBp, fieldNames) as curU:  \n",
    "    for row in curU:  \n",
    "        rowU = row  \n",
    "        for field in range(fieldCount):  \n",
    "            if rowU[field] == None:  \n",
    "                rowU[field] = \"0.0\"  \n",
    "      \n",
    "      \n",
    "        curU.updateRow(rowU)\n",
    "\n",
    "del curU"
   ]
  },
  {
   "cell_type": "markdown",
   "metadata": {
    "hidden": true
   },
   "source": [
    "###### Ajuste de colunas"
   ]
  },
  {
   "cell_type": "code",
   "execution_count": null,
   "metadata": {
    "hidden": true,
    "scrolled": true
   },
   "outputs": [],
   "source": [
    "Tabulate_Inter_CAR_nALmata_MBp = \"Tabulate_Inter_CAR_nALmata_MBp_pivot\""
   ]
  },
  {
   "cell_type": "code",
   "execution_count": null,
   "metadata": {
    "hidden": true,
    "scrolled": true
   },
   "outputs": [],
   "source": [
    "arcpy.management.AddField(Tabulate_Inter_CAR_nALmata_MBp,\n",
    "                          \"VNha\",\n",
    "                          \"DOUBLE\")\n",
    "\n",
    "arcpy.management.AddField(Tabulate_Inter_CAR_nALmata_MBp,\n",
    "                          \"SOJAha\",\n",
    "                          \"DOUBLE\")\n",
    "\n",
    "arcpy.management.AddField(Tabulate_Inter_CAR_nALmata_MBp,\n",
    "                          \"PASTOha\",\n",
    "                          \"DOUBLE\")\n",
    "\n",
    "arcpy.management.AddField(Tabulate_Inter_CAR_nALmata_MBp,\n",
    "                          \"C_AGUAha\",\n",
    "                          \"DOUBLE\")\n",
    "\n",
    "arcpy.management.AddField(Tabulate_Inter_CAR_nALmata_MBp,\n",
    "                          \"OUTha\",\n",
    "                          \"DOUBLE\")\n",
    "\n",
    "arcpy.management.AddField(Tabulate_Inter_CAR_nALmata_MBp,\n",
    "                          \"outrAGROha\",\n",
    "                          \"DOUBLE\")"
   ]
  },
  {
   "cell_type": "code",
   "execution_count": null,
   "metadata": {
    "hidden": true,
    "scrolled": true
   },
   "outputs": [],
   "source": [
    "arcpy.management.CalculateField(Tabulate_Inter_CAR_nALmata_MBp,\n",
    "                                \"VNha\", \n",
    "                                \"round(!gridcode1!,4)\", \n",
    "                                \"PYTHON3\")\n",
    "\n",
    "arcpy.management.CalculateField(Tabulate_Inter_CAR_nALmata_MBp,\n",
    "                                \"C_AGUAha\", \n",
    "                                \"round(!gridcode2!,4)\", \n",
    "                                \"PYTHON3\")\n",
    "\n",
    "arcpy.management.CalculateField(Tabulate_Inter_CAR_nALmata_MBp,\n",
    "                                \"SOJAha\", \n",
    "                                \"round(!gridcode3!,4)\", \n",
    "                                \"PYTHON3\")\n",
    "\n",
    "arcpy.management.CalculateField(Tabulate_Inter_CAR_nALmata_MBp,\n",
    "                                \"PASTOha\", \n",
    "                                \"round(!gridcode4!,4)\", \n",
    "                                \"PYTHON3\")\n",
    "\n",
    "arcpy.management.CalculateField(Tabulate_Inter_CAR_nALmata_MBp,\n",
    "                                \"outrAGROha\", \n",
    "                                \"round(!gridcode5!,4)\", \n",
    "                                \"PYTHON3\")\n",
    "\n",
    "arcpy.management.CalculateField(Tabulate_Inter_CAR_nALmata_MBp,\n",
    "                                \"OUTha\", \n",
    "                                \"round(!gridcode6!,4)\", \n",
    "                                \"PYTHON3\")"
   ]
  },
  {
   "cell_type": "markdown",
   "metadata": {
    "hidden": true
   },
   "source": [
    "###### Join Final"
   ]
  },
  {
   "cell_type": "code",
   "execution_count": null,
   "metadata": {
    "hidden": true,
    "scrolled": true
   },
   "outputs": [],
   "source": [
    "CAR_nALmata = \"CAR_nALmata\" # out AL / com ARL, RL"
   ]
  },
  {
   "cell_type": "code",
   "execution_count": null,
   "metadata": {
    "hidden": true,
    "scrolled": true
   },
   "outputs": [],
   "source": [
    "arcpy.management.JoinField(\n",
    "    in_data    = CAR_nALmata, \n",
    "    in_field   = \"cod_imovel\", \n",
    "    join_table = Tabulate_Inter_CAR_nALmata_MBp,\n",
    "    join_field = \"cod_imovel\", \n",
    "    fields     = [\"VNha\", \"SOJAha\", \"PASTOha\", \"C_AGUAha\", \"OUTha\", \"outrAGROha\"])"
   ]
  },
  {
   "cell_type": "markdown",
   "metadata": {
    "hidden": true
   },
   "source": [
    "#### Caatinga"
   ]
  },
  {
   "cell_type": "markdown",
   "metadata": {
    "hidden": true
   },
   "source": [
    "###### <mark>Onde Estamos?</mark>"
   ]
  },
  {
   "cell_type": "code",
   "execution_count": null,
   "metadata": {
    "hidden": true,
    "scrolled": true
   },
   "outputs": [],
   "source": [
    "CAR_nAL = \"CAR_nAL\"\n",
    "MBp = \"brasil_coverage_23_reclass_prj_POL\""
   ]
  },
  {
   "cell_type": "markdown",
   "metadata": {
    "hidden": true
   },
   "source": [
    "###### Filtro"
   ]
  },
  {
   "cell_type": "code",
   "execution_count": null,
   "metadata": {
    "hidden": true,
    "scrolled": true
   },
   "outputs": [],
   "source": [
    "sql_nALcaatinga = \"Bioma = 'Caatinga'\"\n",
    "\n",
    "\n",
    "arcpy.conversion.ExportFeatures(CAR_nAL, \n",
    "                                f\"{GDB}/CAR_nALcaatinga\", \n",
    "                                sql_nALcaatinga, \n",
    "                                \"NOT_USE_ALIAS\")"
   ]
  },
  {
   "cell_type": "code",
   "execution_count": null,
   "metadata": {
    "hidden": true,
    "scrolled": true
   },
   "outputs": [],
   "source": [
    "CAR_nALcaatinga = \"CAR_nALcaatinga\""
   ]
  },
  {
   "cell_type": "markdown",
   "metadata": {
    "hidden": true
   },
   "source": [
    "###### Tabulate Intersection"
   ]
  },
  {
   "cell_type": "code",
   "execution_count": null,
   "metadata": {
    "hidden": true,
    "scrolled": true
   },
   "outputs": [],
   "source": [
    "arcpy.analysis.TabulateIntersection(\n",
    "    in_zone_features  = CAR_nALcaatinga,\n",
    "    zone_fields       = \"cod_imovel\",\n",
    "    in_class_features = MBp,\n",
    "    out_table         = \"Tabulate_Inter_CAR_nALcaatinga_MBp\", # Tabulate_Inter_CAR_nALcerrado_MBp\n",
    "    class_fields      = \"gridcode\",\n",
    "    out_units         = \"HECTARES\")"
   ]
  },
  {
   "cell_type": "code",
   "execution_count": null,
   "metadata": {
    "hidden": true,
    "scrolled": true
   },
   "outputs": [],
   "source": [
    "Tabulate_Inter_CAR_nALcaatinga_MBp = \"Tabulate_Inter_CAR_nALcaatinga_MBp\""
   ]
  },
  {
   "cell_type": "markdown",
   "metadata": {
    "hidden": true
   },
   "source": [
    "###### Pivot Table"
   ]
  },
  {
   "cell_type": "code",
   "execution_count": null,
   "metadata": {
    "hidden": true,
    "scrolled": true
   },
   "outputs": [],
   "source": [
    "arcpy.management.PivotTable(\n",
    "    in_table    = Tabulate_Inter_CAR_nALcaatinga_MBp, \n",
    "    fields      = \"cod_imovel\", \n",
    "    pivot_field = \"gridcode\", \n",
    "    value_field = \"AREA\", \n",
    "    out_table   = \"Tabulate_Inter_CAR_nALcaatinga_MBp_pivot\")"
   ]
  },
  {
   "cell_type": "code",
   "execution_count": null,
   "metadata": {
    "hidden": true,
    "scrolled": true
   },
   "outputs": [],
   "source": [
    "Tabulate_Inter_CAR_nALcaatinga_MBp = \"Tabulate_Inter_CAR_nALcaatinga_MBp_pivot\""
   ]
  },
  {
   "cell_type": "markdown",
   "metadata": {
    "hidden": true
   },
   "source": [
    "###### Null por 0"
   ]
  },
  {
   "cell_type": "code",
   "execution_count": null,
   "metadata": {
    "hidden": true,
    "scrolled": true
   },
   "outputs": [],
   "source": [
    "fieldObs = arcpy.ListFields(Tabulate_Inter_CAR_nALcaatinga_MBp)  \n",
    "fieldNames = []  \n",
    "for field in fieldObs:  \n",
    "    fieldNames.append(field.name)  \n",
    "del fieldObs  \n",
    "fieldCount = len(fieldNames)  \n",
    "\n",
    "with arcpy.da.UpdateCursor(Tabulate_Inter_CAR_nALcaatinga_MBp, fieldNames) as curU:  \n",
    "    for row in curU:  \n",
    "        rowU = row  \n",
    "        for field in range(fieldCount):  \n",
    "            if rowU[field] == None:  \n",
    "                rowU[field] = \"0.0\"  \n",
    "      \n",
    "      \n",
    "        curU.updateRow(rowU)\n",
    "\n",
    "del curU"
   ]
  },
  {
   "cell_type": "markdown",
   "metadata": {
    "hidden": true
   },
   "source": [
    "###### Ajuste Colunas"
   ]
  },
  {
   "cell_type": "code",
   "execution_count": null,
   "metadata": {
    "hidden": true,
    "scrolled": true
   },
   "outputs": [],
   "source": [
    "Tabulate_Inter_CAR_nALcaatinga_MBp = \"Tabulate_Inter_CAR_nALcaatinga_MBp_pivot\""
   ]
  },
  {
   "cell_type": "code",
   "execution_count": null,
   "metadata": {
    "hidden": true,
    "scrolled": true
   },
   "outputs": [],
   "source": [
    "arcpy.management.AddField(Tabulate_Inter_CAR_nALcaatinga_MBp,\n",
    "                          \"VNha\",\n",
    "                          \"DOUBLE\")\n",
    "\n",
    "arcpy.management.AddField(Tabulate_Inter_CAR_nALcaatinga_MBp,\n",
    "                          \"SOJAha\",\n",
    "                          \"DOUBLE\")\n",
    "\n",
    "arcpy.management.AddField(Tabulate_Inter_CAR_nALcaatinga_MBp,\n",
    "                          \"PASTOha\",\n",
    "                          \"DOUBLE\")\n",
    "\n",
    "arcpy.management.AddField(Tabulate_Inter_CAR_nALcaatinga_MBp,\n",
    "                          \"C_AGUAha\",\n",
    "                          \"DOUBLE\")\n",
    "\n",
    "arcpy.management.AddField(Tabulate_Inter_CAR_nALcaatinga_MBp,\n",
    "                          \"OUTha\",\n",
    "                          \"DOUBLE\")\n",
    "\n",
    "arcpy.management.AddField(Tabulate_Inter_CAR_nALcaatinga_MBp,\n",
    "                          \"outrAGROha\",\n",
    "                          \"DOUBLE\")"
   ]
  },
  {
   "cell_type": "code",
   "execution_count": null,
   "metadata": {
    "hidden": true,
    "scrolled": true
   },
   "outputs": [],
   "source": [
    "arcpy.management.CalculateField(Tabulate_Inter_CAR_nALcaatinga_MBp,\n",
    "                                \"VNha\", \n",
    "                                \"round(!gridcode1!,4)\", \n",
    "                                \"PYTHON3\")\n",
    "\n",
    "arcpy.management.CalculateField(Tabulate_Inter_CAR_nALcaatinga_MBp,\n",
    "                                \"C_AGUAha\", \n",
    "                                \"round(!gridcode2!,4)\", \n",
    "                                \"PYTHON3\")\n",
    "\n",
    "arcpy.management.CalculateField(Tabulate_Inter_CAR_nALcaatinga_MBp,\n",
    "                                \"SOJAha\", \n",
    "                                \"round(!gridcode3!,4)\", \n",
    "                                \"PYTHON3\")\n",
    "\n",
    "arcpy.management.CalculateField(Tabulate_Inter_CAR_nALcaatinga_MBp,\n",
    "                                \"PASTOha\", \n",
    "                                \"round(!gridcode4!,4)\", \n",
    "                                \"PYTHON3\")\n",
    "\n",
    "arcpy.management.CalculateField(Tabulate_Inter_CAR_nALcaatinga_MBp,\n",
    "                                \"outrAGROha\", \n",
    "                                \"round(!gridcode5!,4)\", \n",
    "                                \"PYTHON3\")\n",
    "\n",
    "arcpy.management.CalculateField(Tabulate_Inter_CAR_nALcaatinga_MBp,\n",
    "                                \"OUTha\", \n",
    "                                \"round(!gridcode6!,4)\", \n",
    "                                \"PYTHON3\")"
   ]
  },
  {
   "cell_type": "markdown",
   "metadata": {
    "hidden": true
   },
   "source": [
    "###### Join Final"
   ]
  },
  {
   "cell_type": "code",
   "execution_count": null,
   "metadata": {
    "hidden": true,
    "scrolled": true
   },
   "outputs": [],
   "source": [
    "CAR_nALcaatinga = \"CAR_nALcaatinga\" # out AL / com ARL, RL"
   ]
  },
  {
   "cell_type": "code",
   "execution_count": null,
   "metadata": {
    "hidden": true,
    "scrolled": true
   },
   "outputs": [],
   "source": [
    "arcpy.management.JoinField(\n",
    "    in_data    = CAR_nALcaatinga, \n",
    "    in_field   = \"cod_imovel\", \n",
    "    join_table = Tabulate_Inter_CAR_nALcaatinga_MBp,\n",
    "    join_field = \"cod_imovel\", \n",
    "    fields     = [\"VNha\", \"SOJAha\", \"PASTOha\", \"C_AGUAha\", \"OUTha\", \"outrAGROha\"])"
   ]
  },
  {
   "cell_type": "markdown",
   "metadata": {
    "hidden": true
   },
   "source": [
    "#### Pantanal, Pampa"
   ]
  },
  {
   "cell_type": "markdown",
   "metadata": {
    "hidden": true
   },
   "source": [
    "###### <mark>Onde Estamos?</mark>"
   ]
  },
  {
   "cell_type": "code",
   "execution_count": null,
   "metadata": {
    "hidden": true,
    "scrolled": true
   },
   "outputs": [],
   "source": [
    "CAR_nAL = \"CAR_nAL\"\n",
    "MBp = \"brasil_coverage_23_reclass_prj_POL\""
   ]
  },
  {
   "cell_type": "markdown",
   "metadata": {
    "hidden": true
   },
   "source": [
    "###### Filtro"
   ]
  },
  {
   "cell_type": "code",
   "execution_count": null,
   "metadata": {
    "hidden": true,
    "scrolled": true
   },
   "outputs": [],
   "source": [
    "sql_nALPamPan = \"Bioma = 'Pantanal' Or Bioma = 'Pampa'\"\n",
    "\n",
    "\n",
    "arcpy.conversion.ExportFeatures(CAR_nAL, \n",
    "                                f\"{GDB}/CAR_nALPamPan\", \n",
    "                                sql_nALPamPan, \n",
    "                                \"NOT_USE_ALIAS\")"
   ]
  },
  {
   "cell_type": "code",
   "execution_count": null,
   "metadata": {
    "hidden": true,
    "scrolled": true
   },
   "outputs": [],
   "source": [
    "CAR_nALPamPan = \"CAR_nALPamPan\""
   ]
  },
  {
   "cell_type": "markdown",
   "metadata": {
    "hidden": true
   },
   "source": [
    "###### Tabulate Intersection"
   ]
  },
  {
   "cell_type": "code",
   "execution_count": null,
   "metadata": {
    "hidden": true,
    "scrolled": true
   },
   "outputs": [],
   "source": [
    "arcpy.analysis.TabulateIntersection(\n",
    "    in_zone_features  = CAR_nALPamPan,\n",
    "    zone_fields       = \"cod_imovel\",\n",
    "    in_class_features = MBp,\n",
    "    out_table         = \"Tabulate_Inter_CAR_nALPamPan_MBp\", # Tabulate_Inter_CAR_nALcerrado_MBp\n",
    "    class_fields      = \"gridcode\",\n",
    "    out_units         = \"HECTARES\")"
   ]
  },
  {
   "cell_type": "code",
   "execution_count": null,
   "metadata": {
    "hidden": true,
    "scrolled": true
   },
   "outputs": [],
   "source": [
    "Tabulate_Inter_CAR_nALPamPan_MBp = \"Tabulate_Inter_CAR_nALPamPan_MBp\""
   ]
  },
  {
   "cell_type": "markdown",
   "metadata": {
    "hidden": true
   },
   "source": [
    "###### Pivot Table"
   ]
  },
  {
   "cell_type": "code",
   "execution_count": null,
   "metadata": {
    "hidden": true,
    "scrolled": true
   },
   "outputs": [],
   "source": [
    "arcpy.management.PivotTable(\n",
    "    in_table    = Tabulate_Inter_CAR_nALPamPan_MBp, \n",
    "    fields      = \"cod_imovel\", \n",
    "    pivot_field = \"gridcode\", \n",
    "    value_field = \"AREA\", \n",
    "    out_table   = \"Tabulate_Inter_CAR_nALPamPan_MBp_pivot\")"
   ]
  },
  {
   "cell_type": "code",
   "execution_count": null,
   "metadata": {
    "hidden": true,
    "scrolled": true
   },
   "outputs": [],
   "source": [
    "Tabulate_Inter_CAR_nALPamPan_MBp = \"Tabulate_Inter_CAR_nALPamPan_MBp_pivot\""
   ]
  },
  {
   "cell_type": "markdown",
   "metadata": {
    "hidden": true
   },
   "source": [
    "###### Null por 0"
   ]
  },
  {
   "cell_type": "code",
   "execution_count": null,
   "metadata": {
    "hidden": true,
    "scrolled": true
   },
   "outputs": [],
   "source": [
    "fieldObs = arcpy.ListFields(Tabulate_Inter_CAR_nALPamPan_MBp)  \n",
    "fieldNames = []  \n",
    "for field in fieldObs:  \n",
    "    fieldNames.append(field.name)  \n",
    "del fieldObs  \n",
    "fieldCount = len(fieldNames)  \n",
    "\n",
    "with arcpy.da.UpdateCursor(Tabulate_Inter_CAR_nALPamPan_MBp, fieldNames) as curU:  \n",
    "    for row in curU:  \n",
    "        rowU = row  \n",
    "        for field in range(fieldCount):  \n",
    "            if rowU[field] == None:  \n",
    "                rowU[field] = \"0.0\"  \n",
    "      \n",
    "      \n",
    "        curU.updateRow(rowU)\n",
    "\n",
    "del curU"
   ]
  },
  {
   "cell_type": "markdown",
   "metadata": {
    "hidden": true
   },
   "source": [
    "###### Ajuste Colunas"
   ]
  },
  {
   "cell_type": "code",
   "execution_count": null,
   "metadata": {
    "hidden": true,
    "scrolled": true
   },
   "outputs": [],
   "source": [
    "Tabulate_Inter_CAR_nALPamPan_MBp = \"Tabulate_Inter_CAR_nALPamPan_MBp_pivot\""
   ]
  },
  {
   "cell_type": "code",
   "execution_count": null,
   "metadata": {
    "hidden": true,
    "scrolled": true
   },
   "outputs": [],
   "source": [
    "arcpy.management.AddField(Tabulate_Inter_CAR_nALPamPan_MBp,\n",
    "                          \"VNha\",\n",
    "                          \"DOUBLE\")\n",
    "\n",
    "arcpy.management.AddField(Tabulate_Inter_CAR_nALPamPan_MBp,\n",
    "                          \"SOJAha\",\n",
    "                          \"DOUBLE\")\n",
    "\n",
    "arcpy.management.AddField(Tabulate_Inter_CAR_nALPamPan_MBp,\n",
    "                          \"PASTOha\",\n",
    "                          \"DOUBLE\")\n",
    "\n",
    "arcpy.management.AddField(Tabulate_Inter_CAR_nALPamPan_MBp,\n",
    "                          \"C_AGUAha\",\n",
    "                          \"DOUBLE\")\n",
    "\n",
    "arcpy.management.AddField(Tabulate_Inter_CAR_nALPamPan_MBp,\n",
    "                          \"OUTha\",\n",
    "                          \"DOUBLE\")\n",
    "\n",
    "arcpy.management.AddField(Tabulate_Inter_CAR_nALPamPan_MBp,\n",
    "                          \"outrAGROha\",\n",
    "                          \"DOUBLE\")"
   ]
  },
  {
   "cell_type": "code",
   "execution_count": null,
   "metadata": {
    "hidden": true,
    "scrolled": true
   },
   "outputs": [],
   "source": [
    "arcpy.management.CalculateField(Tabulate_Inter_CAR_nALPamPan_MBp,\n",
    "                                \"VNha\", \n",
    "                                \"round(!gridcode1!,4)\", \n",
    "                                \"PYTHON3\")\n",
    "\n",
    "arcpy.management.CalculateField(Tabulate_Inter_CAR_nALPamPan_MBp,\n",
    "                                \"C_AGUAha\", \n",
    "                                \"round(!gridcode2!,4)\", \n",
    "                                \"PYTHON3\")\n",
    "\n",
    "arcpy.management.CalculateField(Tabulate_Inter_CAR_nALPamPan_MBp,\n",
    "                                \"SOJAha\", \n",
    "                                \"round(!gridcode3!,4)\", \n",
    "                                \"PYTHON3\")\n",
    "\n",
    "arcpy.management.CalculateField(Tabulate_Inter_CAR_nALPamPan_MBp,\n",
    "                                \"PASTOha\", \n",
    "                                \"round(!gridcode4!,4)\", \n",
    "                                \"PYTHON3\")\n",
    "\n",
    "arcpy.management.CalculateField(Tabulate_Inter_CAR_nALPamPan_MBp,\n",
    "                                \"outrAGROha\", \n",
    "                                \"round(!gridcode5!,4)\", \n",
    "                                \"PYTHON3\")\n",
    "\n",
    "arcpy.management.CalculateField(Tabulate_Inter_CAR_nALPamPan_MBp,\n",
    "                                \"OUTha\", \n",
    "                                \"round(!gridcode6!,4)\", \n",
    "                                \"PYTHON3\")"
   ]
  },
  {
   "cell_type": "markdown",
   "metadata": {
    "hidden": true
   },
   "source": [
    "###### Join Final"
   ]
  },
  {
   "cell_type": "code",
   "execution_count": null,
   "metadata": {
    "hidden": true,
    "scrolled": true
   },
   "outputs": [],
   "source": [
    "CAR_nALPamPan = \"CAR_nALPamPan\" # out AL / com ARL, RL"
   ]
  },
  {
   "cell_type": "code",
   "execution_count": null,
   "metadata": {
    "hidden": true,
    "scrolled": true
   },
   "outputs": [],
   "source": [
    "arcpy.management.JoinField(\n",
    "    in_data    = CAR_nALPamPan, \n",
    "    in_field   = \"cod_imovel\", \n",
    "    join_table = Tabulate_Inter_CAR_nALPamPan_MBp,\n",
    "    join_field = \"cod_imovel\", \n",
    "    fields     = [\"VNha\", \"SOJAha\", \"PASTOha\", \"C_AGUAha\", \"OUTha\", \"outrAGROha\"])"
   ]
  },
  {
   "cell_type": "markdown",
   "metadata": {
    "hidden": true
   },
   "source": [
    "### EVN"
   ]
  },
  {
   "cell_type": "markdown",
   "metadata": {
    "hidden": true
   },
   "source": [
    "#### <mark>Onde Estamos?</mark>"
   ]
  },
  {
   "cell_type": "code",
   "execution_count": null,
   "metadata": {
    "hidden": true,
    "scrolled": true
   },
   "outputs": [],
   "source": [
    "CAR_AL          = \"CAR_AL\"\n",
    "CAR_nALcerrado  = \"CAR_nALcerrado\"\n",
    "CAR_nALmata     = \"CAR_nALmata\"\n",
    "CAR_nALcaatinga = \"CAR_nALcaatinga\"\n",
    "CAR_nALPamPan   = \"CAR_nALPamPan\""
   ]
  },
  {
   "cell_type": "markdown",
   "metadata": {
    "hidden": true
   },
   "source": [
    "#### EVN: na Amazônia Legal"
   ]
  },
  {
   "cell_type": "code",
   "execution_count": null,
   "metadata": {
    "hidden": true,
    "scrolled": true
   },
   "outputs": [],
   "source": [
    "CAR_AL = \"CAR_AL\""
   ]
  },
  {
   "cell_type": "code",
   "execution_count": null,
   "metadata": {
    "hidden": true,
    "scrolled": true
   },
   "outputs": [],
   "source": [
    "#---------------------------------\n",
    "arcpy.management.AddField(CAR_AL,\n",
    "                          \"EVNha\",\n",
    "                          \"DOUBLE\")"
   ]
  },
  {
   "cell_type": "code",
   "execution_count": null,
   "metadata": {
    "hidden": true,
    "scrolled": true
   },
   "outputs": [],
   "source": [
    "fieldObs = arcpy.ListFields(CAR_AL)  \n",
    "fieldNames = []  \n",
    "for field in fieldObs:  \n",
    "    fieldNames.append(field.name)  \n",
    "del fieldObs  \n",
    "fieldCount = len(fieldNames)  \n",
    "\n",
    "with arcpy.da.UpdateCursor(CAR_AL, fieldNames) as curU:  \n",
    "    for row in curU:  \n",
    "        rowU = row  \n",
    "        for field in range(fieldCount):  \n",
    "            if rowU[field] == None:  \n",
    "                rowU[field] = \"0.0\"  \n",
    "      \n",
    "      \n",
    "        curU.updateRow(rowU)\n",
    "\n",
    "del curU"
   ]
  },
  {
   "cell_type": "code",
   "execution_count": null,
   "metadata": {
    "hidden": true,
    "scrolled": true
   },
   "outputs": [],
   "source": [
    "#---------------------------------\n",
    "arcpy.management.CalculateField(CAR_AL,\n",
    "                                \"EVNha\", \n",
    "                                \"round(!VNha! - !RLha!,4)\", \n",
    "                                \"PYTHON3\")"
   ]
  },
  {
   "cell_type": "markdown",
   "metadata": {
    "hidden": true
   },
   "source": [
    "#### EVN: Fora da Amazônia Legal"
   ]
  },
  {
   "cell_type": "markdown",
   "metadata": {
    "hidden": true
   },
   "source": [
    "##### Cerrado"
   ]
  },
  {
   "cell_type": "code",
   "execution_count": null,
   "metadata": {
    "hidden": true,
    "scrolled": true
   },
   "outputs": [],
   "source": [
    "CAR_nALcerrado = \"CAR_nALcerrado\""
   ]
  },
  {
   "cell_type": "code",
   "execution_count": null,
   "metadata": {
    "hidden": true,
    "scrolled": true
   },
   "outputs": [],
   "source": [
    "#---------------------------------\n",
    "arcpy.management.AddField(CAR_nALcerrado,\n",
    "                          \"EVNha\",\n",
    "                          \"DOUBLE\")"
   ]
  },
  {
   "cell_type": "code",
   "execution_count": null,
   "metadata": {
    "hidden": true,
    "scrolled": true
   },
   "outputs": [],
   "source": [
    "fieldObs = arcpy.ListFields(CAR_nALcerrado)  \n",
    "fieldNames = []  \n",
    "for field in fieldObs:  \n",
    "    fieldNames.append(field.name)  \n",
    "del fieldObs  \n",
    "fieldCount = len(fieldNames)  \n",
    "\n",
    "with arcpy.da.UpdateCursor(CAR_nALcerrado, fieldNames) as curU:  \n",
    "    for row in curU:  \n",
    "        rowU = row  \n",
    "        for field in range(fieldCount):  \n",
    "            if rowU[field] == None:  \n",
    "                rowU[field] = \"0.0\"  \n",
    "      \n",
    "      \n",
    "        curU.updateRow(rowU)\n",
    "\n",
    "del curU"
   ]
  },
  {
   "cell_type": "code",
   "execution_count": null,
   "metadata": {
    "hidden": true,
    "scrolled": true
   },
   "outputs": [],
   "source": [
    "#---------------------------------\n",
    "arcpy.management.CalculateField(CAR_nALcerrado,\n",
    "                                \"EVNha\", \n",
    "                                \"round(!VNha! - !RLha!,4)\", \n",
    "                                \"PYTHON3\")"
   ]
  },
  {
   "cell_type": "markdown",
   "metadata": {
    "hidden": true
   },
   "source": [
    "##### Mata Atlântica"
   ]
  },
  {
   "cell_type": "code",
   "execution_count": null,
   "metadata": {
    "hidden": true,
    "scrolled": true
   },
   "outputs": [],
   "source": [
    "CAR_nALmata = \"CAR_nALmata\""
   ]
  },
  {
   "cell_type": "code",
   "execution_count": null,
   "metadata": {
    "hidden": true,
    "scrolled": true
   },
   "outputs": [],
   "source": [
    "#---------------------------------\n",
    "arcpy.management.AddField(CAR_nALmata,\n",
    "                          \"EVNha\",\n",
    "                          \"DOUBLE\")"
   ]
  },
  {
   "cell_type": "code",
   "execution_count": null,
   "metadata": {
    "hidden": true,
    "scrolled": true
   },
   "outputs": [],
   "source": [
    "fieldObs = arcpy.ListFields(CAR_nALmata)  \n",
    "fieldNames = []  \n",
    "for field in fieldObs:  \n",
    "    fieldNames.append(field.name)  \n",
    "del fieldObs  \n",
    "fieldCount = len(fieldNames)  \n",
    "\n",
    "with arcpy.da.UpdateCursor(CAR_nALmata, fieldNames) as curU:  \n",
    "    for row in curU:  \n",
    "        rowU = row  \n",
    "        for field in range(fieldCount):  \n",
    "            if rowU[field] == None:  \n",
    "                rowU[field] = \"0.0\"  \n",
    "      \n",
    "      \n",
    "        curU.updateRow(rowU)\n",
    "\n",
    "del curU"
   ]
  },
  {
   "cell_type": "code",
   "execution_count": null,
   "metadata": {
    "hidden": true,
    "scrolled": true
   },
   "outputs": [],
   "source": [
    "#---------------------------------\n",
    "arcpy.management.CalculateField(CAR_nALmata,\n",
    "                                \"EVNha\", \n",
    "                                \"round(!VNha! - !RLha!,4)\", \n",
    "                                \"PYTHON3\")"
   ]
  },
  {
   "cell_type": "markdown",
   "metadata": {
    "hidden": true
   },
   "source": [
    "##### Caatinga"
   ]
  },
  {
   "cell_type": "code",
   "execution_count": null,
   "metadata": {
    "hidden": true,
    "scrolled": true
   },
   "outputs": [],
   "source": [
    "CAR_nALcaatinga = \"CAR_nALcaatinga\""
   ]
  },
  {
   "cell_type": "code",
   "execution_count": null,
   "metadata": {
    "hidden": true,
    "scrolled": true
   },
   "outputs": [],
   "source": [
    "#---------------------------------\n",
    "arcpy.management.AddField(CAR_nALcaatinga,\n",
    "                          \"EVNha\",\n",
    "                          \"DOUBLE\")"
   ]
  },
  {
   "cell_type": "code",
   "execution_count": null,
   "metadata": {
    "hidden": true,
    "scrolled": true
   },
   "outputs": [],
   "source": [
    "fieldObs = arcpy.ListFields(CAR_nALcaatinga)  \n",
    "fieldNames = []  \n",
    "for field in fieldObs:  \n",
    "    fieldNames.append(field.name)  \n",
    "del fieldObs  \n",
    "fieldCount = len(fieldNames)  \n",
    "\n",
    "with arcpy.da.UpdateCursor(CAR_nALcaatinga, fieldNames) as curU:  \n",
    "    for row in curU:  \n",
    "        rowU = row  \n",
    "        for field in range(fieldCount):  \n",
    "            if rowU[field] == None:  \n",
    "                rowU[field] = \"0.0\"  \n",
    "      \n",
    "      \n",
    "        curU.updateRow(rowU)\n",
    "\n",
    "del curU"
   ]
  },
  {
   "cell_type": "code",
   "execution_count": null,
   "metadata": {
    "hidden": true,
    "scrolled": true
   },
   "outputs": [],
   "source": [
    "#---------------------------------\n",
    "arcpy.management.CalculateField(CAR_nALcaatinga,\n",
    "                                \"EVNha\", \n",
    "                                \"round(!VNha! - !RLha!,4)\", \n",
    "                                \"PYTHON3\")"
   ]
  },
  {
   "cell_type": "markdown",
   "metadata": {
    "hidden": true
   },
   "source": [
    "##### Pantanal, Pampa"
   ]
  },
  {
   "cell_type": "code",
   "execution_count": null,
   "metadata": {
    "hidden": true,
    "scrolled": true
   },
   "outputs": [],
   "source": [
    "CAR_nALmata = \"CAR_nALPamPan\""
   ]
  },
  {
   "cell_type": "code",
   "execution_count": null,
   "metadata": {
    "hidden": true,
    "scrolled": true
   },
   "outputs": [],
   "source": [
    "#---------------------------------\n",
    "arcpy.management.AddField(CAR_nALPamPan,\n",
    "                          \"EVNha\",\n",
    "                          \"DOUBLE\")"
   ]
  },
  {
   "cell_type": "code",
   "execution_count": null,
   "metadata": {
    "hidden": true,
    "scrolled": true
   },
   "outputs": [],
   "source": [
    "fieldObs = arcpy.ListFields(CAR_nALPamPan)  \n",
    "fieldNames = []  \n",
    "for field in fieldObs:  \n",
    "    fieldNames.append(field.name)  \n",
    "del fieldObs  \n",
    "fieldCount = len(fieldNames)  \n",
    "\n",
    "with arcpy.da.UpdateCursor(CAR_nALPamPan, fieldNames) as curU:  \n",
    "    for row in curU:  \n",
    "        rowU = row  \n",
    "        for field in range(fieldCount):  \n",
    "            if rowU[field] == None:  \n",
    "                rowU[field] = \"0.0\"  \n",
    "      \n",
    "      \n",
    "        curU.updateRow(rowU)\n",
    "\n",
    "del curU"
   ]
  },
  {
   "cell_type": "code",
   "execution_count": null,
   "metadata": {
    "hidden": true,
    "scrolled": true
   },
   "outputs": [],
   "source": [
    "#---------------------------------\n",
    "arcpy.management.CalculateField(CAR_nALPamPan,\n",
    "                                \"EVNha\", \n",
    "                                \"round(!VNha! - !RLha!,4)\", \n",
    "                                \"PYTHON3\")"
   ]
  },
  {
   "cell_type": "markdown",
   "metadata": {
    "heading_collapsed": true
   },
   "source": [
    "##  Desmatamento PRODES"
   ]
  },
  {
   "cell_type": "markdown",
   "metadata": {
    "hidden": true
   },
   "source": [
    "### <mark>Onde Estamos?</mark>"
   ]
  },
  {
   "cell_type": "code",
   "execution_count": null,
   "metadata": {
    "hidden": true,
    "scrolled": true
   },
   "outputs": [],
   "source": [
    "PRODES          = \"prodes_final\"\n",
    "\n",
    "CAR_AL          = \"CAR_AL\"\n",
    "CAR_nALcerrado  = \"CAR_nALcerrado\"\n",
    "CAR_nALmata     = \"CAR_nALmata\"\n",
    "CAR_nALcaatinga = \"CAR_nALcaatinga\"\n",
    "CAR_nALPamPan   = \"CAR_nALPamPan\""
   ]
  },
  {
   "cell_type": "markdown",
   "metadata": {
    "hidden": true
   },
   "source": [
    "### Desmatamento: na Amazônia Legal"
   ]
  },
  {
   "cell_type": "markdown",
   "metadata": {
    "hidden": true
   },
   "source": [
    "#### Tabulate Intersection"
   ]
  },
  {
   "cell_type": "code",
   "execution_count": null,
   "metadata": {
    "hidden": true,
    "scrolled": true
   },
   "outputs": [],
   "source": [
    "arcpy.analysis.TabulateIntersection(\n",
    "    in_zone_features  = CAR_AL,\n",
    "    zone_fields       = \"cod_imovel\",\n",
    "    in_class_features = PRODES,\n",
    "    out_table         = \"Tabulate_Inter_CAR_AL_PRODES\",\n",
    "    class_fields      = \"gridcode\",\n",
    "    out_units         = \"HECTARES\")"
   ]
  },
  {
   "cell_type": "code",
   "execution_count": null,
   "metadata": {
    "hidden": true,
    "scrolled": true
   },
   "outputs": [],
   "source": [
    "Tabulate_Inter_CAR_AL_PRODES  = \"Tabulate_Inter_CAR_AL_PRODES\""
   ]
  },
  {
   "cell_type": "markdown",
   "metadata": {
    "hidden": true
   },
   "source": [
    "#### Pivot Table"
   ]
  },
  {
   "cell_type": "code",
   "execution_count": null,
   "metadata": {
    "hidden": true,
    "scrolled": true
   },
   "outputs": [],
   "source": [
    "arcpy.management.PivotTable(\n",
    "    in_table    = Tabulate_Inter_CAR_AL_PRODES, \n",
    "    fields      = \"cod_imovel\", \n",
    "    pivot_field = \"gridcode\", \n",
    "    value_field = \"AREA\", \n",
    "    out_table   = \"Tabulate_Inter_CAR_AL_MBp_pivot\")"
   ]
  },
  {
   "cell_type": "code",
   "execution_count": null,
   "metadata": {
    "hidden": true,
    "scrolled": true
   },
   "outputs": [],
   "source": [
    "Tabulate_Inter_CAR_AL_PRODES  = \"Tabulate_Inter_CAR_AL_PRODES_pivot\""
   ]
  },
  {
   "cell_type": "markdown",
   "metadata": {
    "hidden": true
   },
   "source": [
    "#### Null por 0"
   ]
  },
  {
   "cell_type": "code",
   "execution_count": null,
   "metadata": {
    "hidden": true,
    "scrolled": true
   },
   "outputs": [],
   "source": [
    "fieldObs = arcpy.ListFields(Tabulate_Inter_CAR_AL_MBp)  \n",
    "fieldNames = []  \n",
    "for field in fieldObs:  \n",
    "    fieldNames.append(field.name)  \n",
    "del fieldObs  \n",
    "fieldCount = len(fieldNames)  \n",
    "\n",
    "with arcpy.da.UpdateCursor(Tabulate_Inter_CAR_AL_MBp, fieldNames) as curU:  \n",
    "    for row in curU:  \n",
    "        rowU = row  \n",
    "        for field in range(fieldCount):  \n",
    "            if rowU[field] == None:  \n",
    "                rowU[field] = \"0.0\"  \n",
    "      \n",
    "      \n",
    "        curU.updateRow(rowU)\n",
    "\n",
    "del curU"
   ]
  },
  {
   "cell_type": "markdown",
   "metadata": {
    "hidden": true
   },
   "source": [
    "#### Ajustando Colunas"
   ]
  },
  {
   "cell_type": "code",
   "execution_count": null,
   "metadata": {
    "hidden": true,
    "scrolled": true
   },
   "outputs": [],
   "source": [
    "Tabulate_Inter_CAR_AL_PRODES  = \"Tabulate_Inter_CAR_AL_PRODES_pivot\""
   ]
  },
  {
   "cell_type": "code",
   "execution_count": null,
   "metadata": {
    "hidden": true,
    "scrolled": true
   },
   "outputs": [],
   "source": [
    "arcpy.management.AddField(Tabulate_Inter_CAR_AL_PRODES,\n",
    "                          \"P08_19\",\n",
    "                          \"DOUBLE\")\n",
    "\n",
    "arcpy.management.AddField(Tabulate_Inter_CAR_AL_PRODES,\n",
    "                          \"P2020\",\n",
    "                          \"DOUBLE\")\n",
    "\n",
    "arcpy.management.AddField(Tabulate_Inter_CAR_AL_PRODES,\n",
    "                          \"P2021\",\n",
    "                          \"DOUBLE\")\n",
    "\n",
    "arcpy.management.AddField(Tabulate_Inter_CAR_AL_PRODES,\n",
    "                          \"P2022\",\n",
    "                          \"DOUBLE\")\n",
    "\n",
    "arcpy.management.AddField(Tabulate_Inter_CAR_AL_PRODES,\n",
    "                          \"P2023\",\n",
    "                          \"DOUBLE\")\n",
    "\n",
    "arcpy.management.AddField(Tabulate_Inter_CAR_AL_PRODES,\n",
    "                          \"P2024\",\n",
    "                          \"DOUBLE\")"
   ]
  },
  {
   "cell_type": "code",
   "execution_count": null,
   "metadata": {
    "hidden": true,
    "scrolled": true
   },
   "outputs": [],
   "source": [
    "arcpy.management.CalculateField(Tabulate_Inter_CAR_AL_PRODES,\n",
    "                                \"P08_19\", \n",
    "                                \"round(!gridcode2008! + !gridcode2009! + !gridcode2010! + !gridcode2011! + !gridcode2012! + !gridcode2013! + !gridcode2014! + !gridcode2015! + !gridcode2016! + !gridcode2017! + !gridcode2018!,4)\", \n",
    "                                \"PYTHON3\")\n",
    "\n",
    "arcpy.management.CalculateField(Tabulate_Inter_CAR_AL_PRODES,\n",
    "                                \"P2020\", \n",
    "                                \"round(!gridcode2020!,4)\", \n",
    "                                \"PYTHON3\")\n",
    "\n",
    "arcpy.management.CalculateField(Tabulate_Inter_CAR_AL_PRODES,\n",
    "                                \"P2021\", \n",
    "                                \"round(!gridcode2021!,4)\", \n",
    "                                \"PYTHON3\")\n",
    "\n",
    "arcpy.management.CalculateField(Tabulate_Inter_CAR_AL_PRODES,\n",
    "                                \"P2022\", \n",
    "                                \"round(!gridcode2022!,4)\", \n",
    "                                \"PYTHON3\")\n",
    "\n",
    "arcpy.management.CalculateField(Tabulate_Inter_CAR_AL_PRODES,\n",
    "                                \"P2023\", \n",
    "                                \"round(!gridcode2023!,4)\", \n",
    "                                \"PYTHON3\")\n",
    "\n",
    "arcpy.management.CalculateField(Tabulate_Inter_CAR_AL_PRODES,\n",
    "                                \"P2024\", \n",
    "                                \"round(!gridcode2024!,4)\", \n",
    "                                \"PYTHON3\")"
   ]
  },
  {
   "cell_type": "markdown",
   "metadata": {
    "hidden": true
   },
   "source": [
    "#### Join"
   ]
  },
  {
   "cell_type": "code",
   "execution_count": null,
   "metadata": {
    "hidden": true,
    "scrolled": true
   },
   "outputs": [],
   "source": [
    "CAR_AL = \"CAR_AL\""
   ]
  },
  {
   "cell_type": "code",
   "execution_count": null,
   "metadata": {
    "hidden": true,
    "scrolled": true
   },
   "outputs": [],
   "source": [
    "arcpy.management.JoinField(\n",
    "    in_data    = CAR_AL , \n",
    "    in_field   = \"cod_imovel\", \n",
    "    join_table = Tabulate_Inter_CAR_AL_PRODES,\n",
    "    join_field = \"cod_imovel\", \n",
    "    fields     = [\"P08_19\", \"P2020\", \"P2021\", \"P2022\", \"P2023\", \"P2024\"])"
   ]
  },
  {
   "cell_type": "markdown",
   "metadata": {
    "hidden": true
   },
   "source": [
    "### Desmatamento: Fora da Amazônia Legal"
   ]
  },
  {
   "cell_type": "markdown",
   "metadata": {
    "hidden": true
   },
   "source": [
    "#### Cerrado"
   ]
  },
  {
   "cell_type": "markdown",
   "metadata": {
    "hidden": true
   },
   "source": [
    "##### Tabulate Intersection"
   ]
  },
  {
   "cell_type": "code",
   "execution_count": null,
   "metadata": {
    "hidden": true,
    "scrolled": true
   },
   "outputs": [],
   "source": [
    "CAR_nALcerrado = \"CAR_nALcerrado\""
   ]
  },
  {
   "cell_type": "code",
   "execution_count": null,
   "metadata": {
    "hidden": true,
    "scrolled": true
   },
   "outputs": [],
   "source": [
    "arcpy.analysis.TabulateIntersection(\n",
    "    in_zone_features  = CAR_nALcerrado,\n",
    "    zone_fields       = \"cod_imovel\",\n",
    "    in_class_features = PRODES,\n",
    "    out_table         = \"Tabulate_Inter_CAR_nALcerrado_PRODES\",\n",
    "    class_fields      = \"gridcode\",\n",
    "    out_units         = \"HECTARES\")"
   ]
  },
  {
   "cell_type": "code",
   "execution_count": null,
   "metadata": {
    "hidden": true,
    "scrolled": true
   },
   "outputs": [],
   "source": [
    "Tabulate_Inter_CAR_nALcerrado_PRODES  = \"Tabulate_Inter_CAR_nALcerrado_PRODES\""
   ]
  },
  {
   "cell_type": "markdown",
   "metadata": {
    "hidden": true
   },
   "source": [
    "##### Pivot Table"
   ]
  },
  {
   "cell_type": "code",
   "execution_count": null,
   "metadata": {
    "hidden": true,
    "scrolled": true
   },
   "outputs": [],
   "source": [
    "arcpy.management.PivotTable(\n",
    "    in_table    = Tabulate_Inter_CAR_nALcerrado_PRODES, \n",
    "    fields      = \"cod_imovel\", \n",
    "    pivot_field = \"gridcode\", \n",
    "    value_field = \"AREA\", \n",
    "    out_table   = \"Tabulate_Inter_CAR_nALcerrado_PRODES_pivot\")"
   ]
  },
  {
   "cell_type": "code",
   "execution_count": null,
   "metadata": {
    "hidden": true,
    "scrolled": true
   },
   "outputs": [],
   "source": [
    "Tabulate_Inter_CAR_nALcerrado_PRODES  = \"Tabulate_Inter_CAR_nALcerrado_PRODES_pivot\""
   ]
  },
  {
   "cell_type": "markdown",
   "metadata": {
    "hidden": true
   },
   "source": [
    "##### Null por 0"
   ]
  },
  {
   "cell_type": "code",
   "execution_count": null,
   "metadata": {
    "hidden": true,
    "scrolled": true
   },
   "outputs": [],
   "source": [
    "fieldObs = arcpy.ListFields(Tabulate_Inter_CAR_nALcerrado_PRODES)  \n",
    "fieldNames = []  \n",
    "for field in fieldObs:  \n",
    "    fieldNames.append(field.name)  \n",
    "del fieldObs  \n",
    "fieldCount = len(fieldNames)  \n",
    "\n",
    "with arcpy.da.UpdateCursor(Tabulate_Inter_CAR_nALcerrado_PRODES, fieldNames) as curU:  \n",
    "    for row in curU:  \n",
    "        rowU = row  \n",
    "        for field in range(fieldCount):  \n",
    "            if rowU[field] == None:  \n",
    "                rowU[field] = \"0.0\"  \n",
    "      \n",
    "      \n",
    "        curU.updateRow(rowU)\n",
    "\n",
    "del curU"
   ]
  },
  {
   "cell_type": "markdown",
   "metadata": {
    "hidden": true
   },
   "source": [
    "##### Ajustando Colunas"
   ]
  },
  {
   "cell_type": "code",
   "execution_count": null,
   "metadata": {
    "hidden": true,
    "scrolled": true
   },
   "outputs": [],
   "source": [
    "Tabulate_Inter_CAR_nALcerrado_PRODES  = \"Tabulate_Inter_CAR_nALcerrado_PRODES_pivot\""
   ]
  },
  {
   "cell_type": "code",
   "execution_count": null,
   "metadata": {
    "hidden": true,
    "scrolled": true
   },
   "outputs": [],
   "source": [
    "arcpy.management.AddField(Tabulate_Inter_CAR_nALcerrado_PRODES,\n",
    "                          \"P08_19\",\n",
    "                          \"DOUBLE\")\n",
    "\n",
    "arcpy.management.AddField(Tabulate_Inter_CAR_nALcerrado_PRODES,\n",
    "                          \"P2020\",\n",
    "                          \"DOUBLE\")\n",
    "\n",
    "arcpy.management.AddField(Tabulate_Inter_CAR_nALcerrado_PRODES,\n",
    "                          \"P2021\",\n",
    "                          \"DOUBLE\")\n",
    "\n",
    "arcpy.management.AddField(Tabulate_Inter_CAR_nALcerrado_PRODES,\n",
    "                          \"P2022\",\n",
    "                          \"DOUBLE\")\n",
    "\n",
    "arcpy.management.AddField(Tabulate_Inter_CAR_nALcerrado_PRODES,\n",
    "                          \"P2023\",\n",
    "                          \"DOUBLE\")\n",
    "\n",
    "arcpy.management.AddField(Tabulate_Inter_CAR_nALcerrado_PRODES,\n",
    "                          \"P2024\",\n",
    "                          \"DOUBLE\")"
   ]
  },
  {
   "cell_type": "code",
   "execution_count": null,
   "metadata": {
    "hidden": true,
    "scrolled": true
   },
   "outputs": [],
   "source": [
    "arcpy.management.CalculateField(Tabulate_Inter_CAR_nALcerrado_PRODES,\n",
    "                                \"P08_19\", \n",
    "                                \"round(!gridcode2008! + !gridcode2009! + !gridcode2010! + !gridcode2011! + !gridcode2012! + !gridcode2013! + !gridcode2014! + !gridcode2015! + !gridcode2016! + !gridcode2017! + !gridcode2018!,4)\", \n",
    "                                \"PYTHON3\")\n",
    "\n",
    "arcpy.management.CalculateField(Tabulate_Inter_CAR_nALcerrado_PRODES,\n",
    "                                \"P2020\", \n",
    "                                \"round(!gridcode2020!,4)\", \n",
    "                                \"PYTHON3\")\n",
    "\n",
    "arcpy.management.CalculateField(Tabulate_Inter_CAR_nALcerrado_PRODES,\n",
    "                                \"P2021\", \n",
    "                                \"round(!gridcode2021!,4)\", \n",
    "                                \"PYTHON3\")\n",
    "\n",
    "arcpy.management.CalculateField(Tabulate_Inter_CAR_nALcerrado_PRODES,\n",
    "                                \"P2022\", \n",
    "                                \"round(!gridcode2022!,4)\", \n",
    "                                \"PYTHON3\")\n",
    "\n",
    "arcpy.management.CalculateField(Tabulate_Inter_CAR_nALcerrado_PRODES,\n",
    "                                \"P2023\", \n",
    "                                \"round(!gridcode2023!,4)\", \n",
    "                                \"PYTHON3\")\n",
    "\n",
    "arcpy.management.CalculateField(Tabulate_Inter_CAR_nALcerrado_PRODES,\n",
    "                                \"P2024\", \n",
    "                                \"round(!gridcode2024!,4)\", \n",
    "                                \"PYTHON3\")"
   ]
  },
  {
   "cell_type": "markdown",
   "metadata": {
    "hidden": true
   },
   "source": [
    "##### Join"
   ]
  },
  {
   "cell_type": "code",
   "execution_count": null,
   "metadata": {
    "hidden": true,
    "scrolled": true
   },
   "outputs": [],
   "source": [
    "CAR_nALcerrado = \"CAR_nALcerrado\""
   ]
  },
  {
   "cell_type": "code",
   "execution_count": null,
   "metadata": {
    "hidden": true,
    "scrolled": true
   },
   "outputs": [],
   "source": [
    "arcpy.management.JoinField(\n",
    "    in_data    = CAR_nALcerrado, \n",
    "    in_field   = \"cod_imovel\", \n",
    "    join_table = Tabulate_Inter_CAR_nALcerrado_PRODES,\n",
    "    join_field = \"cod_imovel\", \n",
    "    fields     = [\"P08_19\", \"P2020\", \"P2021\", \"P2022\", \"P2023\", \"P2024\"])"
   ]
  },
  {
   "cell_type": "markdown",
   "metadata": {
    "hidden": true
   },
   "source": [
    "#### Mata Atlântica"
   ]
  },
  {
   "cell_type": "markdown",
   "metadata": {
    "hidden": true
   },
   "source": [
    "##### Tabulate Intersection"
   ]
  },
  {
   "cell_type": "code",
   "execution_count": null,
   "metadata": {
    "hidden": true,
    "scrolled": true
   },
   "outputs": [],
   "source": [
    "CAR_nALmata = \"CAR_nALmata\""
   ]
  },
  {
   "cell_type": "code",
   "execution_count": null,
   "metadata": {
    "hidden": true,
    "scrolled": true
   },
   "outputs": [],
   "source": [
    "arcpy.analysis.TabulateIntersection(\n",
    "    in_zone_features  = CAR_nALmata,\n",
    "    zone_fields       = \"cod_imovel\",\n",
    "    in_class_features = PRODES,\n",
    "    out_table         = \"Tabulate_Inter_CAR_nALmata_PRODES\",\n",
    "    class_fields      = \"gridcode\",\n",
    "    out_units         = \"HECTARES\")"
   ]
  },
  {
   "cell_type": "markdown",
   "metadata": {
    "hidden": true
   },
   "source": [
    "##### Pivot Table"
   ]
  },
  {
   "cell_type": "code",
   "execution_count": null,
   "metadata": {
    "hidden": true,
    "scrolled": true
   },
   "outputs": [],
   "source": [
    "Tabulate_Inter_CAR_nALmata_PRODES  = \"Tabulate_Inter_CAR_nALmata_PRODES\""
   ]
  },
  {
   "cell_type": "code",
   "execution_count": null,
   "metadata": {
    "hidden": true,
    "scrolled": true
   },
   "outputs": [],
   "source": [
    "arcpy.management.PivotTable(\n",
    "    in_table    = Tabulate_Inter_CAR_nALmata_PRODES, \n",
    "    fields      = \"cod_imovel\", \n",
    "    pivot_field = \"gridcode\", \n",
    "    value_field = \"AREA\", \n",
    "    out_table   = \"Tabulate_Inter_CAR_nALmata_PRODES_pivot\")"
   ]
  },
  {
   "cell_type": "markdown",
   "metadata": {
    "hidden": true
   },
   "source": [
    "##### Null por 0"
   ]
  },
  {
   "cell_type": "code",
   "execution_count": null,
   "metadata": {
    "hidden": true,
    "scrolled": true
   },
   "outputs": [],
   "source": [
    "Tabulate_Inter_CAR_nALmata_PRODES  = \"Tabulate_Inter_CAR_nALmata_PRODES_pivot\""
   ]
  },
  {
   "cell_type": "code",
   "execution_count": null,
   "metadata": {
    "hidden": true,
    "scrolled": true
   },
   "outputs": [],
   "source": [
    "fieldObs = arcpy.ListFields(Tabulate_Inter_CAR_nALmata_PRODES)  \n",
    "fieldNames = []  \n",
    "for field in fieldObs:  \n",
    "    fieldNames.append(field.name)  \n",
    "del fieldObs  \n",
    "fieldCount = len(fieldNames)  \n",
    "\n",
    "with arcpy.da.UpdateCursor(Tabulate_Inter_CAR_nALmata_PRODES, fieldNames) as curU:  \n",
    "    for row in curU:  \n",
    "        rowU = row  \n",
    "        for field in range(fieldCount):  \n",
    "            if rowU[field] == None:  \n",
    "                rowU[field] = \"0.0\"  \n",
    "      \n",
    "      \n",
    "        curU.updateRow(rowU)\n",
    "\n",
    "del curU"
   ]
  },
  {
   "cell_type": "markdown",
   "metadata": {
    "hidden": true
   },
   "source": [
    "##### Ajustando Colunas"
   ]
  },
  {
   "cell_type": "code",
   "execution_count": null,
   "metadata": {
    "hidden": true,
    "scrolled": true
   },
   "outputs": [],
   "source": [
    "Tabulate_Inter_CAR_nALmata_PRODES  = \"Tabulate_Inter_CAR_nALmata_PRODES_pivot\""
   ]
  },
  {
   "cell_type": "code",
   "execution_count": null,
   "metadata": {
    "hidden": true,
    "scrolled": true
   },
   "outputs": [],
   "source": [
    "arcpy.management.AddField(Tabulate_Inter_CAR_nALmata_PRODES,\n",
    "                          \"P08_19\",\n",
    "                          \"DOUBLE\")\n",
    "\n",
    "arcpy.management.AddField(Tabulate_Inter_CAR_nALmata_PRODES,\n",
    "                          \"P2020\",\n",
    "                          \"DOUBLE\")\n",
    "\n",
    "arcpy.management.AddField(Tabulate_Inter_CAR_nALmata_PRODES,\n",
    "                          \"P2021\",\n",
    "                          \"DOUBLE\")\n",
    "\n",
    "arcpy.management.AddField(Tabulate_Inter_CAR_nALmata_PRODES,\n",
    "                          \"P2022\",\n",
    "                          \"DOUBLE\")\n",
    "\n",
    "arcpy.management.AddField(Tabulate_Inter_CAR_nALmata_PRODES,\n",
    "                          \"P2023\",\n",
    "                          \"DOUBLE\")\n",
    "\n",
    "arcpy.management.AddField(Tabulate_Inter_CAR_nALmata_PRODES,\n",
    "                          \"P2024\",\n",
    "                          \"DOUBLE\")"
   ]
  },
  {
   "cell_type": "code",
   "execution_count": null,
   "metadata": {
    "hidden": true,
    "scrolled": true
   },
   "outputs": [],
   "source": [
    "arcpy.management.CalculateField(Tabulate_Inter_CAR_nALmata_PRODES,\n",
    "                                \"P08_19\", \n",
    "                                \"round(!gridcode2008! + !gridcode2010! + !gridcode2011! + !gridcode2012! + !gridcode2013! + !gridcode2014! + !gridcode2015! + !gridcode2016! + !gridcode2017! + !gridcode2018!,4)\", \n",
    "                                \"PYTHON3\")\n",
    "\n",
    "arcpy.management.CalculateField(Tabulate_Inter_CAR_nALmata_PRODES,\n",
    "                                \"P2020\", \n",
    "                                \"round(!gridcode2020!,4)\", \n",
    "                                \"PYTHON3\")\n",
    "\n",
    "arcpy.management.CalculateField(Tabulate_Inter_CAR_nALmata_PRODES,\n",
    "                                \"P2021\", \n",
    "                                \"round(!gridcode2021!,4)\", \n",
    "                                \"PYTHON3\")\n",
    "\n",
    "arcpy.management.CalculateField(Tabulate_Inter_CAR_nALmata_PRODES,\n",
    "                                \"P2022\", \n",
    "                                \"round(!gridcode2022!,4)\", \n",
    "                                \"PYTHON3\")\n",
    "\n",
    "arcpy.management.CalculateField(Tabulate_Inter_CAR_nALmata_PRODES,\n",
    "                                \"P2023\", \n",
    "                                \"round(!gridcode2023!,4)\", \n",
    "                                \"PYTHON3\")"
   ]
  },
  {
   "cell_type": "markdown",
   "metadata": {
    "hidden": true
   },
   "source": [
    "##### Join"
   ]
  },
  {
   "cell_type": "code",
   "execution_count": null,
   "metadata": {
    "hidden": true,
    "scrolled": true
   },
   "outputs": [],
   "source": [
    "CAR_nALcerrado = \"CAR_nALmata\""
   ]
  },
  {
   "cell_type": "code",
   "execution_count": null,
   "metadata": {
    "hidden": true,
    "scrolled": true
   },
   "outputs": [],
   "source": [
    "arcpy.management.JoinField(\n",
    "    in_data    = CAR_nALmata, \n",
    "    in_field   = \"cod_imovel\", \n",
    "    join_table = Tabulate_Inter_CAR_nALmata_PRODES,\n",
    "    join_field = \"cod_imovel\", \n",
    "    fields     = [\"P08_19\", \"P2020\", \"P2021\", \"P2022\", \"P2023\", \"P2024\"])"
   ]
  },
  {
   "cell_type": "markdown",
   "metadata": {
    "hidden": true
   },
   "source": [
    "#### Caatinga"
   ]
  },
  {
   "cell_type": "markdown",
   "metadata": {
    "hidden": true
   },
   "source": [
    "##### Tabulate Intersection"
   ]
  },
  {
   "cell_type": "code",
   "execution_count": null,
   "metadata": {
    "hidden": true,
    "scrolled": true
   },
   "outputs": [],
   "source": [
    "CAR_nALcaatinga = \"CAR_nALcaatinga\""
   ]
  },
  {
   "cell_type": "code",
   "execution_count": null,
   "metadata": {
    "hidden": true,
    "scrolled": true
   },
   "outputs": [],
   "source": [
    "arcpy.analysis.TabulateIntersection(\n",
    "    in_zone_features  = CAR_nALcaatinga,\n",
    "    zone_fields       = \"cod_imovel\",\n",
    "    in_class_features = PRODES,\n",
    "    out_table         = \"Tabulate_Inter_CAR_nALcaatinga_PRODES\",\n",
    "    class_fields      = \"gridcode\",\n",
    "    out_units         = \"HECTARES\")"
   ]
  },
  {
   "cell_type": "markdown",
   "metadata": {
    "hidden": true
   },
   "source": [
    "##### Pivot Table"
   ]
  },
  {
   "cell_type": "code",
   "execution_count": null,
   "metadata": {
    "hidden": true,
    "scrolled": true
   },
   "outputs": [],
   "source": [
    "Tabulate_Inter_CAR_nALcaatinga_PRODES  = \"Tabulate_Inter_CAR_nALcaatinga_PRODES\""
   ]
  },
  {
   "cell_type": "code",
   "execution_count": null,
   "metadata": {
    "hidden": true,
    "scrolled": true
   },
   "outputs": [],
   "source": [
    "arcpy.management.PivotTable(\n",
    "    in_table    = Tabulate_Inter_CAR_nALcaatinga_PRODES, \n",
    "    fields      = \"cod_imovel\", \n",
    "    pivot_field = \"gridcode\", \n",
    "    value_field = \"AREA\", \n",
    "    out_table   = \"Tabulate_Inter_CAR_nALcaatinga_PRODES_pivot\")"
   ]
  },
  {
   "cell_type": "markdown",
   "metadata": {
    "hidden": true
   },
   "source": [
    "##### Null por 0"
   ]
  },
  {
   "cell_type": "code",
   "execution_count": null,
   "metadata": {
    "hidden": true,
    "scrolled": true
   },
   "outputs": [],
   "source": [
    "Tabulate_Inter_CAR_nALcaatinga_PRODES  = \"Tabulate_Inter_CAR_nALcaatinga_PRODES_pivot\""
   ]
  },
  {
   "cell_type": "code",
   "execution_count": null,
   "metadata": {
    "hidden": true,
    "scrolled": true
   },
   "outputs": [],
   "source": [
    "fieldObs = arcpy.ListFields(Tabulate_Inter_CAR_nALcaatinga_PRODES)  \n",
    "fieldNames = []  \n",
    "for field in fieldObs:  \n",
    "    fieldNames.append(field.name)  \n",
    "del fieldObs  \n",
    "fieldCount = len(fieldNames)  \n",
    "\n",
    "with arcpy.da.UpdateCursor(Tabulate_Inter_CAR_nALcaatinga_PRODES, fieldNames) as curU:  \n",
    "    for row in curU:  \n",
    "        rowU = row  \n",
    "        for field in range(fieldCount):  \n",
    "            if rowU[field] == None:  \n",
    "                rowU[field] = \"0.0\"  \n",
    "      \n",
    "      \n",
    "        curU.updateRow(rowU)\n",
    "\n",
    "del curU"
   ]
  },
  {
   "cell_type": "markdown",
   "metadata": {
    "hidden": true
   },
   "source": [
    "##### Ajustando Colunas"
   ]
  },
  {
   "cell_type": "code",
   "execution_count": null,
   "metadata": {
    "hidden": true,
    "scrolled": true
   },
   "outputs": [],
   "source": [
    "Tabulate_Inter_CAR_nALcaatinga_PRODES  = \"Tabulate_Inter_CAR_nALcaatinga_PRODES_pivot\""
   ]
  },
  {
   "cell_type": "code",
   "execution_count": null,
   "metadata": {
    "hidden": true,
    "scrolled": true
   },
   "outputs": [],
   "source": [
    "arcpy.management.AddField(Tabulate_Inter_CAR_nALcaatinga_PRODES,\n",
    "                          \"P08_19\",\n",
    "                          \"DOUBLE\")\n",
    "\n",
    "arcpy.management.AddField(Tabulate_Inter_CAR_nALcaatinga_PRODES,\n",
    "                          \"P2020\",\n",
    "                          \"DOUBLE\")\n",
    "\n",
    "arcpy.management.AddField(Tabulate_Inter_CAR_nALcaatinga_PRODES,\n",
    "                          \"P2021\",\n",
    "                          \"DOUBLE\")\n",
    "\n",
    "arcpy.management.AddField(Tabulate_Inter_CAR_nALcaatinga_PRODES,\n",
    "                          \"P2022\",\n",
    "                          \"DOUBLE\")\n",
    "\n",
    "arcpy.management.AddField(Tabulate_Inter_CAR_nALcaatinga_PRODES,\n",
    "                          \"P2023\",\n",
    "                          \"DOUBLE\")\n",
    "\n",
    "arcpy.management.AddField(Tabulate_Inter_CAR_nALcaatinga_PRODES,\n",
    "                          \"P2024\",\n",
    "                          \"DOUBLE\")"
   ]
  },
  {
   "cell_type": "code",
   "execution_count": null,
   "metadata": {
    "hidden": true,
    "scrolled": true
   },
   "outputs": [],
   "source": [
    "arcpy.management.CalculateField(Tabulate_Inter_CAR_nALcaatinga_PRODES,\n",
    "                                \"P08_19\", \n",
    "                                \"round(!gridcode2008! + !gridcode2010! + !gridcode2011! + !gridcode2012! + !gridcode2013! + !gridcode2014! + !gridcode2015! + !gridcode2016! + !gridcode2017! + !gridcode2018!,4)\", \n",
    "                                \"PYTHON3\")\n",
    "\n",
    "arcpy.management.CalculateField(Tabulate_Inter_CAR_nALcaatinga_PRODES,\n",
    "                                \"P2020\", \n",
    "                                \"round(!gridcode2020!,4)\", \n",
    "                                \"PYTHON3\")\n",
    "\n",
    "arcpy.management.CalculateField(Tabulate_Inter_CAR_nALcaatinga_PRODES,\n",
    "                                \"P2021\", \n",
    "                                \"round(!gridcode2021!,4)\", \n",
    "                                \"PYTHON3\")\n",
    "\n",
    "arcpy.management.CalculateField(Tabulate_Inter_CAR_nALcaatinga_PRODES,\n",
    "                                \"P2022\", \n",
    "                                \"round(!gridcode2022!,4)\", \n",
    "                                \"PYTHON3\")\n",
    "\n",
    "arcpy.management.CalculateField(Tabulate_Inter_CAR_nALcaatinga_PRODES,\n",
    "                                \"P2023\", \n",
    "                                \"round(!gridcode2023!,4)\", \n",
    "                                \"PYTHON3\")"
   ]
  },
  {
   "cell_type": "markdown",
   "metadata": {
    "hidden": true
   },
   "source": [
    "##### Join"
   ]
  },
  {
   "cell_type": "code",
   "execution_count": null,
   "metadata": {
    "hidden": true,
    "scrolled": true
   },
   "outputs": [],
   "source": [
    "CAR_nALcaatinga = \"CAR_nALcaatinga\""
   ]
  },
  {
   "cell_type": "code",
   "execution_count": null,
   "metadata": {
    "hidden": true,
    "scrolled": true
   },
   "outputs": [],
   "source": [
    "arcpy.management.JoinField(\n",
    "    in_data    = CAR_nALcaatinga, \n",
    "    in_field   = \"cod_imovel\", \n",
    "    join_table = Tabulate_Inter_CAR_nALcaatinga_PRODES,\n",
    "    join_field = \"cod_imovel\", \n",
    "    fields     = [\"P08_19\", \"P2020\", \"P2021\", \"P2022\", \"P2023\", \"P2024\"])"
   ]
  },
  {
   "cell_type": "markdown",
   "metadata": {
    "hidden": true
   },
   "source": [
    "#### Pampa, Pantanal"
   ]
  },
  {
   "cell_type": "markdown",
   "metadata": {
    "hidden": true
   },
   "source": [
    "##### Tabulate Intersection"
   ]
  },
  {
   "cell_type": "code",
   "execution_count": null,
   "metadata": {
    "hidden": true,
    "scrolled": true
   },
   "outputs": [],
   "source": [
    "CAR_nALPamPan = \"CAR_nALPamPan\""
   ]
  },
  {
   "cell_type": "code",
   "execution_count": null,
   "metadata": {
    "hidden": true,
    "scrolled": true
   },
   "outputs": [],
   "source": [
    "arcpy.analysis.TabulateIntersection(\n",
    "    in_zone_features  = CAR_nALPamPan,\n",
    "    zone_fields       = \"cod_imovel\",\n",
    "    in_class_features = PRODES,\n",
    "    out_table         = \"Tabulate_Inter_CAR_nALPamPan_PRODES\",\n",
    "    class_fields      = \"gridcode\",\n",
    "    out_units         = \"HECTARES\")"
   ]
  },
  {
   "cell_type": "markdown",
   "metadata": {
    "hidden": true
   },
   "source": [
    "##### Pivot Table"
   ]
  },
  {
   "cell_type": "code",
   "execution_count": null,
   "metadata": {
    "hidden": true,
    "scrolled": true
   },
   "outputs": [],
   "source": [
    "Tabulate_Inter_CAR_nALPamPan_PRODES  = \"Tabulate_Inter_CAR_nALPamPan_PRODES\""
   ]
  },
  {
   "cell_type": "code",
   "execution_count": null,
   "metadata": {
    "hidden": true,
    "scrolled": true
   },
   "outputs": [],
   "source": [
    "arcpy.management.PivotTable(\n",
    "    in_table    = Tabulate_Inter_CAR_nALPamPan_PRODES, \n",
    "    fields      = \"cod_imovel\", \n",
    "    pivot_field = \"gridcode\", \n",
    "    value_field = \"AREA\", \n",
    "    out_table   = \"Tabulate_Inter_CAR_nALPamPan_PRODES_pivot\")"
   ]
  },
  {
   "cell_type": "markdown",
   "metadata": {
    "hidden": true
   },
   "source": [
    "##### Null por 0"
   ]
  },
  {
   "cell_type": "code",
   "execution_count": null,
   "metadata": {
    "hidden": true,
    "scrolled": true
   },
   "outputs": [],
   "source": [
    "Tabulate_Inter_CAR_nALPamPan_PRODES  = \"Tabulate_Inter_CAR_nALPamPan_PRODES_pivot\""
   ]
  },
  {
   "cell_type": "code",
   "execution_count": null,
   "metadata": {
    "hidden": true,
    "scrolled": true
   },
   "outputs": [],
   "source": [
    "fieldObs = arcpy.ListFields(Tabulate_Inter_CAR_nALPamPan_PRODES)  \n",
    "fieldNames = []  \n",
    "for field in fieldObs:  \n",
    "    fieldNames.append(field.name)  \n",
    "del fieldObs  \n",
    "fieldCount = len(fieldNames)  \n",
    "\n",
    "with arcpy.da.UpdateCursor(Tabulate_Inter_CAR_nALPamPan_PRODES, fieldNames) as curU:  \n",
    "    for row in curU:  \n",
    "        rowU = row  \n",
    "        for field in range(fieldCount):  \n",
    "            if rowU[field] == None:  \n",
    "                rowU[field] = \"0.0\"  \n",
    "      \n",
    "      \n",
    "        curU.updateRow(rowU)\n",
    "\n",
    "del curU"
   ]
  },
  {
   "cell_type": "markdown",
   "metadata": {
    "hidden": true
   },
   "source": [
    "##### Ajustando Colunas"
   ]
  },
  {
   "cell_type": "code",
   "execution_count": null,
   "metadata": {
    "hidden": true,
    "scrolled": true
   },
   "outputs": [],
   "source": [
    "Tabulate_Inter_CAR_nALPamPan_PRODES  = \"Tabulate_Inter_CAR_nALPamPan_PRODES_pivot\""
   ]
  },
  {
   "cell_type": "code",
   "execution_count": null,
   "metadata": {
    "hidden": true,
    "scrolled": true
   },
   "outputs": [],
   "source": [
    "arcpy.management.AddField(Tabulate_Inter_CAR_nALPamPan_PRODES,\n",
    "                          \"P08_19\",\n",
    "                          \"DOUBLE\")\n",
    "\n",
    "arcpy.management.AddField(Tabulate_Inter_CAR_nALPamPan_PRODES,\n",
    "                          \"P2020\",\n",
    "                          \"DOUBLE\")\n",
    "\n",
    "arcpy.management.AddField(Tabulate_Inter_CAR_nALPamPan_PRODES,\n",
    "                          \"P2021\",\n",
    "                          \"DOUBLE\")\n",
    "\n",
    "arcpy.management.AddField(Tabulate_Inter_CAR_nALPamPan_PRODES,\n",
    "                          \"P2022\",\n",
    "                          \"DOUBLE\")\n",
    "\n",
    "arcpy.management.AddField(Tabulate_Inter_CAR_nALPamPan_PRODES,\n",
    "                          \"P2023\",\n",
    "                          \"DOUBLE\")\n",
    "\n",
    "arcpy.management.AddField(Tabulate_Inter_CAR_nALPamPan_PRODES,\n",
    "                          \"P2024\",\n",
    "                          \"DOUBLE\")"
   ]
  },
  {
   "cell_type": "code",
   "execution_count": null,
   "metadata": {
    "hidden": true,
    "scrolled": true
   },
   "outputs": [],
   "source": [
    "arcpy.management.CalculateField(Tabulate_Inter_CAR_nALPamPan_PRODES,\n",
    "                                \"P08_19\", \n",
    "                                \"round(!gridcode2008! + !gridcode2010! + !gridcode2011! + !gridcode2013! + !gridcode2014! + !gridcode2016! + !gridcode2017! + !gridcode2018!,4)\", \n",
    "                                \"PYTHON3\")\n",
    "\n",
    "arcpy.management.CalculateField(Tabulate_Inter_CAR_nALPamPan_PRODES,\n",
    "                                \"P2020\", \n",
    "                                \"round(!gridcode2020!,4)\", \n",
    "                                \"PYTHON3\")\n",
    "\n",
    "arcpy.management.CalculateField(Tabulate_Inter_CAR_nALPamPan_PRODES,\n",
    "                                \"P2021\", \n",
    "                                \"round(!gridcode2021!,4)\", \n",
    "                                \"PYTHON3\")\n",
    "\n",
    "arcpy.management.CalculateField(Tabulate_Inter_CAR_nALPamPan_PRODES,\n",
    "                                \"P2022\", \n",
    "                                \"round(!gridcode2022!,4)\", \n",
    "                                \"PYTHON3\")\n",
    "\n",
    "arcpy.management.CalculateField(Tabulate_Inter_CAR_nALPamPan_PRODES,\n",
    "                                \"P2023\", \n",
    "                                \"round(!gridcode2023!,4)\", \n",
    "                                \"PYTHON3\")"
   ]
  },
  {
   "cell_type": "markdown",
   "metadata": {
    "hidden": true
   },
   "source": [
    "##### Join"
   ]
  },
  {
   "cell_type": "code",
   "execution_count": null,
   "metadata": {
    "hidden": true,
    "scrolled": true
   },
   "outputs": [],
   "source": [
    "CAR_nALPamPan = \"CAR_nALPamPan\""
   ]
  },
  {
   "cell_type": "code",
   "execution_count": null,
   "metadata": {
    "hidden": true,
    "scrolled": true
   },
   "outputs": [],
   "source": [
    "arcpy.management.JoinField(\n",
    "    in_data    = CAR_nALPamPan, \n",
    "    in_field   = \"cod_imovel\", \n",
    "    join_table = Tabulate_Inter_CAR_nALPamPan_PRODES,\n",
    "    join_field = \"cod_imovel\", \n",
    "    fields     = [\"P08_19\", \"P2020\", \"P2021\", \"P2022\", \"P2023\", \"P2024\"])"
   ]
  },
  {
   "cell_type": "markdown",
   "metadata": {
    "heading_collapsed": true
   },
   "source": [
    "##  Desmatamento Alerta Mapbiomas"
   ]
  },
  {
   "cell_type": "markdown",
   "metadata": {
    "hidden": true
   },
   "source": [
    "### <mark>Onde Estamos?</mark>"
   ]
  },
  {
   "cell_type": "code",
   "execution_count": null,
   "metadata": {
    "hidden": true,
    "scrolled": true
   },
   "outputs": [],
   "source": [
    "ALERTA = \"ALERTAprj_2024\""
   ]
  },
  {
   "cell_type": "code",
   "execution_count": null,
   "metadata": {
    "hidden": true,
    "scrolled": true
   },
   "outputs": [],
   "source": [
    "CAR_AL          = \"CAR_AL\"\n",
    "CAR_nALcerrado  = \"CAR_nALcerrado\"\n",
    "CAR_nALmata     = \"CAR_nALmata\"\n",
    "CAR_nALcaatinga = \"CAR_nALcaatinga\"\n",
    "CAR_nALPamPan   = \"CAR_nALPamPan\""
   ]
  },
  {
   "cell_type": "markdown",
   "metadata": {
    "hidden": true
   },
   "source": [
    "### Tabular Intersecção"
   ]
  },
  {
   "cell_type": "code",
   "execution_count": null,
   "metadata": {
    "hidden": true,
    "scrolled": true
   },
   "outputs": [],
   "source": [
    "arcpy.analysis.TabulateIntersection(\n",
    "    in_zone_features  = CAR_AL,\n",
    "    zone_fields       = \"cod_imovel\",\n",
    "    in_class_features = ALERTA,\n",
    "    out_table         = \"Tabulate_Inter_CAR_AL_ALERTA\",\n",
    "    class_fields      = \"ANODETEC\",\n",
    "    out_units         = \"HECTARES\")"
   ]
  },
  {
   "cell_type": "code",
   "execution_count": null,
   "metadata": {
    "hidden": true,
    "scrolled": true
   },
   "outputs": [],
   "source": [
    "arcpy.analysis.TabulateIntersection(\n",
    "    in_zone_features  = CAR_nALcerrado,\n",
    "    zone_fields       = \"cod_imovel\",\n",
    "    in_class_features = ALERTA,\n",
    "    out_table         = \"Tabulate_Inter_CAR_nALcerrado_ALERTA\",\n",
    "    class_fields      = \"ANODETEC\",\n",
    "    out_units         = \"HECTARES\")"
   ]
  },
  {
   "cell_type": "code",
   "execution_count": null,
   "metadata": {
    "hidden": true,
    "scrolled": true
   },
   "outputs": [],
   "source": [
    "arcpy.analysis.TabulateIntersection(\n",
    "    in_zone_features  = CAR_nALmata,\n",
    "    zone_fields       = \"cod_imovel\",\n",
    "    in_class_features = ALERTA,\n",
    "    out_table         = \"Tabulate_Inter_CAR_nALmata_ALERTA\",\n",
    "    class_fields      = \"ANODETEC\",\n",
    "    out_units         = \"HECTARES\")"
   ]
  },
  {
   "cell_type": "code",
   "execution_count": null,
   "metadata": {
    "hidden": true,
    "scrolled": true
   },
   "outputs": [],
   "source": [
    "arcpy.analysis.TabulateIntersection(\n",
    "    in_zone_features  = CAR_nALcaatinga,\n",
    "    zone_fields       = \"cod_imovel\",\n",
    "    in_class_features = ALERTA,\n",
    "    out_table         = \"Tabulate_Inter_CAR_nALcaatinga_ALERTA\",\n",
    "    class_fields      = \"ANODETEC\",\n",
    "    out_units         = \"HECTARES\")"
   ]
  },
  {
   "cell_type": "code",
   "execution_count": null,
   "metadata": {
    "hidden": true,
    "scrolled": true
   },
   "outputs": [],
   "source": [
    "arcpy.analysis.TabulateIntersection(\n",
    "    in_zone_features  = CAR_nALPamPan,\n",
    "    zone_fields       = \"cod_imovel\",\n",
    "    in_class_features = ALERTA,\n",
    "    out_table         = \"Tabulate_Inter_CAR_nALPamPan_ALERTA\",\n",
    "    class_fields      = \"ANODETEC\",\n",
    "    out_units         = \"HECTARES\")"
   ]
  },
  {
   "cell_type": "markdown",
   "metadata": {
    "hidden": true
   },
   "source": [
    "### Ajustar Colunas"
   ]
  },
  {
   "cell_type": "markdown",
   "metadata": {
    "hidden": true
   },
   "source": [
    "#### Adicionar"
   ]
  },
  {
   "cell_type": "code",
   "execution_count": null,
   "metadata": {
    "hidden": true,
    "scrolled": true
   },
   "outputs": [],
   "source": [
    "Tabulate_Inter_CAR_AL_ALERTA = \"Tabulate_Inter_CAR_AL_ALERTA\"\n",
    "\n",
    "#---------------------------------\n",
    "arcpy.management.AddField(Tabulate_Inter_CAR_AL_ALERTA,\n",
    "                          \"A2024\",\n",
    "                          \"DOUBLE\")"
   ]
  },
  {
   "cell_type": "code",
   "execution_count": null,
   "metadata": {
    "hidden": true,
    "scrolled": true
   },
   "outputs": [],
   "source": [
    "Tabulate_Inter_CAR_nALcerrado_ALERTA = \"Tabulate_Inter_CAR_nALcerrado_ALERTA\"\n",
    "\n",
    "#---------------------------------\n",
    "arcpy.management.AddField(Tabulate_Inter_CAR_nALcerrado_ALERTA,\n",
    "                          \"A2024\",\n",
    "                          \"DOUBLE\")"
   ]
  },
  {
   "cell_type": "code",
   "execution_count": null,
   "metadata": {
    "hidden": true,
    "scrolled": true
   },
   "outputs": [],
   "source": [
    "Tabulate_Inter_CAR_nALmata_ALERTA = \"Tabulate_Inter_CAR_nALmata_ALERTA\"\n",
    "\n",
    "#---------------------------------\n",
    "arcpy.management.AddField(Tabulate_Inter_CAR_nALmata_ALERTA,\n",
    "                          \"A2024\",\n",
    "                          \"DOUBLE\")"
   ]
  },
  {
   "cell_type": "code",
   "execution_count": null,
   "metadata": {
    "hidden": true,
    "scrolled": true
   },
   "outputs": [],
   "source": [
    "Tabulate_Inter_CAR_nALcaatinga_ALERTA = \"Tabulate_Inter_CAR_nALcaatinga_ALERTA\"\n",
    "\n",
    "#---------------------------------\n",
    "arcpy.management.AddField(Tabulate_Inter_CAR_nALcaatinga_ALERTA,\n",
    "                          \"A2024\",\n",
    "                          \"DOUBLE\")"
   ]
  },
  {
   "cell_type": "code",
   "execution_count": null,
   "metadata": {
    "hidden": true,
    "scrolled": true
   },
   "outputs": [],
   "source": [
    "Tabulate_Inter_CAR_nALPamPan_ALERTA = \"Tabulate_Inter_CAR_nALPamPan_ALERTA\"\n",
    "\n",
    "#---------------------------------\n",
    "arcpy.management.AddField(Tabulate_Inter_CAR_nALPamPan_ALERTA,\n",
    "                          \"A2024\",\n",
    "                          \"DOUBLE\")"
   ]
  },
  {
   "cell_type": "markdown",
   "metadata": {
    "hidden": true
   },
   "source": [
    "#### Calcular"
   ]
  },
  {
   "cell_type": "code",
   "execution_count": null,
   "metadata": {
    "hidden": true,
    "scrolled": true
   },
   "outputs": [],
   "source": [
    "#---------------------------------\n",
    "arcpy.management.CalculateField(Tabulate_Inter_CAR_AL_ALERTA,\n",
    "                                \"A2024\", \n",
    "                                \"round(!AREA!,4)\", \n",
    "                                \"PYTHON3\")"
   ]
  },
  {
   "cell_type": "code",
   "execution_count": null,
   "metadata": {
    "hidden": true,
    "scrolled": true
   },
   "outputs": [],
   "source": [
    "#---------------------------------\n",
    "arcpy.management.CalculateField(Tabulate_Inter_CAR_nALcerrado_ALERTA,\n",
    "                                \"A2024\", \n",
    "                                \"round(!AREA!,4)\", \n",
    "                                \"PYTHON3\")"
   ]
  },
  {
   "cell_type": "code",
   "execution_count": null,
   "metadata": {
    "hidden": true,
    "scrolled": true
   },
   "outputs": [],
   "source": [
    "#---------------------------------\n",
    "arcpy.management.CalculateField(Tabulate_Inter_CAR_nALmata_ALERTA,\n",
    "                                \"A2024\", \n",
    "                                \"round(!AREA!,4)\", \n",
    "                                \"PYTHON3\")"
   ]
  },
  {
   "cell_type": "code",
   "execution_count": null,
   "metadata": {
    "hidden": true,
    "scrolled": true
   },
   "outputs": [],
   "source": [
    "#---------------------------------\n",
    "arcpy.management.CalculateField(Tabulate_Inter_CAR_nALcaatinga_ALERTA,\n",
    "                                \"A2024\", \n",
    "                                \"round(!AREA!,4)\", \n",
    "                                \"PYTHON3\")"
   ]
  },
  {
   "cell_type": "code",
   "execution_count": null,
   "metadata": {
    "hidden": true,
    "scrolled": true
   },
   "outputs": [],
   "source": [
    "#---------------------------------\n",
    "arcpy.management.CalculateField(Tabulate_Inter_CAR_nALPamPan_ALERTA,\n",
    "                                \"A2024\", \n",
    "                                \"round(!AREA!,4)\", \n",
    "                                \"PYTHON3\")"
   ]
  },
  {
   "cell_type": "markdown",
   "metadata": {
    "hidden": true
   },
   "source": [
    "### Join"
   ]
  },
  {
   "cell_type": "code",
   "execution_count": null,
   "metadata": {
    "hidden": true,
    "scrolled": true
   },
   "outputs": [],
   "source": [
    "arcpy.management.JoinField(\n",
    "    in_data    = CAR_AL, \n",
    "    in_field   = \"cod_imovel\", \n",
    "    join_table = Tabulate_Inter_CAR_AL_ALERTA,\n",
    "    join_field = \"cod_imovel\", \n",
    "    fields     = \"A2024\")"
   ]
  },
  {
   "cell_type": "code",
   "execution_count": null,
   "metadata": {
    "hidden": true,
    "scrolled": true
   },
   "outputs": [],
   "source": [
    "arcpy.management.JoinField(\n",
    "    in_data    = CAR_nALcerrado, \n",
    "    in_field   = \"cod_imovel\", \n",
    "    join_table = Tabulate_Inter_CAR_nALcerrado_ALERTA,\n",
    "    join_field = \"cod_imovel\", \n",
    "    fields     = \"A2024\")"
   ]
  },
  {
   "cell_type": "code",
   "execution_count": null,
   "metadata": {
    "hidden": true,
    "scrolled": true
   },
   "outputs": [],
   "source": [
    "arcpy.management.JoinField(\n",
    "    in_data    = CAR_nALmata, \n",
    "    in_field   = \"cod_imovel\", \n",
    "    join_table = Tabulate_Inter_CAR_nALmata_ALERTA,\n",
    "    join_field = \"cod_imovel\", \n",
    "    fields     = \"A2024\")"
   ]
  },
  {
   "cell_type": "code",
   "execution_count": null,
   "metadata": {
    "hidden": true,
    "scrolled": true
   },
   "outputs": [],
   "source": [
    "arcpy.management.JoinField(\n",
    "    in_data    = CAR_nALcaatinga, \n",
    "    in_field   = \"cod_imovel\", \n",
    "    join_table = Tabulate_Inter_CAR_nALcaatinga_ALERTA,\n",
    "    join_field = \"cod_imovel\", \n",
    "    fields     = \"A2024\")"
   ]
  },
  {
   "cell_type": "code",
   "execution_count": null,
   "metadata": {
    "hidden": true,
    "scrolled": true
   },
   "outputs": [],
   "source": [
    "arcpy.management.JoinField(\n",
    "    in_data    = CAR_nALPamPan, \n",
    "    in_field   = \"cod_imovel\", \n",
    "    join_table = Tabulate_Inter_CAR_nALPamPan_ALERTA,\n",
    "    join_field = \"cod_imovel\", \n",
    "    fields     = \"A2024\")"
   ]
  },
  {
   "cell_type": "markdown",
   "metadata": {},
   "source": [
    "## Sobreposição Terras Públicas"
   ]
  },
  {
   "cell_type": "markdown",
   "metadata": {
    "heading_collapsed": true
   },
   "source": [
    "### <mark>Onde Paramos?</mark>"
   ]
  },
  {
   "cell_type": "code",
   "execution_count": null,
   "metadata": {
    "hidden": true,
    "scrolled": true
   },
   "outputs": [],
   "source": [
    "CAR_AL          = \"CAR_AL\"\n",
    "CAR_nALcerrado  = \"CAR_nALcerrado\"\n",
    "CAR_nALmata     = \"CAR_nALmata\"\n",
    "CAR_nALcaatinga = \"CAR_nALcaatinga\"\n",
    "CAR_nALPamPan   = \"CAR_nALPamPan\""
   ]
  },
  {
   "cell_type": "markdown",
   "metadata": {
    "heading_collapsed": true
   },
   "source": [
    "### UC - CNUC e ICMBIO"
   ]
  },
  {
   "cell_type": "markdown",
   "metadata": {
    "hidden": true
   },
   "source": [
    "CNUC - GOV - DADOS ABERTOS https://dados.gov.br/dados/conjuntos-dados/unidadesdeconservacao\n",
    "\n",
    "ICMBIO https://www.gov.br/icmbio/pt-br/assuntos/dados_geoespaciais/mapa-tematico-e-dados-geoestatisticos-das-unidades-de-conservacao-federais"
   ]
  },
  {
   "cell_type": "code",
   "execution_count": null,
   "metadata": {
    "hidden": true,
    "scrolled": true
   },
   "outputs": [],
   "source": [
    "UC = \"UC_CNUC_PI\""
   ]
  },
  {
   "cell_type": "code",
   "execution_count": null,
   "metadata": {
    "hidden": true,
    "scrolled": true
   },
   "outputs": [],
   "source": [
    "crsUC  = arcpy.Describe(UC).spatialReference\n",
    "crsCAR_AL = arcpy.Describe(CAR_AL).spatialReference\n",
    "print(\"CRS UC    :\", crsUC.name)\n",
    "print(\"CRS CAR_AL:\", crsCAR_AL.name)"
   ]
  },
  {
   "cell_type": "markdown",
   "metadata": {
    "hidden": true
   },
   "source": [
    "#### Tabular Intersecção"
   ]
  },
  {
   "cell_type": "code",
   "execution_count": null,
   "metadata": {
    "hidden": true,
    "scrolled": true
   },
   "outputs": [],
   "source": [
    "arcpy.analysis.TabulateIntersection(\n",
    "    in_zone_features  = CAR_AL,\n",
    "    zone_fields       = \"cod_imovel\",\n",
    "    in_class_features = UC,\n",
    "    out_table         = \"Tabulate_Inter_CAR_AL_UC\",\n",
    "    class_fields      = \"UC\",\n",
    "    out_units         = \"HECTARES\")"
   ]
  },
  {
   "cell_type": "code",
   "execution_count": null,
   "metadata": {
    "hidden": true,
    "scrolled": true
   },
   "outputs": [],
   "source": [
    "arcpy.analysis.TabulateIntersection(\n",
    "    in_zone_features  = CAR_nALcerrado,\n",
    "    zone_fields       = \"cod_imovel\",\n",
    "    in_class_features = UC,\n",
    "    out_table         = \"Tabulate_Inter_CAR_nALcerrado_UC\",\n",
    "    class_fields      = \"UC\",\n",
    "    out_units         = \"HECTARES\")"
   ]
  },
  {
   "cell_type": "code",
   "execution_count": null,
   "metadata": {
    "hidden": true,
    "scrolled": true
   },
   "outputs": [],
   "source": [
    "arcpy.analysis.TabulateIntersection(\n",
    "    in_zone_features  = CAR_nALmata,\n",
    "    zone_fields       = \"cod_imovel\",\n",
    "    in_class_features = UC,\n",
    "    out_table         = \"Tabulate_Inter_CAR_nALmata_UC\",\n",
    "    class_fields      = \"UC\",\n",
    "    out_units         = \"HECTARES\")"
   ]
  },
  {
   "cell_type": "code",
   "execution_count": null,
   "metadata": {
    "hidden": true,
    "scrolled": true
   },
   "outputs": [],
   "source": [
    "arcpy.analysis.TabulateIntersection(\n",
    "    in_zone_features  = CAR_nALcaatinga,\n",
    "    zone_fields       = \"cod_imovel\",\n",
    "    in_class_features = UC,\n",
    "    out_table         = \"Tabulate_Inter_CAR_nALcaatinga_UC\",\n",
    "    class_fields      = \"UC\",\n",
    "    out_units         = \"HECTARES\")"
   ]
  },
  {
   "cell_type": "code",
   "execution_count": null,
   "metadata": {
    "hidden": true,
    "scrolled": true
   },
   "outputs": [],
   "source": [
    "arcpy.analysis.TabulateIntersection(\n",
    "    in_zone_features  = CAR_nALPamPan,\n",
    "    zone_fields       = \"cod_imovel\",\n",
    "    in_class_features = UC,\n",
    "    out_table         = \"Tabulate_Inter_CAR_nALPamPan_UC\",\n",
    "    class_fields      = \"UC\",\n",
    "    out_units         = \"HECTARES\")"
   ]
  },
  {
   "cell_type": "markdown",
   "metadata": {
    "hidden": true
   },
   "source": [
    "#### Ajustar Colunas"
   ]
  },
  {
   "cell_type": "markdown",
   "metadata": {
    "hidden": true
   },
   "source": [
    "##### Adicionar"
   ]
  },
  {
   "cell_type": "code",
   "execution_count": null,
   "metadata": {
    "hidden": true,
    "scrolled": true
   },
   "outputs": [],
   "source": [
    "Tabulate_Inter_CAR_AL_UC = \"Tabulate_Inter_CAR_AL_UC\"\n",
    "\n",
    "#---------------------------------\n",
    "arcpy.management.AddField(Tabulate_Inter_CAR_AL_UC,\n",
    "                          \"UCha\",\n",
    "                          \"DOUBLE\")"
   ]
  },
  {
   "cell_type": "code",
   "execution_count": null,
   "metadata": {
    "hidden": true,
    "scrolled": true
   },
   "outputs": [],
   "source": [
    "Tabulate_Inter_CAR_nALcerrado_UC = \"Tabulate_Inter_CAR_nALcerrado_UC\"\n",
    "\n",
    "#---------------------------------\n",
    "arcpy.management.AddField(Tabulate_Inter_CAR_nALcerrado_UC,\n",
    "                          \"UCha\",\n",
    "                          \"DOUBLE\")"
   ]
  },
  {
   "cell_type": "code",
   "execution_count": null,
   "metadata": {
    "hidden": true,
    "scrolled": true
   },
   "outputs": [],
   "source": [
    "Tabulate_Inter_CAR_nALmata_UC = \"Tabulate_Inter_CAR_nALmata_UC\"\n",
    "\n",
    "#---------------------------------\n",
    "arcpy.management.AddField(Tabulate_Inter_CAR_nALmata_UC,\n",
    "                          \"UCha\",\n",
    "                          \"DOUBLE\")"
   ]
  },
  {
   "cell_type": "code",
   "execution_count": null,
   "metadata": {
    "hidden": true,
    "scrolled": true
   },
   "outputs": [],
   "source": [
    "Tabulate_Inter_CAR_nALcaatinga_UC = \"Tabulate_Inter_CAR_nALcaatinga_UC\"\n",
    "\n",
    "#---------------------------------\n",
    "arcpy.management.AddField(Tabulate_Inter_CAR_nALcaatinga_UC,\n",
    "                          \"UCha\",\n",
    "                          \"DOUBLE\")"
   ]
  },
  {
   "cell_type": "code",
   "execution_count": null,
   "metadata": {
    "hidden": true,
    "scrolled": true
   },
   "outputs": [],
   "source": [
    "Tabulate_Inter_CAR_nALPamPan_UC = \"Tabulate_Inter_CAR_nALPamPan_UC\"\n",
    "\n",
    "#---------------------------------\n",
    "arcpy.management.AddField(Tabulate_Inter_CAR_nALPamPan_UC,\n",
    "                          \"UCha\",\n",
    "                          \"DOUBLE\")"
   ]
  },
  {
   "cell_type": "markdown",
   "metadata": {
    "hidden": true
   },
   "source": [
    "##### Calcular"
   ]
  },
  {
   "cell_type": "code",
   "execution_count": null,
   "metadata": {
    "hidden": true,
    "scrolled": true
   },
   "outputs": [],
   "source": [
    "#---------------------------------\n",
    "arcpy.management.CalculateField(Tabulate_Inter_CAR_AL_UC,\n",
    "                                \"UCha\", \n",
    "                                \"round(!AREA!,4)\", \n",
    "                                \"PYTHON3\")"
   ]
  },
  {
   "cell_type": "code",
   "execution_count": null,
   "metadata": {
    "hidden": true,
    "scrolled": true
   },
   "outputs": [],
   "source": [
    "#---------------------------------\n",
    "arcpy.management.CalculateField(Tabulate_Inter_CAR_nALcerrado_UC,\n",
    "                                \"UCha\", \n",
    "                                \"round(!AREA!,4)\", \n",
    "                                \"PYTHON3\")"
   ]
  },
  {
   "cell_type": "code",
   "execution_count": null,
   "metadata": {
    "hidden": true,
    "scrolled": true
   },
   "outputs": [],
   "source": [
    "#---------------------------------\n",
    "arcpy.management.CalculateField(Tabulate_Inter_CAR_nALmata_UC,\n",
    "                                \"UCha\", \n",
    "                                \"round(!AREA!,4)\", \n",
    "                                \"PYTHON3\")"
   ]
  },
  {
   "cell_type": "code",
   "execution_count": null,
   "metadata": {
    "hidden": true,
    "scrolled": true
   },
   "outputs": [],
   "source": [
    "#---------------------------------\n",
    "arcpy.management.CalculateField(Tabulate_Inter_CAR_nALcaatinga_UC,\n",
    "                                \"UCha\", \n",
    "                                \"round(!AREA!,4)\", \n",
    "                                \"PYTHON3\")"
   ]
  },
  {
   "cell_type": "code",
   "execution_count": null,
   "metadata": {
    "hidden": true,
    "scrolled": true
   },
   "outputs": [],
   "source": [
    "#---------------------------------\n",
    "arcpy.management.CalculateField(Tabulate_Inter_CAR_nALPamPan_UC,\n",
    "                                \"UCha\", \n",
    "                                \"round(!AREA!,4)\", \n",
    "                                \"PYTHON3\")"
   ]
  },
  {
   "cell_type": "markdown",
   "metadata": {
    "hidden": true
   },
   "source": [
    "#### Join"
   ]
  },
  {
   "cell_type": "code",
   "execution_count": null,
   "metadata": {
    "hidden": true,
    "scrolled": true
   },
   "outputs": [],
   "source": [
    "Tabulate_Inter_CAR_AL_UC = \"Tabulate_Inter_CAR_AL_UC\"\n",
    "\n",
    "arcpy.management.JoinField(\n",
    "    in_data    = CAR_AL, \n",
    "    in_field   = \"cod_imovel\", \n",
    "    join_table = Tabulate_Inter_CAR_AL_UC,\n",
    "    join_field = \"cod_imovel\", \n",
    "    fields     = \"UCha\")"
   ]
  },
  {
   "cell_type": "code",
   "execution_count": null,
   "metadata": {
    "hidden": true,
    "scrolled": true
   },
   "outputs": [],
   "source": [
    "Tabulate_Inter_CAR_nALcerrado_UC = \"Tabulate_Inter_CAR_nALcerrado_UC\"\n",
    "\n",
    "arcpy.management.JoinField(\n",
    "    in_data    = CAR_nALcerrado, \n",
    "    in_field   = \"cod_imovel\", \n",
    "    join_table = Tabulate_Inter_CAR_nALcerrado_UC,\n",
    "    join_field = \"cod_imovel\", \n",
    "    fields     = \"UCha\")"
   ]
  },
  {
   "cell_type": "code",
   "execution_count": null,
   "metadata": {
    "hidden": true,
    "scrolled": true
   },
   "outputs": [],
   "source": [
    "Tabulate_Inter_CAR_nALmata_UC = \"Tabulate_Inter_CAR_nALmata_UC\"\n",
    "\n",
    "arcpy.management.JoinField(\n",
    "    in_data    = CAR_nALmata, \n",
    "    in_field   = \"cod_imovel\", \n",
    "    join_table = Tabulate_Inter_CAR_nALmata_UC,\n",
    "    join_field = \"cod_imovel\", \n",
    "    fields     = \"UCha\")"
   ]
  },
  {
   "cell_type": "code",
   "execution_count": null,
   "metadata": {
    "hidden": true,
    "scrolled": true
   },
   "outputs": [],
   "source": [
    "Tabulate_Inter_CAR_nALcaatinga_UC = \"Tabulate_Inter_CAR_nALcaatinga_UC\"\n",
    "\n",
    "arcpy.management.JoinField(\n",
    "    in_data    = CAR_nALcaatinga, \n",
    "    in_field   = \"cod_imovel\", \n",
    "    join_table = Tabulate_Inter_CAR_nALcaatinga_UC,\n",
    "    join_field = \"cod_imovel\", \n",
    "    fields     = \"UCha\")"
   ]
  },
  {
   "cell_type": "code",
   "execution_count": null,
   "metadata": {
    "hidden": true,
    "scrolled": true
   },
   "outputs": [],
   "source": [
    "Tabulate_Inter_CAR_nALPamPan_UC = \"Tabulate_Inter_CAR_nALPamPan_UC\"\n",
    "\n",
    "arcpy.management.JoinField(\n",
    "    in_data    = CAR_nALPamPan, \n",
    "    in_field   = \"cod_imovel\", \n",
    "    join_table = Tabulate_Inter_CAR_nALPamPan_UC,\n",
    "    join_field = \"cod_imovel\", \n",
    "    fields     = \"UCha\")"
   ]
  },
  {
   "cell_type": "markdown",
   "metadata": {
    "heading_collapsed": true
   },
   "source": [
    "### [QUILOMBOS - INCRA](https://acervofundiario.incra.gov.br/acervo/acv.php)"
   ]
  },
  {
   "cell_type": "markdown",
   "metadata": {
    "hidden": true
   },
   "source": [
    "INCRA https://acervofundiario.incra.gov.br/acervo/acv.php"
   ]
  },
  {
   "cell_type": "code",
   "execution_count": null,
   "metadata": {
    "hidden": true,
    "scrolled": true
   },
   "outputs": [],
   "source": [
    "QUI = \"QUI\""
   ]
  },
  {
   "cell_type": "markdown",
   "metadata": {
    "heading_collapsed": true,
    "hidden": true
   },
   "source": [
    "#### Tabular Intersecção"
   ]
  },
  {
   "cell_type": "code",
   "execution_count": null,
   "metadata": {
    "hidden": true,
    "scrolled": true
   },
   "outputs": [],
   "source": [
    "arcpy.analysis.TabulateIntersection(\n",
    "    in_zone_features  = CAR_AL,\n",
    "    zone_fields       = \"cod_imovel\",\n",
    "    in_class_features = QUI,\n",
    "    out_table         = \"Tabulate_Inter_CAR_AL_QUI\",\n",
    "    class_fields      = \"QUI\",\n",
    "    out_units         = \"HECTARES\")"
   ]
  },
  {
   "cell_type": "code",
   "execution_count": null,
   "metadata": {
    "hidden": true,
    "scrolled": true
   },
   "outputs": [],
   "source": [
    "arcpy.analysis.TabulateIntersection(\n",
    "    in_zone_features  = CAR_nALcerrado,\n",
    "    zone_fields       = \"cod_imovel\",\n",
    "    in_class_features = QUI,\n",
    "    out_table         = \"Tabulate_Inter_CAR_nALcerrado_QUI\",\n",
    "    class_fields      = \"QUI\",\n",
    "    out_units         = \"HECTARES\")"
   ]
  },
  {
   "cell_type": "code",
   "execution_count": null,
   "metadata": {
    "hidden": true,
    "scrolled": true
   },
   "outputs": [],
   "source": [
    "arcpy.analysis.TabulateIntersection(\n",
    "    in_zone_features  = CAR_nALmata,\n",
    "    zone_fields       = \"cod_imovel\",\n",
    "    in_class_features = QUI,\n",
    "    out_table         = \"Tabulate_Inter_CAR_nALmata_QUI\",\n",
    "    class_fields      = \"QUI\",\n",
    "    out_units         = \"HECTARES\")"
   ]
  },
  {
   "cell_type": "code",
   "execution_count": null,
   "metadata": {
    "hidden": true,
    "scrolled": true
   },
   "outputs": [],
   "source": [
    "arcpy.analysis.TabulateIntersection(\n",
    "    in_zone_features  = CAR_nALcaatinga,\n",
    "    zone_fields       = \"cod_imovel\",\n",
    "    in_class_features = QUI,\n",
    "    out_table         = \"Tabulate_Inter_CAR_nALcaatinga_QUI\",\n",
    "    class_fields      = \"QUI\",\n",
    "    out_units         = \"HECTARES\")"
   ]
  },
  {
   "cell_type": "code",
   "execution_count": null,
   "metadata": {
    "hidden": true,
    "scrolled": true
   },
   "outputs": [],
   "source": [
    "arcpy.analysis.TabulateIntersection(\n",
    "    in_zone_features  = CAR_nALPamPan,\n",
    "    zone_fields       = \"cod_imovel\",\n",
    "    in_class_features = QUI,\n",
    "    out_table         = \"Tabulate_Inter_CAR_nALPamPan_QUI\",\n",
    "    class_fields      = \"QUI\",\n",
    "    out_units         = \"HECTARES\")"
   ]
  },
  {
   "cell_type": "markdown",
   "metadata": {
    "hidden": true
   },
   "source": [
    "#### Ajustar Colunas"
   ]
  },
  {
   "cell_type": "markdown",
   "metadata": {
    "heading_collapsed": true,
    "hidden": true
   },
   "source": [
    "##### Adicionar"
   ]
  },
  {
   "cell_type": "code",
   "execution_count": null,
   "metadata": {
    "hidden": true,
    "scrolled": true
   },
   "outputs": [],
   "source": [
    "Tabulate_Inter_CAR_AL_QUI = \"Tabulate_Inter_CAR_AL_QUI\"\n",
    "\n",
    "#---------------------------------\n",
    "arcpy.management.AddField(Tabulate_Inter_CAR_AL_QUI,\n",
    "                          \"QUIha\",\n",
    "                          \"DOUBLE\")"
   ]
  },
  {
   "cell_type": "code",
   "execution_count": null,
   "metadata": {
    "hidden": true,
    "scrolled": true
   },
   "outputs": [],
   "source": [
    "Tabulate_Inter_CAR_nALcerrado_QUI = \"Tabulate_Inter_CAR_nALcerrado_QUI\"\n",
    "\n",
    "#---------------------------------\n",
    "arcpy.management.AddField(Tabulate_Inter_CAR_nALcerrado_QUI,\n",
    "                          \"QUIha\",\n",
    "                          \"DOUBLE\")"
   ]
  },
  {
   "cell_type": "code",
   "execution_count": null,
   "metadata": {
    "hidden": true,
    "scrolled": true
   },
   "outputs": [],
   "source": [
    "Tabulate_Inter_CAR_nALmata_QUI = \"Tabulate_Inter_CAR_nALmata_QUI\"\n",
    "\n",
    "#---------------------------------\n",
    "arcpy.management.AddField(Tabulate_Inter_CAR_nALmata_QUI,\n",
    "                          \"QUIha\",\n",
    "                          \"DOUBLE\")"
   ]
  },
  {
   "cell_type": "code",
   "execution_count": null,
   "metadata": {
    "hidden": true,
    "scrolled": true
   },
   "outputs": [],
   "source": [
    "Tabulate_Inter_CAR_nALcaatinga_QUI = \"Tabulate_Inter_CAR_nALcaatinga_QUI\"\n",
    "\n",
    "#---------------------------------\n",
    "arcpy.management.AddField(Tabulate_Inter_CAR_nALcaatinga_QUI,\n",
    "                          \"QUIha\",\n",
    "                          \"DOUBLE\")"
   ]
  },
  {
   "cell_type": "code",
   "execution_count": null,
   "metadata": {
    "hidden": true,
    "scrolled": true
   },
   "outputs": [],
   "source": [
    "Tabulate_Inter_CAR_nALPamPan_QUI = \"Tabulate_Inter_CAR_nALPamPan_QUI\"\n",
    "\n",
    "#---------------------------------\n",
    "arcpy.management.AddField(Tabulate_Inter_CAR_nALPamPan_QUI,\n",
    "                          \"QUIha\",\n",
    "                          \"DOUBLE\")"
   ]
  },
  {
   "cell_type": "markdown",
   "metadata": {
    "hidden": true
   },
   "source": [
    "##### Calcular"
   ]
  },
  {
   "cell_type": "code",
   "execution_count": null,
   "metadata": {
    "hidden": true,
    "scrolled": true
   },
   "outputs": [],
   "source": [
    "Tabulate_Inter_CAR_AL_QUI = \"Tabulate_Inter_CAR_AL_QUI\"\n",
    "#---------------------------------\n",
    "arcpy.management.CalculateField(Tabulate_Inter_CAR_AL_QUI,\n",
    "                                \"QUIha\", \n",
    "                                \"round(!AREA!,4)\", \n",
    "                                \"PYTHON3\")"
   ]
  },
  {
   "cell_type": "code",
   "execution_count": null,
   "metadata": {
    "hidden": true,
    "scrolled": true
   },
   "outputs": [],
   "source": [
    "Tabulate_Inter_CAR_nALcerrado_QUI = \"Tabulate_Inter_CAR_nALcerrado_QUI\"\n",
    "#---------------------------------\n",
    "arcpy.management.CalculateField(Tabulate_Inter_CAR_nALcerrado_QUI,\n",
    "                                \"QUIha\", \n",
    "                                \"round(!AREA!,4)\", \n",
    "                                \"PYTHON3\")"
   ]
  },
  {
   "cell_type": "code",
   "execution_count": null,
   "metadata": {
    "hidden": true,
    "scrolled": true
   },
   "outputs": [],
   "source": [
    "Tabulate_Inter_CAR_nALmata_QUI = \"Tabulate_Inter_CAR_nALmata_QUI\"\n",
    "#---------------------------------\n",
    "arcpy.management.CalculateField(Tabulate_Inter_CAR_nALmata_QUI,\n",
    "                                \"QUIha\", \n",
    "                                \"round(!AREA!,4)\", \n",
    "                                \"PYTHON3\")"
   ]
  },
  {
   "cell_type": "code",
   "execution_count": null,
   "metadata": {
    "hidden": true,
    "scrolled": true
   },
   "outputs": [],
   "source": [
    "Tabulate_Inter_CAR_nALcaatinga_QUI = \"Tabulate_Inter_CAR_nALcaatinga_QUI\"\n",
    "#---------------------------------\n",
    "arcpy.management.CalculateField(Tabulate_Inter_CAR_nALcaatinga_QUI,\n",
    "                                \"QUIha\", \n",
    "                                \"round(!AREA!,4)\", \n",
    "                                \"PYTHON3\")"
   ]
  },
  {
   "cell_type": "code",
   "execution_count": null,
   "metadata": {
    "hidden": true,
    "scrolled": true
   },
   "outputs": [],
   "source": [
    "Tabulate_Inter_CAR_nALPamPan_QUI = \"Tabulate_Inter_CAR_nALPamPan_QUI\"\n",
    "#---------------------------------\n",
    "arcpy.management.CalculateField(Tabulate_Inter_CAR_nALPamPan_QUI,\n",
    "                                \"QUIha\", \n",
    "                                \"round(!AREA!,4)\", \n",
    "                                \"PYTHON3\")"
   ]
  },
  {
   "cell_type": "markdown",
   "metadata": {
    "hidden": true
   },
   "source": [
    "#### Join"
   ]
  },
  {
   "cell_type": "code",
   "execution_count": null,
   "metadata": {
    "hidden": true,
    "scrolled": true
   },
   "outputs": [],
   "source": [
    "arcpy.management.JoinField(\n",
    "    in_data    = CAR_AL, \n",
    "    in_field   = \"cod_imovel\", \n",
    "    join_table = Tabulate_Inter_CAR_AL_QUI,\n",
    "    join_field = \"cod_imovel\", \n",
    "    fields     = \"QUIha\")"
   ]
  },
  {
   "cell_type": "code",
   "execution_count": null,
   "metadata": {
    "hidden": true,
    "scrolled": true
   },
   "outputs": [],
   "source": [
    "arcpy.management.JoinField(\n",
    "    in_data    = CAR_nALcerrado, \n",
    "    in_field   = \"cod_imovel\", \n",
    "    join_table = Tabulate_Inter_CAR_nALcerrado_QUI,\n",
    "    join_field = \"cod_imovel\", \n",
    "    fields     = \"QUIha\")"
   ]
  },
  {
   "cell_type": "code",
   "execution_count": null,
   "metadata": {
    "hidden": true,
    "scrolled": true
   },
   "outputs": [],
   "source": [
    "arcpy.management.JoinField(\n",
    "    in_data    = CAR_nALmata, \n",
    "    in_field   = \"cod_imovel\", \n",
    "    join_table = Tabulate_Inter_CAR_nALmata_QUI,\n",
    "    join_field = \"cod_imovel\", \n",
    "    fields     = \"QUIha\")"
   ]
  },
  {
   "cell_type": "code",
   "execution_count": null,
   "metadata": {
    "hidden": true,
    "scrolled": true
   },
   "outputs": [],
   "source": [
    "arcpy.management.JoinField(\n",
    "    in_data    = CAR_nALcaatinga, \n",
    "    in_field   = \"cod_imovel\", \n",
    "    join_table = Tabulate_Inter_CAR_nALcaatinga_QUI,\n",
    "    join_field = \"cod_imovel\", \n",
    "    fields     = \"QUIha\")"
   ]
  },
  {
   "cell_type": "code",
   "execution_count": null,
   "metadata": {
    "hidden": true,
    "scrolled": true
   },
   "outputs": [],
   "source": [
    "arcpy.management.JoinField(\n",
    "    in_data    = CAR_nALPamPan, \n",
    "    in_field   = \"cod_imovel\", \n",
    "    join_table = Tabulate_Inter_CAR_nALPamPan_QUI,\n",
    "    join_field = \"cod_imovel\", \n",
    "    fields     = \"QUIha\")"
   ]
  },
  {
   "cell_type": "markdown",
   "metadata": {
    "heading_collapsed": true
   },
   "source": [
    "### [Glebas Públicas - CNFP](https://www.gov.br/florestal/pt-br/assuntos/cadastro-nacional-de-florestas-publicas)"
   ]
  },
  {
   "cell_type": "markdown",
   "metadata": {
    "hidden": true
   },
   "source": [
    "CNFP https://www.gov.br/florestal/pt-br/assuntos/cadastro-nacional-de-florestas-publicas"
   ]
  },
  {
   "cell_type": "code",
   "execution_count": null,
   "metadata": {
    "hidden": true,
    "scrolled": true
   },
   "outputs": [],
   "source": [
    "GLEBA = \"GLEBA\""
   ]
  },
  {
   "cell_type": "markdown",
   "metadata": {
    "hidden": true
   },
   "source": [
    "#### Tabular Intersecção"
   ]
  },
  {
   "cell_type": "code",
   "execution_count": null,
   "metadata": {
    "hidden": true,
    "scrolled": true
   },
   "outputs": [],
   "source": [
    "arcpy.analysis.TabulateIntersection(\n",
    "    in_zone_features  = CAR_AL,\n",
    "    zone_fields       = \"cod_imovel\",\n",
    "    in_class_features = GLEBA,\n",
    "    out_table         = \"Tabulate_Inter_CAR_AL_GLEBA\",\n",
    "    class_fields      = \"GLEBA\",\n",
    "    out_units         = \"HECTARES\")"
   ]
  },
  {
   "cell_type": "code",
   "execution_count": null,
   "metadata": {
    "hidden": true,
    "scrolled": true
   },
   "outputs": [],
   "source": [
    "arcpy.analysis.TabulateIntersection(\n",
    "    in_zone_features  = CAR_nALcerrado,\n",
    "    zone_fields       = \"cod_imovel\",\n",
    "    in_class_features = GLEBA,\n",
    "    out_table         = \"Tabulate_Inter_CAR_nALcerrado_GLEBA\",\n",
    "    class_fields      = \"GLEBA\",\n",
    "    out_units         = \"HECTARES\")"
   ]
  },
  {
   "cell_type": "code",
   "execution_count": null,
   "metadata": {
    "hidden": true,
    "scrolled": true
   },
   "outputs": [],
   "source": [
    "arcpy.analysis.TabulateIntersection(\n",
    "    in_zone_features  = CAR_nALmata,\n",
    "    zone_fields       = \"cod_imovel\",\n",
    "    in_class_features = GLEBA,\n",
    "    out_table         = \"Tabulate_Inter_CAR_nALmata_GLEBA\",\n",
    "    class_fields      = \"GLEBA\",\n",
    "    out_units         = \"HECTARES\")"
   ]
  },
  {
   "cell_type": "code",
   "execution_count": null,
   "metadata": {
    "hidden": true,
    "scrolled": true
   },
   "outputs": [],
   "source": [
    "arcpy.analysis.TabulateIntersection(\n",
    "    in_zone_features  = CAR_nALcaatinga,\n",
    "    zone_fields       = \"cod_imovel\",\n",
    "    in_class_features = GLEBA,\n",
    "    out_table         = \"Tabulate_Inter_CAR_nALcaatinga_GLEBA\",\n",
    "    class_fields      = \"GLEBA\",\n",
    "    out_units         = \"HECTARES\")"
   ]
  },
  {
   "cell_type": "code",
   "execution_count": null,
   "metadata": {
    "hidden": true,
    "scrolled": true
   },
   "outputs": [],
   "source": [
    "arcpy.analysis.TabulateIntersection(\n",
    "    in_zone_features  = CAR_nALPamPan,\n",
    "    zone_fields       = \"cod_imovel\",\n",
    "    in_class_features = GLEBA,\n",
    "    out_table         = \"Tabulate_Inter_CAR_nALPamPan_GLEBA\",\n",
    "    class_fields      = \"GLEBA\",\n",
    "    out_units         = \"HECTARES\")"
   ]
  },
  {
   "cell_type": "markdown",
   "metadata": {
    "hidden": true
   },
   "source": [
    "#### Ajustar Colunas"
   ]
  },
  {
   "cell_type": "markdown",
   "metadata": {
    "hidden": true
   },
   "source": [
    "##### Adicionar"
   ]
  },
  {
   "cell_type": "code",
   "execution_count": null,
   "metadata": {
    "hidden": true,
    "scrolled": true
   },
   "outputs": [],
   "source": [
    "Tabulate_Inter_CAR_AL_GLEBA = \"Tabulate_Inter_CAR_AL_GLEBA\"\n",
    "\n",
    "#---------------------------------\n",
    "arcpy.management.AddField(Tabulate_Inter_CAR_AL_GLEBA,\n",
    "                          \"GLEha\",\n",
    "                          \"DOUBLE\")"
   ]
  },
  {
   "cell_type": "code",
   "execution_count": null,
   "metadata": {
    "hidden": true,
    "scrolled": true
   },
   "outputs": [],
   "source": [
    "Tabulate_Inter_CAR_nALcerrado_GLEBA = \"Tabulate_Inter_CAR_nALcerrado_GLEBA\"\n",
    "\n",
    "#---------------------------------\n",
    "arcpy.management.AddField(Tabulate_Inter_CAR_nALcerrado_GLEBA,\n",
    "                          \"GLEha\",\n",
    "                          \"DOUBLE\")"
   ]
  },
  {
   "cell_type": "code",
   "execution_count": null,
   "metadata": {
    "hidden": true,
    "scrolled": true
   },
   "outputs": [],
   "source": [
    "Tabulate_Inter_CAR_nALmata_GLEBA = \"Tabulate_Inter_CAR_nALmata_GLEBA\"\n",
    "\n",
    "#---------------------------------\n",
    "arcpy.management.AddField(Tabulate_Inter_CAR_nALmata_GLEBA,\n",
    "                          \"GLEha\",\n",
    "                          \"DOUBLE\")"
   ]
  },
  {
   "cell_type": "code",
   "execution_count": null,
   "metadata": {
    "hidden": true,
    "scrolled": true
   },
   "outputs": [],
   "source": [
    "Tabulate_Inter_CAR_nALcaatinga_GLEBA = \"Tabulate_Inter_CAR_nALcaatinga_GLEBA\"\n",
    "\n",
    "#---------------------------------\n",
    "arcpy.management.AddField(Tabulate_Inter_CAR_nALcaatinga_GLEBA,\n",
    "                          \"GLEha\",\n",
    "                          \"DOUBLE\")"
   ]
  },
  {
   "cell_type": "code",
   "execution_count": null,
   "metadata": {
    "hidden": true,
    "scrolled": true
   },
   "outputs": [],
   "source": [
    "Tabulate_Inter_CAR_nALPamPan_GLEBA = \"Tabulate_Inter_CAR_nALPamPan_GLEBA\"\n",
    "\n",
    "#---------------------------------\n",
    "arcpy.management.AddField(Tabulate_Inter_CAR_nALPamPan_GLEBA,\n",
    "                          \"GLEha\",\n",
    "                          \"DOUBLE\")"
   ]
  },
  {
   "cell_type": "markdown",
   "metadata": {
    "hidden": true
   },
   "source": [
    "##### Calcular"
   ]
  },
  {
   "cell_type": "code",
   "execution_count": null,
   "metadata": {
    "hidden": true,
    "scrolled": true
   },
   "outputs": [],
   "source": [
    "#---------------------------------\n",
    "arcpy.management.CalculateField(Tabulate_Inter_CAR_AL_GLEBA,\n",
    "                                \"GLEha\", \n",
    "                                \"round(!AREA!,4)\", \n",
    "                                \"PYTHON3\")"
   ]
  },
  {
   "cell_type": "code",
   "execution_count": null,
   "metadata": {
    "hidden": true,
    "scrolled": true
   },
   "outputs": [],
   "source": [
    "#---------------------------------\n",
    "arcpy.management.CalculateField(Tabulate_Inter_CAR_nALcerrado_GLEBA,\n",
    "                                \"GLEha\", \n",
    "                                \"round(!AREA!,4)\", \n",
    "                                \"PYTHON3\")"
   ]
  },
  {
   "cell_type": "code",
   "execution_count": null,
   "metadata": {
    "hidden": true,
    "scrolled": true
   },
   "outputs": [],
   "source": [
    "#---------------------------------\n",
    "arcpy.management.CalculateField(Tabulate_Inter_CAR_nALmata_GLEBA,\n",
    "                                \"GLEha\", \n",
    "                                \"round(!AREA!,4)\", \n",
    "                                \"PYTHON3\")"
   ]
  },
  {
   "cell_type": "code",
   "execution_count": null,
   "metadata": {
    "hidden": true,
    "scrolled": true
   },
   "outputs": [],
   "source": [
    "#---------------------------------\n",
    "arcpy.management.CalculateField(Tabulate_Inter_CAR_nALcaatinga_GLEBA,\n",
    "                                \"GLEha\", \n",
    "                                \"round(!AREA!,4)\", \n",
    "                                \"PYTHON3\")"
   ]
  },
  {
   "cell_type": "code",
   "execution_count": null,
   "metadata": {
    "hidden": true,
    "scrolled": true
   },
   "outputs": [],
   "source": [
    "#---------------------------------\n",
    "arcpy.management.CalculateField(Tabulate_Inter_CAR_nALPamPan_GLEBA,\n",
    "                                \"GLEha\", \n",
    "                                \"round(!AREA!,4)\", \n",
    "                                \"PYTHON3\")"
   ]
  },
  {
   "cell_type": "markdown",
   "metadata": {
    "hidden": true
   },
   "source": [
    "#### Join"
   ]
  },
  {
   "cell_type": "code",
   "execution_count": null,
   "metadata": {
    "hidden": true,
    "scrolled": true
   },
   "outputs": [],
   "source": [
    "arcpy.management.JoinField(\n",
    "    in_data    = CAR_AL, \n",
    "    in_field   = \"cod_imovel\", \n",
    "    join_table = Tabulate_Inter_CAR_AL_GLEBA,\n",
    "    join_field = \"cod_imovel\", \n",
    "    fields     = \"GLEha\")"
   ]
  },
  {
   "cell_type": "code",
   "execution_count": null,
   "metadata": {
    "hidden": true,
    "scrolled": true
   },
   "outputs": [],
   "source": [
    "arcpy.management.JoinField(\n",
    "    in_data    = CAR_nALcerrado, \n",
    "    in_field   = \"cod_imovel\", \n",
    "    join_table = Tabulate_Inter_CAR_nALcerrado_GLEBA,\n",
    "    join_field = \"cod_imovel\", \n",
    "    fields     = \"GLEha\")"
   ]
  },
  {
   "cell_type": "code",
   "execution_count": null,
   "metadata": {
    "hidden": true,
    "scrolled": true
   },
   "outputs": [],
   "source": [
    "arcpy.management.JoinField(\n",
    "    in_data    = CAR_nALmata, \n",
    "    in_field   = \"cod_imovel\", \n",
    "    join_table = Tabulate_Inter_CAR_nALmata_GLEBA,\n",
    "    join_field = \"cod_imovel\", \n",
    "    fields     = \"GLEha\")"
   ]
  },
  {
   "cell_type": "code",
   "execution_count": null,
   "metadata": {
    "hidden": true,
    "scrolled": true
   },
   "outputs": [],
   "source": [
    "arcpy.management.JoinField(\n",
    "    in_data    = CAR_nALcaatinga, \n",
    "    in_field   = \"cod_imovel\", \n",
    "    join_table = Tabulate_Inter_CAR_nALcaatinga_GLEBA,\n",
    "    join_field = \"cod_imovel\", \n",
    "    fields     = \"GLEha\")"
   ]
  },
  {
   "cell_type": "code",
   "execution_count": null,
   "metadata": {
    "hidden": true,
    "scrolled": true
   },
   "outputs": [],
   "source": [
    "arcpy.management.JoinField(\n",
    "    in_data    = CAR_nALPamPan, \n",
    "    in_field   = \"cod_imovel\", \n",
    "    join_table = Tabulate_Inter_CAR_nALPamPan_GLEBA,\n",
    "    join_field = \"cod_imovel\", \n",
    "    fields     = \"GLEha\")"
   ]
  },
  {
   "cell_type": "markdown",
   "metadata": {
    "heading_collapsed": true
   },
   "source": [
    "### [TI - FUNAI](https://www.gov.br/funai/pt-br/atuacao/terras-indigenas/geoprocessamento-e-mapas)"
   ]
  },
  {
   "cell_type": "markdown",
   "metadata": {
    "hidden": true
   },
   "source": [
    "FUNAI https://www.gov.br/funai/pt-br/atuacao/terras-indigenas/geoprocessamento-e-mapas"
   ]
  },
  {
   "cell_type": "code",
   "execution_count": null,
   "metadata": {
    "hidden": true,
    "scrolled": true
   },
   "outputs": [],
   "source": [
    "TI = \"TI\""
   ]
  },
  {
   "cell_type": "markdown",
   "metadata": {
    "hidden": true
   },
   "source": [
    "#### Tabular Intersecção"
   ]
  },
  {
   "cell_type": "code",
   "execution_count": null,
   "metadata": {
    "hidden": true,
    "scrolled": true
   },
   "outputs": [],
   "source": [
    "arcpy.analysis.TabulateIntersection(\n",
    "    in_zone_features  = CAR_AL,\n",
    "    zone_fields       = \"cod_imovel\",\n",
    "    in_class_features = TI,\n",
    "    out_table         = \"Tabulate_Inter_CAR_AL_TI\",\n",
    "    class_fields      = \"TI\",\n",
    "    out_units         = \"HECTARES\")"
   ]
  },
  {
   "cell_type": "code",
   "execution_count": null,
   "metadata": {
    "hidden": true,
    "scrolled": true
   },
   "outputs": [],
   "source": [
    "arcpy.analysis.TabulateIntersection(\n",
    "    in_zone_features  = CAR_nALcerrado,\n",
    "    zone_fields       = \"cod_imovel\",\n",
    "    in_class_features = TI,\n",
    "    out_table         = \"Tabulate_Inter_CAR_nALcerrado_TI\",\n",
    "    class_fields      = \"TI\",\n",
    "    out_units         = \"HECTARES\")"
   ]
  },
  {
   "cell_type": "code",
   "execution_count": null,
   "metadata": {
    "hidden": true,
    "scrolled": true
   },
   "outputs": [],
   "source": [
    "arcpy.analysis.TabulateIntersection(\n",
    "    in_zone_features  = CAR_nALmata,\n",
    "    zone_fields       = \"cod_imovel\",\n",
    "    in_class_features = TI,\n",
    "    out_table         = \"Tabulate_Inter_CAR_nALmata_TI\",\n",
    "    class_fields      = \"TI\",\n",
    "    out_units         = \"HECTARES\")"
   ]
  },
  {
   "cell_type": "code",
   "execution_count": null,
   "metadata": {
    "hidden": true,
    "scrolled": true
   },
   "outputs": [],
   "source": [
    "arcpy.analysis.TabulateIntersection(\n",
    "    in_zone_features  = CAR_nALcaatinga,\n",
    "    zone_fields       = \"cod_imovel\",\n",
    "    in_class_features = TI,\n",
    "    out_table         = \"Tabulate_Inter_CAR_nALcaatinga_TI\",\n",
    "    class_fields      = \"TI\",\n",
    "    out_units         = \"HECTARES\")"
   ]
  },
  {
   "cell_type": "code",
   "execution_count": null,
   "metadata": {
    "hidden": true,
    "scrolled": true
   },
   "outputs": [],
   "source": [
    "arcpy.analysis.TabulateIntersection(\n",
    "    in_zone_features  = CAR_nALPamPan,\n",
    "    zone_fields       = \"cod_imovel\",\n",
    "    in_class_features = TI,\n",
    "    out_table         = \"Tabulate_Inter_CAR_nALPamPan_TI\",\n",
    "    class_fields      = \"TI\",\n",
    "    out_units         = \"HECTARES\")"
   ]
  },
  {
   "cell_type": "markdown",
   "metadata": {
    "hidden": true
   },
   "source": [
    "#### Ajuste Colunas"
   ]
  },
  {
   "cell_type": "markdown",
   "metadata": {
    "hidden": true
   },
   "source": [
    "##### Adicionar"
   ]
  },
  {
   "cell_type": "code",
   "execution_count": null,
   "metadata": {
    "hidden": true,
    "scrolled": true
   },
   "outputs": [],
   "source": [
    "Tabulate_Inter_CAR_AL_TI = \"Tabulate_Inter_CAR_AL_TI\"\n",
    "\n",
    "#---------------------------------\n",
    "arcpy.management.AddField(Tabulate_Inter_CAR_AL_TI,\n",
    "                          \"TIha\",\n",
    "                          \"DOUBLE\")"
   ]
  },
  {
   "cell_type": "code",
   "execution_count": null,
   "metadata": {
    "hidden": true,
    "scrolled": true
   },
   "outputs": [],
   "source": [
    "Tabulate_Inter_CAR_nALcerrado_TI = \"Tabulate_Inter_CAR_nALcerrado_TI\"\n",
    "\n",
    "#---------------------------------\n",
    "arcpy.management.AddField(Tabulate_Inter_CAR_nALcerrado_TI,\n",
    "                          \"TIha\",\n",
    "                          \"DOUBLE\")"
   ]
  },
  {
   "cell_type": "code",
   "execution_count": null,
   "metadata": {
    "hidden": true,
    "scrolled": true
   },
   "outputs": [],
   "source": [
    "Tabulate_Inter_CAR_nALmata_TI = \"Tabulate_Inter_CAR_nALmata_TI\"\n",
    "\n",
    "#---------------------------------\n",
    "arcpy.management.AddField(Tabulate_Inter_CAR_nALmata_TI,\n",
    "                          \"TIha\",\n",
    "                          \"DOUBLE\")"
   ]
  },
  {
   "cell_type": "code",
   "execution_count": null,
   "metadata": {
    "hidden": true,
    "scrolled": true
   },
   "outputs": [],
   "source": [
    "Tabulate_Inter_CAR_nALcaatinga_TI = \"Tabulate_Inter_CAR_nALcaatinga_TI\"\n",
    "\n",
    "#---------------------------------\n",
    "arcpy.management.AddField(Tabulate_Inter_CAR_nALcaatinga_TI,\n",
    "                          \"TIha\",\n",
    "                          \"DOUBLE\")"
   ]
  },
  {
   "cell_type": "code",
   "execution_count": null,
   "metadata": {
    "hidden": true,
    "scrolled": true
   },
   "outputs": [],
   "source": [
    "Tabulate_Inter_CAR_nALPamPan_TI = \"Tabulate_Inter_CAR_nALPamPan_TI\"\n",
    "\n",
    "#---------------------------------\n",
    "arcpy.management.AddField(Tabulate_Inter_CAR_nALPamPan_TI,\n",
    "                          \"TIha\",\n",
    "                          \"DOUBLE\")"
   ]
  },
  {
   "cell_type": "markdown",
   "metadata": {
    "hidden": true
   },
   "source": [
    "##### Calcular"
   ]
  },
  {
   "cell_type": "code",
   "execution_count": null,
   "metadata": {
    "hidden": true,
    "scrolled": true
   },
   "outputs": [],
   "source": [
    "Tabulate_Inter_CAR_AL_TI = \"Tabulate_Inter_CAR_AL_TI\"\n",
    "#---------------------------------\n",
    "arcpy.management.CalculateField(Tabulate_Inter_CAR_AL_TI,\n",
    "                                \"TIha\", \n",
    "                                \"round(!AREA!,4)\", \n",
    "                                \"PYTHON3\")"
   ]
  },
  {
   "cell_type": "code",
   "execution_count": null,
   "metadata": {
    "hidden": true,
    "scrolled": true
   },
   "outputs": [],
   "source": [
    "Tabulate_Inter_CAR_nALcerrado_TI = \"Tabulate_Inter_CAR_nALcerrado_TI\"\n",
    "#---------------------------------\n",
    "arcpy.management.CalculateField(Tabulate_Inter_CAR_nALcerrado_TI,\n",
    "                                \"TIha\", \n",
    "                                \"round(!AREA!,4)\", \n",
    "                                \"PYTHON3\")"
   ]
  },
  {
   "cell_type": "code",
   "execution_count": null,
   "metadata": {
    "hidden": true,
    "scrolled": true
   },
   "outputs": [],
   "source": [
    "Tabulate_Inter_CAR_nALmata_TI = \"Tabulate_Inter_CAR_nALmata_TI\"\n",
    "#---------------------------------\n",
    "arcpy.management.CalculateField(Tabulate_Inter_CAR_nALmata_TI,\n",
    "                                \"TIha\", \n",
    "                                \"round(!AREA!,4)\", \n",
    "                                \"PYTHON3\")"
   ]
  },
  {
   "cell_type": "code",
   "execution_count": null,
   "metadata": {
    "hidden": true,
    "scrolled": true
   },
   "outputs": [],
   "source": [
    "Tabulate_Inter_CAR_nALcaatinga_TI = \"Tabulate_Inter_CAR_nALcaatinga_TI\"\n",
    "#---------------------------------\n",
    "arcpy.management.CalculateField(Tabulate_Inter_CAR_nALcaatinga_TI,\n",
    "                                \"TIha\", \n",
    "                                \"round(!AREA!,4)\", \n",
    "                                \"PYTHON3\")"
   ]
  },
  {
   "cell_type": "code",
   "execution_count": null,
   "metadata": {
    "hidden": true,
    "scrolled": true
   },
   "outputs": [],
   "source": [
    "Tabulate_Inter_CAR_nALPamPan_TI = \"Tabulate_Inter_CAR_nALPamPan_TI\"\n",
    "#---------------------------------\n",
    "arcpy.management.CalculateField(Tabulate_Inter_CAR_nALPamPan_TI,\n",
    "                                \"TIha\", \n",
    "                                \"round(!AREA!,4)\", \n",
    "                                \"PYTHON3\")"
   ]
  },
  {
   "cell_type": "markdown",
   "metadata": {
    "hidden": true
   },
   "source": [
    "#### Join"
   ]
  },
  {
   "cell_type": "code",
   "execution_count": null,
   "metadata": {
    "hidden": true,
    "scrolled": true
   },
   "outputs": [],
   "source": [
    "arcpy.management.JoinField(\n",
    "    in_data    = CAR_AL, \n",
    "    in_field   = \"cod_imovel\", \n",
    "    join_table = Tabulate_Inter_CAR_AL_TI,\n",
    "    join_field = \"cod_imovel\", \n",
    "    fields     = \"TIha\")"
   ]
  },
  {
   "cell_type": "code",
   "execution_count": null,
   "metadata": {
    "hidden": true,
    "scrolled": true
   },
   "outputs": [],
   "source": [
    "arcpy.management.JoinField(\n",
    "    in_data    = CAR_nALcerrado, \n",
    "    in_field   = \"cod_imovel\", \n",
    "    join_table = Tabulate_Inter_CAR_nALcerrado_TI,\n",
    "    join_field = \"cod_imovel\", \n",
    "    fields     = \"TIha\")"
   ]
  },
  {
   "cell_type": "code",
   "execution_count": null,
   "metadata": {
    "hidden": true,
    "scrolled": true
   },
   "outputs": [],
   "source": [
    "arcpy.management.JoinField(\n",
    "    in_data    = CAR_nALmata, \n",
    "    in_field   = \"cod_imovel\", \n",
    "    join_table = Tabulate_Inter_CAR_nALmata_TI,\n",
    "    join_field = \"cod_imovel\", \n",
    "    fields     = \"TIha\")"
   ]
  },
  {
   "cell_type": "code",
   "execution_count": null,
   "metadata": {
    "hidden": true,
    "scrolled": true
   },
   "outputs": [],
   "source": [
    "arcpy.management.JoinField(\n",
    "    in_data    = CAR_nALcaatinga, \n",
    "    in_field   = \"cod_imovel\", \n",
    "    join_table = Tabulate_Inter_CAR_nALcaatinga_TI,\n",
    "    join_field = \"cod_imovel\", \n",
    "    fields     = \"TIha\")"
   ]
  },
  {
   "cell_type": "code",
   "execution_count": null,
   "metadata": {
    "hidden": true,
    "scrolled": true
   },
   "outputs": [],
   "source": [
    "arcpy.management.JoinField(\n",
    "    in_data    = CAR_nALPamPan, \n",
    "    in_field   = \"cod_imovel\", \n",
    "    join_table = Tabulate_Inter_CAR_nALPamPan_TI,\n",
    "    join_field = \"cod_imovel\", \n",
    "    fields     = \"TIha\")"
   ]
  },
  {
   "cell_type": "markdown",
   "metadata": {
    "heading_collapsed": true
   },
   "source": [
    "### Null por 0"
   ]
  },
  {
   "cell_type": "code",
   "execution_count": null,
   "metadata": {
    "hidden": true,
    "scrolled": true
   },
   "outputs": [],
   "source": [
    "fieldObs = arcpy.ListFields(CAR_AL)  \n",
    "fieldNames = []  \n",
    "for field in fieldObs:  \n",
    "    fieldNames.append(field.name)  \n",
    "del fieldObs  \n",
    "fieldCount = len(fieldNames)  \n",
    "\n",
    "with arcpy.da.UpdateCursor(CAR_AL, fieldNames) as curU:  \n",
    "    for row in curU:  \n",
    "        rowU = row  \n",
    "        for field in range(fieldCount):  \n",
    "            if rowU[field] == None:  \n",
    "                rowU[field] = \"0.0\"  \n",
    "      \n",
    "      \n",
    "        curU.updateRow(rowU)\n",
    "\n",
    "del curU"
   ]
  },
  {
   "cell_type": "code",
   "execution_count": null,
   "metadata": {
    "hidden": true,
    "scrolled": true
   },
   "outputs": [],
   "source": [
    "fieldObs = arcpy.ListFields(CAR_nALPamPan)  \n",
    "fieldNames = []  \n",
    "for field in fieldObs:  \n",
    "    fieldNames.append(field.name)  \n",
    "del fieldObs  \n",
    "fieldCount = len(fieldNames)  \n",
    "\n",
    "with arcpy.da.UpdateCursor(CAR_nALPamPan, fieldNames) as curU:  \n",
    "    for row in curU:  \n",
    "        rowU = row  \n",
    "        for field in range(fieldCount):  \n",
    "            if rowU[field] == None:  \n",
    "                rowU[field] = \"0.0\"  \n",
    "      \n",
    "      \n",
    "        curU.updateRow(rowU)\n",
    "\n",
    "del curU"
   ]
  },
  {
   "cell_type": "code",
   "execution_count": null,
   "metadata": {
    "hidden": true,
    "scrolled": true
   },
   "outputs": [],
   "source": [
    "fieldObs = arcpy.ListFields(CAR_nALcerrado)  \n",
    "fieldNames = []  \n",
    "for field in fieldObs:  \n",
    "    fieldNames.append(field.name)  \n",
    "del fieldObs  \n",
    "fieldCount = len(fieldNames)  \n",
    "\n",
    "with arcpy.da.UpdateCursor(CAR_nALcerrado, fieldNames) as curU:  \n",
    "    for row in curU:  \n",
    "        rowU = row  \n",
    "        for field in range(fieldCount):  \n",
    "            if rowU[field] == None:  \n",
    "                rowU[field] = \"0.0\"  \n",
    "      \n",
    "      \n",
    "        curU.updateRow(rowU)\n",
    "\n",
    "del curU"
   ]
  },
  {
   "cell_type": "code",
   "execution_count": null,
   "metadata": {
    "hidden": true,
    "scrolled": true
   },
   "outputs": [],
   "source": [
    "fieldObs = arcpy.ListFields(CAR_nALmata)  \n",
    "fieldNames = []  \n",
    "for field in fieldObs:  \n",
    "    fieldNames.append(field.name)  \n",
    "del fieldObs  \n",
    "fieldCount = len(fieldNames)  \n",
    "\n",
    "with arcpy.da.UpdateCursor(CAR_nALmata, fieldNames) as curU:  \n",
    "    for row in curU:  \n",
    "        rowU = row  \n",
    "        for field in range(fieldCount):  \n",
    "            if rowU[field] == None:  \n",
    "                rowU[field] = \"0.0\"  \n",
    "      \n",
    "      \n",
    "        curU.updateRow(rowU)\n",
    "\n",
    "del curU"
   ]
  },
  {
   "cell_type": "code",
   "execution_count": null,
   "metadata": {
    "hidden": true,
    "scrolled": true
   },
   "outputs": [],
   "source": [
    "fieldObs = arcpy.ListFields(CAR_nALcaatinga)  \n",
    "fieldNames = []  \n",
    "for field in fieldObs:  \n",
    "    fieldNames.append(field.name)  \n",
    "del fieldObs  \n",
    "fieldCount = len(fieldNames)  \n",
    "\n",
    "with arcpy.da.UpdateCursor(CAR_nALcaatinga, fieldNames) as curU:  \n",
    "    for row in curU:  \n",
    "        rowU = row  \n",
    "        for field in range(fieldCount):  \n",
    "            if rowU[field] == None:  \n",
    "                rowU[field] = \"0.0\"  \n",
    "      \n",
    "      \n",
    "        curU.updateRow(rowU)\n",
    "\n",
    "del curU"
   ]
  },
  {
   "cell_type": "markdown",
   "metadata": {
    "heading_collapsed": true
   },
   "source": [
    "### Sobreposição entre o CAR e Terras Públicas? Sim ou Não!"
   ]
  },
  {
   "cell_type": "markdown",
   "metadata": {
    "heading_collapsed": true,
    "hidden": true
   },
   "source": [
    "#### CAR_AL"
   ]
  },
  {
   "cell_type": "code",
   "execution_count": null,
   "metadata": {
    "hidden": true,
    "scrolled": true
   },
   "outputs": [],
   "source": [
    "# Sobreposição Terras Publicas (1=sim / 0=nao)\n",
    "colunassb = [\"UCha\", \"TIha\", \"GLEha\", \"QUIha\"]\n",
    "\n",
    "\n",
    "campos_existentessb = [campo.name for campo in arcpy.ListFields(CAR_AL)]\n",
    "colunas_presentessb = [coluna for coluna in colunassb if coluna in campos_existentessb]\n",
    "colunas_ausentessb  = [coluna for coluna in colunassb if coluna not in campos_existentessb]\n",
    "\n",
    "print(campos_existentessb)\n",
    "print(\"---\")\n",
    "print(colunas_presentessb)\n",
    "print(\"---\")\n",
    "print(colunas_ausentessb)"
   ]
  },
  {
   "cell_type": "code",
   "execution_count": null,
   "metadata": {
    "hidden": true
   },
   "outputs": [],
   "source": [
    "arcpy.management.AddField(CAR_AL,\n",
    "                          \"sobr_tp\",\n",
    "                          \"SHORT\"\n",
    "                         )"
   ]
  },
  {
   "cell_type": "code",
   "execution_count": null,
   "metadata": {
    "hidden": true,
    "scrolled": true
   },
   "outputs": [],
   "source": [
    "if colunas_presentessb:\n",
    "    # Expressão para o cálculo de \"sobr_tp\"\n",
    "    expressao = \"1 if ({}) else 0\".format(\" or \".join([\"!{}! >= 1\".format(coluna) for coluna in colunas_presentessb]))\n",
    "\n",
    "    arcpy.management.CalculateField(CAR_AL,\n",
    "                                    \"sobr_tp\",\n",
    "                                    expressao,\n",
    "                                    \"PYTHON3\"\n",
    "                                    )\n",
    "\n",
    "    print(\"Colunas presentes:\")\n",
    "    for coluna in colunas_presentessb:\n",
    "        print(coluna)\n",
    "    print(\"Fórmula utilizada:\")\n",
    "    print(expressao)\n",
    "else:\n",
    "    print(\"Nenhuma das colunas necessárias está presente na tabela.\")\n",
    "\n",
    "print(\"Colunas ausentes:\")\n",
    "for coluna in colunas_ausentessb:\n",
    "    print(coluna)"
   ]
  },
  {
   "cell_type": "markdown",
   "metadata": {
    "hidden": true
   },
   "source": [
    "#### CAR_nALcerrado"
   ]
  },
  {
   "cell_type": "code",
   "execution_count": null,
   "metadata": {
    "hidden": true,
    "scrolled": true
   },
   "outputs": [],
   "source": [
    "# Sobreposição Terras Publicas (1=sim / 0=nao)\n",
    "colunassb = [\"UCha\", \"TIha\", \"GLEha\", \"QUIha\"]\n",
    "\n",
    "\n",
    "campos_existentessb = [campo.name for campo in arcpy.ListFields(CAR_nALcerrado)]\n",
    "colunas_presentessb = [coluna for coluna in colunassb if coluna in campos_existentessb]\n",
    "colunas_ausentessb  = [coluna for coluna in colunassb if coluna not in campos_existentessb]\n",
    "\n",
    "print(campos_existentessb)\n",
    "print(\"---\")\n",
    "print(colunas_presentessb)\n",
    "print(\"---\")\n",
    "print(colunas_ausentessb)"
   ]
  },
  {
   "cell_type": "code",
   "execution_count": null,
   "metadata": {
    "hidden": true
   },
   "outputs": [],
   "source": [
    "arcpy.management.AddField(CAR_nALcerrado,\n",
    "                          \"sobr_tp\",\n",
    "                          \"SHORT\"\n",
    "                         )"
   ]
  },
  {
   "cell_type": "code",
   "execution_count": null,
   "metadata": {
    "hidden": true,
    "scrolled": true
   },
   "outputs": [],
   "source": [
    "if colunas_presentessb:\n",
    "    # Expressão para o cálculo de \"sobr_tp\"\n",
    "    expressao = \"1 if ({}) else 0\".format(\" or \".join([\"!{}! >= 1\".format(coluna) for coluna in colunas_presentessb]))\n",
    "\n",
    "    arcpy.management.CalculateField(CAR_nALcerrado,\n",
    "                                    \"sobr_tp\",\n",
    "                                    expressao,\n",
    "                                    \"PYTHON3\"\n",
    "                                    )\n",
    "\n",
    "    print(\"Colunas presentes:\")\n",
    "    for coluna in colunas_presentessb:\n",
    "        print(coluna)\n",
    "    print(\"Fórmula utilizada:\")\n",
    "    print(expressao)\n",
    "else:\n",
    "    print(\"Nenhuma das colunas necessárias está presente na tabela.\")\n",
    "\n",
    "print(\"Colunas ausentes:\")\n",
    "for coluna in colunas_ausentessb:\n",
    "    print(coluna)"
   ]
  },
  {
   "cell_type": "markdown",
   "metadata": {
    "hidden": true
   },
   "source": [
    "#### CAR_nALmata"
   ]
  },
  {
   "cell_type": "code",
   "execution_count": null,
   "metadata": {
    "hidden": true,
    "scrolled": true
   },
   "outputs": [],
   "source": [
    "# Sobreposição Terras Publicas (1=sim / 0=nao)\n",
    "colunassb = [\"UCha\", \"TIha\", \"GLEha\", \"QUIha\"]\n",
    "\n",
    "\n",
    "campos_existentessb = [campo.name for campo in arcpy.ListFields(CAR_nALmata)]\n",
    "colunas_presentessb = [coluna for coluna in colunassb if coluna in campos_existentessb]\n",
    "colunas_ausentessb  = [coluna for coluna in colunassb if coluna not in campos_existentessb]\n",
    "\n",
    "print(campos_existentessb)\n",
    "print(\"---\")\n",
    "print(colunas_presentessb)\n",
    "print(\"---\")\n",
    "print(colunas_ausentessb)"
   ]
  },
  {
   "cell_type": "code",
   "execution_count": null,
   "metadata": {
    "hidden": true
   },
   "outputs": [],
   "source": [
    "arcpy.management.AddField(CAR_nALmata,\n",
    "                          \"sobr_tp\",\n",
    "                          \"SHORT\"\n",
    "                         )"
   ]
  },
  {
   "cell_type": "code",
   "execution_count": null,
   "metadata": {
    "hidden": true,
    "scrolled": true
   },
   "outputs": [],
   "source": [
    "if colunas_presentessb:\n",
    "    # Expressão para o cálculo de \"sobr_tp\"\n",
    "    expressao = \"1 if ({}) else 0\".format(\" or \".join([\"!{}! >= 1\".format(coluna) for coluna in colunas_presentessb]))\n",
    "\n",
    "    arcpy.management.CalculateField(CAR_nALmata,\n",
    "                                    \"sobr_tp\",\n",
    "                                    expressao,\n",
    "                                    \"PYTHON3\"\n",
    "                                    )\n",
    "\n",
    "    print(\"Colunas presentes:\")\n",
    "    for coluna in colunas_presentessb:\n",
    "        print(coluna)\n",
    "    print(\"Fórmula utilizada:\")\n",
    "    print(expressao)\n",
    "else:\n",
    "    print(\"Nenhuma das colunas necessárias está presente na tabela.\")\n",
    "\n",
    "print(\"Colunas ausentes:\")\n",
    "for coluna in colunas_ausentessb:\n",
    "    print(coluna)"
   ]
  },
  {
   "cell_type": "markdown",
   "metadata": {
    "hidden": true
   },
   "source": [
    "#### CAR_nALcaatinga"
   ]
  },
  {
   "cell_type": "code",
   "execution_count": null,
   "metadata": {
    "hidden": true,
    "scrolled": true
   },
   "outputs": [],
   "source": [
    "# Sobreposição Terras Publicas (1=sim / 0=nao)\n",
    "colunassb = [\"UCha\", \"TIha\", \"GLEha\", \"QUIha\"]\n",
    "\n",
    "\n",
    "campos_existentessb = [campo.name for campo in arcpy.ListFields(CAR_nALcaatinga)]\n",
    "colunas_presentessb = [coluna for coluna in colunassb if coluna in campos_existentessb]\n",
    "colunas_ausentessb  = [coluna for coluna in colunassb if coluna not in campos_existentessb]\n",
    "\n",
    "print(campos_existentessb)\n",
    "print(\"---\")\n",
    "print(colunas_presentessb)\n",
    "print(\"---\")\n",
    "print(colunas_ausentessb)"
   ]
  },
  {
   "cell_type": "code",
   "execution_count": null,
   "metadata": {
    "hidden": true
   },
   "outputs": [],
   "source": [
    "arcpy.management.AddField(CAR_nALcaatinga,\n",
    "                          \"sobr_tp\",\n",
    "                          \"SHORT\"\n",
    "                         )"
   ]
  },
  {
   "cell_type": "code",
   "execution_count": null,
   "metadata": {
    "hidden": true,
    "scrolled": true
   },
   "outputs": [],
   "source": [
    "if colunas_presentessb:\n",
    "    # Expressão para o cálculo de \"sobr_tp\"\n",
    "    expressao = \"1 if ({}) else 0\".format(\" or \".join([\"!{}! >= 1\".format(coluna) for coluna in colunas_presentessb]))\n",
    "\n",
    "    arcpy.management.CalculateField(CAR_nALcaatinga,\n",
    "                                    \"sobr_tp\",\n",
    "                                    expressao,\n",
    "                                    \"PYTHON3\"\n",
    "                                    )\n",
    "\n",
    "    print(\"Colunas presentes:\")\n",
    "    for coluna in colunas_presentessb:\n",
    "        print(coluna)\n",
    "    print(\"Fórmula utilizada:\")\n",
    "    print(expressao)\n",
    "else:\n",
    "    print(\"Nenhuma das colunas necessárias está presente na tabela.\")\n",
    "\n",
    "print(\"Colunas ausentes:\")\n",
    "for coluna in colunas_ausentessb:\n",
    "    print(coluna)"
   ]
  },
  {
   "cell_type": "markdown",
   "metadata": {
    "hidden": true
   },
   "source": [
    "#### CAR_nALPamPan"
   ]
  },
  {
   "cell_type": "code",
   "execution_count": null,
   "metadata": {
    "hidden": true,
    "scrolled": true
   },
   "outputs": [],
   "source": [
    "# Sobreposição Terras Publicas (1=sim / 0=nao)\n",
    "colunassb = [\"UCha\", \"TIha\", \"GLEha\", \"QUIha\"]\n",
    "\n",
    "\n",
    "campos_existentessb = [campo.name for campo in arcpy.ListFields(CAR_nALPamPan)]\n",
    "colunas_presentessb = [coluna for coluna in colunassb if coluna in campos_existentessb]\n",
    "colunas_ausentessb  = [coluna for coluna in colunassb if coluna not in campos_existentessb]\n",
    "\n",
    "print(campos_existentessb)\n",
    "print(\"---\")\n",
    "print(colunas_presentessb)\n",
    "print(\"---\")\n",
    "print(colunas_ausentessb)"
   ]
  },
  {
   "cell_type": "code",
   "execution_count": null,
   "metadata": {
    "hidden": true
   },
   "outputs": [],
   "source": [
    "arcpy.management.AddField(CAR_nALPamPan,\n",
    "                          \"sobr_tp\",\n",
    "                          \"SHORT\"\n",
    "                         )"
   ]
  },
  {
   "cell_type": "code",
   "execution_count": null,
   "metadata": {
    "hidden": true,
    "scrolled": true
   },
   "outputs": [],
   "source": [
    "if colunas_presentessb:\n",
    "    # Expressão para o cálculo de \"sobr_tp\"\n",
    "    expressao = \"1 if ({}) else 0\".format(\" or \".join([\"!{}! >= 1\".format(coluna) for coluna in colunas_presentessb]))\n",
    "\n",
    "    arcpy.management.CalculateField(CAR_nALPamPan,\n",
    "                                    \"sobr_tp\",\n",
    "                                    expressao,\n",
    "                                    \"PYTHON3\"\n",
    "                                    )\n",
    "\n",
    "    print(\"Colunas presentes:\")\n",
    "    for coluna in colunas_presentessb:\n",
    "        print(coluna)\n",
    "    print(\"Fórmula utilizada:\")\n",
    "    print(expressao)\n",
    "else:\n",
    "    print(\"Nenhuma das colunas necessárias está presente na tabela.\")\n",
    "\n",
    "print(\"Colunas ausentes:\")\n",
    "for coluna in colunas_ausentessb:\n",
    "    print(coluna)"
   ]
  },
  {
   "cell_type": "markdown",
   "metadata": {
    "heading_collapsed": true
   },
   "source": [
    "### Relacionamento com Informações das Terras Públicas"
   ]
  },
  {
   "cell_type": "code",
   "execution_count": null,
   "metadata": {
    "hidden": true
   },
   "outputs": [],
   "source": [
    "CAR_AL          = \"CAR_AL\"\n",
    "CAR_nALcerrado  = \"CAR_nALcerrado\"\n",
    "CAR_nALmata     = \"CAR_nALmata\"\n",
    "CAR_nALcaatinga = \"CAR_nALcaatinga\"\n",
    "CAR_nALPamPan   = \"CAR_nALPamPan\"\n",
    "\n",
    "UC    = \"UC_CNUC_PI\"\n",
    "QUI   = \"QUI\"\n",
    "GLEBA = \"GLEBA\"\n",
    "TI    = \"TI\""
   ]
  },
  {
   "cell_type": "markdown",
   "metadata": {
    "heading_collapsed": true,
    "hidden": true
   },
   "source": [
    "#### Dados"
   ]
  },
  {
   "cell_type": "code",
   "execution_count": null,
   "metadata": {
    "hidden": true
   },
   "outputs": [],
   "source": [
    "#---------------------------------\n",
    "arcpy.management.AddField(UC,\n",
    "                          \"TP\",\n",
    "                          \"TEXT\")\n",
    "\n",
    "arcpy.management.AddField(UC,\n",
    "                          \"TPid\",\n",
    "                          \"TEXT\")\n",
    "\n",
    "arcpy.management.AddField(UC,\n",
    "                          \"TPinfo\",\n",
    "                          \"TEXT\")\n",
    "\n",
    "arcpy.management.AddField(UC,\n",
    "                          \"TPfonte\",\n",
    "                          \"TEXT\")\n",
    "#---------------------------------\n",
    "arcpy.management.AddField(TI,\n",
    "                          \"TP\",\n",
    "                          \"TEXT\")\n",
    "\n",
    "arcpy.management.AddField(TI,\n",
    "                          \"TPid\",\n",
    "                          \"TEXT\")\n",
    "\n",
    "arcpy.management.AddField(TI,\n",
    "                          \"TPinfo\",\n",
    "                          \"TEXT\")\n",
    "\n",
    "arcpy.management.AddField(TI,\n",
    "                          \"TPfonte\",\n",
    "                          \"TEXT\")\n",
    "#---------------------------------\n",
    "arcpy.management.AddField(QUI,\n",
    "                          \"TP\",\n",
    "                          \"TEXT\")\n",
    "\n",
    "arcpy.management.AddField(QUI,\n",
    "                          \"TPid\",\n",
    "                          \"TEXT\")\n",
    "\n",
    "arcpy.management.AddField(QUI,\n",
    "                          \"TPinfo\",\n",
    "                          \"TEXT\")\n",
    "\n",
    "arcpy.management.AddField(QUI,\n",
    "                          \"TPfonte\",\n",
    "                          \"TEXT\")\n",
    "#---------------------------------\n",
    "arcpy.management.AddField(GLEBA,\n",
    "                          \"TP\",\n",
    "                          \"TEXT\")\n",
    "\n",
    "arcpy.management.AddField(GLEBA,\n",
    "                          \"TPid\",\n",
    "                          \"TEXT\")\n",
    "\n",
    "arcpy.management.AddField(GLEBA,\n",
    "                          \"TPinfo\",\n",
    "                          \"TEXT\")\n",
    "\n",
    "arcpy.management.AddField(GLEBA,\n",
    "                          \"TPfonte\",\n",
    "                          \"TEXT\")"
   ]
  },
  {
   "cell_type": "code",
   "execution_count": null,
   "metadata": {
    "hidden": true
   },
   "outputs": [],
   "source": [
    "#---------------------------------\n",
    "arcpy.management.CalculateField(UC,\n",
    "                                \"TP\", \n",
    "                                \"'UNIDADE CONSERVACAO'\", \n",
    "                                \"PYTHON3\")\n",
    "\n",
    "arcpy.management.CalculateField(UC,\n",
    "                                \"TPfonte\", \n",
    "                                f\"'CNUC-GOV e ICMBIO - Acesso: {datetime.datetime.today().strftime('%m/%Y')}'\", \n",
    "                                \"PYTHON3\")\n",
    "\n",
    "arcpy.management.CalculateField(UC,\n",
    "                                \"TPinfo\", \n",
    "                                \"!UCinfo!\", \n",
    "                                \"PYTHON3\")\n",
    "\n",
    "#---------------------------------\n",
    "arcpy.management.CalculateField(TI,\n",
    "                                \"TP\", \n",
    "                                \"'TERRITORIO INDIGENA'\", \n",
    "                                \"PYTHON3\")\n",
    "\n",
    "arcpy.management.CalculateField(TI,\n",
    "                                \"TPfonte\", \n",
    "                                f\"'FUNAI - Acesso: {datetime.datetime.today().strftime('%m/%Y')}'\", \n",
    "                                \"PYTHON3\")\n",
    "\n",
    "arcpy.management.CalculateField(TI,\n",
    "                                \"TPinfo\", \n",
    "                                \"!TIinfo!\", \n",
    "                                \"PYTHON3\")\n",
    "\n",
    "#---------------------------------\n",
    "arcpy.management.CalculateField(QUI,\n",
    "                                \"TP\", \n",
    "                                \"'QUILOMBOLA'\", \n",
    "                                \"PYTHON3\")\n",
    "\n",
    "arcpy.management.CalculateField(QUI,\n",
    "                                \"TPfonte\", \n",
    "                                f\"'INCRA - Acesso: {datetime.datetime.today().strftime('%m/%Y')}'\", \n",
    "                                \"PYTHON3\")\n",
    "\n",
    "arcpy.management.CalculateField(QUI,\n",
    "                                \"TPinfo\", \n",
    "                                \"!QUIinfo!\", \n",
    "                                \"PYTHON3\")\n",
    "\n",
    "#---------------------------------\n",
    "arcpy.management.CalculateField(GLEBA,\n",
    "                                \"TP\", \n",
    "                                \"'GLEBA NAO DESTINADA'\", \n",
    "                                \"PYTHON3\")\n",
    "\n",
    "arcpy.management.CalculateField(GLEBA,\n",
    "                                \"TPfonte\", \n",
    "                                f\"'CNFP - Acesso: {datetime.datetime.today().strftime('%m/%Y')}'\", \n",
    "                                \"PYTHON3\")\n",
    "\n",
    "arcpy.management.CalculateField(GLEBA,\n",
    "                                \"TPinfo\", \n",
    "                                \"!GLEBAinfo!\", \n",
    "                                \"PYTHON3\")"
   ]
  },
  {
   "cell_type": "code",
   "execution_count": null,
   "metadata": {
    "hidden": true
   },
   "outputs": [],
   "source": [
    "with arcpy.da.UpdateCursor(UC, [\"TPid\"]) as cursor:\n",
    "    contador = 1\n",
    "    for row in cursor:\n",
    "        row[0] = f\"UC_{contador:03d}\" \n",
    "        cursor.updateRow(row)\n",
    "        contador += 1"
   ]
  },
  {
   "cell_type": "code",
   "execution_count": null,
   "metadata": {
    "hidden": true
   },
   "outputs": [],
   "source": [
    "with arcpy.da.UpdateCursor(TI, [\"TPid\"]) as cursor:\n",
    "    contador = 1\n",
    "    for row in cursor:\n",
    "        row[0] = f\"TI_{contador:03d}\" \n",
    "        cursor.updateRow(row)\n",
    "        contador += 1"
   ]
  },
  {
   "cell_type": "code",
   "execution_count": null,
   "metadata": {
    "hidden": true
   },
   "outputs": [],
   "source": [
    "with arcpy.da.UpdateCursor(GLEBA, [\"TPid\"]) as cursor:\n",
    "    contador = 1\n",
    "    for row in cursor:\n",
    "        row[0] = f\"GLEBA_{contador:03d}\" \n",
    "        cursor.updateRow(row)\n",
    "        contador += 1"
   ]
  },
  {
   "cell_type": "code",
   "execution_count": null,
   "metadata": {
    "hidden": true
   },
   "outputs": [],
   "source": [
    "with arcpy.da.UpdateCursor(QUI, [\"TPid\"]) as cursor:\n",
    "    contador = 1\n",
    "    for row in cursor:\n",
    "        row[0] = f\"QUI_{contador:03d}\" \n",
    "        cursor.updateRow(row)\n",
    "        contador += 1"
   ]
  },
  {
   "cell_type": "code",
   "execution_count": null,
   "metadata": {
    "hidden": true
   },
   "outputs": [],
   "source": [
    "arcpy.management.Merge(inputs = [UC,TI,QUI,GLEBA], \n",
    "                       output = \"TPfinalprj\")"
   ]
  },
  {
   "cell_type": "code",
   "execution_count": null,
   "metadata": {
    "hidden": true
   },
   "outputs": [],
   "source": [
    "TPfinalprj = \"TPfinalprj\"\n",
    "\n",
    "arcpy.management.RepairGeometry(TPfinalprj,\n",
    "                                delete_null       = \"DELETE_NULL\",\n",
    "                                validation_method = \"ESRI\")"
   ]
  },
  {
   "cell_type": "markdown",
   "metadata": {
    "heading_collapsed": true,
    "hidden": true
   },
   "source": [
    "#### AL"
   ]
  },
  {
   "cell_type": "code",
   "execution_count": null,
   "metadata": {
    "hidden": true
   },
   "outputs": [],
   "source": [
    "TPfinalprj = \"TPfinalprj\""
   ]
  },
  {
   "cell_type": "markdown",
   "metadata": {
    "hidden": true
   },
   "source": [
    "##### Interseccçao"
   ]
  },
  {
   "cell_type": "code",
   "execution_count": null,
   "metadata": {
    "hidden": true
   },
   "outputs": [],
   "source": [
    "arcpy.analysis.PairwiseIntersect(\n",
    "    in_features       = [CAR_AL, TPfinalprj], \n",
    "    out_feature_class = \"CAR_AL_TP\")"
   ]
  },
  {
   "cell_type": "markdown",
   "metadata": {
    "hidden": true
   },
   "source": [
    "##### Dissolve"
   ]
  },
  {
   "cell_type": "code",
   "execution_count": null,
   "metadata": {
    "hidden": true
   },
   "outputs": [],
   "source": [
    "statistics_fields = [\n",
    "    [\"TP\", \"CONCATENATE\"],\n",
    "    [\"TPinfo\", \"CONCATENATE\"],\n",
    "    [\"TPfonte\", \"CONCATENATE\"]]"
   ]
  },
  {
   "cell_type": "code",
   "execution_count": null,
   "metadata": {
    "hidden": true
   },
   "outputs": [],
   "source": [
    "CAR_AL_TP = \"CAR_AL_TP\"\n",
    "\n",
    "arcpy.analysis.PairwiseDissolve(\n",
    "    in_features       = CAR_AL_TP,\n",
    "    out_feature_class = \"CAR_AL_TP_dissolve\", \n",
    "    dissolve_field    = \"cod_imovel\", \n",
    "    statistics_fields = statistics_fields,\n",
    "    multi_part        = \"MULTI_PART\", #\"SINGLE_PART\" \n",
    "    concatenation_separator = \"; \"\n",
    ")"
   ]
  },
  {
   "cell_type": "markdown",
   "metadata": {
    "heading_collapsed": true,
    "hidden": true
   },
   "source": [
    "#### Cerrado"
   ]
  },
  {
   "cell_type": "markdown",
   "metadata": {
    "hidden": true
   },
   "source": [
    "##### Interseccçao"
   ]
  },
  {
   "cell_type": "code",
   "execution_count": null,
   "metadata": {
    "hidden": true
   },
   "outputs": [],
   "source": [
    "arcpy.analysis.PairwiseIntersect(\n",
    "    in_features       = [CAR_nALcerrado, TPfinalprj], \n",
    "    out_feature_class = \"CAR_nALcerrado_TP\")"
   ]
  },
  {
   "cell_type": "markdown",
   "metadata": {
    "hidden": true
   },
   "source": [
    "##### Dissolve"
   ]
  },
  {
   "cell_type": "code",
   "execution_count": null,
   "metadata": {
    "hidden": true
   },
   "outputs": [],
   "source": [
    "CAR_nALcerrado_TP = \"CAR_nALcerrado_TP\"\n",
    "\n",
    "statistics_fields = [\n",
    "    [\"TP\", \"CONCATENATE\"],\n",
    "    [\"TPinfo\", \"CONCATENATE\"],\n",
    "    [\"TPfonte\", \"CONCATENATE\"]]\n",
    "\n",
    "arcpy.analysis.PairwiseDissolve(\n",
    "    in_features       = CAR_nALcerrado_TP,\n",
    "    out_feature_class = \"CAR_nALcerrado_TP_dissolve\", \n",
    "    dissolve_field    = \"cod_imovel\", \n",
    "    statistics_fields = statistics_fields,\n",
    "    multi_part        = \"MULTI_PART\", #\"SINGLE_PART\" \n",
    "    concatenation_separator = \"; \"\n",
    ")"
   ]
  },
  {
   "cell_type": "markdown",
   "metadata": {
    "heading_collapsed": true,
    "hidden": true
   },
   "source": [
    "#### Mata"
   ]
  },
  {
   "cell_type": "markdown",
   "metadata": {
    "hidden": true
   },
   "source": [
    "##### Interseccçao"
   ]
  },
  {
   "cell_type": "code",
   "execution_count": null,
   "metadata": {
    "hidden": true
   },
   "outputs": [],
   "source": [
    "arcpy.analysis.PairwiseIntersect(\n",
    "    in_features       = [CAR_nALmata, TPfinalprj], \n",
    "    out_feature_class = \"CAR_nALmata_TP\")"
   ]
  },
  {
   "cell_type": "markdown",
   "metadata": {
    "hidden": true
   },
   "source": [
    "##### Dissolve"
   ]
  },
  {
   "cell_type": "code",
   "execution_count": null,
   "metadata": {
    "hidden": true
   },
   "outputs": [],
   "source": [
    "CAR_nALmata_TP = \"CAR_nALmata_TP\"\n",
    "\n",
    "statistics_fields = [\n",
    "    [\"TP\", \"CONCATENATE\"],\n",
    "    [\"TPinfo\", \"CONCATENATE\"],\n",
    "    [\"TPfonte\", \"CONCATENATE\"]]\n",
    "\n",
    "arcpy.analysis.PairwiseDissolve(\n",
    "    in_features       = CAR_nALmata_TP,\n",
    "    out_feature_class = \"CAR_nALmata_TP_dissolve\", \n",
    "    dissolve_field    = \"cod_imovel\", \n",
    "    statistics_fields = statistics_fields,\n",
    "    multi_part        = \"MULTI_PART\", #\"SINGLE_PART\" \n",
    "    concatenation_separator = \"; \"\n",
    ")"
   ]
  },
  {
   "cell_type": "markdown",
   "metadata": {
    "heading_collapsed": true,
    "hidden": true
   },
   "source": [
    "#### Caatinga"
   ]
  },
  {
   "cell_type": "markdown",
   "metadata": {
    "hidden": true
   },
   "source": [
    "##### Interseccçao"
   ]
  },
  {
   "cell_type": "code",
   "execution_count": null,
   "metadata": {
    "hidden": true
   },
   "outputs": [],
   "source": [
    "arcpy.analysis.PairwiseIntersect(\n",
    "    in_features       = [CAR_nALcaatinga, TPfinalprj], \n",
    "    out_feature_class = \"CAR_nALcaatinga_TP\")"
   ]
  },
  {
   "cell_type": "markdown",
   "metadata": {
    "hidden": true
   },
   "source": [
    "##### Dissolve"
   ]
  },
  {
   "cell_type": "code",
   "execution_count": null,
   "metadata": {
    "hidden": true
   },
   "outputs": [],
   "source": [
    "CAR_nALcaatinga_TP = \"CAR_nALcaatinga_TP\"\n",
    "\n",
    "statistics_fields = [\n",
    "    [\"TP\", \"CONCATENATE\"],\n",
    "    [\"TPinfo\", \"CONCATENATE\"],\n",
    "    [\"TPfonte\", \"CONCATENATE\"]]\n",
    "\n",
    "arcpy.analysis.PairwiseDissolve(\n",
    "    in_features       = CAR_nALcaatinga_TP,\n",
    "    out_feature_class = \"CAR_nALcaatinga_TP_dissolve\", \n",
    "    dissolve_field    = \"cod_imovel\", \n",
    "    statistics_fields = statistics_fields,\n",
    "    multi_part        = \"MULTI_PART\", #\"SINGLE_PART\" \n",
    "    concatenation_separator = \"; \"\n",
    ")"
   ]
  },
  {
   "cell_type": "markdown",
   "metadata": {
    "heading_collapsed": true,
    "hidden": true
   },
   "source": [
    "#### PamPan"
   ]
  },
  {
   "cell_type": "markdown",
   "metadata": {
    "hidden": true
   },
   "source": [
    "##### Interseccçao"
   ]
  },
  {
   "cell_type": "code",
   "execution_count": null,
   "metadata": {
    "hidden": true
   },
   "outputs": [],
   "source": [
    "arcpy.analysis.PairwiseIntersect(\n",
    "    in_features       = [CAR_nALPamPan, TPfinalprj], \n",
    "    out_feature_class = \"CAR_nALPamPan_TP\")"
   ]
  },
  {
   "cell_type": "markdown",
   "metadata": {
    "hidden": true
   },
   "source": [
    "##### Dissolve"
   ]
  },
  {
   "cell_type": "code",
   "execution_count": null,
   "metadata": {
    "hidden": true
   },
   "outputs": [],
   "source": [
    "CAR_nALPamPan_TP = \"CAR_nALPamPan_TP\"\n",
    "\n",
    "statistics_fields = [\n",
    "    [\"TP\", \"CONCATENATE\"],\n",
    "    [\"TPinfo\", \"CONCATENATE\"],\n",
    "    [\"TPfonte\", \"CONCATENATE\"]]\n",
    "\n",
    "arcpy.analysis.PairwiseDissolve(\n",
    "    in_features       = CAR_nALPamPan_TP,\n",
    "    out_feature_class = \"CAR_nALPamPan_TP_dissolve\", \n",
    "    dissolve_field    = \"cod_imovel\", \n",
    "    statistics_fields = statistics_fields,\n",
    "    multi_part        = \"MULTI_PART\", #\"SINGLE_PART\" \n",
    "    concatenation_separator = \"; \"\n",
    ")"
   ]
  },
  {
   "cell_type": "markdown",
   "metadata": {
    "hidden": true
   },
   "source": [
    "#### Merge Final e Export"
   ]
  },
  {
   "cell_type": "code",
   "execution_count": null,
   "metadata": {
    "hidden": true
   },
   "outputs": [],
   "source": [
    "CAR_AL_TP          = \"CAR_AL_TP_dissolve\"\n",
    "CAR_nALcerrado_TP  = \"CAR_nALcerrado_TP_dissolve\"\n",
    "CAR_nALmata_TP     = \"CAR_nALmata_TP_dissolve\"\n",
    "CAR_nALcaatinga_TP = \"CAR_nALcaatinga_TP_dissolve\"\n",
    "CAR_nALPamPan_TP   = \"CAR_nALPamPan_TP_dissolve\"\n",
    "\n",
    "\n",
    "arcpy.management.Merge([CAR_AL_TP, CAR_nALcerrado_TP, CAR_nALmata_TP, CAR_nALcaatinga_TP, CAR_nALPamPan_TP], \n",
    "                       \"CAR_TERRASPUBLICASinfo\")"
   ]
  },
  {
   "cell_type": "code",
   "execution_count": null,
   "metadata": {
    "hidden": true
   },
   "outputs": [],
   "source": [
    "CAR_TERRASPUBLICASinfo = \"CAR_TERRASPUBLICASinfo\"\n",
    "\n",
    "arcpy.management.CalculateField(\n",
    "    in_table        = CAR_TERRASPUBLICASinfo,\n",
    "    field           = \"CONCATENATE_TPfonte\",\n",
    "    expression      = \"clean_value(!CONCATENATE_TPfonte!)\",\n",
    "    expression_type = \"PYTHON3\",\n",
    "    code_block=\"\"\"\n",
    "def clean_value(value):\n",
    "    if not value:\n",
    "        return \"\"\n",
    "    items = [item.strip() for item in value.split(\";\") if item.strip()]  # Remove espaços extras\n",
    "    unique_items = sorted(set(items))  # Remove duplicatas e ordena\n",
    "    return \"; \".join(unique_items)  # Adiciona espaço após \";\"\n",
    "\"\"\"\n",
    ")"
   ]
  },
  {
   "cell_type": "code",
   "execution_count": null,
   "metadata": {
    "hidden": true
   },
   "outputs": [],
   "source": [
    "arcpy.management.CalculateField(\n",
    "    in_table        = CAR_TERRASPUBLICASinfo,\n",
    "    field           = \"CONCATENATE_TP\",\n",
    "    expression      = \"clean_value(!CONCATENATE_TP!)\",\n",
    "    expression_type = \"PYTHON3\",\n",
    "    code_block=\"\"\"\n",
    "def clean_value(value):\n",
    "    if not value:\n",
    "        return \"\"\n",
    "    items = [item.strip() for item in value.split(\";\") if item.strip()]  # Remove espaços extras\n",
    "    unique_items = sorted(set(items))  # Remove duplicatas e ordena\n",
    "    return \"; \".join(unique_items)  # Adiciona espaço após \";\"\n",
    "\"\"\"\n",
    ")"
   ]
  },
  {
   "cell_type": "code",
   "execution_count": null,
   "metadata": {
    "hidden": true
   },
   "outputs": [],
   "source": [
    "arcpy.management.CalculateField(\n",
    "    in_table        = CAR_TERRASPUBLICASinfo,\n",
    "    field           = \"CONCATENATE_TPinfo\",\n",
    "    expression      = \"clean_value(!CONCATENATE_TPinfo!)\",\n",
    "    expression_type = \"PYTHON3\",\n",
    "    code_block=\"\"\"\n",
    "def clean_value(value):\n",
    "    if not value:\n",
    "        return \"\"\n",
    "    items = [item.strip() for item in value.split(\";\") if item.strip()]  # Remove espaços extras\n",
    "    unique_items = sorted(set(items))  # Remove duplicatas e ordena\n",
    "    return \"; \".join(unique_items)  # Adiciona espaço após \";\"\n",
    "\"\"\"\n",
    ")"
   ]
  },
  {
   "cell_type": "markdown",
   "metadata": {
    "heading_collapsed": true
   },
   "source": [
    "## Sobreposição Embargos"
   ]
  },
  {
   "cell_type": "markdown",
   "metadata": {
    "heading_collapsed": true,
    "hidden": true
   },
   "source": [
    "### <mark>Onde Estamos?</mark>"
   ]
  },
  {
   "cell_type": "code",
   "execution_count": null,
   "metadata": {
    "hidden": true,
    "scrolled": true
   },
   "outputs": [],
   "source": [
    "EMBfinalprj     = \"EMBfinalprj\"\n",
    "\n",
    "CAR_AL          = \"CAR_AL\"\n",
    "CAR_nALcerrado  = \"CAR_nALcerrado\"\n",
    "CAR_nALmata     = \"CAR_nALmata\"\n",
    "CAR_nALcaatinga = \"CAR_nALcaatinga\"\n",
    "CAR_nALPamPan   = \"CAR_nALPamPan\"\n",
    "\n",
    "EMBIBprj = \"EMBIBprj\"\n",
    "EMBICprj = \"EMBICprj\"\n",
    "EMBMTprj = \"EMBMTprj\"\n",
    "EMBPAprj = \"EMBPAprj\"\n",
    "EMBGOprj = \"EMBGOprj\"\n",
    "EMBAMprj = \"EMBAMprj\""
   ]
  },
  {
   "cell_type": "markdown",
   "metadata": {
    "heading_collapsed": true,
    "hidden": true
   },
   "source": [
    "### CAR AL"
   ]
  },
  {
   "cell_type": "markdown",
   "metadata": {
    "hidden": true
   },
   "source": [
    "#### Tabular Intersecção "
   ]
  },
  {
   "cell_type": "code",
   "execution_count": null,
   "metadata": {
    "hidden": true,
    "scrolled": true
   },
   "outputs": [],
   "source": [
    "arcpy.analysis.TabulateIntersection(\n",
    "    in_zone_features  = CAR_AL,\n",
    "    zone_fields       = \"cod_imovel\",\n",
    "    in_class_features = EMBfinalprj,\n",
    "    out_table         = \"Tabulate_Inter_CAR_AL_EMB\",\n",
    "    class_fields      = \"EMBfonte\",\n",
    "    out_units         = \"HECTARES\")"
   ]
  },
  {
   "cell_type": "markdown",
   "metadata": {
    "hidden": true
   },
   "source": [
    "#### Pivot Table"
   ]
  },
  {
   "cell_type": "code",
   "execution_count": null,
   "metadata": {
    "hidden": true
   },
   "outputs": [],
   "source": [
    "Tabulate_Inter_CAR_AL_EMB = \"Tabulate_Inter_CAR_AL_EMB\""
   ]
  },
  {
   "cell_type": "code",
   "execution_count": null,
   "metadata": {
    "hidden": true
   },
   "outputs": [],
   "source": [
    "arcpy.management.PivotTable(\n",
    "    in_table    = Tabulate_Inter_CAR_AL_EMB, \n",
    "    fields      = \"cod_imovel\", \n",
    "    pivot_field = \"EMBfonte\", \n",
    "    value_field = \"AREA\", \n",
    "    out_table   = \"Tabulate_Inter_CAR_AL_EMB_pivot\")"
   ]
  },
  {
   "cell_type": "markdown",
   "metadata": {
    "hidden": true
   },
   "source": [
    "#### Null por 0"
   ]
  },
  {
   "cell_type": "code",
   "execution_count": null,
   "metadata": {
    "hidden": true
   },
   "outputs": [],
   "source": [
    "Tabulate_Inter_CAR_AL_EMB = \"Tabulate_Inter_CAR_AL_EMB_pivot\""
   ]
  },
  {
   "cell_type": "code",
   "execution_count": null,
   "metadata": {
    "hidden": true
   },
   "outputs": [],
   "source": [
    "Tabulate_Inter_CAR_AL_EMB = \"Tabulate_Inter_CAR_AL_EMB_pivot\"\n",
    "\n",
    "fieldObs = arcpy.ListFields(Tabulate_Inter_CAR_AL_EMB)  \n",
    "fieldNames = []  \n",
    "for field in fieldObs:  \n",
    "    fieldNames.append(field.name)  \n",
    "del fieldObs  \n",
    "fieldCount = len(fieldNames)  \n",
    "\n",
    "with arcpy.da.UpdateCursor(Tabulate_Inter_CAR_AL_EMB, fieldNames) as curU:  \n",
    "    for row in curU:  \n",
    "        rowU = row  \n",
    "        for field in range(fieldCount):  \n",
    "            if rowU[field] == None:  \n",
    "                rowU[field] = \"0.0\"  \n",
    "      \n",
    "      \n",
    "        curU.updateRow(rowU)\n",
    "\n",
    "del curU"
   ]
  },
  {
   "cell_type": "markdown",
   "metadata": {
    "hidden": true
   },
   "source": [
    "#### Ajustar Colunas"
   ]
  },
  {
   "cell_type": "code",
   "execution_count": null,
   "metadata": {
    "hidden": true
   },
   "outputs": [],
   "source": [
    "arcpy.management.AddField(Tabulate_Inter_CAR_AL_EMB,\n",
    "                          \"EMBIBha\",\n",
    "                          \"DOUBLE\")\n",
    "\n",
    "arcpy.management.AddField(Tabulate_Inter_CAR_AL_EMB,\n",
    "                          \"EMBICha\",\n",
    "                          \"DOUBLE\")\n",
    "\n",
    "arcpy.management.AddField(Tabulate_Inter_CAR_AL_EMB,\n",
    "                          \"EMBMTha\",\n",
    "                          \"DOUBLE\")\n",
    "\n",
    "arcpy.management.AddField(Tabulate_Inter_CAR_AL_EMB,\n",
    "                          \"EMBPAha\",\n",
    "                          \"DOUBLE\")\n",
    "\n",
    "arcpy.management.AddField(Tabulate_Inter_CAR_AL_EMB,\n",
    "                          \"EMBGOha\",\n",
    "                          \"DOUBLE\")\n",
    "\n",
    "arcpy.management.AddField(Tabulate_Inter_CAR_AL_EMB,\n",
    "                          \"EMBAMha\",\n",
    "                          \"DOUBLE\")"
   ]
  },
  {
   "cell_type": "code",
   "execution_count": null,
   "metadata": {
    "hidden": true
   },
   "outputs": [],
   "source": [
    "fields = arcpy.ListFields(Tabulate_Inter_CAR_AL_EMB)\n",
    "\n",
    "for field in fields:\n",
    "    print(f\"Nome: {field.name}, Tipo: {field.type}\")"
   ]
  },
  {
   "cell_type": "code",
   "execution_count": null,
   "metadata": {
    "hidden": true
   },
   "outputs": [],
   "source": [
    "arcpy.management.CalculateField(Tabulate_Inter_CAR_AL_EMB,\n",
    "                                \"EMBIBha\", \n",
    "                                \"round(!IBAMA___28_01_2025!,4)\", \n",
    "                                \"PYTHON3\")\n",
    "\n",
    "arcpy.management.CalculateField(Tabulate_Inter_CAR_AL_EMB,\n",
    "                                \"EMBICha\", \n",
    "                                \"round(!ICMBIO___28_01_2025!,4)\", \n",
    "                                \"PYTHON3\")\n",
    "\n",
    "arcpy.management.CalculateField(Tabulate_Inter_CAR_AL_EMB,\n",
    "                                \"EMBMTha\", \n",
    "                                \"round(!SEMA_MT___28_01_2025!,4)\", \n",
    "                                \"PYTHON3\")\n",
    "\n",
    "arcpy.management.CalculateField(Tabulate_Inter_CAR_AL_EMB,\n",
    "                                \"EMBPAha\", \n",
    "                                \"round(!SEMA_PA___28_01_2025!,4)\", \n",
    "                                \"PYTHON3\")\n",
    "\n",
    "arcpy.management.CalculateField(Tabulate_Inter_CAR_AL_EMB,\n",
    "                                \"EMBGOha\", \n",
    "                                \"round(!SEMA_GO___28_01_2025!,4)\", \n",
    "                                \"PYTHON3\")\n",
    "\n",
    "arcpy.management.CalculateField(Tabulate_Inter_CAR_AL_EMB,\n",
    "                                \"EMBAMha\", \n",
    "                                \"round(!IPAAM_AM___28_01_2025!,4)\", \n",
    "                                \"PYTHON3\")"
   ]
  },
  {
   "cell_type": "markdown",
   "metadata": {
    "hidden": true
   },
   "source": [
    "#### Join"
   ]
  },
  {
   "cell_type": "code",
   "execution_count": null,
   "metadata": {
    "hidden": true
   },
   "outputs": [],
   "source": [
    "arcpy.management.JoinField(\n",
    "    in_data    = CAR_AL, \n",
    "    in_field   = \"cod_imovel\", \n",
    "    join_table = Tabulate_Inter_CAR_AL_EMB,\n",
    "    join_field = \"cod_imovel\", \n",
    "    fields     = [\"EMBIBha\",\"EMBICha\",\"EMBMTha\",\"EMBPAha\",\"EMBGOha\",\"EMBAMha\"])"
   ]
  },
  {
   "cell_type": "code",
   "execution_count": null,
   "metadata": {
    "hidden": true
   },
   "outputs": [],
   "source": [
    "fieldObs = arcpy.ListFields(CAR_AL)  \n",
    "fieldNames = []  \n",
    "for field in fieldObs:  \n",
    "    fieldNames.append(field.name)  \n",
    "del fieldObs  \n",
    "fieldCount = len(fieldNames)  \n",
    "\n",
    "with arcpy.da.UpdateCursor(CAR_AL, fieldNames) as curU:  \n",
    "    for row in curU:  \n",
    "        rowU = row  \n",
    "        for field in range(fieldCount):  \n",
    "            if rowU[field] == None:  \n",
    "                rowU[field] = \"0.0\"  \n",
    "      \n",
    "      \n",
    "        curU.updateRow(rowU)\n",
    "\n",
    "del curU"
   ]
  },
  {
   "cell_type": "markdown",
   "metadata": {
    "heading_collapsed": true,
    "hidden": true
   },
   "source": [
    "### CAR nAL - Cerrado"
   ]
  },
  {
   "cell_type": "markdown",
   "metadata": {
    "hidden": true
   },
   "source": [
    "#### Tabular Intersecção "
   ]
  },
  {
   "cell_type": "code",
   "execution_count": null,
   "metadata": {
    "hidden": true
   },
   "outputs": [],
   "source": [
    "arcpy.analysis.TabulateIntersection(\n",
    "    in_zone_features  = CAR_nALcerrado,\n",
    "    zone_fields       = \"cod_imovel\",\n",
    "    in_class_features = EMBfinalprj,\n",
    "    out_table         = \"Tabulate_Inter_CAR_nALcerrado_EMB\",\n",
    "    class_fields      = \"EMBfonte\",\n",
    "    out_units         = \"HECTARES\")"
   ]
  },
  {
   "cell_type": "markdown",
   "metadata": {
    "hidden": true
   },
   "source": [
    "#### Pivot Table"
   ]
  },
  {
   "cell_type": "code",
   "execution_count": null,
   "metadata": {
    "hidden": true
   },
   "outputs": [],
   "source": [
    "Tabulate_Inter_CAR_nALcerrado_EMB = \"Tabulate_Inter_CAR_nALcerrado_EMB\"\n",
    "\n",
    "arcpy.management.PivotTable(\n",
    "    in_table    = Tabulate_Inter_CAR_nALcerrado_EMB, \n",
    "    fields      = \"cod_imovel\", \n",
    "    pivot_field = \"EMBfonte\", \n",
    "    value_field = \"AREA\", \n",
    "    out_table   = \"Tabulate_Inter_CAR_nALcerrado_EMB_pivot\")"
   ]
  },
  {
   "cell_type": "markdown",
   "metadata": {
    "hidden": true
   },
   "source": [
    "#### Null por 0"
   ]
  },
  {
   "cell_type": "code",
   "execution_count": null,
   "metadata": {
    "hidden": true
   },
   "outputs": [],
   "source": [
    "Tabulate_Inter_CAR_nALcerrado_EMB = \"Tabulate_Inter_CAR_nALcerrado_EMB_pivot\"\n",
    "\n",
    "fieldObs = arcpy.ListFields(Tabulate_Inter_CAR_nALcerrado_EMB)  \n",
    "fieldNames = []  \n",
    "for field in fieldObs:  \n",
    "    fieldNames.append(field.name)  \n",
    "del fieldObs  \n",
    "fieldCount = len(fieldNames)  \n",
    "\n",
    "with arcpy.da.UpdateCursor(Tabulate_Inter_CAR_nALcerrado_EMB, fieldNames) as curU:  \n",
    "    for row in curU:  \n",
    "        rowU = row  \n",
    "        for field in range(fieldCount):  \n",
    "            if rowU[field] == None:  \n",
    "                rowU[field] = \"0.0\"  \n",
    "      \n",
    "      \n",
    "        curU.updateRow(rowU)\n",
    "\n",
    "del curU"
   ]
  },
  {
   "cell_type": "markdown",
   "metadata": {
    "hidden": true
   },
   "source": [
    "#### Ajustar Colunas"
   ]
  },
  {
   "cell_type": "code",
   "execution_count": null,
   "metadata": {
    "hidden": true
   },
   "outputs": [],
   "source": [
    "arcpy.management.AddField(Tabulate_Inter_CAR_nALcerrado_EMB,\n",
    "                          \"EMBIBha\",\n",
    "                          \"DOUBLE\")\n",
    "\n",
    "arcpy.management.AddField(Tabulate_Inter_CAR_nALcerrado_EMB,\n",
    "                          \"EMBICha\",\n",
    "                          \"DOUBLE\")\n",
    "\n",
    "arcpy.management.AddField(Tabulate_Inter_CAR_nALcerrado_EMB,\n",
    "                          \"EMBMTha\",\n",
    "                          \"DOUBLE\")\n",
    "\n",
    "arcpy.management.AddField(Tabulate_Inter_CAR_nALcerrado_EMB,\n",
    "                          \"EMBPAha\",\n",
    "                          \"DOUBLE\")\n",
    "\n",
    "arcpy.management.AddField(Tabulate_Inter_CAR_nALcerrado_EMB,\n",
    "                          \"EMBGOha\",\n",
    "                          \"DOUBLE\")\n",
    "\n",
    "arcpy.management.AddField(Tabulate_Inter_CAR_nALcerrado_EMB,\n",
    "                          \"EMBAMha\",\n",
    "                          \"DOUBLE\")"
   ]
  },
  {
   "cell_type": "code",
   "execution_count": null,
   "metadata": {
    "hidden": true
   },
   "outputs": [],
   "source": [
    "fields = arcpy.ListFields(Tabulate_Inter_CAR_nALcerrado_EMB)\n",
    "\n",
    "for field in fields:\n",
    "    print(f\"Nome: {field.name}, Tipo: {field.type}\")"
   ]
  },
  {
   "cell_type": "code",
   "execution_count": null,
   "metadata": {
    "hidden": true
   },
   "outputs": [],
   "source": [
    "arcpy.management.CalculateField(Tabulate_Inter_CAR_nALcerrado_EMB,\n",
    "                                \"EMBIBha\", \n",
    "                                \"round(!IBAMA___28_01_2025!,4)\", \n",
    "                                \"PYTHON3\")\n",
    "\n",
    "arcpy.management.CalculateField(Tabulate_Inter_CAR_nALcerrado_EMB,\n",
    "                                \"EMBICha\", \n",
    "                                \"round(!ICMBIO___28_01_2025!,4)\", \n",
    "                                \"PYTHON3\")\n",
    "\n",
    "#arcpy.management.CalculateField(Tabulate_Inter_CAR_nALcerrado_EMB,\n",
    "#                                \"EMBMTha\", \n",
    "#                                \"round(!SEMA_MT___28_01_2025!,4)\", \n",
    "#                                \"PYTHON3\")\n",
    "\n",
    "#arcpy.management.CalculateField(Tabulate_Inter_CAR_nALcerrado_EMB,\n",
    "#                                \"EMBPAha\", \n",
    "#                                \"round(!SEMA_PA___28_01_2025!,4)\", \n",
    "#                                \"PYTHON3\")\n",
    "\n",
    "arcpy.management.CalculateField(Tabulate_Inter_CAR_nALcerrado_EMB,\n",
    "                                \"EMBGOha\", \n",
    "                                \"round(!SEMA_GO___28_01_2025!,4)\", \n",
    "                                \"PYTHON3\")\n",
    "\n",
    "#arcpy.management.CalculateField(Tabulate_Inter_CAR_nALcerrado_EMB,\n",
    "#                                \"EMBAMha\", \n",
    "#                                \"round(!IPAAM_AM___28_01_2025!,4)\", \n",
    "#                                \"PYTHON3\")"
   ]
  },
  {
   "cell_type": "markdown",
   "metadata": {
    "hidden": true
   },
   "source": [
    "#### Join"
   ]
  },
  {
   "cell_type": "code",
   "execution_count": null,
   "metadata": {
    "hidden": true
   },
   "outputs": [],
   "source": [
    "arcpy.management.JoinField(\n",
    "    in_data    = CAR_nALcerrado, \n",
    "    in_field   = \"cod_imovel\", \n",
    "    join_table = Tabulate_Inter_CAR_nALcerrado_EMB,\n",
    "    join_field = \"cod_imovel\", \n",
    "    fields     = [\"EMBIBha\",\"EMBICha\",\"EMBMTha\",\"EMBPAha\",\"EMBGOha\",\"EMBAMha\"])"
   ]
  },
  {
   "cell_type": "code",
   "execution_count": null,
   "metadata": {
    "hidden": true
   },
   "outputs": [],
   "source": [
    "fieldObs = arcpy.ListFields(CAR_nALcerrado)  \n",
    "fieldNames = []  \n",
    "for field in fieldObs:  \n",
    "    fieldNames.append(field.name)  \n",
    "del fieldObs  \n",
    "fieldCount = len(fieldNames)  \n",
    "\n",
    "with arcpy.da.UpdateCursor(CAR_nALcerrado, fieldNames) as curU:  \n",
    "    for row in curU:  \n",
    "        rowU = row  \n",
    "        for field in range(fieldCount):  \n",
    "            if rowU[field] == None:  \n",
    "                rowU[field] = \"0.0\"  \n",
    "      \n",
    "      \n",
    "        curU.updateRow(rowU)\n",
    "\n",
    "del curU"
   ]
  },
  {
   "cell_type": "markdown",
   "metadata": {
    "heading_collapsed": true,
    "hidden": true
   },
   "source": [
    "### CAR_nALmata"
   ]
  },
  {
   "cell_type": "markdown",
   "metadata": {
    "hidden": true
   },
   "source": [
    "#### Tabular Intersecção "
   ]
  },
  {
   "cell_type": "code",
   "execution_count": null,
   "metadata": {
    "hidden": true
   },
   "outputs": [],
   "source": [
    "arcpy.analysis.TabulateIntersection(\n",
    "    in_zone_features  = CAR_nALmata,\n",
    "    zone_fields       = \"cod_imovel\",\n",
    "    in_class_features = EMBfinalprj,\n",
    "    out_table         = \"Tabulate_Inter_CAR_nALmata_EMB\",\n",
    "    class_fields      = \"EMBfonte\",\n",
    "    out_units         = \"HECTARES\")"
   ]
  },
  {
   "cell_type": "markdown",
   "metadata": {
    "hidden": true
   },
   "source": [
    "#### Pivot Table"
   ]
  },
  {
   "cell_type": "code",
   "execution_count": null,
   "metadata": {
    "hidden": true
   },
   "outputs": [],
   "source": [
    "Tabulate_Inter_CAR_nALmata_EMB = \"Tabulate_Inter_CAR_nALmata_EMB\"\n",
    "\n",
    "arcpy.management.PivotTable(\n",
    "    in_table    = Tabulate_Inter_CAR_nALmata_EMB, \n",
    "    fields      = \"cod_imovel\", \n",
    "    pivot_field = \"EMBfonte\", \n",
    "    value_field = \"AREA\", \n",
    "    out_table   = \"Tabulate_Inter_CAR_nALmata_EMB_pivot\")"
   ]
  },
  {
   "cell_type": "markdown",
   "metadata": {
    "hidden": true
   },
   "source": [
    "#### Null por 0"
   ]
  },
  {
   "cell_type": "code",
   "execution_count": null,
   "metadata": {
    "hidden": true
   },
   "outputs": [],
   "source": [
    "Tabulate_Inter_CAR_nALmata_EMB = \"Tabulate_Inter_CAR_nALmata_EMB_pivot\"\n",
    "\n",
    "fieldObs = arcpy.ListFields(Tabulate_Inter_CAR_nALmata_EMB)  \n",
    "fieldNames = []  \n",
    "for field in fieldObs:  \n",
    "    fieldNames.append(field.name)  \n",
    "del fieldObs  \n",
    "fieldCount = len(fieldNames)  \n",
    "\n",
    "with arcpy.da.UpdateCursor(Tabulate_Inter_CAR_nALmata_EMB, fieldNames) as curU:  \n",
    "    for row in curU:  \n",
    "        rowU = row  \n",
    "        for field in range(fieldCount):  \n",
    "            if rowU[field] == None:  \n",
    "                rowU[field] = \"0.0\"  \n",
    "      \n",
    "      \n",
    "        curU.updateRow(rowU)\n",
    "\n",
    "del curU"
   ]
  },
  {
   "cell_type": "markdown",
   "metadata": {
    "hidden": true
   },
   "source": [
    "#### Ajustar Colunas"
   ]
  },
  {
   "cell_type": "code",
   "execution_count": null,
   "metadata": {
    "hidden": true
   },
   "outputs": [],
   "source": [
    "arcpy.management.AddField(Tabulate_Inter_CAR_nALmata_EMB,\n",
    "                          \"EMBIBha\",\n",
    "                          \"DOUBLE\")\n",
    "\n",
    "arcpy.management.AddField(Tabulate_Inter_CAR_nALmata_EMB,\n",
    "                          \"EMBICha\",\n",
    "                          \"DOUBLE\")\n",
    "\n",
    "arcpy.management.AddField(Tabulate_Inter_CAR_nALmata_EMB,\n",
    "                          \"EMBMTha\",\n",
    "                          \"DOUBLE\")\n",
    "\n",
    "arcpy.management.AddField(Tabulate_Inter_CAR_nALmata_EMB,\n",
    "                          \"EMBPAha\",\n",
    "                          \"DOUBLE\")\n",
    "\n",
    "arcpy.management.AddField(Tabulate_Inter_CAR_nALmata_EMB,\n",
    "                          \"EMBGOha\",\n",
    "                          \"DOUBLE\")\n",
    "\n",
    "arcpy.management.AddField(Tabulate_Inter_CAR_nALmata_EMB,\n",
    "                          \"EMBAMha\",\n",
    "                          \"DOUBLE\")"
   ]
  },
  {
   "cell_type": "code",
   "execution_count": null,
   "metadata": {
    "hidden": true
   },
   "outputs": [],
   "source": [
    "fields = arcpy.ListFields(Tabulate_Inter_CAR_nALmata_EMB)\n",
    "\n",
    "for field in fields:\n",
    "    print(f\"Nome: {field.name}, Tipo: {field.type}\")"
   ]
  },
  {
   "cell_type": "code",
   "execution_count": null,
   "metadata": {
    "hidden": true
   },
   "outputs": [],
   "source": [
    "arcpy.management.CalculateField(Tabulate_Inter_CAR_nALmata_EMB,\n",
    "                                \"EMBIBha\", \n",
    "                                \"round(!IBAMA___28_01_2025!,4)\", \n",
    "                                \"PYTHON3\")\n",
    "\n",
    "arcpy.management.CalculateField(Tabulate_Inter_CAR_nALmata_EMB,\n",
    "                                \"EMBICha\", \n",
    "                                \"round(!ICMBIO___28_01_2025!,4)\", \n",
    "                                \"PYTHON3\")\n",
    "\n",
    "#arcpy.management.CalculateField(Tabulate_Inter_CAR_nALmata_EMB,\n",
    "#                                \"EMBMTha\", \n",
    "#                                \"round(!SEMA_MT___28_01_2025!,4)\", \n",
    "#                                \"PYTHON3\")\n",
    "\n",
    "#arcpy.management.CalculateField(Tabulate_Inter_CAR_nALmata_EMB,\n",
    "#                                \"EMBPAha\", \n",
    "#                                \"round(!SEMA_PA___28_01_2025!,4)\", \n",
    "#                                \"PYTHON3\")\n",
    "\n",
    "arcpy.management.CalculateField(Tabulate_Inter_CAR_nALmata_EMB,\n",
    "                                \"EMBGOha\", \n",
    "                                \"round(!SEMA_GO___28_01_2025!,4)\", \n",
    "                                \"PYTHON3\")\n",
    "\n",
    "#arcpy.management.CalculateField(Tabulate_Inter_CAR_nALmata_EMB,\n",
    "#                                \"EMBAMha\", \n",
    "#                                \"round(!IPAAM_AM___28_01_2025!,4)\", \n",
    "#                                \"PYTHON3\")"
   ]
  },
  {
   "cell_type": "markdown",
   "metadata": {
    "hidden": true
   },
   "source": [
    "#### Join"
   ]
  },
  {
   "cell_type": "code",
   "execution_count": null,
   "metadata": {
    "hidden": true
   },
   "outputs": [],
   "source": [
    "arcpy.management.JoinField(\n",
    "    in_data    = CAR_nALmata, \n",
    "    in_field   = \"cod_imovel\", \n",
    "    join_table = Tabulate_Inter_CAR_nALmata_EMB,\n",
    "    join_field = \"cod_imovel\", \n",
    "    fields     = [\"EMBIBha\",\"EMBICha\",\"EMBMTha\",\"EMBPAha\",\"EMBGOha\",\"EMBAMha\"])"
   ]
  },
  {
   "cell_type": "code",
   "execution_count": null,
   "metadata": {
    "hidden": true
   },
   "outputs": [],
   "source": [
    "fieldObs = arcpy.ListFields(CAR_nALmata)  \n",
    "fieldNames = []  \n",
    "for field in fieldObs:  \n",
    "    fieldNames.append(field.name)  \n",
    "del fieldObs  \n",
    "fieldCount = len(fieldNames)  \n",
    "\n",
    "with arcpy.da.UpdateCursor(CAR_nALmata, fieldNames) as curU:  \n",
    "    for row in curU:  \n",
    "        rowU = row  \n",
    "        for field in range(fieldCount):  \n",
    "            if rowU[field] == None:  \n",
    "                rowU[field] = \"0.0\"  \n",
    "      \n",
    "      \n",
    "        curU.updateRow(rowU)\n",
    "\n",
    "del curU"
   ]
  },
  {
   "cell_type": "markdown",
   "metadata": {
    "heading_collapsed": true,
    "hidden": true
   },
   "source": [
    "### CAR_nALcaatinga"
   ]
  },
  {
   "cell_type": "markdown",
   "metadata": {
    "hidden": true
   },
   "source": [
    "#### Tabular Intersecção "
   ]
  },
  {
   "cell_type": "code",
   "execution_count": null,
   "metadata": {
    "hidden": true
   },
   "outputs": [],
   "source": [
    "arcpy.analysis.TabulateIntersection(\n",
    "    in_zone_features  = CAR_nALcaatinga,\n",
    "    zone_fields       = \"cod_imovel\",\n",
    "    in_class_features = EMBfinalprj,\n",
    "    out_table         = \"Tabulate_Inter_CAR_nALcaatinga_EMB\",\n",
    "    class_fields      = \"EMBfonte\",\n",
    "    out_units         = \"HECTARES\")"
   ]
  },
  {
   "cell_type": "markdown",
   "metadata": {
    "hidden": true
   },
   "source": [
    "#### Pivot Table"
   ]
  },
  {
   "cell_type": "code",
   "execution_count": null,
   "metadata": {
    "hidden": true
   },
   "outputs": [],
   "source": [
    "Tabulate_Inter_CAR_nALcaatinga_EMB = \"Tabulate_Inter_CAR_nALcaatinga_EMB\"\n",
    "\n",
    "arcpy.management.PivotTable(\n",
    "    in_table    = Tabulate_Inter_CAR_nALcaatinga_EMB, \n",
    "    fields      = \"cod_imovel\", \n",
    "    pivot_field = \"EMBfonte\", \n",
    "    value_field = \"AREA\", \n",
    "    out_table   = \"Tabulate_Inter_CAR_nALcaatinga_EMB_pivot\")"
   ]
  },
  {
   "cell_type": "markdown",
   "metadata": {
    "hidden": true
   },
   "source": [
    "#### Null por 0"
   ]
  },
  {
   "cell_type": "code",
   "execution_count": null,
   "metadata": {
    "hidden": true
   },
   "outputs": [],
   "source": [
    "Tabulate_Inter_CAR_nALcaatinga_EMB = \"Tabulate_Inter_CAR_nALcaatinga_EMB_pivot\"\n",
    "\n",
    "fieldObs = arcpy.ListFields(Tabulate_Inter_CAR_nALcaatinga_EMB)  \n",
    "fieldNames = []  \n",
    "for field in fieldObs:  \n",
    "    fieldNames.append(field.name)  \n",
    "del fieldObs  \n",
    "fieldCount = len(fieldNames)  \n",
    "\n",
    "with arcpy.da.UpdateCursor(Tabulate_Inter_CAR_nALcaatinga_EMB, fieldNames) as curU:  \n",
    "    for row in curU:  \n",
    "        rowU = row  \n",
    "        for field in range(fieldCount):  \n",
    "            if rowU[field] == None:  \n",
    "                rowU[field] = \"0.0\"  \n",
    "      \n",
    "      \n",
    "        curU.updateRow(rowU)\n",
    "\n",
    "del curU"
   ]
  },
  {
   "cell_type": "markdown",
   "metadata": {
    "hidden": true
   },
   "source": [
    "#### Ajustar Colunas"
   ]
  },
  {
   "cell_type": "code",
   "execution_count": null,
   "metadata": {
    "hidden": true
   },
   "outputs": [],
   "source": [
    "arcpy.management.AddField(Tabulate_Inter_CAR_nALcaatinga_EMB,\n",
    "                          \"EMBIBha\",\n",
    "                          \"DOUBLE\")\n",
    "\n",
    "arcpy.management.AddField(Tabulate_Inter_CAR_nALcaatinga_EMB,\n",
    "                          \"EMBICha\",\n",
    "                          \"DOUBLE\")\n",
    "\n",
    "arcpy.management.AddField(Tabulate_Inter_CAR_nALcaatinga_EMB,\n",
    "                          \"EMBMTha\",\n",
    "                          \"DOUBLE\")\n",
    "\n",
    "arcpy.management.AddField(Tabulate_Inter_CAR_nALcaatinga_EMB,\n",
    "                          \"EMBPAha\",\n",
    "                          \"DOUBLE\")\n",
    "\n",
    "arcpy.management.AddField(Tabulate_Inter_CAR_nALcaatinga_EMB,\n",
    "                          \"EMBGOha\",\n",
    "                          \"DOUBLE\")\n",
    "\n",
    "arcpy.management.AddField(Tabulate_Inter_CAR_nALcaatinga_EMB,\n",
    "                          \"EMBAMha\",\n",
    "                          \"DOUBLE\")"
   ]
  },
  {
   "cell_type": "code",
   "execution_count": null,
   "metadata": {
    "hidden": true
   },
   "outputs": [],
   "source": [
    "fields = arcpy.ListFields(Tabulate_Inter_CAR_nALcaatinga_EMB)\n",
    "\n",
    "for field in fields:\n",
    "    print(f\"Nome: {field.name}, Tipo: {field.type}\")"
   ]
  },
  {
   "cell_type": "code",
   "execution_count": null,
   "metadata": {
    "hidden": true
   },
   "outputs": [],
   "source": [
    "arcpy.management.CalculateField(Tabulate_Inter_CAR_nALcaatinga_EMB,\n",
    "                                \"EMBIBha\", \n",
    "                                \"round(!IBAMA___28_01_2025!,4)\", \n",
    "                                \"PYTHON3\")\n",
    "\n",
    "arcpy.management.CalculateField(Tabulate_Inter_CAR_nALcaatinga_EMB,\n",
    "                                \"EMBICha\", \n",
    "                                \"round(!ICMBIO___28_01_2025!,4)\", \n",
    "                                \"PYTHON3\")\n",
    "\n",
    "#arcpy.management.CalculateField(Tabulate_Inter_CAR_nALcaatinga_EMB,\n",
    "#                                \"EMBMTha\", \n",
    "#                                \"round(!SEMA_MT___28_01_2025!,4)\", \n",
    "#                                \"PYTHON3\")\n",
    "\n",
    "#arcpy.management.CalculateField(Tabulate_Inter_CAR_nALcaatinga_EMB,\n",
    "#                                \"EMBPAha\", \n",
    "#                                \"round(!SEMA_PA___28_01_2025!,4)\", \n",
    "#                                \"PYTHON3\")\n",
    "\n",
    "#arcpy.management.CalculateField(Tabulate_Inter_CAR_nALcaatinga_EMB,\n",
    "#                                \"EMBGOha\", \n",
    "#                                \"round(!SEMA_GO___28_01_2025!,4)\", \n",
    "#                                \"PYTHON3\")\n",
    "\n",
    "#arcpy.management.CalculateField(Tabulate_Inter_CAR_nALcaatinga_EMB,\n",
    "#                                \"EMBAMha\", \n",
    "#                                \"round(!IPAAM_AM___28_01_2025!,4)\", \n",
    "#                                \"PYTHON3\")"
   ]
  },
  {
   "cell_type": "markdown",
   "metadata": {
    "hidden": true
   },
   "source": [
    "#### Join"
   ]
  },
  {
   "cell_type": "code",
   "execution_count": null,
   "metadata": {
    "hidden": true
   },
   "outputs": [],
   "source": [
    "arcpy.management.JoinField(\n",
    "    in_data    = CAR_nALcaatinga, \n",
    "    in_field   = \"cod_imovel\", \n",
    "    join_table = Tabulate_Inter_CAR_nALcaatinga_EMB,\n",
    "    join_field = \"cod_imovel\", \n",
    "    fields     = [\"EMBIBha\",\"EMBICha\",\"EMBMTha\",\"EMBPAha\",\"EMBGOha\",\"EMBAMha\"])"
   ]
  },
  {
   "cell_type": "code",
   "execution_count": null,
   "metadata": {
    "hidden": true
   },
   "outputs": [],
   "source": [
    "fieldObs = arcpy.ListFields(CAR_nALcaatinga)  \n",
    "fieldNames = []  \n",
    "for field in fieldObs:  \n",
    "    fieldNames.append(field.name)  \n",
    "del fieldObs  \n",
    "fieldCount = len(fieldNames)  \n",
    "\n",
    "with arcpy.da.UpdateCursor(CAR_nALcaatinga, fieldNames) as curU:  \n",
    "    for row in curU:  \n",
    "        rowU = row  \n",
    "        for field in range(fieldCount):  \n",
    "            if rowU[field] == None:  \n",
    "                rowU[field] = \"0.0\"  \n",
    "      \n",
    "      \n",
    "        curU.updateRow(rowU)\n",
    "\n",
    "del curU"
   ]
  },
  {
   "cell_type": "markdown",
   "metadata": {
    "heading_collapsed": true,
    "hidden": true
   },
   "source": [
    "### CAR_nALPamPan"
   ]
  },
  {
   "cell_type": "markdown",
   "metadata": {
    "hidden": true
   },
   "source": [
    "#### Tabular Intersecção "
   ]
  },
  {
   "cell_type": "code",
   "execution_count": null,
   "metadata": {
    "hidden": true
   },
   "outputs": [],
   "source": [
    "arcpy.analysis.TabulateIntersection(\n",
    "    in_zone_features  = CAR_nALPamPan,\n",
    "    zone_fields       = \"cod_imovel\",\n",
    "    in_class_features = EMBfinalprj,\n",
    "    out_table         = \"Tabulate_Inter_CAR_nALPamPan_EMB\",\n",
    "    class_fields      = \"EMBfonte\",\n",
    "    out_units         = \"HECTARES\")"
   ]
  },
  {
   "cell_type": "markdown",
   "metadata": {
    "hidden": true
   },
   "source": [
    "#### Pivot Table"
   ]
  },
  {
   "cell_type": "code",
   "execution_count": null,
   "metadata": {
    "hidden": true
   },
   "outputs": [],
   "source": [
    "Tabulate_Inter_CAR_nALPamPan_EMB = \"Tabulate_Inter_CAR_nALPamPan_EMB\"\n",
    "\n",
    "arcpy.management.PivotTable(\n",
    "    in_table    = Tabulate_Inter_CAR_nALPamPan_EMB, \n",
    "    fields      = \"cod_imovel\", \n",
    "    pivot_field = \"EMBfonte\", \n",
    "    value_field = \"AREA\", \n",
    "    out_table   = \"Tabulate_Inter_CAR_nALPamPan_EMB_pivot\")"
   ]
  },
  {
   "cell_type": "markdown",
   "metadata": {
    "hidden": true
   },
   "source": [
    "#### Null por 0"
   ]
  },
  {
   "cell_type": "code",
   "execution_count": null,
   "metadata": {
    "hidden": true
   },
   "outputs": [],
   "source": [
    "Tabulate_Inter_CAR_nALPamPan_EMB = \"Tabulate_Inter_CAR_nALPamPan_EMB_pivot\"\n",
    "\n",
    "fieldObs = arcpy.ListFields(Tabulate_Inter_CAR_nALPamPan_EMB)  \n",
    "fieldNames = []  \n",
    "for field in fieldObs:  \n",
    "    fieldNames.append(field.name)  \n",
    "del fieldObs  \n",
    "fieldCount = len(fieldNames)  \n",
    "\n",
    "with arcpy.da.UpdateCursor(Tabulate_Inter_CAR_nALPamPan_EMB, fieldNames) as curU:  \n",
    "    for row in curU:  \n",
    "        rowU = row  \n",
    "        for field in range(fieldCount):  \n",
    "            if rowU[field] == None:  \n",
    "                rowU[field] = \"0.0\"  \n",
    "      \n",
    "      \n",
    "        curU.updateRow(rowU)\n",
    "\n",
    "del curU"
   ]
  },
  {
   "cell_type": "markdown",
   "metadata": {
    "hidden": true
   },
   "source": [
    "#### Ajustar Colunas"
   ]
  },
  {
   "cell_type": "code",
   "execution_count": null,
   "metadata": {
    "hidden": true
   },
   "outputs": [],
   "source": [
    "arcpy.management.AddField(Tabulate_Inter_CAR_nALPamPan_EMB,\n",
    "                          \"EMBIBha\",\n",
    "                          \"DOUBLE\")\n",
    "\n",
    "arcpy.management.AddField(Tabulate_Inter_CAR_nALPamPan_EMB,\n",
    "                          \"EMBICha\",\n",
    "                          \"DOUBLE\")\n",
    "\n",
    "arcpy.management.AddField(Tabulate_Inter_CAR_nALPamPan_EMB,\n",
    "                          \"EMBMTha\",\n",
    "                          \"DOUBLE\")\n",
    "\n",
    "arcpy.management.AddField(Tabulate_Inter_CAR_nALPamPan_EMB,\n",
    "                          \"EMBPAha\",\n",
    "                          \"DOUBLE\")\n",
    "\n",
    "arcpy.management.AddField(Tabulate_Inter_CAR_nALPamPan_EMB,\n",
    "                          \"EMBGOha\",\n",
    "                          \"DOUBLE\")\n",
    "\n",
    "arcpy.management.AddField(Tabulate_Inter_CAR_nALPamPan_EMB,\n",
    "                          \"EMBAMha\",\n",
    "                          \"DOUBLE\")"
   ]
  },
  {
   "cell_type": "code",
   "execution_count": null,
   "metadata": {
    "hidden": true
   },
   "outputs": [],
   "source": [
    "fields = arcpy.ListFields(Tabulate_Inter_CAR_nALPamPan_EMB)\n",
    "\n",
    "for field in fields:\n",
    "    print(f\"Nome: {field.name}, Tipo: {field.type}\")"
   ]
  },
  {
   "cell_type": "code",
   "execution_count": null,
   "metadata": {
    "hidden": true
   },
   "outputs": [],
   "source": [
    "arcpy.management.CalculateField(Tabulate_Inter_CAR_nALPamPan_EMB,\n",
    "                                \"EMBIBha\", \n",
    "                                \"round(!IBAMA___28_01_2025!,4)\", \n",
    "                                \"PYTHON3\")\n",
    "\n",
    "arcpy.management.CalculateField(Tabulate_Inter_CAR_nALPamPan_EMB,\n",
    "                                \"EMBICha\", \n",
    "                                \"round(!ICMBIO___28_01_2025!,4)\", \n",
    "                                \"PYTHON3\")\n",
    "\n",
    "#arcpy.management.CalculateField(Tabulate_Inter_CAR_nALPamPan_EMB,\n",
    "#                                \"EMBMTha\", \n",
    "#                                \"round(!SEMA_MT___28_01_2025!,4)\", \n",
    "#                                \"PYTHON3\")\n",
    "\n",
    "#arcpy.management.CalculateField(Tabulate_Inter_CAR_nALPamPan_EMB,\n",
    "#                                \"EMBPAha\", \n",
    "#                                \"round(!SEMA_PA___28_01_2025!,4)\", \n",
    "#                                \"PYTHON3\")\n",
    "\n",
    "#arcpy.management.CalculateField(Tabulate_Inter_CAR_nALPamPan_EMB,\n",
    "#                                \"EMBGOha\", \n",
    "#                                \"round(!SEMA_GO___28_01_2025!,4)\", \n",
    "#                                \"PYTHON3\")\n",
    "\n",
    "#arcpy.management.CalculateField(Tabulate_Inter_CAR_nALPamPan_EMB,\n",
    "#                                \"EMBAMha\", \n",
    "#                                \"round(!IPAAM_AM___28_01_2025!,4)\", \n",
    "#                                \"PYTHON3\")"
   ]
  },
  {
   "cell_type": "markdown",
   "metadata": {
    "hidden": true
   },
   "source": [
    "#### Join"
   ]
  },
  {
   "cell_type": "code",
   "execution_count": null,
   "metadata": {
    "hidden": true
   },
   "outputs": [],
   "source": [
    "arcpy.management.JoinField(\n",
    "    in_data    = CAR_nALPamPan, \n",
    "    in_field   = \"cod_imovel\", \n",
    "    join_table = Tabulate_Inter_CAR_nALPamPan_EMB,\n",
    "    join_field = \"cod_imovel\", \n",
    "    fields     = [\"EMBIBha\",\"EMBICha\",\"EMBMTha\",\"EMBPAha\",\"EMBGOha\",\"EMBAMha\"])\n"
   ]
  },
  {
   "cell_type": "code",
   "execution_count": null,
   "metadata": {
    "hidden": true
   },
   "outputs": [],
   "source": [
    "fieldObs = arcpy.ListFields(CAR_nALPamPan)  \n",
    "fieldNames = []  \n",
    "for field in fieldObs:  \n",
    "    fieldNames.append(field.name)  \n",
    "del fieldObs  \n",
    "fieldCount = len(fieldNames)  \n",
    "\n",
    "with arcpy.da.UpdateCursor(CAR_nALPamPan, fieldNames) as curU:  \n",
    "    for row in curU:  \n",
    "        rowU = row  \n",
    "        for field in range(fieldCount):  \n",
    "            if rowU[field] == None:  \n",
    "                rowU[field] = \"0.0\"  \n",
    "      \n",
    "      \n",
    "        curU.updateRow(rowU)\n",
    "\n",
    "del curU"
   ]
  },
  {
   "cell_type": "markdown",
   "metadata": {
    "heading_collapsed": true,
    "hidden": true
   },
   "source": [
    "### Sobreposição entre o CAR e Embargos? Sim ou Não!"
   ]
  },
  {
   "cell_type": "code",
   "execution_count": null,
   "metadata": {
    "hidden": true
   },
   "outputs": [],
   "source": [
    "arcpy.management.AddField(CAR_AL,\n",
    "                          \"sobr_emb\",\n",
    "                          \"SHORT\"\n",
    "                         )\n",
    "\n",
    "arcpy.management.AddField(CAR_nALcerrado,\n",
    "                          \"sobr_emb\",\n",
    "                          \"SHORT\"\n",
    "                         )\n",
    "\n",
    "arcpy.management.AddField(CAR_nALmata,\n",
    "                          \"sobr_emb\",\n",
    "                          \"SHORT\"\n",
    "                         )\n",
    "\n",
    "arcpy.management.AddField(CAR_nALcaatinga,\n",
    "                          \"sobr_emb\",\n",
    "                          \"SHORT\"\n",
    "                         )\n",
    "\n",
    "arcpy.management.AddField(CAR_nALPamPan,\n",
    "                          \"sobr_emb\",\n",
    "                          \"SHORT\"\n",
    "                         )"
   ]
  },
  {
   "cell_type": "code",
   "execution_count": null,
   "metadata": {
    "hidden": true
   },
   "outputs": [],
   "source": [
    "# Sobreposição Terras Publicas (1=sim / 0=nao)\n",
    "colunassb = [\"EMBIBha\", \"EMBICha\", \"EMBMTha\", \"EMBPAha\", \"EMBAMha\", \"EMBGOha\"]\n",
    "campos_existentessb = [campo.name for campo in arcpy.ListFields(CAR_AL)]\n",
    "colunas_presentessb = [coluna for coluna in colunassb if coluna in campos_existentessb]\n",
    "colunas_ausentessb  = [coluna for coluna in colunassb if coluna not in campos_existentessb]\n",
    "\n",
    "if colunas_presentessb:\n",
    "    # Expressão para o cálculo de \"sobr_tp\"\n",
    "    expressao = \"1 if ({}) else 0\".format(\" or \".join([\"!{}! > 0\".format(coluna) for coluna in colunas_presentessb]))\n",
    "\n",
    "    arcpy.management.CalculateField(CAR_AL,\n",
    "                                    \"sobr_emb\",\n",
    "                                    expressao,\n",
    "                                    \"PYTHON3\"\n",
    "                                    )\n",
    "\n",
    "    print(\"Colunas presentes:\")\n",
    "    for coluna in colunas_presentessb:\n",
    "        print(coluna)\n",
    "    print(\"Fórmula utilizada:\")\n",
    "    print(expressao)\n",
    "else:\n",
    "    print(\"Nenhuma das colunas necessárias está presente na tabela.\")\n",
    "\n",
    "print(\"Colunas ausentes:\")\n",
    "for coluna in colunas_ausentessb:\n",
    "    print(coluna)"
   ]
  },
  {
   "cell_type": "code",
   "execution_count": null,
   "metadata": {
    "hidden": true
   },
   "outputs": [],
   "source": [
    "# Sobreposição Terras Publicas (1=sim / 0=nao)\n",
    "colunassb = [\"EMBIBha\", \"EMBICha\", \"EMBMTha\", \"EMBPAha\", \"EMBAMha\", \"EMBGOha\"]\n",
    "campos_existentessb = [campo.name for campo in arcpy.ListFields(CAR_nALcerrado)]\n",
    "colunas_presentessb = [coluna for coluna in colunassb if coluna in campos_existentessb]\n",
    "colunas_ausentessb  = [coluna for coluna in colunassb if coluna not in campos_existentessb]\n",
    "\n",
    "if colunas_presentessb:\n",
    "    # Expressão para o cálculo de \"sobr_tp\"\n",
    "    expressao = \"1 if ({}) else 0\".format(\" or \".join([\"!{}! > 0\".format(coluna) for coluna in colunas_presentessb]))\n",
    "\n",
    "    arcpy.management.CalculateField(CAR_nALcerrado,\n",
    "                                    \"sobr_emb\",\n",
    "                                    expressao,\n",
    "                                    \"PYTHON3\"\n",
    "                                    )\n",
    "\n",
    "    print(\"Colunas presentes:\")\n",
    "    for coluna in colunas_presentessb:\n",
    "        print(coluna)\n",
    "    print(\"Fórmula utilizada:\")\n",
    "    print(expressao)\n",
    "else:\n",
    "    print(\"Nenhuma das colunas necessárias está presente na tabela.\")\n",
    "\n",
    "print(\"Colunas ausentes:\")\n",
    "for coluna in colunas_ausentessb:\n",
    "    print(coluna)"
   ]
  },
  {
   "cell_type": "code",
   "execution_count": null,
   "metadata": {
    "hidden": true
   },
   "outputs": [],
   "source": [
    "# Sobreposição Terras Publicas (1=sim / 0=nao)\n",
    "colunassb = [\"EMBIBha\", \"EMBICha\", \"EMBMTha\", \"EMBPAha\", \"EMBAMha\", \"EMBGOha\"]\n",
    "campos_existentessb = [campo.name for campo in arcpy.ListFields(CAR_nALmata)]\n",
    "colunas_presentessb = [coluna for coluna in colunassb if coluna in campos_existentessb]\n",
    "colunas_ausentessb  = [coluna for coluna in colunassb if coluna not in campos_existentessb]\n",
    "\n",
    "if colunas_presentessb:\n",
    "    # Expressão para o cálculo de \"sobr_tp\"\n",
    "    expressao = \"1 if ({}) else 0\".format(\" or \".join([\"!{}! > 0\".format(coluna) for coluna in colunas_presentessb]))\n",
    "\n",
    "    arcpy.management.CalculateField(CAR_nALmata,\n",
    "                                    \"sobr_emb\",\n",
    "                                    expressao,\n",
    "                                    \"PYTHON3\"\n",
    "                                    )\n",
    "\n",
    "    print(\"Colunas presentes:\")\n",
    "    for coluna in colunas_presentessb:\n",
    "        print(coluna)\n",
    "    print(\"Fórmula utilizada:\")\n",
    "    print(expressao)\n",
    "else:\n",
    "    print(\"Nenhuma das colunas necessárias está presente na tabela.\")\n",
    "\n",
    "print(\"Colunas ausentes:\")\n",
    "for coluna in colunas_ausentessb:\n",
    "    print(coluna)"
   ]
  },
  {
   "cell_type": "code",
   "execution_count": null,
   "metadata": {
    "hidden": true
   },
   "outputs": [],
   "source": [
    "# Sobreposição Terras Publicas (1=sim / 0=nao)\n",
    "colunassb = [\"EMBIBha\", \"EMBICha\", \"EMBMTha\", \"EMBPAha\", \"EMBAMha\", \"EMBGOha\"]\n",
    "campos_existentessb = [campo.name for campo in arcpy.ListFields(CAR_nALcaatinga)]\n",
    "colunas_presentessb = [coluna for coluna in colunassb if coluna in campos_existentessb]\n",
    "colunas_ausentessb  = [coluna for coluna in colunassb if coluna not in campos_existentessb]\n",
    "\n",
    "if colunas_presentessb:\n",
    "    # Expressão para o cálculo de \"sobr_tp\"\n",
    "    expressao = \"1 if ({}) else 0\".format(\" or \".join([\"!{}! > 0\".format(coluna) for coluna in colunas_presentessb]))\n",
    "\n",
    "    arcpy.management.CalculateField(CAR_nALcaatinga,\n",
    "                                    \"sobr_emb\",\n",
    "                                    expressao,\n",
    "                                    \"PYTHON3\"\n",
    "                                    )\n",
    "\n",
    "    print(\"Colunas presentes:\")\n",
    "    for coluna in colunas_presentessb:\n",
    "        print(coluna)\n",
    "    print(\"Fórmula utilizada:\")\n",
    "    print(expressao)\n",
    "else:\n",
    "    print(\"Nenhuma das colunas necessárias está presente na tabela.\")\n",
    "\n",
    "print(\"Colunas ausentes:\")\n",
    "for coluna in colunas_ausentessb:\n",
    "    print(coluna)"
   ]
  },
  {
   "cell_type": "code",
   "execution_count": null,
   "metadata": {
    "hidden": true
   },
   "outputs": [],
   "source": [
    "# Sobreposição Terras Publicas (1=sim / 0=nao)\n",
    "colunassb = [\"EMBIBha\", \"EMBICha\", \"EMBMTha\", \"EMBPAha\", \"EMBAMha\", \"EMBGOha\"]\n",
    "campos_existentessb = [campo.name for campo in arcpy.ListFields(CAR_nALPamPan)]\n",
    "colunas_presentessb = [coluna for coluna in colunassb if coluna in campos_existentessb]\n",
    "colunas_ausentessb  = [coluna for coluna in colunassb if coluna not in campos_existentessb]\n",
    "\n",
    "if colunas_presentessb:\n",
    "    # Expressão para o cálculo de \"sobr_tp\"\n",
    "    expressao = \"1 if ({}) else 0\".format(\" or \".join([\"!{}! > 0\".format(coluna) for coluna in colunas_presentessb]))\n",
    "\n",
    "    arcpy.management.CalculateField(CAR_nALPamPan,\n",
    "                                    \"sobr_emb\",\n",
    "                                    expressao,\n",
    "                                    \"PYTHON3\"\n",
    "                                    )\n",
    "\n",
    "    print(\"Colunas presentes:\")\n",
    "    for coluna in colunas_presentessb:\n",
    "        print(coluna)\n",
    "    print(\"Fórmula utilizada:\")\n",
    "    print(expressao)\n",
    "else:\n",
    "    print(\"Nenhuma das colunas necessárias está presente na tabela.\")\n",
    "\n",
    "print(\"Colunas ausentes:\")\n",
    "for coluna in colunas_ausentessb:\n",
    "    print(coluna)"
   ]
  },
  {
   "cell_type": "markdown",
   "metadata": {
    "heading_collapsed": true,
    "hidden": true
   },
   "source": [
    "### Relacionamento com Informações dos Embargos"
   ]
  },
  {
   "cell_type": "markdown",
   "metadata": {
    "heading_collapsed": true,
    "hidden": true
   },
   "source": [
    "#### AL"
   ]
  },
  {
   "cell_type": "markdown",
   "metadata": {
    "hidden": true
   },
   "source": [
    "##### Interseccão"
   ]
  },
  {
   "cell_type": "code",
   "execution_count": null,
   "metadata": {
    "hidden": true,
    "scrolled": true
   },
   "outputs": [],
   "source": [
    "arcpy.analysis.PairwiseIntersect(\n",
    "    in_features       = [CAR_AL, EMBfinalprj], \n",
    "    out_feature_class = \"CAR_AL_EMB\")"
   ]
  },
  {
   "cell_type": "markdown",
   "metadata": {
    "hidden": true
   },
   "source": [
    "##### Dissolve"
   ]
  },
  {
   "cell_type": "code",
   "execution_count": null,
   "metadata": {
    "hidden": true,
    "scrolled": true
   },
   "outputs": [],
   "source": [
    "statistics_fields = [\n",
    "    [\"EMBinfo\", \"CONCATENATE\"],\n",
    "    [\"EMBfonte\", \"CONCATENATE\"]]"
   ]
  },
  {
   "cell_type": "code",
   "execution_count": null,
   "metadata": {
    "hidden": true,
    "scrolled": false
   },
   "outputs": [],
   "source": [
    "CAR_AL_EMB = \"CAR_AL_EMB\"\n",
    "\n",
    "arcpy.analysis.PairwiseDissolve(\n",
    "    in_features       = CAR_AL_EMB, \n",
    "    out_feature_class = \"CAR_AL_EMB_dissolve\", \n",
    "    dissolve_field    = \"cod_imovel\", \n",
    "    statistics_fields = statistics_fields,\n",
    "    multi_part        = \"MULTI_PART\", #\"SINGLE_PART\" \n",
    "    concatenation_separator = \"; \"\n",
    ")"
   ]
  },
  {
   "cell_type": "markdown",
   "metadata": {
    "heading_collapsed": true,
    "hidden": true
   },
   "source": [
    "#### Cerrado"
   ]
  },
  {
   "cell_type": "markdown",
   "metadata": {
    "hidden": true
   },
   "source": [
    "##### Interseccão"
   ]
  },
  {
   "cell_type": "code",
   "execution_count": null,
   "metadata": {
    "hidden": true
   },
   "outputs": [],
   "source": [
    "arcpy.analysis.PairwiseIntersect(\n",
    "    in_features       = [CAR_nALcerrado, EMBfinalprj], \n",
    "    out_feature_class = \"CAR_nALcerrado_EMB\")"
   ]
  },
  {
   "cell_type": "markdown",
   "metadata": {
    "hidden": true
   },
   "source": [
    "##### Dissolve"
   ]
  },
  {
   "cell_type": "code",
   "execution_count": null,
   "metadata": {
    "hidden": true
   },
   "outputs": [],
   "source": [
    "statistics_fields = [\n",
    "    [\"EMBinfo\", \"CONCATENATE\"],\n",
    "    [\"EMBfonte\", \"CONCATENATE\"]]"
   ]
  },
  {
   "cell_type": "code",
   "execution_count": null,
   "metadata": {
    "hidden": true
   },
   "outputs": [],
   "source": [
    "CAR_nALcerrado_EMB = \"CAR_nALcerrado_EMB\"\n",
    "\n",
    "arcpy.analysis.PairwiseDissolve(\n",
    "    in_features       = CAR_nALcerrado_EMB,\n",
    "    out_feature_class = \"CAR_nALcerrado_EMB_dissolve\", \n",
    "    dissolve_field    = \"cod_imovel\", \n",
    "    statistics_fields = statistics_fields,\n",
    "    multi_part        = \"MULTI_PART\", #\"SINGLE_PART\" \n",
    "    concatenation_separator = \"; \"\n",
    ")"
   ]
  },
  {
   "cell_type": "markdown",
   "metadata": {
    "heading_collapsed": true,
    "hidden": true
   },
   "source": [
    "#### Mata"
   ]
  },
  {
   "cell_type": "markdown",
   "metadata": {
    "hidden": true
   },
   "source": [
    "##### Interseccão"
   ]
  },
  {
   "cell_type": "code",
   "execution_count": null,
   "metadata": {
    "hidden": true
   },
   "outputs": [],
   "source": [
    "arcpy.analysis.PairwiseIntersect(\n",
    "    in_features       = [CAR_nALmata, EMBfinalprj], \n",
    "    out_feature_class = \"CAR_nALmata_EMB\")"
   ]
  },
  {
   "cell_type": "markdown",
   "metadata": {
    "hidden": true
   },
   "source": [
    "##### Dissolve"
   ]
  },
  {
   "cell_type": "code",
   "execution_count": null,
   "metadata": {
    "hidden": true
   },
   "outputs": [],
   "source": [
    "statistics_fields = [\n",
    "    [\"EMBinfo\", \"CONCATENATE\"],\n",
    "    [\"EMBfonte\", \"CONCATENATE\"]]"
   ]
  },
  {
   "cell_type": "code",
   "execution_count": null,
   "metadata": {
    "hidden": true
   },
   "outputs": [],
   "source": [
    "CAR_nALmata_EMB = \"CAR_nALmata_EMB\"\n",
    "\n",
    "arcpy.analysis.PairwiseDissolve(\n",
    "    in_features       = CAR_nALmata_EMB, \n",
    "    out_feature_class = \"CAR_nALmata_EMB_dissolve\", \n",
    "    dissolve_field    = \"cod_imovel\", \n",
    "    statistics_fields = statistics_fields,\n",
    "    multi_part        = \"MULTI_PART\", #\"SINGLE_PART\" \n",
    "    concatenation_separator = \"; \"\n",
    ")"
   ]
  },
  {
   "cell_type": "markdown",
   "metadata": {
    "heading_collapsed": true,
    "hidden": true
   },
   "source": [
    "#### Caatinga"
   ]
  },
  {
   "cell_type": "markdown",
   "metadata": {
    "hidden": true
   },
   "source": [
    "##### Interseccão"
   ]
  },
  {
   "cell_type": "code",
   "execution_count": null,
   "metadata": {
    "hidden": true
   },
   "outputs": [],
   "source": [
    "arcpy.analysis.PairwiseIntersect(\n",
    "    in_features       = [CAR_nALcaatinga, EMBfinalprj], \n",
    "    out_feature_class = \"CAR_nALcaatinga_EMB\")"
   ]
  },
  {
   "cell_type": "markdown",
   "metadata": {
    "hidden": true
   },
   "source": [
    "##### Dissolve"
   ]
  },
  {
   "cell_type": "code",
   "execution_count": null,
   "metadata": {
    "hidden": true
   },
   "outputs": [],
   "source": [
    "statistics_fields = [\n",
    "    [\"EMBinfo\", \"CONCATENATE\"],\n",
    "    [\"EMBfonte\", \"CONCATENATE\"]]"
   ]
  },
  {
   "cell_type": "code",
   "execution_count": null,
   "metadata": {
    "hidden": true
   },
   "outputs": [],
   "source": [
    "CAR_nALcaatinga_EMB = \"CAR_nALcaatinga_EMB\"\n",
    "\n",
    "arcpy.analysis.PairwiseDissolve(\n",
    "    in_features       = CAR_nALcaatinga_EMB, \n",
    "    out_feature_class = \"CAR_nALcaatinga_EMB_dissolve\", \n",
    "    dissolve_field    = \"cod_imovel\", \n",
    "    statistics_fields = statistics_fields,\n",
    "    multi_part        = \"MULTI_PART\", #\"SINGLE_PART\" \n",
    "    concatenation_separator = \"; \"\n",
    ")"
   ]
  },
  {
   "cell_type": "markdown",
   "metadata": {
    "heading_collapsed": true,
    "hidden": true
   },
   "source": [
    "#### PamPan"
   ]
  },
  {
   "cell_type": "markdown",
   "metadata": {
    "hidden": true
   },
   "source": [
    "##### Interseccão"
   ]
  },
  {
   "cell_type": "code",
   "execution_count": null,
   "metadata": {
    "hidden": true
   },
   "outputs": [],
   "source": [
    "arcpy.analysis.PairwiseIntersect(\n",
    "    in_features       = [CAR_nALPamPan, EMBfinalprj], \n",
    "    out_feature_class = \"CAR_nALPamPan_EMB\")"
   ]
  },
  {
   "cell_type": "markdown",
   "metadata": {
    "hidden": true
   },
   "source": [
    "##### Dissolve"
   ]
  },
  {
   "cell_type": "code",
   "execution_count": null,
   "metadata": {
    "hidden": true
   },
   "outputs": [],
   "source": [
    "statistics_fields = [\n",
    "    [\"EMBinfo\", \"CONCATENATE\"],\n",
    "    [\"EMBfonte\", \"CONCATENATE\"]]"
   ]
  },
  {
   "cell_type": "code",
   "execution_count": null,
   "metadata": {
    "hidden": true
   },
   "outputs": [],
   "source": [
    "CAR_nALPamPan = \"CAR_nALPamPan_EMB\"\n",
    "\n",
    "arcpy.analysis.PairwiseDissolve(\n",
    "    in_features       = CAR_nALPamPan, \n",
    "    out_feature_class = \"CAR_nALPamPan_EMB_dissolve\", \n",
    "    dissolve_field    = \"cod_imovel\", \n",
    "    statistics_fields = statistics_fields,\n",
    "    multi_part        = \"MULTI_PART\", #\"SINGLE_PART\" \n",
    "    concatenation_separator = \"; \"\n",
    ")"
   ]
  },
  {
   "cell_type": "markdown",
   "metadata": {
    "heading_collapsed": true,
    "hidden": true
   },
   "source": [
    "#### Merge Final e Export"
   ]
  },
  {
   "cell_type": "code",
   "execution_count": null,
   "metadata": {
    "hidden": true
   },
   "outputs": [],
   "source": [
    "CAR_AL_EMB          = \"CAR_AL_EMB_dissolve\"\n",
    "CAR_nALcerrado_EMB  = \"CAR_nALcerrado_EMB_dissolve\"\n",
    "CAR_nALmata_EMB     = \"CAR_nALmata_EMB_dissolve\"\n",
    "CAR_nALcaatinga_EMB = \"CAR_nALcaatinga_EMB_dissolve\"\n",
    "CAR_nALPamPan_EMB   = \"CAR_nALPamPan_EMB_dissolve\"\n",
    "\n",
    "\n",
    "arcpy.management.Merge([CAR_AL_EMB, CAR_nALcerrado_EMB, CAR_nALmata_EMB, CAR_nALcaatinga_EMB, CAR_nALPamPan_EMB], \n",
    "                       \"CAR_EMBARGOSinfo\")"
   ]
  },
  {
   "cell_type": "code",
   "execution_count": null,
   "metadata": {
    "hidden": true,
    "scrolled": true
   },
   "outputs": [],
   "source": [
    "arcpy.management.CalculateField(\n",
    "    in_table        = CAR_EMBARGOSinfo,\n",
    "    field           = \"CONCATENATE_EMBfonte\",\n",
    "    expression      = \"clean_value(!CONCATENATE_EMBfonte!)\",\n",
    "    expression_type = \"PYTHON3\",\n",
    "    code_block=\"\"\"\n",
    "def clean_value(value):\n",
    "    if not value:\n",
    "        return \"\"\n",
    "    items = [item.strip() for item in value.split(\";\") if item.strip()]  # Remove espaços extras\n",
    "    unique_items = sorted(set(items))  # Remove duplicatas e ordena\n",
    "    return \"; \".join(unique_items)  # Adiciona espaço após \";\"\n",
    "\"\"\"\n",
    ")"
   ]
  },
  {
   "cell_type": "markdown",
   "metadata": {},
   "source": [
    "## Comentarios Geo"
   ]
  },
  {
   "cell_type": "code",
   "execution_count": null,
   "metadata": {},
   "outputs": [],
   "source": [
    "fields = arcpy.ListFields(CAR_AL)\n",
    "\n",
    "for field in fields:\n",
    "    print(field.name)"
   ]
  },
  {
   "cell_type": "code",
   "execution_count": null,
   "metadata": {},
   "outputs": [],
   "source": [
    "arcpy.AddField_management(CAR_AL,          \"GEO\", \"TEXT\")\n",
    "arcpy.AddField_management(CAR_nALcerrado,  \"GEO\", \"TEXT\")\n",
    "arcpy.AddField_management(CAR_nALmata,     \"GEO\", \"TEXT\")\n",
    "arcpy.AddField_management(CAR_nALcaatinga, \"GEO\", \"TEXT\")\n",
    "arcpy.AddField_management(CAR_nALPamPan,   \"GEO\", \"TEXT\")"
   ]
  },
  {
   "cell_type": "code",
   "execution_count": null,
   "metadata": {},
   "outputs": [],
   "source": [
    "arcpy.AddField_management(CAR_AL,          \"GEOC\", \"TEXT\")\n",
    "arcpy.AddField_management(CAR_nALcerrado,  \"GEOC\", \"TEXT\")\n",
    "arcpy.AddField_management(CAR_nALmata,     \"GEOC\", \"TEXT\")\n",
    "arcpy.AddField_management(CAR_nALcaatinga, \"GEOC\", \"TEXT\")\n",
    "arcpy.AddField_management(CAR_nALPamPan,   \"GEOC\", \"TEXT\")"
   ]
  },
  {
   "cell_type": "code",
   "execution_count": null,
   "metadata": {},
   "outputs": [],
   "source": [
    "# Lista de colunas que indicam desmatamento entre 2020 e 2024\n",
    "desmatamento_cols = [\"P2020\", \"P2021\", \"P2022\", \"P2023\", \"P2024\", \"A2024\"]\n",
    "\n",
    "# Atualizar a nova coluna \"GEOC\" com base nas condições\n",
    "with arcpy.da.UpdateCursor(CAR_AL, \n",
    "                           [\"sobr_tp\", \"sobr_emb\", \"P08_19\"] + desmatamento_cols + [\"EVNha\", \"GEOC\", \"GEO\"]) as cursor:\n",
    "    \n",
    "    for row in cursor:\n",
    "        classificacoes = []  # Lista para armazenar as classificações\n",
    "        \n",
    "        # Verificar sobreposições e embargos\n",
    "        if row[0] == 1:\n",
    "            classificacoes.append(\"Public Land Overlap\")\n",
    "        if row[1] == 1:\n",
    "            classificacoes.append(\"Embargoed Area\")\n",
    "        \n",
    "        # Verificar desmatamento 2008/2019\n",
    "        if row[2] != 0:\n",
    "            classificacoes.append(\"2008/2019 Deforestation\")\n",
    "        \n",
    "        # Verificar desmatamento 2020/2024\n",
    "        for i in range(3, 9):  # Índices das colunas P2020 a A2024\n",
    "            if row[i] != 0:\n",
    "                classificacoes.append(\"2020/2024 Deforestation\")\n",
    "                break  # Já encontramos um desmatamento recente, então saímos do loop\n",
    "        \n",
    "        # Verificar déficit de vegetação nativa\n",
    "        if row[9] < 0:\n",
    "            classificacoes.append(\"NV Deficit\")\n",
    "        \n",
    "        # Concatenar as classificações e atualizar a coluna GEOC\n",
    "        row[10] = \"; \".join(classificacoes) if classificacoes else \"Ok\"\n",
    "        \n",
    "        # Definir o valor da coluna GEO\n",
    "        row[11] = \"Ok\" if row[10] == \"Ok\" else \"Alert!\"\n",
    "        \n",
    "        cursor.updateRow(row)"
   ]
  },
  {
   "cell_type": "code",
   "execution_count": null,
   "metadata": {},
   "outputs": [],
   "source": [
    "# Lista de colunas que indicam desmatamento entre 2020 e 2024\n",
    "desmatamento_cols = [\"P2020\", \"P2021\", \"P2022\", \"P2023\", \"P2024\", \"A2024\"]\n",
    "\n",
    "# Atualizar a nova coluna \"GEOC\" com base nas condições\n",
    "with arcpy.da.UpdateCursor(CAR_nALcerrado, \n",
    "                           [\"sobr_tp\", \"sobr_emb\", \"P08_19\"] + desmatamento_cols + [\"EVNha\", \"GEOC\", \"GEO\"]) as cursor:\n",
    "    \n",
    "    for row in cursor:\n",
    "        classificacoes = []  # Lista para armazenar as classificações\n",
    "        \n",
    "        # Verificar sobreposições e embargos\n",
    "        if row[0] == 1:\n",
    "            classificacoes.append(\"Public Land Overlap\")\n",
    "        if row[1] == 1:\n",
    "            classificacoes.append(\"Embargoed Area\")\n",
    "        \n",
    "        # Verificar desmatamento 2008/2019\n",
    "        if row[2] != 0:\n",
    "            classificacoes.append(\"2008/2019 Deforestation\")\n",
    "        \n",
    "        # Verificar desmatamento 2020/2024\n",
    "        for i in range(3, 9):  # Índices das colunas P2020 a A2024\n",
    "            if row[i] != 0:\n",
    "                classificacoes.append(\"2020/2024 Deforestation\")\n",
    "                break  # Já encontramos um desmatamento recente, então saímos do loop\n",
    "        \n",
    "        # Verificar déficit de vegetação nativa\n",
    "        if row[9] < 0:\n",
    "            classificacoes.append(\"NV Deficit\")\n",
    "        \n",
    "        # Concatenar as classificações e atualizar a coluna GEOC\n",
    "        row[10] = \"; \".join(classificacoes) if classificacoes else \"Ok\"\n",
    "        \n",
    "        # Definir o valor da coluna GEO\n",
    "        row[11] = \"Ok\" if row[10] == \"Ok\" else \"Alert!\"\n",
    "        \n",
    "        cursor.updateRow(row)"
   ]
  },
  {
   "cell_type": "code",
   "execution_count": null,
   "metadata": {},
   "outputs": [],
   "source": [
    "# Lista de colunas que indicam desmatamento entre 2020 e 2024\n",
    "desmatamento_cols = [\"P2020\", \"P2021\", \"P2022\", \"P2023\", \"P2024\", \"A2024\"]\n",
    "\n",
    "# Atualizar a nova coluna \"GEOC\" com base nas condições\n",
    "with arcpy.da.UpdateCursor(CAR_nALmata, \n",
    "                           [\"sobr_tp\", \"sobr_emb\", \"P08_19\"] + desmatamento_cols + [\"EVNha\", \"GEOC\", \"GEO\"]) as cursor:\n",
    "    \n",
    "    for row in cursor:\n",
    "        classificacoes = []  # Lista para armazenar as classificações\n",
    "        \n",
    "        # Verificar sobreposições e embargos\n",
    "        if row[0] == 1:\n",
    "            classificacoes.append(\"Public Land Overlap\")\n",
    "        if row[1] == 1:\n",
    "            classificacoes.append(\"Embargoed Area\")\n",
    "        \n",
    "        # Verificar desmatamento 2008/2019\n",
    "        if row[2] != 0:\n",
    "            classificacoes.append(\"2008/2019 Deforestation\")\n",
    "        \n",
    "        # Verificar desmatamento 2020/2024\n",
    "        for i in range(3, 9):  # Índices das colunas P2020 a A2024\n",
    "            if row[i] != 0:\n",
    "                classificacoes.append(\"2020/2024 Deforestation\")\n",
    "                break  # Já encontramos um desmatamento recente, então saímos do loop\n",
    "        \n",
    "        # Verificar déficit de vegetação nativa\n",
    "        if row[9] < 0:\n",
    "            classificacoes.append(\"NV Deficit\")\n",
    "        \n",
    "        # Concatenar as classificações e atualizar a coluna GEOC\n",
    "        row[10] = \"; \".join(classificacoes) if classificacoes else \"Ok\"\n",
    "        \n",
    "        # Definir o valor da coluna GEO\n",
    "        row[11] = \"Ok\" if row[10] == \"Ok\" else \"Alert!\"\n",
    "        \n",
    "        cursor.updateRow(row)"
   ]
  },
  {
   "cell_type": "code",
   "execution_count": null,
   "metadata": {},
   "outputs": [],
   "source": [
    "# Lista de colunas que indicam desmatamento entre 2020 e 2024\n",
    "desmatamento_cols = [\"P2020\", \"P2021\", \"P2022\", \"P2023\", \"P2024\", \"A2024\"]\n",
    "\n",
    "# Atualizar a nova coluna \"GEOC\" com base nas condições\n",
    "with arcpy.da.UpdateCursor(CAR_nALcaatinga, \n",
    "                           [\"sobr_tp\", \"sobr_emb\", \"P08_19\"] + desmatamento_cols + [\"EVNha\", \"GEOC\", \"GEO\"]) as cursor:\n",
    "    \n",
    "    for row in cursor:\n",
    "        classificacoes = []  # Lista para armazenar as classificações\n",
    "        \n",
    "        # Verificar sobreposições e embargos\n",
    "        if row[0] == 1:\n",
    "            classificacoes.append(\"Public Land Overlap\")\n",
    "        if row[1] == 1:\n",
    "            classificacoes.append(\"Embargoed Area\")\n",
    "        \n",
    "        # Verificar desmatamento 2008/2019\n",
    "        if row[2] != 0:\n",
    "            classificacoes.append(\"2008/2019 Deforestation\")\n",
    "        \n",
    "        # Verificar desmatamento 2020/2024\n",
    "        for i in range(3, 9):  # Índices das colunas P2020 a A2024\n",
    "            if row[i] != 0:\n",
    "                classificacoes.append(\"2020/2024 Deforestation\")\n",
    "                break  # Já encontramos um desmatamento recente, então saímos do loop\n",
    "        \n",
    "        # Verificar déficit de vegetação nativa\n",
    "        if row[9] < 0:\n",
    "            classificacoes.append(\"NV Deficit\")\n",
    "        \n",
    "        # Concatenar as classificações e atualizar a coluna GEOC\n",
    "        row[10] = \"; \".join(classificacoes) if classificacoes else \"Ok\"\n",
    "        \n",
    "        # Definir o valor da coluna GEO\n",
    "        row[11] = \"Ok\" if row[10] == \"Ok\" else \"Alert!\"\n",
    "        \n",
    "        cursor.updateRow(row)"
   ]
  },
  {
   "cell_type": "code",
   "execution_count": null,
   "metadata": {},
   "outputs": [],
   "source": [
    "# Lista de colunas que indicam desmatamento entre 2020 e 2024\n",
    "desmatamento_cols = [\"P2020\", \"P2021\", \"P2022\", \"P2023\", \"P2024\", \"A2024\"]\n",
    "\n",
    "# Atualizar a nova coluna \"GEOC\" com base nas condições\n",
    "with arcpy.da.UpdateCursor(CAR_nALPamPan, \n",
    "                           [\"sobr_tp\", \"sobr_emb\", \"P08_19\"] + desmatamento_cols + [\"EVNha\", \"GEOC\", \"GEO\"]) as cursor:\n",
    "    \n",
    "    for row in cursor:\n",
    "        classificacoes = []  # Lista para armazenar as classificações\n",
    "        \n",
    "        # Verificar sobreposições e embargos\n",
    "        if row[0] == 1:\n",
    "            classificacoes.append(\"Public Land Overlap\")\n",
    "        if row[1] == 1:\n",
    "            classificacoes.append(\"Embargoed Area\")\n",
    "        \n",
    "        # Verificar desmatamento 2008/2019\n",
    "        if row[2] != 0:\n",
    "            classificacoes.append(\"2008/2019 Deforestation\")\n",
    "        \n",
    "        # Verificar desmatamento 2020/2024\n",
    "        for i in range(3, 9):  # Índices das colunas P2020 a A2024\n",
    "            if row[i] != 0:\n",
    "                classificacoes.append(\"2020/2024 Deforestation\")\n",
    "                break  # Já encontramos um desmatamento recente, então saímos do loop\n",
    "        \n",
    "        # Verificar déficit de vegetação nativa\n",
    "        if row[9] < 0:\n",
    "            classificacoes.append(\"NV Deficit\")\n",
    "        \n",
    "        # Concatenar as classificações e atualizar a coluna GEOC\n",
    "        row[10] = \"; \".join(classificacoes) if classificacoes else \"Ok\"\n",
    "        \n",
    "        # Definir o valor da coluna GEO\n",
    "        row[11] = \"Ok\" if row[10] == \"Ok\" else \"Alert!\"\n",
    "        \n",
    "        cursor.updateRow(row)"
   ]
  }
 ],
 "metadata": {
  "kernelspec": {
   "display_name": "ArcGISPro",
   "language": "Python",
   "name": "python3"
  },
  "language_info": {
   "file_extension": ".py",
   "name": "python",
   "version": "3"
  }
 },
 "nbformat": 4,
 "nbformat_minor": 2
}
